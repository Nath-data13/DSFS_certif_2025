{
 "cells": [
  {
   "cell_type": "code",
   "execution_count": 0,
   "metadata": {
    "application/vnd.databricks.v1+cell": {
     "cellMetadata": {
      "byteLimit": 2048000,
      "rowLimit": 10000
     },
     "inputWidgets": {},
     "nuid": "9fd1bf67-8956-4dd7-b41b-0f8d4348a529",
     "showTitle": false,
     "tableResultSettingsMap": {},
     "title": ""
    }
   },
   "outputs": [],
   "source": [
    "from pyspark.sql import functions as F\n",
    "from pyspark.sql.functions import *"
   ]
  },
  {
   "cell_type": "code",
   "execution_count": 0,
   "metadata": {
    "application/vnd.databricks.v1+cell": {
     "cellMetadata": {
      "byteLimit": 2048000,
      "rowLimit": 10000
     },
     "inputWidgets": {},
     "nuid": "d4419a08-d2f8-4357-bffd-eb0fcc92fb5b",
     "showTitle": false,
     "tableResultSettingsMap": {},
     "title": ""
    }
   },
   "outputs": [],
   "source": [
    "df = spark.read.json(\"/FileStore/export/steam_clean\")\n"
   ]
  },
  {
   "cell_type": "markdown",
   "metadata": {
    "application/vnd.databricks.v1+cell": {
     "cellMetadata": {},
     "inputWidgets": {},
     "nuid": "88e6e643-57d7-4d48-bdcf-35749c84495a",
     "showTitle": false,
     "tableResultSettingsMap": {},
     "title": ""
    }
   },
   "source": [
    "# Analyse au niveau « macro »"
   ]
  },
  {
   "cell_type": "markdown",
   "metadata": {
    "application/vnd.databricks.v1+cell": {
     "cellMetadata": {},
     "inputWidgets": {},
     "nuid": "3b3770ff-c5dc-482d-8c7c-70ae40d313ea",
     "showTitle": false,
     "tableResultSettingsMap": {},
     "title": ""
    }
   },
   "source": [
    "## 1. Quel éditeur a publié le plus de jeux sur Steam ?"
   ]
  },
  {
   "cell_type": "code",
   "execution_count": 0,
   "metadata": {
    "application/vnd.databricks.v1+cell": {
     "cellMetadata": {
      "byteLimit": 2048000,
      "rowLimit": 10000
     },
     "inputWidgets": {},
     "nuid": "a6c9ce99-e062-4efb-a580-9512ca487f1b",
     "showTitle": false,
     "tableResultSettingsMap": {},
     "title": ""
    }
   },
   "outputs": [
    {
     "output_type": "stream",
     "name": "stdout",
     "output_type": "stream",
     "text": [
      "+------------------------+\n|publisher               |\n+------------------------+\n|Valve                   |\n|PsychoFlux Entertainment|\n|Team17, NEXT Studios    |\n|Vertigo Gaming Inc.     |\n|DoubleC Games           |\n+------------------------+\nonly showing top 5 rows\n\n"
     ]
    }
   ],
   "source": [
    "df.select('publisher').show(5, truncate=False)"
   ]
  },
  {
   "cell_type": "code",
   "execution_count": 0,
   "metadata": {
    "application/vnd.databricks.v1+cell": {
     "cellMetadata": {
      "byteLimit": 2048000,
      "rowLimit": 10000
     },
     "inputWidgets": {},
     "nuid": "9f98861e-5790-45e8-bc62-5002a7344c8f",
     "showTitle": false,
     "tableResultSettingsMap": {},
     "title": ""
    }
   },
   "outputs": [
    {
     "output_type": "stream",
     "name": "stdout",
     "output_type": "stream",
     "text": [
      "+--------------+-----------+\n|publisher     |total_games|\n+--------------+-----------+\n|Big Fish Games|422        |\n|8floor        |202        |\n|SEGA          |165        |\n|Strategy First|151        |\n|Square Enix   |141        |\n+--------------+-----------+\nonly showing top 5 rows\n\n"
     ]
    }
   ],
   "source": [
    "df_publisher = df.groupBy('publisher')\\\n",
    "    .count()\\\n",
    "    .orderBy(\"count\", ascending=False)\\\n",
    "    .withColumnRenamed('count', 'total_games')\\\n",
    "\n",
    "df_publisher.show(5, truncate=False)\n"
   ]
  },
  {
   "cell_type": "code",
   "execution_count": 0,
   "metadata": {
    "application/vnd.databricks.v1+cell": {
     "cellMetadata": {
      "byteLimit": 2048000,
      "rowLimit": 10000
     },
     "inputWidgets": {},
     "nuid": "3402e1af-83bf-4bf9-82a2-24c5c57549ea",
     "showTitle": false,
     "tableResultSettingsMap": {},
     "title": ""
    }
   },
   "outputs": [
    {
     "output_type": "stream",
     "name": "stdout",
     "output_type": "stream",
     "text": [
      "L'éditeur qui a publié le plus de jeux sur Steam est Big Fish Games\n"
     ]
    }
   ],
   "source": [
    "first_value = df_publisher.select('publisher').first()[0]\n",
    "print(f\"L'éditeur qui a publié le plus de jeux sur Steam est {first_value}\")"
   ]
  },
  {
   "cell_type": "markdown",
   "metadata": {
    "application/vnd.databricks.v1+cell": {
     "cellMetadata": {},
     "inputWidgets": {},
     "nuid": "32523d10-2575-4f2d-af00-f584ac0ad5f1",
     "showTitle": false,
     "tableResultSettingsMap": {},
     "title": ""
    }
   },
   "source": [
    "## 2. Quels sont les jeux les mieux notés ?"
   ]
  },
  {
   "cell_type": "code",
   "execution_count": 0,
   "metadata": {
    "application/vnd.databricks.v1+cell": {
     "cellMetadata": {
      "byteLimit": 2048000,
      "rowLimit": 10000
     },
     "inputWidgets": {},
     "nuid": "88df9c7f-2735-4eeb-bf2c-b5803e1e786c",
     "showTitle": false,
     "tableResultSettingsMap": {},
     "title": ""
    }
   },
   "outputs": [
    {
     "output_type": "stream",
     "name": "stdout",
     "output_type": "stream",
     "text": [
      "+--------------------+--------+--------+\n|                name|positive|negative|\n+--------------------+--------+--------+\n|      Counter-Strike|  201215|    5199|\n|           ASCENXION|      27|       5|\n|         Crown Trick|    4032|     646|\n|Cook, Serve, Deli...|    1575|     115|\n|            细胞战争|       0|       1|\n+--------------------+--------+--------+\nonly showing top 5 rows\n\n"
     ]
    }
   ],
   "source": [
    "# Colonne à utiliser\n",
    "# positive: long (nullable = true), negative: long (nullable = true),name: string (nullable = true)\n",
    "\n",
    "df.select('name','positive', 'negative').show(5)"
   ]
  },
  {
   "cell_type": "code",
   "execution_count": 0,
   "metadata": {
    "application/vnd.databricks.v1+cell": {
     "cellMetadata": {
      "byteLimit": 2048000,
      "rowLimit": 10000
     },
     "inputWidgets": {},
     "nuid": "9177e13c-02af-4c4c-898b-bea5cbb685af",
     "showTitle": false,
     "tableResultSettingsMap": {},
     "title": ""
    }
   },
   "outputs": [
    {
     "output_type": "stream",
     "name": "stdout",
     "output_type": "stream",
     "text": [
      "+---------------------------+--------+--------+----------+\n|name                       |positive|negative|total_rate|\n+---------------------------+--------+--------+----------+\n|Counter-Strike             |201215  |5199    |196016    |\n|ASCENXION                  |27      |5       |22        |\n|Crown Trick                |4032    |646     |3386      |\n|Cook, Serve, Delicious! 3?!|1575    |115     |1460      |\n|细胞战争                   |0       |1       |-1        |\n+---------------------------+--------+--------+----------+\nonly showing top 5 rows\n\n"
     ]
    }
   ],
   "source": [
    "total_rate = df.withColumn('total_rate', F.col('positive') - F.col('negative')) \n",
    "total_rate.select('name','positive', 'negative','total_rate').show(5, truncate=False)"
   ]
  },
  {
   "cell_type": "code",
   "execution_count": 0,
   "metadata": {
    "application/vnd.databricks.v1+cell": {
     "cellMetadata": {
      "byteLimit": 2048000,
      "rowLimit": 10000
     },
     "inputWidgets": {},
     "nuid": "9b3e6737-847b-4b39-b33a-325337491af7",
     "showTitle": false,
     "tableResultSettingsMap": {},
     "title": ""
    }
   },
   "outputs": [
    {
     "output_type": "stream",
     "name": "stdout",
     "output_type": "stream",
     "text": [
      "+--------------------------------+----------+\n|name                            |total_rate|\n+--------------------------------+----------+\n|Counter-Strike: Global Offensive|5156252   |\n|Dota 2                          |1216979   |\n|Grand Theft Auto V              |1015886   |\n|Terraria                        |992331    |\n|Garry's Mod                     |831242    |\n|Tom Clancy's Rainbow Six Siege  |799663    |\n|Team Fortress 2                 |788984    |\n|Left 4 Dead 2                   |627008    |\n|Rust                            |620359    |\n|The Witcher 3: Wild Hunt        |607382    |\n+--------------------------------+----------+\nonly showing top 10 rows\n\n"
     ]
    }
   ],
   "source": [
    "rate_games = total_rate.select('name', 'total_rate').orderBy('total_rate', ascending=False)\n",
    "rate_games.show(10, truncate=False)"
   ]
  },
  {
   "cell_type": "code",
   "execution_count": 0,
   "metadata": {
    "application/vnd.databricks.v1+cell": {
     "cellMetadata": {
      "byteLimit": 2048000,
      "rowLimit": 10000
     },
     "inputWidgets": {},
     "nuid": "4adefc7d-7a32-4e46-b9fc-d0836668f83b",
     "showTitle": false,
     "tableResultSettingsMap": {},
     "title": ""
    }
   },
   "outputs": [
    {
     "output_type": "stream",
     "name": "stdout",
     "output_type": "stream",
     "text": [
      "+--------------------------------+\n|name                            |\n+--------------------------------+\n|Counter-Strike: Global Offensive|\n|Dota 2                          |\n|Grand Theft Auto V              |\n|Terraria                        |\n|Garry's Mod                     |\n|Tom Clancy's Rainbow Six Siege  |\n|Team Fortress 2                 |\n|Left 4 Dead 2                   |\n|Rust                            |\n|The Witcher 3: Wild Hunt        |\n+--------------------------------+\n\n"
     ]
    }
   ],
   "source": [
    "best_games = rate_games.select('name').limit(10)\n",
    "best_games.show(10, truncate=False)"
   ]
  },
  {
   "cell_type": "markdown",
   "metadata": {
    "application/vnd.databricks.v1+cell": {
     "cellMetadata": {},
     "inputWidgets": {},
     "nuid": "b9200903-654e-41f7-836f-300dc5156779",
     "showTitle": false,
     "tableResultSettingsMap": {},
     "title": ""
    }
   },
   "source": [
    "##  3. Y a-t-il eu plus de sorties de jeux pendant certaines années ?"
   ]
  },
  {
   "cell_type": "code",
   "execution_count": 0,
   "metadata": {
    "application/vnd.databricks.v1+cell": {
     "cellMetadata": {
      "byteLimit": 2048000,
      "rowLimit": 10000
     },
     "inputWidgets": {},
     "nuid": "67a2a04a-994b-41c1-a01a-e0d1a585f361",
     "showTitle": false,
     "tableResultSettingsMap": {},
     "title": ""
    }
   },
   "outputs": [
    {
     "output_type": "stream",
     "name": "stdout",
     "output_type": "stream",
     "text": [
      "+--------------------+\n|  release_date_clean|\n+--------------------+\n|2000-11-01T00:00:...|\n|2021-05-14T00:00:...|\n|2020-10-16T00:00:...|\n|2020-10-14T00:00:...|\n|2019-03-30T00:00:...|\n+--------------------+\nonly showing top 5 rows\n\n"
     ]
    }
   ],
   "source": [
    "#  release_date_clean : date\n",
    "df.select('release_date_clean').show(5)"
   ]
  },
  {
   "cell_type": "code",
   "execution_count": 0,
   "metadata": {
    "application/vnd.databricks.v1+cell": {
     "cellMetadata": {
      "byteLimit": 2048000,
      "rowLimit": 10000
     },
     "inputWidgets": {},
     "nuid": "1c9bb7a3-df49-4b56-a402-102e6221e1dd",
     "showTitle": false,
     "tableResultSettingsMap": {},
     "title": ""
    }
   },
   "outputs": [
    {
     "output_type": "stream",
     "name": "stdout",
     "output_type": "stream",
     "text": [
      "+----+\n|year|\n+----+\n|2000|\n|2021|\n|2020|\n|2020|\n|2019|\n+----+\nonly showing top 5 rows\n\n"
     ]
    }
   ],
   "source": [
    "df = df.withColumn('year', year(col('release_date_clean')))\n",
    "df.select('year').show(5)"
   ]
  },
  {
   "cell_type": "code",
   "execution_count": 0,
   "metadata": {
    "application/vnd.databricks.v1+cell": {
     "cellMetadata": {
      "byteLimit": 2048000,
      "rowLimit": 10000
     },
     "inputWidgets": {},
     "nuid": "a03a4b90-d4c6-416f-9e06-39b5d1e1a202",
     "showTitle": false,
     "tableResultSettingsMap": {},
     "title": ""
    }
   },
   "outputs": [
    {
     "output_type": "stream",
     "name": "stdout",
     "output_type": "stream",
     "text": [
      "+----+-----------+\n|year|games_count|\n+----+-----------+\n|2021|       8805|\n|2020|       8287|\n|2018|       7663|\n|2022|       7451|\n|2019|       6949|\n+----+-----------+\nonly showing top 5 rows\n\n"
     ]
    }
   ],
   "source": [
    "df_year = df.groupBy('year')\\\n",
    "    .count()\\\n",
    "    .withColumnRenamed('count', 'games_count')\\\n",
    "    .orderBy('games_count', ascending=False)\n",
    "\n",
    "\n",
    "df_year.show(5)\n"
   ]
  },
  {
   "cell_type": "markdown",
   "metadata": {
    "application/vnd.databricks.v1+cell": {
     "cellMetadata": {},
     "inputWidgets": {},
     "nuid": "388d4d47-e913-4af9-8c8f-3a62064dbc03",
     "showTitle": false,
     "tableResultSettingsMap": {},
     "title": ""
    }
   },
   "source": [
    "### Les années avec el plus de sortie sd ejeux sont 2020 et 2021, cela correspond à la période du COVID. En 2022, on observe en baisse du nombre de jeux. "
   ]
  },
  {
   "cell_type": "markdown",
   "metadata": {
    "application/vnd.databricks.v1+cell": {
     "cellMetadata": {},
     "inputWidgets": {},
     "nuid": "c9fe510a-f11e-4957-8ea8-fd206cdc91b3",
     "showTitle": false,
     "tableResultSettingsMap": {},
     "title": ""
    }
   },
   "source": [
    "## 4. Y a-t-il beaucoup de jeux avec réduction ? §§§§§§§ FAUX"
   ]
  },
  {
   "cell_type": "code",
   "execution_count": 0,
   "metadata": {
    "application/vnd.databricks.v1+cell": {
     "cellMetadata": {
      "byteLimit": 2048000,
      "rowLimit": 10000
     },
     "inputWidgets": {},
     "nuid": "e6ddf9a8-6840-4abc-b384-a267fe762aa5",
     "showTitle": false,
     "tableResultSettingsMap": {},
     "title": ""
    }
   },
   "outputs": [
    {
     "output_type": "stream",
     "name": "stdout",
     "output_type": "stream",
     "text": [
      "+--------+\n|discount|\n+--------+\n|       0|\n|       0|\n|      70|\n|       0|\n|       0|\n|      60|\n|       0|\n|       0|\n|       0|\n|       0|\n+--------+\nonly showing top 10 rows\n\n"
     ]
    }
   ],
   "source": [
    "df.select('discount').show(10)"
   ]
  },
  {
   "cell_type": "code",
   "execution_count": 0,
   "metadata": {
    "application/vnd.databricks.v1+cell": {
     "cellMetadata": {
      "byteLimit": 2048000,
      "rowLimit": 10000
     },
     "inputWidgets": {},
     "nuid": "60077304-b734-4856-af28-85d5e47a8c72",
     "showTitle": false,
     "tableResultSettingsMap": {},
     "title": ""
    }
   },
   "outputs": [
    {
     "output_type": "stream",
     "name": "stdout",
     "output_type": "stream",
     "text": [
      "+--------------+-----+\n|Avec reduction|count|\n+--------------+-----+\n|          true| 2518|\n|         false|53173|\n+--------------+-----+\n\n"
     ]
    }
   ],
   "source": [
    "\n",
    "df.groupBy(\n",
    "    (col(\"discount\") > 0).alias(\"Avec reduction\")\n",
    ").count().show()\n"
   ]
  },
  {
   "cell_type": "markdown",
   "metadata": {
    "application/vnd.databricks.v1+cell": {
     "cellMetadata": {},
     "inputWidgets": {},
     "nuid": "211d7fab-9620-4e48-8c31-8a60f56c97eb",
     "showTitle": false,
     "tableResultSettingsMap": {},
     "title": ""
    }
   },
   "source": [
    "### La proportion de réduction pour les jeux est trés faible."
   ]
  },
  {
   "cell_type": "markdown",
   "metadata": {
    "application/vnd.databricks.v1+cell": {
     "cellMetadata": {},
     "inputWidgets": {},
     "nuid": "04705799-56fa-4685-b0cb-d78a321e8a93",
     "showTitle": false,
     "tableResultSettingsMap": {},
     "title": ""
    }
   },
   "source": [
    "## 5. Quelles sont les langues les plus représentées ?"
   ]
  },
  {
   "cell_type": "code",
   "execution_count": 0,
   "metadata": {
    "application/vnd.databricks.v1+cell": {
     "cellMetadata": {
      "byteLimit": 2048000,
      "rowLimit": 10000
     },
     "inputWidgets": {},
     "nuid": "dffe831b-34e0-4a44-a3fe-f54c116b2e47",
     "showTitle": false,
     "tableResultSettingsMap": {},
     "title": ""
    }
   },
   "outputs": [
    {
     "output_type": "stream",
     "name": "stdout",
     "output_type": "stream",
     "text": [
      "+------------------------------------------------------------------------------------------------------------------------------------------------------------------------------------------------------------------------------------------------------------------------------------------------------------------------------------------+\n|languages                                                                                                                                                                                                                                                                                                                                 |\n+------------------------------------------------------------------------------------------------------------------------------------------------------------------------------------------------------------------------------------------------------------------------------------------------------------------------------------------+\n|English, French, German, Italian, Spanish - Spain, Simplified Chinese, Traditional Chinese, Korean                                                                                                                                                                                                                                        |\n|English, Korean, Simplified Chinese                                                                                                                                                                                                                                                                                                       |\n|Simplified Chinese, English, Japanese, Traditional Chinese, French, German, Spanish - Spain, Russian, Portuguese - Brazil                                                                                                                                                                                                                 |\n|English                                                                                                                                                                                                                                                                                                                                   |\n|Simplified Chinese                                                                                                                                                                                                                                                                                                                        |\n|Simplified Chinese, English, Traditional Chinese, Japanese, Korean                                                                                                                                                                                                                                                                        |\n|Japanese, Simplified Chinese, Traditional Chinese                                                                                                                                                                                                                                                                                         |\n|English, Simplified Chinese, Traditional Chinese                                                                                                                                                                                                                                                                                          |\n|English                                                                                                                                                                                                                                                                                                                                   |\n|English, Simplified Chinese, Traditional Chinese                                                                                                                                                                                                                                                                                          |\n|Simplified Chinese                                                                                                                                                                                                                                                                                                                        |\n|English, Simplified Chinese                                                                                                                                                                                                                                                                                                               |\n|English                                                                                                                                                                                                                                                                                                                                   |\n|English                                                                                                                                                                                                                                                                                                                                   |\n|English                                                                                                                                                                                                                                                                                                                                   |\n|English, Russian, French, German, Spanish - Spain                                                                                                                                                                                                                                                                                         |\n|English                                                                                                                                                                                                                                                                                                                                   |\n|English, French, Italian, German, Spanish - Spain, Arabic, Bulgarian, Czech, Danish, Dutch, Finnish, Greek, Hungarian, Japanese, Korean, Norwegian, Polish, Portuguese - Portugal, Portuguese - Brazil, Romanian, Russian, Simplified Chinese, Spanish - Latin America, Swedish, Thai, Traditional Chinese, Turkish, Ukrainian, Vietnamese|\n|English                                                                                                                                                                                                                                                                                                                                   |\n|English                                                                                                                                                                                                                                                                                                                                   |\n+------------------------------------------------------------------------------------------------------------------------------------------------------------------------------------------------------------------------------------------------------------------------------------------------------------------------------------------+\nonly showing top 20 rows\n\n"
     ]
    }
   ],
   "source": [
    "df.select('languages').show(truncate=False)"
   ]
  },
  {
   "cell_type": "code",
   "execution_count": 0,
   "metadata": {
    "application/vnd.databricks.v1+cell": {
     "cellMetadata": {
      "byteLimit": 2048000,
      "rowLimit": 10000
     },
     "inputWidgets": {},
     "nuid": "46c57e88-3c29-47e8-a85a-173f85a35262",
     "showTitle": false,
     "tableResultSettingsMap": {},
     "title": ""
    }
   },
   "outputs": [
    {
     "output_type": "stream",
     "name": "stdout",
     "output_type": "stream",
     "text": [
      "+-------------------+-----+\n|           language|count|\n+-------------------+-----+\n|            English|55116|\n|             German|14019|\n|             French|13426|\n|            Russian|12922|\n| Simplified Chinese|12782|\n|    Spanish - Spain|12233|\n|           Japanese|10368|\n|            Italian| 9304|\n|Portuguese - Brazil| 6750|\n|             Korean| 6599|\n+-------------------+-----+\nonly showing top 10 rows\n\n"
     ]
    }
   ],
   "source": [
    "# Il faut 'exploded' la colonne car les langages sont stockées en chaine de caractére séparé par une virgule\n",
    "df_language = df \\\n",
    "    .withColumn(\"language\", explode(split(col(\"languages\"), \", \"))) \\\n",
    "    .groupBy(\"language\") \\\n",
    "    .count() \\\n",
    "    .orderBy(col(\"count\").desc())\n",
    "\n",
    "df_language.show(10)\n"
   ]
  },
  {
   "cell_type": "markdown",
   "metadata": {
    "application/vnd.databricks.v1+cell": {
     "cellMetadata": {},
     "inputWidgets": {},
     "nuid": "d7251b1a-a508-40ea-86c1-01a50da38b7e",
     "showTitle": false,
     "tableResultSettingsMap": {},
     "title": ""
    }
   },
   "source": [
    "### On observe que la langue anglaise est largement repésentée avec plus de 55.000 jeux."
   ]
  },
  {
   "cell_type": "markdown",
   "metadata": {
    "application/vnd.databricks.v1+cell": {
     "cellMetadata": {},
     "inputWidgets": {},
     "nuid": "8f1cbe61-97ce-45b0-9483-ef41a88ebf0b",
     "showTitle": false,
     "tableResultSettingsMap": {},
     "title": ""
    }
   },
   "source": [
    "## 6. Y a-t-il beaucoup de jeux interdits aux moins de 16/18 ans ?"
   ]
  },
  {
   "cell_type": "code",
   "execution_count": 0,
   "metadata": {
    "application/vnd.databricks.v1+cell": {
     "cellMetadata": {
      "byteLimit": 2048000,
      "rowLimit": 10000
     },
     "inputWidgets": {},
     "nuid": "f8102611-e503-473a-8a26-9ba6c89313c2",
     "showTitle": false,
     "tableResultSettingsMap": {},
     "title": ""
    }
   },
   "outputs": [
    {
     "output_type": "stream",
     "name": "stdout",
     "output_type": "stream",
     "text": [
      "+------------+--------------------+\n|required_age|                name|\n+------------+--------------------+\n|           0|      Counter-Strike|\n|           0|           ASCENXION|\n|           0|         Crown Trick|\n|           0|Cook, Serve, Deli...|\n|           0|            细胞战争|\n+------------+--------------------+\nonly showing top 5 rows\n\n"
     ]
    }
   ],
   "source": [
    "df.select('required_age', 'name').show(5)\n"
   ]
  },
  {
   "cell_type": "code",
   "execution_count": 0,
   "metadata": {
    "application/vnd.databricks.v1+cell": {
     "cellMetadata": {
      "byteLimit": 2048000,
      "rowLimit": 10000
     },
     "inputWidgets": {},
     "nuid": "ab0d4779-7e18-43be-a445-f2b0e8276b5b",
     "showTitle": false,
     "tableResultSettingsMap": {},
     "title": ""
    }
   },
   "outputs": [
    {
     "output_type": "stream",
     "name": "stdout",
     "output_type": "stream",
     "text": [
      "+------------+-----+\n|required_age|count|\n+------------+-----+\n|           7|    2|\n|          15|  264|\n|           3|    3|\n|          16|   38|\n|           0|55030|\n|           5|    1|\n|          18|  223|\n|          17|   38|\n|           6|    4|\n|         180|    4|\n+------------+-----+\nonly showing top 10 rows\n\n"
     ]
    }
   ],
   "source": [
    "df.groupBy('required_age').count().show(10)\n"
   ]
  },
  {
   "cell_type": "code",
   "execution_count": 0,
   "metadata": {
    "application/vnd.databricks.v1+cell": {
     "cellMetadata": {
      "byteLimit": 2048000,
      "rowLimit": 10000
     },
     "inputWidgets": {},
     "nuid": "fa55a26a-261a-4234-a623-8fdee7501075",
     "showTitle": false,
     "tableResultSettingsMap": {},
     "title": ""
    }
   },
   "outputs": [
    {
     "output_type": "stream",
     "name": "stdout",
     "output_type": "stream",
     "text": [
      "+------------+-----------+\n|required_age|count_games|\n+------------+-----------+\n|           0|      55030|\n|          15|        264|\n|          18|        223|\n|          16|         38|\n|          17|         38|\n|          12|         32|\n|          13|         26|\n|          14|         10|\n|          10|          7|\n|           6|          4|\n+------------+-----------+\nonly showing top 10 rows\n\n"
     ]
    }
   ],
   "source": [
    "\n",
    "df.groupBy('required_age') \\\n",
    "  .agg(F.count('name').alias('count_games')) \\\n",
    "  .orderBy('count_games', ascending=False) \\\n",
    "  .show(10)\n"
   ]
  },
  {
   "cell_type": "markdown",
   "metadata": {
    "application/vnd.databricks.v1+cell": {
     "cellMetadata": {},
     "inputWidgets": {},
     "nuid": "c9743053-87be-401b-89f1-7e5ac902a66f",
     "showTitle": false,
     "tableResultSettingsMap": {},
     "title": ""
    }
   },
   "source": [
    "### Les jeux interdits au moins de 16/18 ans représentent une trés petite proportion. "
   ]
  }
 ],
 "metadata": {
  "application/vnd.databricks.v1+notebook": {
   "computePreferences": null,
   "dashboards": [],
   "environmentMetadata": {
    "base_environment": "",
    "environment_version": "1"
   },
   "inputWidgetPreferences": null,
   "language": "python",
   "notebookMetadata": {
    "pythonIndentUnit": 4
   },
   "notebookName": "steam_analyse_macro",
   "widgets": {}
  }
 },
 "nbformat": 4,
 "nbformat_minor": 0
}