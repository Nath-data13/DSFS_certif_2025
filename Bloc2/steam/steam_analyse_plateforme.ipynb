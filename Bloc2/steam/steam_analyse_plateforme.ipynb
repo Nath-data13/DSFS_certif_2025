{
 "cells": [
  {
   "cell_type": "code",
   "execution_count": 0,
   "metadata": {
    "application/vnd.databricks.v1+cell": {
     "cellMetadata": {
      "byteLimit": 2048000,
      "rowLimit": 10000
     },
     "inputWidgets": {},
     "nuid": "9bf614f8-7e0a-4a7b-baf4-7791da5b9766",
     "showTitle": false,
     "tableResultSettingsMap": {},
     "title": ""
    }
   },
   "outputs": [],
   "source": [
    "from pyspark.sql import functions as F\n",
    "from pyspark.sql.functions import *"
   ]
  },
  {
   "cell_type": "code",
   "execution_count": 0,
   "metadata": {
    "application/vnd.databricks.v1+cell": {
     "cellMetadata": {
      "byteLimit": 2048000,
      "rowLimit": 10000
     },
     "inputWidgets": {},
     "nuid": "84e4f20e-5d8b-454b-8fed-15aec1fb9bf5",
     "showTitle": false,
     "tableResultSettingsMap": {},
     "title": ""
    }
   },
   "outputs": [],
   "source": [
    "df = spark.read.json(\"/FileStore/export/steam_clean\")"
   ]
  },
  {
   "cell_type": "markdown",
   "metadata": {
    "application/vnd.databricks.v1+cell": {
     "cellMetadata": {},
     "inputWidgets": {},
     "nuid": "1b5f76e8-a165-41c4-8586-66a1e4c44bac",
     "showTitle": false,
     "tableResultSettingsMap": {},
     "title": ""
    }
   },
   "source": [
    "# Analyse de la plateforme"
   ]
  },
  {
   "cell_type": "markdown",
   "metadata": {
    "application/vnd.databricks.v1+cell": {
     "cellMetadata": {},
     "inputWidgets": {},
     "nuid": "cf00d2cb-234b-4434-adeb-0c6a30867693",
     "showTitle": false,
     "tableResultSettingsMap": {},
     "title": ""
    }
   },
   "source": [
    "## 11. La plupart des jeux sont-ils disponibles sur Windows/Mac/Linux ?"
   ]
  },
  {
   "cell_type": "code",
   "execution_count": 0,
   "metadata": {
    "application/vnd.databricks.v1+cell": {
     "cellMetadata": {
      "byteLimit": 2048000,
      "rowLimit": 10000
     },
     "inputWidgets": {},
     "nuid": "24df4334-580b-4ae4-8cc0-d78f7af1f91f",
     "showTitle": false,
     "tableResultSettingsMap": {},
     "title": ""
    }
   },
   "outputs": [
    {
     "output_type": "stream",
     "name": "stdout",
     "output_type": "stream",
     "text": [
      "+-------+-----+-----+\n|windows|  mac|linux|\n+-------+-----+-----+\n|   true| true| true|\n|   true|false|false|\n|   true|false|false|\n|   true| true|false|\n|   true|false|false|\n+-------+-----+-----+\nonly showing top 5 rows\n\n"
     ]
    }
   ],
   "source": [
    "df.select('windows', 'mac', 'linux').show(5)"
   ]
  },
  {
   "cell_type": "code",
   "execution_count": 0,
   "metadata": {
    "application/vnd.databricks.v1+cell": {
     "cellMetadata": {
      "byteLimit": 2048000,
      "rowLimit": 10000
     },
     "inputWidgets": {},
     "nuid": "a600fb44-7bfb-47ec-82e3-fb4e3e7680e9",
     "showTitle": false,
     "tableResultSettingsMap": {},
     "title": ""
    }
   },
   "outputs": [
    {
     "output_type": "stream",
     "name": "stdout",
     "output_type": "stream",
     "text": [
      "+-----------+-------+---------+\n|sum_windows|sum_mac|sum_linux|\n+-----------+-------+---------+\n|      55676|  12770|     8458|\n+-----------+-------+---------+\n\n"
     ]
    }
   ],
   "source": [
    "df_plateforme = df.agg(\n",
    "    sum(col(\"windows\").cast(\"int\")).alias(\"sum_windows\"),\" cast(\"int)\"\n",
    "    sum(col(\"mac\").cast(\"int\")).alias(\"sum_mac\"),\n",
    "    sum(col(\"linux\").cast(\"int\")).alias(\"sum_linux\")\n",
    ")\n",
    "\n",
    "# Étape 3 – Affichage des 5 premiers genres, triés par nom\n",
    "df_plateforme.show(5)"
   ]
  },
  {
   "cell_type": "markdown",
   "metadata": {
    "application/vnd.databricks.v1+cell": {
     "cellMetadata": {},
     "inputWidgets": {},
     "nuid": "d448841b-7411-4481-ac93-0bb8a177b516",
     "showTitle": false,
     "tableResultSettingsMap": {},
     "title": ""
    }
   },
   "source": [
    "### Pratiquement tous les jeux sont disponibles sur Windows."
   ]
  },
  {
   "cell_type": "markdown",
   "metadata": {
    "application/vnd.databricks.v1+cell": {
     "cellMetadata": {},
     "inputWidgets": {},
     "nuid": "796938f4-f821-4de2-bcdb-4e883b7a325a",
     "showTitle": false,
     "tableResultSettingsMap": {},
     "title": ""
    }
   },
   "source": [
    "## 12. Certains genres ont-ils tendance à être disponibles de préférence sur certaines plateformes ?"
   ]
  },
  {
   "cell_type": "code",
   "execution_count": 0,
   "metadata": {
    "application/vnd.databricks.v1+cell": {
     "cellMetadata": {
      "byteLimit": 2048000,
      "rowLimit": 10000
     },
     "inputWidgets": {},
     "nuid": "283dd28b-8fb6-4d62-9e80-451c1526e287",
     "showTitle": false,
     "tableResultSettingsMap": {},
     "title": ""
    }
   },
   "outputs": [
    {
     "output_type": "stream",
     "name": "stdout",
     "output_type": "stream",
     "text": [
      "+--------------------+-----------+-------+---------+\n|      genre_exploded|sum_windows|sum_mac|sum_linux|\n+--------------------+-----------+-------+---------+\n|                    |        159|     55|       42|\n|          Accounting|         16|      4|        0|\n|              Action|      23755|   4564|     3379|\n|           Adventure|      21427|   5039|     3302|\n|Animation & Modeling|        322|     74|       38|\n|    Audio Production|        193|     41|        7|\n|              Casual|      22082|   5130|     3305|\n|Design & Illustra...|        405|    100|       54|\n|        Early Access|       6145|    900|      632|\n|           Education|        317|     56|       19|\n+--------------------+-----------+-------+---------+\nonly showing top 10 rows\n\n"
     ]
    }
   ],
   "source": [
    "df_game = df_exploded.groupBy(\"genre_exploded\").agg(\n",
    "    sum(col(\"windows\").cast(\"int\")).alias(\"sum_windows\"),\n",
    "    sum(col(\"mac\").cast(\"int\")).alias(\"sum_mac\"),\n",
    "    sum(col(\"linux\").cast(\"int\")).alias(\"sum_linux\")\n",
    ")\n",
    "\n",
    "df_game.orderBy(\"genre_exploded\").show(10)"
   ]
  },
  {
   "cell_type": "markdown",
   "metadata": {
    "application/vnd.databricks.v1+cell": {
     "cellMetadata": {},
     "inputWidgets": {},
     "nuid": "721a8920-b6e2-4e31-86c0-ad0a5a55f27e",
     "showTitle": false,
     "tableResultSettingsMap": {},
     "title": ""
    }
   },
   "source": [
    "### La pluspart de sgenres sont dispobibles sur Windows."
   ]
  }
 ],
 "metadata": {
  "application/vnd.databricks.v1+notebook": {
   "computePreferences": null,
   "dashboards": [],
   "environmentMetadata": {
    "base_environment": "",
    "environment_version": "1"
   },
   "inputWidgetPreferences": null,
   "language": "python",
   "notebookMetadata": {
    "pythonIndentUnit": 4
   },
   "notebookName": "steam_analyse_plateforme",
   "widgets": {}
  }
 },
 "nbformat": 4,
 "nbformat_minor": 0
}