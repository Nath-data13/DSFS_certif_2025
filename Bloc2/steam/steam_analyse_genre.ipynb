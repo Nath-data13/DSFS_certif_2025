{
 "cells": [
  {
   "cell_type": "code",
   "execution_count": 0,
   "metadata": {
    "application/vnd.databricks.v1+cell": {
     "cellMetadata": {
      "byteLimit": 2048000,
      "rowLimit": 10000
     },
     "inputWidgets": {},
     "nuid": "fd56bb9d-f5a4-4b5f-8091-1a97e9b143d9",
     "showTitle": false,
     "tableResultSettingsMap": {},
     "title": ""
    }
   },
   "outputs": [],
   "source": [
    "from pyspark.sql import functions as F\n",
    "from pyspark.sql.functions import *"
   ]
  },
  {
   "cell_type": "code",
   "execution_count": 0,
   "metadata": {
    "application/vnd.databricks.v1+cell": {
     "cellMetadata": {
      "byteLimit": 2048000,
      "rowLimit": 10000
     },
     "inputWidgets": {},
     "nuid": "2e9f4ed5-474c-4ba3-976a-56b6d80b2846",
     "showTitle": false,
     "tableResultSettingsMap": {},
     "title": ""
    }
   },
   "outputs": [],
   "source": [
    "df= spark.read.json(\"/FileStore/export/steam_clean\")\n"
   ]
  },
  {
   "cell_type": "markdown",
   "metadata": {
    "application/vnd.databricks.v1+cell": {
     "cellMetadata": {},
     "inputWidgets": {},
     "nuid": "8bf99a56-7b9e-449a-b725-c28ec9a81357",
     "showTitle": false,
     "tableResultSettingsMap": {},
     "title": ""
    }
   },
   "source": [
    "# Analyse des genres"
   ]
  },
  {
   "cell_type": "markdown",
   "metadata": {
    "application/vnd.databricks.v1+cell": {
     "cellMetadata": {},
     "inputWidgets": {},
     "nuid": "e9eea30a-2d4b-4876-8591-79c2008dadf2",
     "showTitle": false,
     "tableResultSettingsMap": {},
     "title": ""
    }
   },
   "source": [
    "## 7. Quels sont les genres les plus représentés ?"
   ]
  },
  {
   "cell_type": "code",
   "execution_count": 0,
   "metadata": {
    "application/vnd.databricks.v1+cell": {
     "cellMetadata": {
      "byteLimit": 2048000,
      "rowLimit": 10000
     },
     "inputWidgets": {},
     "nuid": "8544c95e-ddb1-4d50-a424-1faa4d8a0a26",
     "showTitle": false,
     "tableResultSettingsMap": {},
     "title": ""
    }
   },
   "outputs": [
    {
     "output_type": "stream",
     "name": "stdout",
     "output_type": "stream",
     "text": [
      "+--------------------------------------------------------------+\n|genre                                                         |\n+--------------------------------------------------------------+\n|Action                                                        |\n|Action, Adventure, Indie                                      |\n|Adventure, Indie, RPG, Strategy                               |\n|Action, Indie, Simulation, Strategy                           |\n|Action, Casual, Indie, Simulation                             |\n|Action, Adventure, Indie, RPG                                 |\n|Adventure, Indie, RPG, Strategy                               |\n|Action, Adventure, Casual, Free to Play, Massively Multiplayer|\n|Casual, Indie                                                 |\n|Indie, RPG                                                    |\n|Action, RPG, Strategy                                         |\n|Action, Early Access                                          |\n|Indie                                                         |\n|Action, Adventure, Free to Play, Indie                        |\n|Action, Early Access                                          |\n|Adventure, Indie, RPG                                         |\n|Action, Indie, RPG, Simulation, Early Access                  |\n|Action, Casual, Indie, Massively Multiplayer                  |\n|Education                                                     |\n|Casual, Free to Play, Indie, Strategy                         |\n+--------------------------------------------------------------+\nonly showing top 20 rows\n\n"
     ]
    }
   ],
   "source": [
    "df.select('genre').show(truncate=False)"
   ]
  },
  {
   "cell_type": "code",
   "execution_count": 0,
   "metadata": {
    "application/vnd.databricks.v1+cell": {
     "cellMetadata": {
      "byteLimit": 2048000,
      "rowLimit": 10000
     },
     "inputWidgets": {},
     "nuid": "ae97e8b0-7f9a-4c23-91ee-565121c05b74",
     "showTitle": false,
     "tableResultSettingsMap": {},
     "title": ""
    }
   },
   "outputs": [],
   "source": [
    "# Il faut 'explosed' la colonne car les genres sont stockées en chaine de caractére séparé par une virgule\n",
    "df_exploded = df.withColumn(\"genre_exploded\", explode(split(col(\"genre\"), \",\\\\s*\")))"
   ]
  },
  {
   "cell_type": "code",
   "execution_count": 0,
   "metadata": {
    "application/vnd.databricks.v1+cell": {
     "cellMetadata": {
      "byteLimit": 2048000,
      "rowLimit": 10000
     },
     "inputWidgets": {},
     "nuid": "e5245e45-d537-484f-add4-ed7cea0fe557",
     "showTitle": false,
     "tableResultSettingsMap": {},
     "title": ""
    }
   },
   "outputs": [
    {
     "output_type": "stream",
     "name": "stdout",
     "output_type": "stream",
     "text": [
      "+--------------+-----+\n|genre_exploded|count|\n+--------------+-----+\n|         Indie|39681|\n|        Action|23759|\n|        Casual|22086|\n|     Adventure|21431|\n|      Strategy|10895|\n+--------------+-----+\nonly showing top 5 rows\n\n"
     ]
    }
   ],
   "source": [
    "df_genre = df_exploded\\\n",
    "    .groupBy(\"genre_exploded\") \\\n",
    "    .count() \\\n",
    "    .orderBy(col(\"count\").desc())\n",
    "\n",
    "df_genre.show(5)"
   ]
  },
  {
   "cell_type": "markdown",
   "metadata": {
    "application/vnd.databricks.v1+cell": {
     "cellMetadata": {},
     "inputWidgets": {},
     "nuid": "d18940dd-be97-4fa9-b2cc-e889d4973988",
     "showTitle": false,
     "tableResultSettingsMap": {},
     "title": ""
    }
   },
   "source": [
    "### Les genres les plus représentés sont Indie puis Action et Casual."
   ]
  },
  {
   "cell_type": "markdown",
   "metadata": {
    "application/vnd.databricks.v1+cell": {
     "cellMetadata": {},
     "inputWidgets": {},
     "nuid": "affa08a4-210a-4b40-a2fd-ac6ee09300a8",
     "showTitle": false,
     "tableResultSettingsMap": {},
     "title": ""
    }
   },
   "source": [
    "##  8. Existe-t-il des genres qui ont un meilleur ratio de critiques positives/négatives ?"
   ]
  },
  {
   "cell_type": "code",
   "execution_count": 0,
   "metadata": {
    "application/vnd.databricks.v1+cell": {
     "cellMetadata": {
      "byteLimit": 2048000,
      "rowLimit": 10000
     },
     "inputWidgets": {},
     "nuid": "966599b0-6206-43a8-b80b-c645e54da157",
     "showTitle": false,
     "tableResultSettingsMap": {},
     "title": ""
    }
   },
   "outputs": [
    {
     "output_type": "stream",
     "name": "stdout",
     "output_type": "stream",
     "text": [
      "+--------------------+--------+--------+\n|               genre|positive|negative|\n+--------------------+--------+--------+\n|              Action|  201215|    5199|\n|Action, Adventure...|      27|       5|\n|Adventure, Indie,...|    4032|     646|\n|Action, Indie, Si...|    1575|     115|\n|Action, Casual, I...|       0|       1|\n+--------------------+--------+--------+\nonly showing top 5 rows\n\n"
     ]
    }
   ],
   "source": [
    "df.select('genre', 'positive', 'negative').show(5)"
   ]
  },
  {
   "cell_type": "code",
   "execution_count": 0,
   "metadata": {
    "application/vnd.databricks.v1+cell": {
     "cellMetadata": {
      "byteLimit": 2048000,
      "rowLimit": 10000
     },
     "inputWidgets": {},
     "nuid": "1808a139-861e-4350-bbe2-f2dcf09850ee",
     "showTitle": false,
     "tableResultSettingsMap": {},
     "title": ""
    }
   },
   "outputs": [],
   "source": [
    "# df_exploded correspond au genre du dessus exploded\n",
    "# calcul du ratio\n",
    "\n",
    "df_ratio = df_exploded.groupBy(\"genre_exploded\").agg(\n",
    "    F.sum(\"positive\").alias(\"sum_positive\"),\n",
    "    F.sum(\"negative\").alias(\"sum_negative\")\n",
    ").withColumn(\n",
    "    \"genre_ratio\",\n",
    "    col(\"sum_positive\") / (col(\"sum_positive\") + col(\"sum_negative\"))\n",
    ")\n"
   ]
  },
  {
   "cell_type": "code",
   "execution_count": 0,
   "metadata": {
    "application/vnd.databricks.v1+cell": {
     "cellMetadata": {
      "byteLimit": 2048000,
      "rowLimit": 10000
     },
     "inputWidgets": {},
     "nuid": "c4239988-518b-4555-babf-c5dab3388d2c",
     "showTitle": false,
     "tableResultSettingsMap": {},
     "title": ""
    }
   },
   "outputs": [
    {
     "output_type": "stream",
     "name": "stdout",
     "output_type": "stream",
     "text": [
      "+--------------------+------------+------------+------------------+\n|      genre_exploded|sum_positive|sum_negative|       genre_ratio|\n+--------------------+------------+------------+------------------+\n|       Photo Editing|      577751|       13745|0.9767623111567957|\n|Animation & Modeling|      690765|       26392|0.9631991321286691|\n|Design & Illustra...|      674057|       27007|0.9614771261967524|\n|           Utilities|      739335|       43503|0.9444291156024618|\n|    Game Development|       27461|        3274|0.8934764925980153|\n+--------------------+------------+------------+------------------+\nonly showing top 5 rows\n\n"
     ]
    }
   ],
   "source": [
    "df_ratio.orderBy(\"genre_ratio\", ascending=False).show(5)\n"
   ]
  },
  {
   "cell_type": "markdown",
   "metadata": {
    "application/vnd.databricks.v1+cell": {
     "cellMetadata": {},
     "inputWidgets": {},
     "nuid": "e1f88571-1ca7-43de-97e3-ff30b69735f1",
     "showTitle": false,
     "tableResultSettingsMap": {},
     "title": ""
    }
   },
   "source": [
    "### Les genres avec un meilleur ratio de critique sont Photo Editing puis Animation & Modeling suivi de Design & Illustration."
   ]
  },
  {
   "cell_type": "markdown",
   "metadata": {
    "application/vnd.databricks.v1+cell": {
     "cellMetadata": {},
     "inputWidgets": {},
     "nuid": "b5ea9575-2513-4a74-a144-b4fcb28f6a83",
     "showTitle": false,
     "tableResultSettingsMap": {},
     "title": ""
    }
   },
   "source": [
    "## 9. Certains éditeurs ont-ils des genres favoris ?"
   ]
  },
  {
   "cell_type": "code",
   "execution_count": 0,
   "metadata": {
    "application/vnd.databricks.v1+cell": {
     "cellMetadata": {
      "byteLimit": 2048000,
      "rowLimit": 10000
     },
     "inputWidgets": {},
     "nuid": "f48a5160-cf29-43c1-81dd-d7d73d8dbcaa",
     "showTitle": false,
     "tableResultSettingsMap": {},
     "title": ""
    }
   },
   "outputs": [
    {
     "output_type": "stream",
     "name": "stdout",
     "output_type": "stream",
     "text": [
      "+--------------------+--------------------+\n|           publisher|               genre|\n+--------------------+--------------------+\n|               Valve|              Action|\n|PsychoFlux Entert...|Action, Adventure...|\n|Team17, NEXT Studios|Adventure, Indie,...|\n| Vertigo Gaming Inc.|Action, Indie, Si...|\n|       DoubleC Games|Action, Casual, I...|\n+--------------------+--------------------+\nonly showing top 5 rows\n\n"
     ]
    }
   ],
   "source": [
    "df.select('publisher', 'genre').show(5)"
   ]
  },
  {
   "cell_type": "code",
   "execution_count": 0,
   "metadata": {
    "application/vnd.databricks.v1+cell": {
     "cellMetadata": {
      "byteLimit": 2048000,
      "rowLimit": 10000
     },
     "inputWidgets": {},
     "nuid": "60000a41-2724-43ba-b994-4e4f69320ccd",
     "showTitle": false,
     "tableResultSettingsMap": {},
     "title": ""
    }
   },
   "outputs": [
    {
     "output_type": "stream",
     "name": "stdout",
     "output_type": "stream",
     "text": [
      "+--------------------+--------------+-----+\n|           publisher|genre_exploded|count|\n+--------------------+--------------+-----+\n|      Big Fish Games|        Casual|  418|\n|      Big Fish Games|     Adventure|  392|\n|              8floor|        Casual|  202|\n|     Choice of Games|           RPG|  139|\n|     Choice of Games|         Indie|  136|\n|            HH-Games|        Casual|  132|\n|        Laush Studio|         Indie|  124|\n|     Choice of Games|     Adventure|  112|\n|                    |         Indie|  106|\n|Alawar Entertainment|        Casual|  105|\n+--------------------+--------------+-----+\nonly showing top 10 rows\n\n"
     ]
    }
   ],
   "source": [
    "df_editeur = df_exploded.groupBy(\"publisher\",\"genre_exploded\").count().orderBy(desc(\"count\"))\n",
    "df_editeur.show(10)\n"
   ]
  },
  {
   "cell_type": "markdown",
   "metadata": {
    "application/vnd.databricks.v1+cell": {
     "cellMetadata": {},
     "inputWidgets": {},
     "nuid": "e8e03f08-21bd-4119-90a7-6b6a56a5b91f",
     "showTitle": false,
     "tableResultSettingsMap": {},
     "title": ""
    }
   },
   "source": [
    "### L'éditeur Big Fish Games a principalement des jeux de genre Casual et Adventure. "
   ]
  },
  {
   "cell_type": "markdown",
   "metadata": {
    "application/vnd.databricks.v1+cell": {
     "cellMetadata": {},
     "inputWidgets": {},
     "nuid": "d148cdea-e7b3-4e4a-9dbb-2f801280d0b5",
     "showTitle": false,
     "tableResultSettingsMap": {},
     "title": ""
    }
   },
   "source": [
    "## 10. Quels sont les genres les plus lucratifs ?"
   ]
  },
  {
   "cell_type": "code",
   "execution_count": 0,
   "metadata": {
    "application/vnd.databricks.v1+cell": {
     "cellMetadata": {
      "byteLimit": 2048000,
      "rowLimit": 10000
     },
     "inputWidgets": {},
     "nuid": "f5342141-b7a5-46c0-b7d7-c1c1ff0d554c",
     "showTitle": false,
     "tableResultSettingsMap": {},
     "title": ""
    }
   },
   "outputs": [
    {
     "output_type": "stream",
     "name": "stdout",
     "output_type": "stream",
     "text": [
      "+--------------------+---------+\n|               genre|price_int|\n+--------------------+---------+\n|              Action|      999|\n|Action, Adventure...|      999|\n|Adventure, Indie,...|      599|\n|Action, Indie, Si...|     1999|\n|Action, Casual, I...|      199|\n+--------------------+---------+\nonly showing top 5 rows\n\n"
     ]
    }
   ],
   "source": [
    "df.select(\"genre\", \"price_int\").show(5)"
   ]
  },
  {
   "cell_type": "code",
   "execution_count": 0,
   "metadata": {
    "application/vnd.databricks.v1+cell": {
     "cellMetadata": {
      "byteLimit": 2048000,
      "rowLimit": 10000
     },
     "inputWidgets": {},
     "nuid": "a5327d06-6ff6-48a8-af5f-5f41c185368b",
     "showTitle": false,
     "tableResultSettingsMap": {},
     "title": ""
    }
   },
   "outputs": [
    {
     "output_type": "stream",
     "name": "stdout",
     "output_type": "stream",
     "text": [
      "+--------------+---------+\n|genre_exploded|sum_price|\n+--------------+---------+\n|Indie         |26063036 |\n|Action        |18358769 |\n|Adventure     |17158179 |\n|Casual        |12383583 |\n|Simulation    |9851654  |\n|Strategy      |9157201  |\n|RPG           |8621295  |\n|Early Access  |5375795  |\n|Sports        |2385529  |\n|Racing        |1771645  |\n+--------------+---------+\nonly showing top 10 rows\n\n"
     ]
    }
   ],
   "source": [
    "df_price = df_exploded.groupBy('genre_exploded').agg(\n",
    "    F.sum('price_int').alias('sum_price')   \n",
    ")\n",
    "df_price.orderBy(col(\"sum_price\").desc()).show(10, truncate=False)"
   ]
  },
  {
   "cell_type": "markdown",
   "metadata": {
    "application/vnd.databricks.v1+cell": {
     "cellMetadata": {},
     "inputWidgets": {},
     "nuid": "b7e67d8d-f9de-4e70-b545-1c07efd8bcd3",
     "showTitle": false,
     "tableResultSettingsMap": {},
     "title": ""
    }
   },
   "source": [
    "### Le genre le plus lucratif semble être Indie."
   ]
  }
 ],
 "metadata": {
  "application/vnd.databricks.v1+notebook": {
   "computePreferences": null,
   "dashboards": [],
   "environmentMetadata": {
    "base_environment": "",
    "environment_version": "1"
   },
   "inputWidgetPreferences": null,
   "language": "python",
   "notebookMetadata": {
    "pythonIndentUnit": 4
   },
   "notebookName": "steam_analyse_genre",
   "widgets": {}
  }
 },
 "nbformat": 4,
 "nbformat_minor": 0
}