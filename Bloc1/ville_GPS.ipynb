{
 "cells": [
  {
   "cell_type": "markdown",
   "id": "c4816f5e",
   "metadata": {},
   "source": [
    "### Import des bibliothéques\n",
    "---"
   ]
  },
  {
   "cell_type": "code",
   "execution_count": 3,
   "id": "a86b21a5",
   "metadata": {},
   "outputs": [],
   "source": [
    "import pandas as pd\n",
    "import requests as rq\n",
    "import json as js\n"
   ]
  },
  {
   "cell_type": "markdown",
   "id": "0ffa8840",
   "metadata": {},
   "source": [
    "### Données du projet : Top 35 Villes\n",
    "---"
   ]
  },
  {
   "cell_type": "code",
   "execution_count": 4,
   "id": "b8c4b6b6",
   "metadata": {},
   "outputs": [],
   "source": [
    "Top_ville = [\n",
    "    \"Mont Saint Michel\", \"St Malo\", \"Bayeux\", \"Le Havre\", \"Rouen\",\n",
    "    \"Paris\", \"Amiens\", \"Lille\", \"Strasbourg\", \"Chateau du Haut Koenigsbourg\",\n",
    "    \"Colmar\", \"Eguisheim\", \"Besancon\", \"Dijon\", \"Annecy\",\n",
    "    \"Grenoble\", \"Lyon\", \"Gorges du Verdon\", \"Bormes les Mimosas\", \"Cassis\",\n",
    "    \"Marseille\", \"Aix en Provence\", \"Avignon\", \"Uzes\", \"Nimes\",\n",
    "    \"Aigues Mortes\", \"Saintes Maries de la Mer\", \"Collioure\",\n",
    "    \"Carcassonne\", \"Ariege\", \"Toulouse\", \"Montauban\", \"Biarritz\",\n",
    "    \"Bayonne\", \"La Rochelle\"\n",
    "]\n"
   ]
  },
  {
   "cell_type": "markdown",
   "id": "9a7154bc",
   "metadata": {},
   "source": [
    "### Scraping des coordonnées GPS\n",
    "---"
   ]
  },
  {
   "cell_type": "code",
   "execution_count": 5,
   "id": "38874b73",
   "metadata": {},
   "outputs": [
    {
     "data": {
      "text/plain": [
       "[{'place_id': 263088376,\n",
       "  'licence': 'Data © OpenStreetMap contributors, ODbL 1.0. http://osm.org/copyright',\n",
       "  'osm_type': 'relation',\n",
       "  'osm_id': 905534,\n",
       "  'lat': '48.6495180',\n",
       "  'lon': '-2.0260409',\n",
       "  'class': 'boundary',\n",
       "  'type': 'administrative',\n",
       "  'place_rank': 16,\n",
       "  'importance': 0.6170333686756257,\n",
       "  'addresstype': 'town',\n",
       "  'name': 'Saint-Malo',\n",
       "  'display_name': 'Saint-Malo, Ille-et-Vilaine, Bretagne, France métropolitaine, 35400, France',\n",
       "  'boundingbox': ['48.5979853', '48.6949736', '-2.0765246', '-1.9367259']},\n",
       " {'place_id': 261977249,\n",
       "  'licence': 'Data © OpenStreetMap contributors, ODbL 1.0. http://osm.org/copyright',\n",
       "  'osm_type': 'relation',\n",
       "  'osm_id': 1653637,\n",
       "  'lat': '48.4904728',\n",
       "  'lon': '-1.7421555',\n",
       "  'class': 'boundary',\n",
       "  'type': 'administrative',\n",
       "  'place_rank': 14,\n",
       "  'importance': 0.5038359135553251,\n",
       "  'addresstype': 'municipality',\n",
       "  'name': 'Saint-Malo',\n",
       "  'display_name': 'Saint-Malo, Ille-et-Vilaine, Bretagne, France métropolitaine, France',\n",
       "  'boundingbox': ['48.2669570', '48.7220079', '-2.1619838', '-1.4850797']}]"
      ]
     },
     "execution_count": 5,
     "metadata": {},
     "output_type": "execute_result"
    }
   ],
   "source": [
    "URL = 'https://nominatim.openstreetmap.org/search'\n",
    "headers = {'User-Agent': 'MonProjetKayak/1.0'}\n",
    "params = {'city': 'St Malo', 'country': 'France', 'format': 'json'}\n",
    "\n",
    "# Test sur St Malo\n",
    "response=rq.get(\n",
    "    URL,\n",
    "    params=params,\n",
    "    headers=headers\n",
    "    )\n",
    "\n",
    "response.json()\n"
   ]
  },
  {
   "cell_type": "code",
   "execution_count": 6,
   "id": "273e9751",
   "metadata": {},
   "outputs": [
    {
     "name": "stdout",
     "output_type": "stream",
     "text": [
      "Mont Saint Michel\n",
      "St Malo\n",
      "Bayeux\n",
      "Le Havre\n",
      "Rouen\n",
      "Paris\n",
      "Amiens\n",
      "Lille\n",
      "Strasbourg\n",
      "Chateau du Haut Koenigsbourg\n",
      "Colmar\n",
      "Eguisheim\n",
      "Besancon\n",
      "Dijon\n",
      "Annecy\n",
      "Grenoble\n",
      "Lyon\n",
      "Gorges du Verdon\n",
      "Bormes les Mimosas\n",
      "Cassis\n",
      "Marseille\n",
      "Aix en Provence\n",
      "Avignon\n",
      "Uzes\n",
      "Nimes\n",
      "Aigues Mortes\n",
      "Saintes Maries de la Mer\n",
      "Collioure\n",
      "Carcassonne\n",
      "Ariege\n",
      "Toulouse\n",
      "Montauban\n",
      "Biarritz\n",
      "Bayonne\n",
      "La Rochelle\n"
     ]
    },
    {
     "data": {
      "text/html": [
       "<div>\n",
       "<style scoped>\n",
       "    .dataframe tbody tr th:only-of-type {\n",
       "        vertical-align: middle;\n",
       "    }\n",
       "\n",
       "    .dataframe tbody tr th {\n",
       "        vertical-align: top;\n",
       "    }\n",
       "\n",
       "    .dataframe thead th {\n",
       "        text-align: right;\n",
       "    }\n",
       "</style>\n",
       "<table border=\"1\" class=\"dataframe\">\n",
       "  <thead>\n",
       "    <tr style=\"text-align: right;\">\n",
       "      <th></th>\n",
       "      <th>Ville</th>\n",
       "      <th>Latitude</th>\n",
       "      <th>Longitude</th>\n",
       "    </tr>\n",
       "  </thead>\n",
       "  <tbody>\n",
       "    <tr>\n",
       "      <th>0</th>\n",
       "      <td>Mont Saint Michel</td>\n",
       "      <td>49.5532646</td>\n",
       "      <td>2.9392577</td>\n",
       "    </tr>\n",
       "    <tr>\n",
       "      <th>1</th>\n",
       "      <td>St Malo</td>\n",
       "      <td>49.5532646</td>\n",
       "      <td>2.9392577</td>\n",
       "    </tr>\n",
       "    <tr>\n",
       "      <th>2</th>\n",
       "      <td>Bayeux</td>\n",
       "      <td>49.5532646</td>\n",
       "      <td>2.9392577</td>\n",
       "    </tr>\n",
       "    <tr>\n",
       "      <th>3</th>\n",
       "      <td>Le Havre</td>\n",
       "      <td>49.5532646</td>\n",
       "      <td>2.9392577</td>\n",
       "    </tr>\n",
       "    <tr>\n",
       "      <th>4</th>\n",
       "      <td>Rouen</td>\n",
       "      <td>49.5532646</td>\n",
       "      <td>2.9392577</td>\n",
       "    </tr>\n",
       "  </tbody>\n",
       "</table>\n",
       "</div>"
      ],
      "text/plain": [
       "               Ville    Latitude  Longitude\n",
       "0  Mont Saint Michel  49.5532646  2.9392577\n",
       "1            St Malo  49.5532646  2.9392577\n",
       "2             Bayeux  49.5532646  2.9392577\n",
       "3           Le Havre  49.5532646  2.9392577\n",
       "4              Rouen  49.5532646  2.9392577"
      ]
     },
     "execution_count": 6,
     "metadata": {},
     "output_type": "execute_result"
    }
   ],
   "source": [
    "# GPS top 35 Villes\n",
    "df_ville = pd.DataFrame(columns=['Ville', 'Latitude', 'Longitude'])\n",
    "params={'city': 'ville', 'country': 'France', 'format': 'json'}\n",
    "\n",
    "for ville in Top_ville:\n",
    "    print(ville)\n",
    "    try:\n",
    "        response = rq.get(\n",
    "            URL,\n",
    "            params=params, \n",
    "            headers=headers,\n",
    "            timeout=10 # si nominatim ne répond pas s'arrête ds les 10s\n",
    "        )\n",
    "        response.raise_for_status()\n",
    "        data = response.json()\n",
    "\n",
    "        if data:  # seulement si des données sont présentes\n",
    "            lat = data[0]['lat']\n",
    "            lon = data[0]['lon']\n",
    "\n",
    "            # Ajout dans le DataFrame uniquement si coordonnées disponibles\n",
    "            df_ville.loc[len(df_ville)] = [ville, lat, lon]\n",
    "\n",
    "        else:\n",
    "            print(f\"\\tAucune donnée trouvée pour {ville}\")  # pas ajouté\n",
    "\n",
    "    except rq.RequestException as e:\n",
    "        print(f\"\\tErreur pour {ville} : {e}\")  # pas ajouté\n",
    "\n",
    "df_ville.head()\n"
   ]
  },
  {
   "cell_type": "markdown",
   "id": "105c8632",
   "metadata": {},
   "source": [
    "### Sauvegarde df_ville\n",
    "---"
   ]
  },
  {
   "cell_type": "code",
   "execution_count": null,
   "id": "9d21fb81",
   "metadata": {},
   "outputs": [],
   "source": [
    "df_ville.to_csv('df_ville.csv')"
   ]
  }
 ],
 "metadata": {
  "kernelspec": {
   "display_name": "my-booking",
   "language": "python",
   "name": "python3"
  },
  "language_info": {
   "codemirror_mode": {
    "name": "ipython",
    "version": 3
   },
   "file_extension": ".py",
   "mimetype": "text/x-python",
   "name": "python",
   "nbconvert_exporter": "python",
   "pygments_lexer": "ipython3",
   "version": "3.10.18"
  }
 },
 "nbformat": 4,
 "nbformat_minor": 5
}
