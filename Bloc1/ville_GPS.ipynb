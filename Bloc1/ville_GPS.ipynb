{
 "cells": [
  {
   "cell_type": "markdown",
   "id": "c4816f5e",
   "metadata": {},
   "source": [
    "### Import des bibliothéques\n",
    "---"
   ]
  },
  {
   "cell_type": "code",
   "execution_count": 16,
   "id": "a86b21a5",
   "metadata": {},
   "outputs": [],
   "source": [
    "import pandas as pd\n",
    "import requests as rq\n",
    "import json as js\n",
    "import time\n"
   ]
  },
  {
   "cell_type": "markdown",
   "id": "0ffa8840",
   "metadata": {},
   "source": [
    "### Données du projet : Top 35 Villes\n",
    "---"
   ]
  },
  {
   "cell_type": "code",
   "execution_count": 3,
   "id": "b8c4b6b6",
   "metadata": {},
   "outputs": [],
   "source": [
    "Top_ville = [\n",
    "    \"Mont Saint Michel\", \"St Malo\", \"Bayeux\", \"Le Havre\", \"Rouen\",\n",
    "    \"Paris\", \"Amiens\", \"Lille\", \"Strasbourg\", \"Chateau du Haut Koenigsbourg\",\n",
    "    \"Colmar\", \"Eguisheim\", \"Besancon\", \"Dijon\", \"Annecy\",\n",
    "    \"Grenoble\", \"Lyon\", \"Gorges du Verdon\", \"Bormes les Mimosas\", \"Cassis\",\n",
    "    \"Marseille\", \"Aix en Provence\", \"Avignon\", \"Uzes\", \"Nimes\",\n",
    "    \"Aigues Mortes\", \"Saintes Maries de la Mer\", \"Collioure\",\n",
    "    \"Carcassonne\", \"Ariege\", \"Toulouse\", \"Montauban\", \"Biarritz\",\n",
    "    \"Bayonne\", \"La Rochelle\"\n",
    "]\n"
   ]
  },
  {
   "cell_type": "markdown",
   "id": "9a7154bc",
   "metadata": {},
   "source": [
    "### Scraping des coordonnées GPS\n",
    "---"
   ]
  },
  {
   "cell_type": "code",
   "execution_count": 12,
   "id": "38874b73",
   "metadata": {},
   "outputs": [
    {
     "data": {
      "text/plain": [
       "[{'place_id': 262173744,\n",
       "  'licence': 'Data © OpenStreetMap contributors, ODbL 1.0. http://osm.org/copyright',\n",
       "  'osm_type': 'relation',\n",
       "  'osm_id': 905534,\n",
       "  'lat': '48.6495180',\n",
       "  'lon': '-2.0260409',\n",
       "  'class': 'boundary',\n",
       "  'type': 'administrative',\n",
       "  'place_rank': 16,\n",
       "  'importance': 0.6170333686756257,\n",
       "  'addresstype': 'town',\n",
       "  'name': 'Saint-Malo',\n",
       "  'display_name': 'Saint-Malo, Ille-et-Vilaine, Bretagne, France métropolitaine, 35400, France',\n",
       "  'boundingbox': ['48.5979853', '48.6949736', '-2.0765246', '-1.9367259']},\n",
       " {'place_id': 261847659,\n",
       "  'licence': 'Data © OpenStreetMap contributors, ODbL 1.0. http://osm.org/copyright',\n",
       "  'osm_type': 'relation',\n",
       "  'osm_id': 1653637,\n",
       "  'lat': '48.4904728',\n",
       "  'lon': '-1.7421555',\n",
       "  'class': 'boundary',\n",
       "  'type': 'administrative',\n",
       "  'place_rank': 14,\n",
       "  'importance': 0.5038359135553251,\n",
       "  'addresstype': 'municipality',\n",
       "  'name': 'Saint-Malo',\n",
       "  'display_name': 'Saint-Malo, Ille-et-Vilaine, Bretagne, France métropolitaine, France',\n",
       "  'boundingbox': ['48.2669570', '48.7220079', '-2.1619838', '-1.4850797']}]"
      ]
     },
     "execution_count": 12,
     "metadata": {},
     "output_type": "execute_result"
    }
   ],
   "source": [
    "URL = 'https://nominatim.openstreetmap.org/search'\n",
    "headers = {'User-Agent': 'MonProjetKayak/1.0'}\n",
    "ville = \"St Malo\"\n",
    "params = {'q': f\"{ville}, France\", 'format': 'json'}\n",
    "\n",
    "# Test sur St Malo\n",
    "response=rq.get(\n",
    "    URL,\n",
    "    params=params,\n",
    "    headers=headers\n",
    "    )\n",
    "\n",
    "response.json()\n"
   ]
  },
  {
   "cell_type": "code",
   "execution_count": 18,
   "id": "6dc96edb",
   "metadata": {},
   "outputs": [
    {
     "name": "stdout",
     "output_type": "stream",
     "text": [
      "Mont Saint Michel -> OK (48.6359541, -1.51146)\n",
      "St Malo -> OK (48.649518, -2.0260409)\n",
      "Bayeux -> OK (49.2764624, -0.7024738)\n",
      "Le Havre -> OK (49.4938975, 0.1079732)\n",
      "Rouen -> OK (49.4404591, 1.0939658)\n",
      "Paris -> OK (48.8534951, 2.3483915)\n",
      "Amiens -> OK (49.8941708, 2.2956951)\n",
      "Lille -> OK (50.6365654, 3.0635282)\n",
      "Strasbourg -> OK (48.584614, 7.7507127)\n",
      "Chateau du Haut Koenigsbourg -> OK (48.2494107, 7.3443202)\n",
      "Colmar -> OK (48.0777517, 7.3579641)\n",
      "Eguisheim -> OK (48.0447968, 7.3079618)\n",
      "Besancon -> OK (47.2380222, 6.0243622)\n",
      "Dijon -> OK (47.3215806, 5.0414701)\n",
      "Annecy -> OK (45.8992348, 6.1288847)\n",
      "Grenoble -> OK (45.1875602, 5.7357819)\n",
      "Lyon -> OK (45.7578137, 4.8320114)\n",
      "Gorges du Verdon -> OK (43.7496562, 6.3285616)\n",
      "Bormes les Mimosas -> OK (43.1506968, 6.3419285)\n",
      "Cassis -> OK (43.2140359, 5.5396318)\n",
      "Marseille -> OK (43.2961743, 5.3699525)\n",
      "Aix en Provence -> OK (43.5298424, 5.4474738)\n",
      "Avignon -> OK (43.9492493, 4.8059012)\n",
      "Uzes -> OK (44.0121279, 4.4196718)\n",
      "Nimes -> OK (43.8374249, 4.3600687)\n",
      "Aigues Mortes -> OK (43.5661521, 4.19154)\n",
      "Saintes Maries de la Mer -> OK (43.4515922, 4.4277202)\n",
      "Collioure -> OK (42.52505, 3.0831554)\n",
      "Carcassonne -> OK (43.2130358, 2.3491069)\n",
      "Ariege -> OK (42.9455368, 1.4065544)\n",
      "Toulouse -> OK (43.6044638, 1.4442433)\n",
      "Montauban -> OK (44.0175835, 1.3549991)\n",
      "Biarritz -> OK (43.4832523, -1.5592776)\n",
      "Bayonne -> OK (43.4945144, -1.4736657)\n",
      "La Rochelle -> OK (46.159732, -1.1515951)\n"
     ]
    },
    {
     "data": {
      "text/html": [
       "<div>\n",
       "<style scoped>\n",
       "    .dataframe tbody tr th:only-of-type {\n",
       "        vertical-align: middle;\n",
       "    }\n",
       "\n",
       "    .dataframe tbody tr th {\n",
       "        vertical-align: top;\n",
       "    }\n",
       "\n",
       "    .dataframe thead th {\n",
       "        text-align: right;\n",
       "    }\n",
       "</style>\n",
       "<table border=\"1\" class=\"dataframe\">\n",
       "  <thead>\n",
       "    <tr style=\"text-align: right;\">\n",
       "      <th></th>\n",
       "      <th>nom_ville</th>\n",
       "      <th>latitude</th>\n",
       "      <th>longitude</th>\n",
       "    </tr>\n",
       "  </thead>\n",
       "  <tbody>\n",
       "    <tr>\n",
       "      <th>0</th>\n",
       "      <td>Mont Saint Michel</td>\n",
       "      <td>48.635954</td>\n",
       "      <td>-1.511460</td>\n",
       "    </tr>\n",
       "    <tr>\n",
       "      <th>1</th>\n",
       "      <td>St Malo</td>\n",
       "      <td>48.649518</td>\n",
       "      <td>-2.026041</td>\n",
       "    </tr>\n",
       "    <tr>\n",
       "      <th>2</th>\n",
       "      <td>Bayeux</td>\n",
       "      <td>49.276462</td>\n",
       "      <td>-0.702474</td>\n",
       "    </tr>\n",
       "    <tr>\n",
       "      <th>3</th>\n",
       "      <td>Le Havre</td>\n",
       "      <td>49.493898</td>\n",
       "      <td>0.107973</td>\n",
       "    </tr>\n",
       "    <tr>\n",
       "      <th>4</th>\n",
       "      <td>Rouen</td>\n",
       "      <td>49.440459</td>\n",
       "      <td>1.093966</td>\n",
       "    </tr>\n",
       "  </tbody>\n",
       "</table>\n",
       "</div>"
      ],
      "text/plain": [
       "           nom_ville   latitude  longitude\n",
       "0  Mont Saint Michel  48.635954  -1.511460\n",
       "1            St Malo  48.649518  -2.026041\n",
       "2             Bayeux  49.276462  -0.702474\n",
       "3           Le Havre  49.493898   0.107973\n",
       "4              Rouen  49.440459   1.093966"
      ]
     },
     "execution_count": 18,
     "metadata": {},
     "output_type": "execute_result"
    }
   ],
   "source": [
    "# Liste temporaire pour stocker les lignes\n",
    "rows = []\n",
    "\n",
    "for ville in Top_ville:\n",
    "    try:\n",
    "        params = {'q': f\"{ville}, France\", 'format': 'json', 'limit': 1}\n",
    "        response = rq.get(URL, params=params, headers=headers, timeout=10)\n",
    "        response.raise_for_status()\n",
    "        data = response.json()\n",
    "\n",
    "        if data:\n",
    "            lat = float(data[0]['lat'])\n",
    "            lon = float(data[0]['lon'])\n",
    "            rows.append([ville, lat, lon])\n",
    "            print(f\"{ville} -> OK ({lat}, {lon})\")\n",
    "        else:\n",
    "            print(f\"\\tAucune donnée trouvée pour {ville}\")\n",
    "\n",
    "    except rq.RequestException as e:\n",
    "        print(f\"\\tErreur pour {ville} : {e}\")\n",
    "\n",
    "    time.sleep(1)  # pour ne pas saturer l'API\n",
    "\n",
    "# Création finale du DataFrame\n",
    "df_ville = pd.DataFrame(rows, columns=['nom_ville','latitude','longitude'])\n",
    "\n",
    "df_ville.head()"
   ]
  },
  {
   "cell_type": "markdown",
   "id": "3211fce8",
   "metadata": {},
   "source": [
    "### Création de la colonne id_ville pour les futurs tables SQL\n",
    "---"
   ]
  },
  {
   "cell_type": "code",
   "execution_count": 19,
   "id": "32876e54",
   "metadata": {},
   "outputs": [
    {
     "data": {
      "text/html": [
       "<div>\n",
       "<style scoped>\n",
       "    .dataframe tbody tr th:only-of-type {\n",
       "        vertical-align: middle;\n",
       "    }\n",
       "\n",
       "    .dataframe tbody tr th {\n",
       "        vertical-align: top;\n",
       "    }\n",
       "\n",
       "    .dataframe thead th {\n",
       "        text-align: right;\n",
       "    }\n",
       "</style>\n",
       "<table border=\"1\" class=\"dataframe\">\n",
       "  <thead>\n",
       "    <tr style=\"text-align: right;\">\n",
       "      <th></th>\n",
       "      <th>nom_ville</th>\n",
       "      <th>latitude</th>\n",
       "      <th>longitude</th>\n",
       "      <th>id_ville</th>\n",
       "    </tr>\n",
       "  </thead>\n",
       "  <tbody>\n",
       "    <tr>\n",
       "      <th>0</th>\n",
       "      <td>Mont Saint Michel</td>\n",
       "      <td>48.635954</td>\n",
       "      <td>-1.511460</td>\n",
       "      <td>1</td>\n",
       "    </tr>\n",
       "    <tr>\n",
       "      <th>1</th>\n",
       "      <td>St Malo</td>\n",
       "      <td>48.649518</td>\n",
       "      <td>-2.026041</td>\n",
       "      <td>2</td>\n",
       "    </tr>\n",
       "    <tr>\n",
       "      <th>2</th>\n",
       "      <td>Bayeux</td>\n",
       "      <td>49.276462</td>\n",
       "      <td>-0.702474</td>\n",
       "      <td>3</td>\n",
       "    </tr>\n",
       "    <tr>\n",
       "      <th>3</th>\n",
       "      <td>Le Havre</td>\n",
       "      <td>49.493898</td>\n",
       "      <td>0.107973</td>\n",
       "      <td>4</td>\n",
       "    </tr>\n",
       "    <tr>\n",
       "      <th>4</th>\n",
       "      <td>Rouen</td>\n",
       "      <td>49.440459</td>\n",
       "      <td>1.093966</td>\n",
       "      <td>5</td>\n",
       "    </tr>\n",
       "  </tbody>\n",
       "</table>\n",
       "</div>"
      ],
      "text/plain": [
       "           nom_ville   latitude  longitude  id_ville\n",
       "0  Mont Saint Michel  48.635954  -1.511460         1\n",
       "1            St Malo  48.649518  -2.026041         2\n",
       "2             Bayeux  49.276462  -0.702474         3\n",
       "3           Le Havre  49.493898   0.107973         4\n",
       "4              Rouen  49.440459   1.093966         5"
      ]
     },
     "execution_count": 19,
     "metadata": {},
     "output_type": "execute_result"
    }
   ],
   "source": [
    "df_ville['id_ville']=range(1, len(df_ville)+1)\n",
    "df_ville.head()\n"
   ]
  },
  {
   "cell_type": "markdown",
   "id": "105c8632",
   "metadata": {},
   "source": [
    "### Sauvegarde df_ville\n",
    "---"
   ]
  },
  {
   "cell_type": "code",
   "execution_count": 20,
   "id": "9d21fb81",
   "metadata": {},
   "outputs": [],
   "source": [
    "df_ville.to_csv('df_ville.csv', index=False)"
   ]
  }
 ],
 "metadata": {
  "kernelspec": {
   "display_name": "my-booking",
   "language": "python",
   "name": "python3"
  },
  "language_info": {
   "codemirror_mode": {
    "name": "ipython",
    "version": 3
   },
   "file_extension": ".py",
   "mimetype": "text/x-python",
   "name": "python",
   "nbconvert_exporter": "python",
   "pygments_lexer": "ipython3",
   "version": "3.10.18"
  }
 },
 "nbformat": 4,
 "nbformat_minor": 5
}
