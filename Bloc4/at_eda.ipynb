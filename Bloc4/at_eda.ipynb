{
 "cells": [
  {
   "cell_type": "markdown",
   "id": "dbe21eeb",
   "metadata": {},
   "source": [
    "### Import des bibliothéques\n",
    "---"
   ]
  },
  {
   "cell_type": "code",
   "execution_count": 1,
   "id": "fc903a68",
   "metadata": {},
   "outputs": [],
   "source": [
    "\n",
    "import numpy as np\n",
    "import pandas as pd\n",
    "import plotly.express as px\n",
    "import matplotlib.pyplot as plt\n",
    "\n"
   ]
  },
  {
   "cell_type": "markdown",
   "id": "e759699a",
   "metadata": {},
   "source": [
    "###  Chargement des données\n",
    "---"
   ]
  },
  {
   "cell_type": "code",
   "execution_count": 2,
   "id": "6b29285e",
   "metadata": {},
   "outputs": [
    {
     "data": {
      "text/html": [
       "<div>\n",
       "<style scoped>\n",
       "    .dataframe tbody tr th:only-of-type {\n",
       "        vertical-align: middle;\n",
       "    }\n",
       "\n",
       "    .dataframe tbody tr th {\n",
       "        vertical-align: top;\n",
       "    }\n",
       "\n",
       "    .dataframe thead th {\n",
       "        text-align: right;\n",
       "    }\n",
       "</style>\n",
       "<table border=\"1\" class=\"dataframe\">\n",
       "  <thead>\n",
       "    <tr style=\"text-align: right;\">\n",
       "      <th></th>\n",
       "      <th>v1</th>\n",
       "      <th>v2</th>\n",
       "      <th>Unnamed: 2</th>\n",
       "      <th>Unnamed: 3</th>\n",
       "      <th>Unnamed: 4</th>\n",
       "    </tr>\n",
       "  </thead>\n",
       "  <tbody>\n",
       "    <tr>\n",
       "      <th>0</th>\n",
       "      <td>ham</td>\n",
       "      <td>Go until jurong point, crazy.. Available only ...</td>\n",
       "      <td>NaN</td>\n",
       "      <td>NaN</td>\n",
       "      <td>NaN</td>\n",
       "    </tr>\n",
       "    <tr>\n",
       "      <th>1</th>\n",
       "      <td>ham</td>\n",
       "      <td>Ok lar... Joking wif u oni...</td>\n",
       "      <td>NaN</td>\n",
       "      <td>NaN</td>\n",
       "      <td>NaN</td>\n",
       "    </tr>\n",
       "    <tr>\n",
       "      <th>2</th>\n",
       "      <td>spam</td>\n",
       "      <td>Free entry in 2 a wkly comp to win FA Cup fina...</td>\n",
       "      <td>NaN</td>\n",
       "      <td>NaN</td>\n",
       "      <td>NaN</td>\n",
       "    </tr>\n",
       "    <tr>\n",
       "      <th>3</th>\n",
       "      <td>ham</td>\n",
       "      <td>U dun say so early hor... U c already then say...</td>\n",
       "      <td>NaN</td>\n",
       "      <td>NaN</td>\n",
       "      <td>NaN</td>\n",
       "    </tr>\n",
       "    <tr>\n",
       "      <th>4</th>\n",
       "      <td>ham</td>\n",
       "      <td>Nah I don't think he goes to usf, he lives aro...</td>\n",
       "      <td>NaN</td>\n",
       "      <td>NaN</td>\n",
       "      <td>NaN</td>\n",
       "    </tr>\n",
       "  </tbody>\n",
       "</table>\n",
       "</div>"
      ],
      "text/plain": [
       "     v1                                                 v2 Unnamed: 2  \\\n",
       "0   ham  Go until jurong point, crazy.. Available only ...        NaN   \n",
       "1   ham                      Ok lar... Joking wif u oni...        NaN   \n",
       "2  spam  Free entry in 2 a wkly comp to win FA Cup fina...        NaN   \n",
       "3   ham  U dun say so early hor... U c already then say...        NaN   \n",
       "4   ham  Nah I don't think he goes to usf, he lives aro...        NaN   \n",
       "\n",
       "  Unnamed: 3 Unnamed: 4  \n",
       "0        NaN        NaN  \n",
       "1        NaN        NaN  \n",
       "2        NaN        NaN  \n",
       "3        NaN        NaN  \n",
       "4        NaN        NaN  "
      ]
     },
     "execution_count": 2,
     "metadata": {},
     "output_type": "execute_result"
    }
   ],
   "source": [
    "df = pd.read_csv(\"data/spam.csv\", encoding=\"latin-1\")\n",
    "df.head()"
   ]
  },
  {
   "cell_type": "markdown",
   "id": "40079dfb",
   "metadata": {},
   "source": [
    "### L'EDA Analyse exploratoire des données Basique\n",
    "---"
   ]
  },
  {
   "cell_type": "code",
   "execution_count": 3,
   "id": "cf3269a3",
   "metadata": {},
   "outputs": [
    {
     "name": "stdout",
     "output_type": "stream",
     "text": [
      "Nous avons 5572 colonnes et 5 lignes dans ce jeu de données\n",
      "\n",
      "... Informations sur les colonnes et les types de données ...\n",
      "<class 'pandas.core.frame.DataFrame'>\n",
      "RangeIndex: 5572 entries, 0 to 5571\n",
      "Data columns (total 5 columns):\n",
      " #   Column      Non-Null Count  Dtype \n",
      "---  ------      --------------  ----- \n",
      " 0   v1          5572 non-null   object\n",
      " 1   v2          5572 non-null   object\n",
      " 2   Unnamed: 2  50 non-null     object\n",
      " 3   Unnamed: 3  12 non-null     object\n",
      " 4   Unnamed: 4  6 non-null      object\n",
      "dtypes: object(5)\n",
      "memory usage: 217.8+ KB\n",
      "\n",
      "... Statistiques descriptives sur les colonnes numériques ...\n"
     ]
    },
    {
     "data": {
      "text/html": [
       "<div>\n",
       "<style scoped>\n",
       "    .dataframe tbody tr th:only-of-type {\n",
       "        vertical-align: middle;\n",
       "    }\n",
       "\n",
       "    .dataframe tbody tr th {\n",
       "        vertical-align: top;\n",
       "    }\n",
       "\n",
       "    .dataframe thead th {\n",
       "        text-align: right;\n",
       "    }\n",
       "</style>\n",
       "<table border=\"1\" class=\"dataframe\">\n",
       "  <thead>\n",
       "    <tr style=\"text-align: right;\">\n",
       "      <th></th>\n",
       "      <th>v1</th>\n",
       "      <th>v2</th>\n",
       "      <th>Unnamed: 2</th>\n",
       "      <th>Unnamed: 3</th>\n",
       "      <th>Unnamed: 4</th>\n",
       "    </tr>\n",
       "  </thead>\n",
       "  <tbody>\n",
       "    <tr>\n",
       "      <th>count</th>\n",
       "      <td>5572</td>\n",
       "      <td>5572</td>\n",
       "      <td>50</td>\n",
       "      <td>12</td>\n",
       "      <td>6</td>\n",
       "    </tr>\n",
       "    <tr>\n",
       "      <th>unique</th>\n",
       "      <td>2</td>\n",
       "      <td>5169</td>\n",
       "      <td>43</td>\n",
       "      <td>10</td>\n",
       "      <td>5</td>\n",
       "    </tr>\n",
       "    <tr>\n",
       "      <th>top</th>\n",
       "      <td>ham</td>\n",
       "      <td>Sorry, I'll call later</td>\n",
       "      <td>bt not his girlfrnd... G o o d n i g h t . . .@\"</td>\n",
       "      <td>MK17 92H. 450Ppw 16\"</td>\n",
       "      <td>GNT:-)\"</td>\n",
       "    </tr>\n",
       "    <tr>\n",
       "      <th>freq</th>\n",
       "      <td>4825</td>\n",
       "      <td>30</td>\n",
       "      <td>3</td>\n",
       "      <td>2</td>\n",
       "      <td>2</td>\n",
       "    </tr>\n",
       "  </tbody>\n",
       "</table>\n",
       "</div>"
      ],
      "text/plain": [
       "          v1                      v2  \\\n",
       "count   5572                    5572   \n",
       "unique     2                    5169   \n",
       "top      ham  Sorry, I'll call later   \n",
       "freq    4825                      30   \n",
       "\n",
       "                                               Unnamed: 2  \\\n",
       "count                                                  50   \n",
       "unique                                                 43   \n",
       "top      bt not his girlfrnd... G o o d n i g h t . . .@\"   \n",
       "freq                                                    3   \n",
       "\n",
       "                   Unnamed: 3 Unnamed: 4  \n",
       "count                      12          6  \n",
       "unique                     10          5  \n",
       "top      MK17 92H. 450Ppw 16\"    GNT:-)\"  \n",
       "freq                        2          2  "
      ]
     },
     "metadata": {},
     "output_type": "display_data"
    },
    {
     "name": "stdout",
     "output_type": "stream",
     "text": [
      "\n",
      "... Valeurs manquantes ...\n",
      "            Nombre de Valeurs Manquantes  % Valeurs Manquantes\n",
      "v1                                     0                  0.00\n",
      "v2                                     0                  0.00\n",
      "Unnamed: 2                          5522                 99.10\n",
      "Unnamed: 3                          5560                 99.78\n",
      "Unnamed: 4                          5566                 99.89\n"
     ]
    }
   ],
   "source": [
    "print(f\"Nous avons {df.shape[0]} colonnes et {df.shape[1]} lignes dans ce jeu de données\")\n",
    "\n",
    "print(\"\\n... Informations sur les colonnes et les types de données ...\")\n",
    "df.info() \n",
    "\n",
    "print(\"\\n... Statistiques descriptives sur les colonnes numériques ...\")\n",
    "display(df.describe())\n",
    "\n",
    "print(\"\\n... Valeurs manquantes ...\")\n",
    "nb_valeurs_manquantes = df.isnull().sum()\n",
    "pourcentage_valeurs_manquantes = (df.isnull().mean() * 100).round(2)\n",
    "df_manquants = pd.DataFrame({\n",
    "    'Nombre de Valeurs Manquantes': nb_valeurs_manquantes,\n",
    "    '% Valeurs Manquantes': pourcentage_valeurs_manquantes\n",
    "})\n",
    "# Ne garder que les colonnes avec des valeurs manquantes\n",
    "df_manquants[df_manquants['Nombre de Valeurs Manquantes'] > 0].sort_values('Nombre de Valeurs Manquantes', ascending=False)\n",
    "print(df_manquants)"
   ]
  },
  {
   "cell_type": "markdown",
   "id": "45b204d0",
   "metadata": {},
   "source": [
    "### Prétraitement des données\n",
    "---"
   ]
  },
  {
   "cell_type": "code",
   "execution_count": 4,
   "id": "cb37028b",
   "metadata": {},
   "outputs": [
    {
     "name": "stdout",
     "output_type": "stream",
     "text": [
      "0                                                Go until jurong point, crazy.. Available only in bugis n great world la e buffet... Cine there got amore wat...\n",
      "1                                                                                                                                  Ok lar... Joking wif u oni...\n",
      "2    Free entry in 2 a wkly comp to win FA Cup final tkts 21st May 2005. Text FA to 87121 to receive entry question(std txt rate)T&C's apply 08452810075over18's\n",
      "3                                                                                                              U dun say so early hor... U c already then say...\n",
      "4                                                                                                  Nah I don't think he goes to usf, he lives around here though\n",
      "Name: Message, dtype: object\n",
      "... Visualisation Distribution des Messages ...\n"
     ]
    },
    {
     "data": {
      "application/vnd.plotly.v1+json": {
       "config": {
        "plotlyServerURL": "https://plot.ly"
       },
       "data": [
        {
         "bingroup": "x",
         "hovertemplate": "Label=ham<br>nbre_caractère=%{x}<br>count=%{y}<extra></extra>",
         "legendgroup": "ham",
         "marker": {
          "color": "#636efa",
          "opacity": 0.5,
          "pattern": {
           "shape": ""
          }
         },
         "name": "ham",
         "orientation": "v",
         "showlegend": true,
         "type": "histogram",
         "x": {
          "bdata": "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",
          "dtype": "i2"
         },
         "xaxis": "x",
         "yaxis": "y"
        },
        {
         "bingroup": "x",
         "hovertemplate": "Label=spam<br>nbre_caractère=%{x}<br>count=%{y}<extra></extra>",
         "legendgroup": "spam",
         "marker": {
          "color": "#EF553B",
          "opacity": 0.5,
          "pattern": {
           "shape": ""
          }
         },
         "name": "spam",
         "orientation": "v",
         "showlegend": true,
         "type": "histogram",
         "x": {
          "bdata": "mwCUAJ4AmgCIAJwAlQCcAJ8ArAB4AKEAmQChAFAAiwB9AJ8AmQCQAJ0AnAB+AKIAmwCfAHwAkgCYAJsAnQCVAEgAjwCJAJ0AkQCWAJoAeQCfAIUAmwCfAJIAigCGAJ0AgACfAG8AlgCUAKUAgQCdAJUAmwCeADEAawCfAKIAiQCdAKQArwChAJ8AkgCgAKoAlACSAFkAkQCgAG8AkgBgAKAARQBkAJUAfwCOAJQAVgCHAIwAggCWAI8AiABhADsAKgCaAJ4AbwCbAKAAJQCjAJMAZQCVAIQAZgBBAGAAoQCXAGMAgQCeAKAAmgCiAI8AlgCFAJwAoQCTAJgAlQCbAKIAmQCgAJAAoQCVAIYAmgCeAIkAhACPAH8AfQCiAJsAjACfAJUAhACJACkAnQCNAJUAlgCeAJwAZQBoAIcAmQCPAIYAnQBaAJkAkwCOAJ8ARgCcAJkAnABpAHgAngBzAIwAmwCfAJsAMQCTAJQAMgCPAJIAnwB7AFEAeACTAEIAowCbAIwAfgCbAGUAlwCaAJ8AjwCjAI8AmABHAI0AjgCfAJoAUQCZAJ8AoQCCAJoAegB5AJ0AnwCWAJwAkQCVAIgAkgCQAJkAhABHAJMAoQBbAKAAewCUAKAAngBJAK4AcgB+AJQAkQCKAOAAnwCbAI8AogAhAJoApACaAIQAnACXAKEAngCaAHUAVACbAIQAmwCZAKMAnACPAJ4AkQCOAKAAogCcAEoAhQBoAJkAgQCPAHgAngCbAJgAnwCiAJUAoQAeAJwAoQCQAJ8AmwCfAKEAoACqAIkAmgChAJMAngCYAJ8AoQCcAJ0AtQCgAJ0AmwCgAHoAIQCfADAAtwCgAJMAogCXAJ4AcgCnAKAAeABSAJUAogCeAJ4AbQChAJgAngCYAJ4AmAB6AKEAdACoAJYAngBkAGUAnABGAKAAmQCGAIMAmQCJAJwArQBtAJoAkwCCAKUAowCCAIgAngCZAJ4AGQCcAKAAdgCHAJoApgCeAJsAjQB8AHwAgwAhAJ4AoACJAJgAngCgAG8AnQCXADQAmACMAJoAowCLAIkAlAAwAGQAeACTAIcAnwBrAJMAegCGAG8ApABuAJgAmQCNAJMAeQCMAHAAjwCLAJwAkACRAKAAmABlAHIAnwCZAJQAnwCdAIgAjgCdAK0AMgCLAGkAnQCGACgAkgCMAE4AlgCgAFEAfwCZAJ0AiACdAJkAQACgAJ4AoQBqAIsAmQCZAGUAnQCUAIwAoQCcAJYAnQCYAKIAnQBEAIUAhgCRAJUAjwCbAJ0AcwCmAJ0AmACAAJwAlgCzAJ8AcgDFAJwADQCTAGUAbQCeAIkAnwBWAJsAnACeAJ8AeACiAKIAmACLAG0AawBgAJcAlwCZAHkAgACRAFYAngBmAHIAigCHAJIAoAASAD8AiQBfAI8AnwChAJUASQCfAJ8AlQAvAJwAnACfAJUAjQBqAHIAmgCUAIcApwCEAHoAjQCdAJgAkgCgAKEAkACaAHAAnQCQAJUAngCbAJQAnQBIAJ0AoACHAGkASgCdAJgAiACjAJ4ASgCbAFEAigCiAIYAoQCRAKMAfgCHAIUAkgCQAJwASACEAFMAiQChAJcALwBBAH0AngBJADMAoQCjAKAAjwCcAJQAcwCfAJgAfwCeAJ8AnACQAGwAiwCmAI8AmwCeAIgAmACgAJsAhACZAI8AmgBqAKAAmwCQAIsAWQCTAIgAngCZAEUAmACZAIcAiACfAF8AiQCTAJYAhACSAIYAtQCbAJkAnwB8AHgAiQCMAJkAoACJAIoAsQCpAJwAmgCSAIUAfgCVAIcAbQCfAJEAhACgAIkAhACeAJUAmQAvAJ8AnAAsAKQAogCcAKAAdwCOAJwAlgCXAKQAoACIAJIAnwCbAH8AkQCQAJwAmwCdAJ0AnABwAGoAnQCcAIsAWgCgACoAagCjAEYAcACdAJMAVQCcAI8AlQCRAKEAngCUAJkAhgBaAKAAoACTAKEA",
          "dtype": "i2"
         },
         "xaxis": "x",
         "yaxis": "y"
        }
       ],
       "layout": {
        "barmode": "overlay",
        "legend": {
         "title": {
          "text": "Label"
         },
         "tracegroupgap": 0
        },
        "template": {
         "data": {
          "bar": [
           {
            "error_x": {
             "color": "#2a3f5f"
            },
            "error_y": {
             "color": "#2a3f5f"
            },
            "marker": {
             "line": {
              "color": "#E5ECF6",
              "width": 0.5
             },
             "pattern": {
              "fillmode": "overlay",
              "size": 10,
              "solidity": 0.2
             }
            },
            "type": "bar"
           }
          ],
          "barpolar": [
           {
            "marker": {
             "line": {
              "color": "#E5ECF6",
              "width": 0.5
             },
             "pattern": {
              "fillmode": "overlay",
              "size": 10,
              "solidity": 0.2
             }
            },
            "type": "barpolar"
           }
          ],
          "carpet": [
           {
            "aaxis": {
             "endlinecolor": "#2a3f5f",
             "gridcolor": "white",
             "linecolor": "white",
             "minorgridcolor": "white",
             "startlinecolor": "#2a3f5f"
            },
            "baxis": {
             "endlinecolor": "#2a3f5f",
             "gridcolor": "white",
             "linecolor": "white",
             "minorgridcolor": "white",
             "startlinecolor": "#2a3f5f"
            },
            "type": "carpet"
           }
          ],
          "choropleth": [
           {
            "colorbar": {
             "outlinewidth": 0,
             "ticks": ""
            },
            "type": "choropleth"
           }
          ],
          "contour": [
           {
            "colorbar": {
             "outlinewidth": 0,
             "ticks": ""
            },
            "colorscale": [
             [
              0,
              "#0d0887"
             ],
             [
              0.1111111111111111,
              "#46039f"
             ],
             [
              0.2222222222222222,
              "#7201a8"
             ],
             [
              0.3333333333333333,
              "#9c179e"
             ],
             [
              0.4444444444444444,
              "#bd3786"
             ],
             [
              0.5555555555555556,
              "#d8576b"
             ],
             [
              0.6666666666666666,
              "#ed7953"
             ],
             [
              0.7777777777777778,
              "#fb9f3a"
             ],
             [
              0.8888888888888888,
              "#fdca26"
             ],
             [
              1,
              "#f0f921"
             ]
            ],
            "type": "contour"
           }
          ],
          "contourcarpet": [
           {
            "colorbar": {
             "outlinewidth": 0,
             "ticks": ""
            },
            "type": "contourcarpet"
           }
          ],
          "heatmap": [
           {
            "colorbar": {
             "outlinewidth": 0,
             "ticks": ""
            },
            "colorscale": [
             [
              0,
              "#0d0887"
             ],
             [
              0.1111111111111111,
              "#46039f"
             ],
             [
              0.2222222222222222,
              "#7201a8"
             ],
             [
              0.3333333333333333,
              "#9c179e"
             ],
             [
              0.4444444444444444,
              "#bd3786"
             ],
             [
              0.5555555555555556,
              "#d8576b"
             ],
             [
              0.6666666666666666,
              "#ed7953"
             ],
             [
              0.7777777777777778,
              "#fb9f3a"
             ],
             [
              0.8888888888888888,
              "#fdca26"
             ],
             [
              1,
              "#f0f921"
             ]
            ],
            "type": "heatmap"
           }
          ],
          "histogram": [
           {
            "marker": {
             "pattern": {
              "fillmode": "overlay",
              "size": 10,
              "solidity": 0.2
             }
            },
            "type": "histogram"
           }
          ],
          "histogram2d": [
           {
            "colorbar": {
             "outlinewidth": 0,
             "ticks": ""
            },
            "colorscale": [
             [
              0,
              "#0d0887"
             ],
             [
              0.1111111111111111,
              "#46039f"
             ],
             [
              0.2222222222222222,
              "#7201a8"
             ],
             [
              0.3333333333333333,
              "#9c179e"
             ],
             [
              0.4444444444444444,
              "#bd3786"
             ],
             [
              0.5555555555555556,
              "#d8576b"
             ],
             [
              0.6666666666666666,
              "#ed7953"
             ],
             [
              0.7777777777777778,
              "#fb9f3a"
             ],
             [
              0.8888888888888888,
              "#fdca26"
             ],
             [
              1,
              "#f0f921"
             ]
            ],
            "type": "histogram2d"
           }
          ],
          "histogram2dcontour": [
           {
            "colorbar": {
             "outlinewidth": 0,
             "ticks": ""
            },
            "colorscale": [
             [
              0,
              "#0d0887"
             ],
             [
              0.1111111111111111,
              "#46039f"
             ],
             [
              0.2222222222222222,
              "#7201a8"
             ],
             [
              0.3333333333333333,
              "#9c179e"
             ],
             [
              0.4444444444444444,
              "#bd3786"
             ],
             [
              0.5555555555555556,
              "#d8576b"
             ],
             [
              0.6666666666666666,
              "#ed7953"
             ],
             [
              0.7777777777777778,
              "#fb9f3a"
             ],
             [
              0.8888888888888888,
              "#fdca26"
             ],
             [
              1,
              "#f0f921"
             ]
            ],
            "type": "histogram2dcontour"
           }
          ],
          "mesh3d": [
           {
            "colorbar": {
             "outlinewidth": 0,
             "ticks": ""
            },
            "type": "mesh3d"
           }
          ],
          "parcoords": [
           {
            "line": {
             "colorbar": {
              "outlinewidth": 0,
              "ticks": ""
             }
            },
            "type": "parcoords"
           }
          ],
          "pie": [
           {
            "automargin": true,
            "type": "pie"
           }
          ],
          "scatter": [
           {
            "fillpattern": {
             "fillmode": "overlay",
             "size": 10,
             "solidity": 0.2
            },
            "type": "scatter"
           }
          ],
          "scatter3d": [
           {
            "line": {
             "colorbar": {
              "outlinewidth": 0,
              "ticks": ""
             }
            },
            "marker": {
             "colorbar": {
              "outlinewidth": 0,
              "ticks": ""
             }
            },
            "type": "scatter3d"
           }
          ],
          "scattercarpet": [
           {
            "marker": {
             "colorbar": {
              "outlinewidth": 0,
              "ticks": ""
             }
            },
            "type": "scattercarpet"
           }
          ],
          "scattergeo": [
           {
            "marker": {
             "colorbar": {
              "outlinewidth": 0,
              "ticks": ""
             }
            },
            "type": "scattergeo"
           }
          ],
          "scattergl": [
           {
            "marker": {
             "colorbar": {
              "outlinewidth": 0,
              "ticks": ""
             }
            },
            "type": "scattergl"
           }
          ],
          "scattermap": [
           {
            "marker": {
             "colorbar": {
              "outlinewidth": 0,
              "ticks": ""
             }
            },
            "type": "scattermap"
           }
          ],
          "scattermapbox": [
           {
            "marker": {
             "colorbar": {
              "outlinewidth": 0,
              "ticks": ""
             }
            },
            "type": "scattermapbox"
           }
          ],
          "scatterpolar": [
           {
            "marker": {
             "colorbar": {
              "outlinewidth": 0,
              "ticks": ""
             }
            },
            "type": "scatterpolar"
           }
          ],
          "scatterpolargl": [
           {
            "marker": {
             "colorbar": {
              "outlinewidth": 0,
              "ticks": ""
             }
            },
            "type": "scatterpolargl"
           }
          ],
          "scatterternary": [
           {
            "marker": {
             "colorbar": {
              "outlinewidth": 0,
              "ticks": ""
             }
            },
            "type": "scatterternary"
           }
          ],
          "surface": [
           {
            "colorbar": {
             "outlinewidth": 0,
             "ticks": ""
            },
            "colorscale": [
             [
              0,
              "#0d0887"
             ],
             [
              0.1111111111111111,
              "#46039f"
             ],
             [
              0.2222222222222222,
              "#7201a8"
             ],
             [
              0.3333333333333333,
              "#9c179e"
             ],
             [
              0.4444444444444444,
              "#bd3786"
             ],
             [
              0.5555555555555556,
              "#d8576b"
             ],
             [
              0.6666666666666666,
              "#ed7953"
             ],
             [
              0.7777777777777778,
              "#fb9f3a"
             ],
             [
              0.8888888888888888,
              "#fdca26"
             ],
             [
              1,
              "#f0f921"
             ]
            ],
            "type": "surface"
           }
          ],
          "table": [
           {
            "cells": {
             "fill": {
              "color": "#EBF0F8"
             },
             "line": {
              "color": "white"
             }
            },
            "header": {
             "fill": {
              "color": "#C8D4E3"
             },
             "line": {
              "color": "white"
             }
            },
            "type": "table"
           }
          ]
         },
         "layout": {
          "annotationdefaults": {
           "arrowcolor": "#2a3f5f",
           "arrowhead": 0,
           "arrowwidth": 1
          },
          "autotypenumbers": "strict",
          "coloraxis": {
           "colorbar": {
            "outlinewidth": 0,
            "ticks": ""
           }
          },
          "colorscale": {
           "diverging": [
            [
             0,
             "#8e0152"
            ],
            [
             0.1,
             "#c51b7d"
            ],
            [
             0.2,
             "#de77ae"
            ],
            [
             0.3,
             "#f1b6da"
            ],
            [
             0.4,
             "#fde0ef"
            ],
            [
             0.5,
             "#f7f7f7"
            ],
            [
             0.6,
             "#e6f5d0"
            ],
            [
             0.7,
             "#b8e186"
            ],
            [
             0.8,
             "#7fbc41"
            ],
            [
             0.9,
             "#4d9221"
            ],
            [
             1,
             "#276419"
            ]
           ],
           "sequential": [
            [
             0,
             "#0d0887"
            ],
            [
             0.1111111111111111,
             "#46039f"
            ],
            [
             0.2222222222222222,
             "#7201a8"
            ],
            [
             0.3333333333333333,
             "#9c179e"
            ],
            [
             0.4444444444444444,
             "#bd3786"
            ],
            [
             0.5555555555555556,
             "#d8576b"
            ],
            [
             0.6666666666666666,
             "#ed7953"
            ],
            [
             0.7777777777777778,
             "#fb9f3a"
            ],
            [
             0.8888888888888888,
             "#fdca26"
            ],
            [
             1,
             "#f0f921"
            ]
           ],
           "sequentialminus": [
            [
             0,
             "#0d0887"
            ],
            [
             0.1111111111111111,
             "#46039f"
            ],
            [
             0.2222222222222222,
             "#7201a8"
            ],
            [
             0.3333333333333333,
             "#9c179e"
            ],
            [
             0.4444444444444444,
             "#bd3786"
            ],
            [
             0.5555555555555556,
             "#d8576b"
            ],
            [
             0.6666666666666666,
             "#ed7953"
            ],
            [
             0.7777777777777778,
             "#fb9f3a"
            ],
            [
             0.8888888888888888,
             "#fdca26"
            ],
            [
             1,
             "#f0f921"
            ]
           ]
          },
          "colorway": [
           "#636efa",
           "#EF553B",
           "#00cc96",
           "#ab63fa",
           "#FFA15A",
           "#19d3f3",
           "#FF6692",
           "#B6E880",
           "#FF97FF",
           "#FECB52"
          ],
          "font": {
           "color": "#2a3f5f"
          },
          "geo": {
           "bgcolor": "white",
           "lakecolor": "white",
           "landcolor": "#E5ECF6",
           "showlakes": true,
           "showland": true,
           "subunitcolor": "white"
          },
          "hoverlabel": {
           "align": "left"
          },
          "hovermode": "closest",
          "mapbox": {
           "style": "light"
          },
          "paper_bgcolor": "white",
          "plot_bgcolor": "#E5ECF6",
          "polar": {
           "angularaxis": {
            "gridcolor": "white",
            "linecolor": "white",
            "ticks": ""
           },
           "bgcolor": "#E5ECF6",
           "radialaxis": {
            "gridcolor": "white",
            "linecolor": "white",
            "ticks": ""
           }
          },
          "scene": {
           "xaxis": {
            "backgroundcolor": "#E5ECF6",
            "gridcolor": "white",
            "gridwidth": 2,
            "linecolor": "white",
            "showbackground": true,
            "ticks": "",
            "zerolinecolor": "white"
           },
           "yaxis": {
            "backgroundcolor": "#E5ECF6",
            "gridcolor": "white",
            "gridwidth": 2,
            "linecolor": "white",
            "showbackground": true,
            "ticks": "",
            "zerolinecolor": "white"
           },
           "zaxis": {
            "backgroundcolor": "#E5ECF6",
            "gridcolor": "white",
            "gridwidth": 2,
            "linecolor": "white",
            "showbackground": true,
            "ticks": "",
            "zerolinecolor": "white"
           }
          },
          "shapedefaults": {
           "line": {
            "color": "#2a3f5f"
           }
          },
          "ternary": {
           "aaxis": {
            "gridcolor": "white",
            "linecolor": "white",
            "ticks": ""
           },
           "baxis": {
            "gridcolor": "white",
            "linecolor": "white",
            "ticks": ""
           },
           "bgcolor": "#E5ECF6",
           "caxis": {
            "gridcolor": "white",
            "linecolor": "white",
            "ticks": ""
           }
          },
          "title": {
           "x": 0.05
          },
          "xaxis": {
           "automargin": true,
           "gridcolor": "white",
           "linecolor": "white",
           "ticks": "",
           "title": {
            "standoff": 15
           },
           "zerolinecolor": "white",
           "zerolinewidth": 2
          },
          "yaxis": {
           "automargin": true,
           "gridcolor": "white",
           "linecolor": "white",
           "ticks": "",
           "title": {
            "standoff": 15
           },
           "zerolinecolor": "white",
           "zerolinewidth": 2
          }
         }
        },
        "title": {
         "text": "Distribution du nombre de caractères par type de message"
        },
        "xaxis": {
         "anchor": "y",
         "domain": [
          0,
          1
         ],
         "title": {
          "text": "nbre_caractère"
         }
        },
        "yaxis": {
         "anchor": "x",
         "domain": [
          0,
          1
         ],
         "title": {
          "text": "count"
         }
        }
       }
      }
     },
     "metadata": {},
     "output_type": "display_data"
    },
    {
     "name": "stdout",
     "output_type": "stream",
     "text": [
      "Les spams sont plus longs, les messages ont moins de caractérent que les spam\n",
      "Label\n",
      "ham     4825\n",
      "spam     747\n",
      "Name: count, dtype: int64\n",
      "... Visualisation Répartition Label ...\n"
     ]
    },
    {
     "data": {
      "application/vnd.plotly.v1+json": {
       "config": {
        "plotlyServerURL": "https://plot.ly"
       },
       "data": [
        {
         "domain": {
          "x": [
           0,
           1
          ],
          "y": [
           0,
           1
          ]
         },
         "hovertemplate": "Label=%{label}<br>Nombre=%{value}<extra></extra>",
         "labels": [
          "ham",
          "spam"
         ],
         "legendgroup": "",
         "name": "",
         "showlegend": true,
         "textinfo": "label+percent",
         "textposition": "inside",
         "type": "pie",
         "values": {
          "bdata": "2RLrAg==",
          "dtype": "i2"
         }
        }
       ],
       "layout": {
        "legend": {
         "tracegroupgap": 0
        },
        "template": {
         "data": {
          "bar": [
           {
            "error_x": {
             "color": "#2a3f5f"
            },
            "error_y": {
             "color": "#2a3f5f"
            },
            "marker": {
             "line": {
              "color": "#E5ECF6",
              "width": 0.5
             },
             "pattern": {
              "fillmode": "overlay",
              "size": 10,
              "solidity": 0.2
             }
            },
            "type": "bar"
           }
          ],
          "barpolar": [
           {
            "marker": {
             "line": {
              "color": "#E5ECF6",
              "width": 0.5
             },
             "pattern": {
              "fillmode": "overlay",
              "size": 10,
              "solidity": 0.2
             }
            },
            "type": "barpolar"
           }
          ],
          "carpet": [
           {
            "aaxis": {
             "endlinecolor": "#2a3f5f",
             "gridcolor": "white",
             "linecolor": "white",
             "minorgridcolor": "white",
             "startlinecolor": "#2a3f5f"
            },
            "baxis": {
             "endlinecolor": "#2a3f5f",
             "gridcolor": "white",
             "linecolor": "white",
             "minorgridcolor": "white",
             "startlinecolor": "#2a3f5f"
            },
            "type": "carpet"
           }
          ],
          "choropleth": [
           {
            "colorbar": {
             "outlinewidth": 0,
             "ticks": ""
            },
            "type": "choropleth"
           }
          ],
          "contour": [
           {
            "colorbar": {
             "outlinewidth": 0,
             "ticks": ""
            },
            "colorscale": [
             [
              0,
              "#0d0887"
             ],
             [
              0.1111111111111111,
              "#46039f"
             ],
             [
              0.2222222222222222,
              "#7201a8"
             ],
             [
              0.3333333333333333,
              "#9c179e"
             ],
             [
              0.4444444444444444,
              "#bd3786"
             ],
             [
              0.5555555555555556,
              "#d8576b"
             ],
             [
              0.6666666666666666,
              "#ed7953"
             ],
             [
              0.7777777777777778,
              "#fb9f3a"
             ],
             [
              0.8888888888888888,
              "#fdca26"
             ],
             [
              1,
              "#f0f921"
             ]
            ],
            "type": "contour"
           }
          ],
          "contourcarpet": [
           {
            "colorbar": {
             "outlinewidth": 0,
             "ticks": ""
            },
            "type": "contourcarpet"
           }
          ],
          "heatmap": [
           {
            "colorbar": {
             "outlinewidth": 0,
             "ticks": ""
            },
            "colorscale": [
             [
              0,
              "#0d0887"
             ],
             [
              0.1111111111111111,
              "#46039f"
             ],
             [
              0.2222222222222222,
              "#7201a8"
             ],
             [
              0.3333333333333333,
              "#9c179e"
             ],
             [
              0.4444444444444444,
              "#bd3786"
             ],
             [
              0.5555555555555556,
              "#d8576b"
             ],
             [
              0.6666666666666666,
              "#ed7953"
             ],
             [
              0.7777777777777778,
              "#fb9f3a"
             ],
             [
              0.8888888888888888,
              "#fdca26"
             ],
             [
              1,
              "#f0f921"
             ]
            ],
            "type": "heatmap"
           }
          ],
          "histogram": [
           {
            "marker": {
             "pattern": {
              "fillmode": "overlay",
              "size": 10,
              "solidity": 0.2
             }
            },
            "type": "histogram"
           }
          ],
          "histogram2d": [
           {
            "colorbar": {
             "outlinewidth": 0,
             "ticks": ""
            },
            "colorscale": [
             [
              0,
              "#0d0887"
             ],
             [
              0.1111111111111111,
              "#46039f"
             ],
             [
              0.2222222222222222,
              "#7201a8"
             ],
             [
              0.3333333333333333,
              "#9c179e"
             ],
             [
              0.4444444444444444,
              "#bd3786"
             ],
             [
              0.5555555555555556,
              "#d8576b"
             ],
             [
              0.6666666666666666,
              "#ed7953"
             ],
             [
              0.7777777777777778,
              "#fb9f3a"
             ],
             [
              0.8888888888888888,
              "#fdca26"
             ],
             [
              1,
              "#f0f921"
             ]
            ],
            "type": "histogram2d"
           }
          ],
          "histogram2dcontour": [
           {
            "colorbar": {
             "outlinewidth": 0,
             "ticks": ""
            },
            "colorscale": [
             [
              0,
              "#0d0887"
             ],
             [
              0.1111111111111111,
              "#46039f"
             ],
             [
              0.2222222222222222,
              "#7201a8"
             ],
             [
              0.3333333333333333,
              "#9c179e"
             ],
             [
              0.4444444444444444,
              "#bd3786"
             ],
             [
              0.5555555555555556,
              "#d8576b"
             ],
             [
              0.6666666666666666,
              "#ed7953"
             ],
             [
              0.7777777777777778,
              "#fb9f3a"
             ],
             [
              0.8888888888888888,
              "#fdca26"
             ],
             [
              1,
              "#f0f921"
             ]
            ],
            "type": "histogram2dcontour"
           }
          ],
          "mesh3d": [
           {
            "colorbar": {
             "outlinewidth": 0,
             "ticks": ""
            },
            "type": "mesh3d"
           }
          ],
          "parcoords": [
           {
            "line": {
             "colorbar": {
              "outlinewidth": 0,
              "ticks": ""
             }
            },
            "type": "parcoords"
           }
          ],
          "pie": [
           {
            "automargin": true,
            "type": "pie"
           }
          ],
          "scatter": [
           {
            "fillpattern": {
             "fillmode": "overlay",
             "size": 10,
             "solidity": 0.2
            },
            "type": "scatter"
           }
          ],
          "scatter3d": [
           {
            "line": {
             "colorbar": {
              "outlinewidth": 0,
              "ticks": ""
             }
            },
            "marker": {
             "colorbar": {
              "outlinewidth": 0,
              "ticks": ""
             }
            },
            "type": "scatter3d"
           }
          ],
          "scattercarpet": [
           {
            "marker": {
             "colorbar": {
              "outlinewidth": 0,
              "ticks": ""
             }
            },
            "type": "scattercarpet"
           }
          ],
          "scattergeo": [
           {
            "marker": {
             "colorbar": {
              "outlinewidth": 0,
              "ticks": ""
             }
            },
            "type": "scattergeo"
           }
          ],
          "scattergl": [
           {
            "marker": {
             "colorbar": {
              "outlinewidth": 0,
              "ticks": ""
             }
            },
            "type": "scattergl"
           }
          ],
          "scattermap": [
           {
            "marker": {
             "colorbar": {
              "outlinewidth": 0,
              "ticks": ""
             }
            },
            "type": "scattermap"
           }
          ],
          "scattermapbox": [
           {
            "marker": {
             "colorbar": {
              "outlinewidth": 0,
              "ticks": ""
             }
            },
            "type": "scattermapbox"
           }
          ],
          "scatterpolar": [
           {
            "marker": {
             "colorbar": {
              "outlinewidth": 0,
              "ticks": ""
             }
            },
            "type": "scatterpolar"
           }
          ],
          "scatterpolargl": [
           {
            "marker": {
             "colorbar": {
              "outlinewidth": 0,
              "ticks": ""
             }
            },
            "type": "scatterpolargl"
           }
          ],
          "scatterternary": [
           {
            "marker": {
             "colorbar": {
              "outlinewidth": 0,
              "ticks": ""
             }
            },
            "type": "scatterternary"
           }
          ],
          "surface": [
           {
            "colorbar": {
             "outlinewidth": 0,
             "ticks": ""
            },
            "colorscale": [
             [
              0,
              "#0d0887"
             ],
             [
              0.1111111111111111,
              "#46039f"
             ],
             [
              0.2222222222222222,
              "#7201a8"
             ],
             [
              0.3333333333333333,
              "#9c179e"
             ],
             [
              0.4444444444444444,
              "#bd3786"
             ],
             [
              0.5555555555555556,
              "#d8576b"
             ],
             [
              0.6666666666666666,
              "#ed7953"
             ],
             [
              0.7777777777777778,
              "#fb9f3a"
             ],
             [
              0.8888888888888888,
              "#fdca26"
             ],
             [
              1,
              "#f0f921"
             ]
            ],
            "type": "surface"
           }
          ],
          "table": [
           {
            "cells": {
             "fill": {
              "color": "#EBF0F8"
             },
             "line": {
              "color": "white"
             }
            },
            "header": {
             "fill": {
              "color": "#C8D4E3"
             },
             "line": {
              "color": "white"
             }
            },
            "type": "table"
           }
          ]
         },
         "layout": {
          "annotationdefaults": {
           "arrowcolor": "#2a3f5f",
           "arrowhead": 0,
           "arrowwidth": 1
          },
          "autotypenumbers": "strict",
          "coloraxis": {
           "colorbar": {
            "outlinewidth": 0,
            "ticks": ""
           }
          },
          "colorscale": {
           "diverging": [
            [
             0,
             "#8e0152"
            ],
            [
             0.1,
             "#c51b7d"
            ],
            [
             0.2,
             "#de77ae"
            ],
            [
             0.3,
             "#f1b6da"
            ],
            [
             0.4,
             "#fde0ef"
            ],
            [
             0.5,
             "#f7f7f7"
            ],
            [
             0.6,
             "#e6f5d0"
            ],
            [
             0.7,
             "#b8e186"
            ],
            [
             0.8,
             "#7fbc41"
            ],
            [
             0.9,
             "#4d9221"
            ],
            [
             1,
             "#276419"
            ]
           ],
           "sequential": [
            [
             0,
             "#0d0887"
            ],
            [
             0.1111111111111111,
             "#46039f"
            ],
            [
             0.2222222222222222,
             "#7201a8"
            ],
            [
             0.3333333333333333,
             "#9c179e"
            ],
            [
             0.4444444444444444,
             "#bd3786"
            ],
            [
             0.5555555555555556,
             "#d8576b"
            ],
            [
             0.6666666666666666,
             "#ed7953"
            ],
            [
             0.7777777777777778,
             "#fb9f3a"
            ],
            [
             0.8888888888888888,
             "#fdca26"
            ],
            [
             1,
             "#f0f921"
            ]
           ],
           "sequentialminus": [
            [
             0,
             "#0d0887"
            ],
            [
             0.1111111111111111,
             "#46039f"
            ],
            [
             0.2222222222222222,
             "#7201a8"
            ],
            [
             0.3333333333333333,
             "#9c179e"
            ],
            [
             0.4444444444444444,
             "#bd3786"
            ],
            [
             0.5555555555555556,
             "#d8576b"
            ],
            [
             0.6666666666666666,
             "#ed7953"
            ],
            [
             0.7777777777777778,
             "#fb9f3a"
            ],
            [
             0.8888888888888888,
             "#fdca26"
            ],
            [
             1,
             "#f0f921"
            ]
           ]
          },
          "colorway": [
           "#636efa",
           "#EF553B",
           "#00cc96",
           "#ab63fa",
           "#FFA15A",
           "#19d3f3",
           "#FF6692",
           "#B6E880",
           "#FF97FF",
           "#FECB52"
          ],
          "font": {
           "color": "#2a3f5f"
          },
          "geo": {
           "bgcolor": "white",
           "lakecolor": "white",
           "landcolor": "#E5ECF6",
           "showlakes": true,
           "showland": true,
           "subunitcolor": "white"
          },
          "hoverlabel": {
           "align": "left"
          },
          "hovermode": "closest",
          "mapbox": {
           "style": "light"
          },
          "paper_bgcolor": "white",
          "plot_bgcolor": "#E5ECF6",
          "polar": {
           "angularaxis": {
            "gridcolor": "white",
            "linecolor": "white",
            "ticks": ""
           },
           "bgcolor": "#E5ECF6",
           "radialaxis": {
            "gridcolor": "white",
            "linecolor": "white",
            "ticks": ""
           }
          },
          "scene": {
           "xaxis": {
            "backgroundcolor": "#E5ECF6",
            "gridcolor": "white",
            "gridwidth": 2,
            "linecolor": "white",
            "showbackground": true,
            "ticks": "",
            "zerolinecolor": "white"
           },
           "yaxis": {
            "backgroundcolor": "#E5ECF6",
            "gridcolor": "white",
            "gridwidth": 2,
            "linecolor": "white",
            "showbackground": true,
            "ticks": "",
            "zerolinecolor": "white"
           },
           "zaxis": {
            "backgroundcolor": "#E5ECF6",
            "gridcolor": "white",
            "gridwidth": 2,
            "linecolor": "white",
            "showbackground": true,
            "ticks": "",
            "zerolinecolor": "white"
           }
          },
          "shapedefaults": {
           "line": {
            "color": "#2a3f5f"
           }
          },
          "ternary": {
           "aaxis": {
            "gridcolor": "white",
            "linecolor": "white",
            "ticks": ""
           },
           "baxis": {
            "gridcolor": "white",
            "linecolor": "white",
            "ticks": ""
           },
           "bgcolor": "#E5ECF6",
           "caxis": {
            "gridcolor": "white",
            "linecolor": "white",
            "ticks": ""
           }
          },
          "title": {
           "x": 0.05
          },
          "xaxis": {
           "automargin": true,
           "gridcolor": "white",
           "linecolor": "white",
           "ticks": "",
           "title": {
            "standoff": 15
           },
           "zerolinecolor": "white",
           "zerolinewidth": 2
          },
          "yaxis": {
           "automargin": true,
           "gridcolor": "white",
           "linecolor": "white",
           "ticks": "",
           "title": {
            "standoff": 15
           },
           "zerolinecolor": "white",
           "zerolinewidth": 2
          }
         }
        },
        "title": {
         "text": "Répartition Message et Spam"
        }
       }
      }
     },
     "metadata": {},
     "output_type": "display_data"
    },
    {
     "name": "stdout",
     "output_type": "stream",
     "text": [
      "La répartition des classes est déséquilibrée : 87 % pour les message et 13 % pour les spam\n"
     ]
    },
    {
     "data": {
      "text/html": [
       "<div>\n",
       "<style scoped>\n",
       "    .dataframe tbody tr th:only-of-type {\n",
       "        vertical-align: middle;\n",
       "    }\n",
       "\n",
       "    .dataframe tbody tr th {\n",
       "        vertical-align: top;\n",
       "    }\n",
       "\n",
       "    .dataframe thead th {\n",
       "        text-align: right;\n",
       "    }\n",
       "</style>\n",
       "<table border=\"1\" class=\"dataframe\">\n",
       "  <thead>\n",
       "    <tr style=\"text-align: right;\">\n",
       "      <th></th>\n",
       "      <th>Label</th>\n",
       "      <th>Message</th>\n",
       "      <th>nbre_caractère</th>\n",
       "    </tr>\n",
       "  </thead>\n",
       "  <tbody>\n",
       "    <tr>\n",
       "      <th>0</th>\n",
       "      <td>0</td>\n",
       "      <td>Go until jurong point, crazy.. Available only in bugis n great world la e buffet... Cine there got amore wat...</td>\n",
       "      <td>111</td>\n",
       "    </tr>\n",
       "    <tr>\n",
       "      <th>1</th>\n",
       "      <td>0</td>\n",
       "      <td>Ok lar... Joking wif u oni...</td>\n",
       "      <td>29</td>\n",
       "    </tr>\n",
       "    <tr>\n",
       "      <th>2</th>\n",
       "      <td>1</td>\n",
       "      <td>Free entry in 2 a wkly comp to win FA Cup final tkts 21st May 2005. Text FA to 87121 to receive entry question(std txt rate)T&amp;C's apply 08452810075over18's</td>\n",
       "      <td>155</td>\n",
       "    </tr>\n",
       "    <tr>\n",
       "      <th>3</th>\n",
       "      <td>0</td>\n",
       "      <td>U dun say so early hor... U c already then say...</td>\n",
       "      <td>49</td>\n",
       "    </tr>\n",
       "    <tr>\n",
       "      <th>4</th>\n",
       "      <td>0</td>\n",
       "      <td>Nah I don't think he goes to usf, he lives around here though</td>\n",
       "      <td>61</td>\n",
       "    </tr>\n",
       "  </tbody>\n",
       "</table>\n",
       "</div>"
      ],
      "text/plain": [
       "   Label  \\\n",
       "0      0   \n",
       "1      0   \n",
       "2      1   \n",
       "3      0   \n",
       "4      0   \n",
       "\n",
       "                                                                                                                                                       Message  \\\n",
       "0                                              Go until jurong point, crazy.. Available only in bugis n great world la e buffet... Cine there got amore wat...   \n",
       "1                                                                                                                                Ok lar... Joking wif u oni...   \n",
       "2  Free entry in 2 a wkly comp to win FA Cup final tkts 21st May 2005. Text FA to 87121 to receive entry question(std txt rate)T&C's apply 08452810075over18's   \n",
       "3                                                                                                            U dun say so early hor... U c already then say...   \n",
       "4                                                                                                Nah I don't think he goes to usf, he lives around here though   \n",
       "\n",
       "   nbre_caractère  \n",
       "0             111  \n",
       "1              29  \n",
       "2             155  \n",
       "3              49  \n",
       "4              61  "
      ]
     },
     "execution_count": 4,
     "metadata": {},
     "output_type": "execute_result"
    }
   ],
   "source": [
    "# Traitement des valeurs manquantes : supression col unnamed 2 - 3 et 4 avec plus de 99 % de valeurs manquantes\n",
    "df.drop(['Unnamed: 2', 'Unnamed: 3', 'Unnamed: 4'], axis=1, inplace=True)\n",
    "\n",
    "# Renommer les colonnes\n",
    "df.columns = [\"Label\", \"Message\"]\n",
    "\n",
    "# ANALYSE des messages\n",
    "# Visualisation des messages\n",
    "pd.set_option('display.max_colwidth', None) # Configurer pandas pour afficher toute la largeur\n",
    "print(df['Message'].head())\n",
    "\n",
    "# Calcul du nombre de caractères par message\n",
    "df['nbre_caractère'] = df['Message'].apply(len)\n",
    "\n",
    "print(\"... Visualisation Distribution des Messages ...\")\n",
    "fig = px.histogram(\n",
    "    df,\n",
    "    x='nbre_caractère',\n",
    "    color='Label',  \n",
    "    title=\"Distribution du nombre de caractères par type de message\",\n",
    "    barmode='overlay')\n",
    "fig.show()\n",
    "print(\"Les spams sont plus longs, les messages ont moins de caractérent que les spam\")\n",
    "\n",
    "# ANALYSE col 'Label'\n",
    "valeurs_uniques = df['Label'].value_counts()\n",
    "valeurs_uniques.columns = ['label', 'nombre']\n",
    "print(valeurs_uniques)\n",
    "\n",
    "print(\"... Visualisation Répartition Label ...\")\n",
    "valeur_unique = df['Label'].value_counts().reset_index()\n",
    "valeur_unique.columns = ['Label', 'Nombre']\n",
    "fig = px.pie(valeur_unique, \n",
    "             values='Nombre', \n",
    "             names='Label', \n",
    "             title='Répartition Message et Spam')\n",
    "fig.update_traces(textposition='inside', textinfo='label+percent')\n",
    "fig.show()\n",
    "print(\"La répartition des classes est déséquilibrée : 87 % pour les message et 13 % pour les spam\")\n",
    "\n",
    "# retraitement col 'Label' en boolean\n",
    "df['Label']=df[\"Label\"].map({\"ham\": 0, \"spam\": 1})\n",
    "\n",
    "df.head()"
   ]
  },
  {
   "cell_type": "code",
   "execution_count": 5,
   "id": "977c5902",
   "metadata": {},
   "outputs": [],
   "source": [
    "# Sauvegarde du fichier \n",
    "df.to_csv(\"data/spam_clean.csv\", index=False)"
   ]
  }
 ],
 "metadata": {
  "kernelspec": {
   "display_name": "pytorch_deep",
   "language": "python",
   "name": "python3"
  },
  "language_info": {
   "codemirror_mode": {
    "name": "ipython",
    "version": 3
   },
   "file_extension": ".py",
   "mimetype": "text/x-python",
   "name": "python",
   "nbconvert_exporter": "python",
   "pygments_lexer": "ipython3",
   "version": "3.11.11"
  }
 },
 "nbformat": 4,
 "nbformat_minor": 5
}
