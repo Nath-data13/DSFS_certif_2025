{
 "cells": [
  {
   "cell_type": "code",
   "execution_count": 1,
   "id": "b708f14b",
   "metadata": {},
   "outputs": [],
   "source": [
    "import pandas as pd\n",
    "import numpy as np\n",
    "import matplotlib.pyplot as plt\n",
    "import seaborn as sns\n",
    "import plotly.express as px\n",
    "from sklearn.model_selection import train_test_split"
   ]
  },
  {
   "cell_type": "markdown",
   "id": "39417ad4",
   "metadata": {},
   "source": [
    "###  Chargement des données\n",
    "---"
   ]
  },
  {
   "cell_type": "code",
   "execution_count": 2,
   "id": "7c613acc",
   "metadata": {},
   "outputs": [
    {
     "data": {
      "text/html": [
       "<div>\n",
       "<style scoped>\n",
       "    .dataframe tbody tr th:only-of-type {\n",
       "        vertical-align: middle;\n",
       "    }\n",
       "\n",
       "    .dataframe tbody tr th {\n",
       "        vertical-align: top;\n",
       "    }\n",
       "\n",
       "    .dataframe thead th {\n",
       "        text-align: right;\n",
       "    }\n",
       "</style>\n",
       "<table border=\"1\" class=\"dataframe\">\n",
       "  <thead>\n",
       "    <tr style=\"text-align: right;\">\n",
       "      <th></th>\n",
       "      <th>Unnamed: 0</th>\n",
       "      <th>model_key</th>\n",
       "      <th>mileage</th>\n",
       "      <th>engine_power</th>\n",
       "      <th>fuel</th>\n",
       "      <th>paint_color</th>\n",
       "      <th>car_type</th>\n",
       "      <th>private_parking_available</th>\n",
       "      <th>has_gps</th>\n",
       "      <th>has_air_conditioning</th>\n",
       "      <th>automatic_car</th>\n",
       "      <th>has_getaround_connect</th>\n",
       "      <th>has_speed_regulator</th>\n",
       "      <th>winter_tires</th>\n",
       "      <th>rental_price_per_day</th>\n",
       "    </tr>\n",
       "  </thead>\n",
       "  <tbody>\n",
       "    <tr>\n",
       "      <th>0</th>\n",
       "      <td>0</td>\n",
       "      <td>Citroën</td>\n",
       "      <td>140411</td>\n",
       "      <td>100</td>\n",
       "      <td>diesel</td>\n",
       "      <td>black</td>\n",
       "      <td>convertible</td>\n",
       "      <td>True</td>\n",
       "      <td>True</td>\n",
       "      <td>False</td>\n",
       "      <td>False</td>\n",
       "      <td>True</td>\n",
       "      <td>True</td>\n",
       "      <td>True</td>\n",
       "      <td>106</td>\n",
       "    </tr>\n",
       "    <tr>\n",
       "      <th>1</th>\n",
       "      <td>1</td>\n",
       "      <td>Citroën</td>\n",
       "      <td>13929</td>\n",
       "      <td>317</td>\n",
       "      <td>petrol</td>\n",
       "      <td>grey</td>\n",
       "      <td>convertible</td>\n",
       "      <td>True</td>\n",
       "      <td>True</td>\n",
       "      <td>False</td>\n",
       "      <td>False</td>\n",
       "      <td>False</td>\n",
       "      <td>True</td>\n",
       "      <td>True</td>\n",
       "      <td>264</td>\n",
       "    </tr>\n",
       "    <tr>\n",
       "      <th>2</th>\n",
       "      <td>2</td>\n",
       "      <td>Citroën</td>\n",
       "      <td>183297</td>\n",
       "      <td>120</td>\n",
       "      <td>diesel</td>\n",
       "      <td>white</td>\n",
       "      <td>convertible</td>\n",
       "      <td>False</td>\n",
       "      <td>False</td>\n",
       "      <td>False</td>\n",
       "      <td>False</td>\n",
       "      <td>True</td>\n",
       "      <td>False</td>\n",
       "      <td>True</td>\n",
       "      <td>101</td>\n",
       "    </tr>\n",
       "    <tr>\n",
       "      <th>3</th>\n",
       "      <td>3</td>\n",
       "      <td>Citroën</td>\n",
       "      <td>128035</td>\n",
       "      <td>135</td>\n",
       "      <td>diesel</td>\n",
       "      <td>red</td>\n",
       "      <td>convertible</td>\n",
       "      <td>True</td>\n",
       "      <td>True</td>\n",
       "      <td>False</td>\n",
       "      <td>False</td>\n",
       "      <td>True</td>\n",
       "      <td>True</td>\n",
       "      <td>True</td>\n",
       "      <td>158</td>\n",
       "    </tr>\n",
       "    <tr>\n",
       "      <th>4</th>\n",
       "      <td>4</td>\n",
       "      <td>Citroën</td>\n",
       "      <td>97097</td>\n",
       "      <td>160</td>\n",
       "      <td>diesel</td>\n",
       "      <td>silver</td>\n",
       "      <td>convertible</td>\n",
       "      <td>True</td>\n",
       "      <td>True</td>\n",
       "      <td>False</td>\n",
       "      <td>False</td>\n",
       "      <td>False</td>\n",
       "      <td>True</td>\n",
       "      <td>True</td>\n",
       "      <td>183</td>\n",
       "    </tr>\n",
       "  </tbody>\n",
       "</table>\n",
       "</div>"
      ],
      "text/plain": [
       "   Unnamed: 0 model_key  mileage  engine_power    fuel paint_color  \\\n",
       "0           0   Citroën   140411           100  diesel       black   \n",
       "1           1   Citroën    13929           317  petrol        grey   \n",
       "2           2   Citroën   183297           120  diesel       white   \n",
       "3           3   Citroën   128035           135  diesel         red   \n",
       "4           4   Citroën    97097           160  diesel      silver   \n",
       "\n",
       "      car_type  private_parking_available  has_gps  has_air_conditioning  \\\n",
       "0  convertible                       True     True                 False   \n",
       "1  convertible                       True     True                 False   \n",
       "2  convertible                      False    False                 False   \n",
       "3  convertible                       True     True                 False   \n",
       "4  convertible                       True     True                 False   \n",
       "\n",
       "   automatic_car  has_getaround_connect  has_speed_regulator  winter_tires  \\\n",
       "0          False                   True                 True          True   \n",
       "1          False                  False                 True          True   \n",
       "2          False                   True                False          True   \n",
       "3          False                   True                 True          True   \n",
       "4          False                  False                 True          True   \n",
       "\n",
       "   rental_price_per_day  \n",
       "0                   106  \n",
       "1                   264  \n",
       "2                   101  \n",
       "3                   158  \n",
       "4                   183  "
      ]
     },
     "execution_count": 2,
     "metadata": {},
     "output_type": "execute_result"
    }
   ],
   "source": [
    "df = pd.read_csv('data/get_around_pricing_project.csv', encoding='utf-8')\n",
    "df.head()"
   ]
  },
  {
   "cell_type": "markdown",
   "id": "2a2ce1dd",
   "metadata": {},
   "source": [
    "### L'EDA Analyse exploratoire des données Basique\n",
    "---"
   ]
  },
  {
   "cell_type": "markdown",
   "id": "e1df9edc",
   "metadata": {},
   "source": [
    "-Unnamed: 0 → Index<br>\n",
    "-model_key → Clé du modèle<br>\n",
    "-mileage → Kilométrage<br>\n",
    "-engine_power → Puissance du moteur<br>\n",
    "-fuel → Carburant<br>\n",
    "-paint_color → Couleur de la peinture<br>\n",
    "-car_type → Type de voiture<br>\n",
    "-private_parking_available → Parking privé disponible<br>\n",
    "-has_gps → A GPS<br>\n",
    "-has_air_conditioning → A climatisation<br>\n",
    "-automatic_car → Voiture automatique<br>\n",
    "-has_getaround_connect → A Getaround Connect<br>\n",
    "-has_speed_regulator → A régulateur de vitesse<br>\n",
    "-winter_tires → Pneus hiver<br>\n",
    "-rental_price_per_day → Prix de location par jour<br>"
   ]
  },
  {
   "cell_type": "code",
   "execution_count": 3,
   "id": "41d093f1",
   "metadata": {},
   "outputs": [
    {
     "name": "stdout",
     "output_type": "stream",
     "text": [
      "Nous avons 15 colonnes et 4843 lignes dans ce jeu de données\n",
      "\n",
      "... Informations sur les colonnes et les types de données ...\n",
      "<class 'pandas.core.frame.DataFrame'>\n",
      "RangeIndex: 4843 entries, 0 to 4842\n",
      "Data columns (total 15 columns):\n",
      " #   Column                     Non-Null Count  Dtype \n",
      "---  ------                     --------------  ----- \n",
      " 0   Unnamed: 0                 4843 non-null   int64 \n",
      " 1   model_key                  4843 non-null   object\n",
      " 2   mileage                    4843 non-null   int64 \n",
      " 3   engine_power               4843 non-null   int64 \n",
      " 4   fuel                       4843 non-null   object\n",
      " 5   paint_color                4843 non-null   object\n",
      " 6   car_type                   4843 non-null   object\n",
      " 7   private_parking_available  4843 non-null   bool  \n",
      " 8   has_gps                    4843 non-null   bool  \n",
      " 9   has_air_conditioning       4843 non-null   bool  \n",
      " 10  automatic_car              4843 non-null   bool  \n",
      " 11  has_getaround_connect      4843 non-null   bool  \n",
      " 12  has_speed_regulator        4843 non-null   bool  \n",
      " 13  winter_tires               4843 non-null   bool  \n",
      " 14  rental_price_per_day       4843 non-null   int64 \n",
      "dtypes: bool(7), int64(4), object(4)\n",
      "memory usage: 335.9+ KB\n",
      "\n",
      "... Statistiques descriptives sur les colonnes numériques ...\n"
     ]
    },
    {
     "data": {
      "text/html": [
       "<div>\n",
       "<style scoped>\n",
       "    .dataframe tbody tr th:only-of-type {\n",
       "        vertical-align: middle;\n",
       "    }\n",
       "\n",
       "    .dataframe tbody tr th {\n",
       "        vertical-align: top;\n",
       "    }\n",
       "\n",
       "    .dataframe thead th {\n",
       "        text-align: right;\n",
       "    }\n",
       "</style>\n",
       "<table border=\"1\" class=\"dataframe\">\n",
       "  <thead>\n",
       "    <tr style=\"text-align: right;\">\n",
       "      <th></th>\n",
       "      <th>Unnamed: 0</th>\n",
       "      <th>mileage</th>\n",
       "      <th>engine_power</th>\n",
       "      <th>rental_price_per_day</th>\n",
       "    </tr>\n",
       "  </thead>\n",
       "  <tbody>\n",
       "    <tr>\n",
       "      <th>count</th>\n",
       "      <td>4843.000000</td>\n",
       "      <td>4.843000e+03</td>\n",
       "      <td>4843.00000</td>\n",
       "      <td>4843.000000</td>\n",
       "    </tr>\n",
       "    <tr>\n",
       "      <th>mean</th>\n",
       "      <td>2421.000000</td>\n",
       "      <td>1.409628e+05</td>\n",
       "      <td>128.98823</td>\n",
       "      <td>121.214536</td>\n",
       "    </tr>\n",
       "    <tr>\n",
       "      <th>std</th>\n",
       "      <td>1398.198007</td>\n",
       "      <td>6.019674e+04</td>\n",
       "      <td>38.99336</td>\n",
       "      <td>33.568268</td>\n",
       "    </tr>\n",
       "    <tr>\n",
       "      <th>min</th>\n",
       "      <td>0.000000</td>\n",
       "      <td>-6.400000e+01</td>\n",
       "      <td>0.00000</td>\n",
       "      <td>10.000000</td>\n",
       "    </tr>\n",
       "    <tr>\n",
       "      <th>25%</th>\n",
       "      <td>1210.500000</td>\n",
       "      <td>1.029135e+05</td>\n",
       "      <td>100.00000</td>\n",
       "      <td>104.000000</td>\n",
       "    </tr>\n",
       "    <tr>\n",
       "      <th>50%</th>\n",
       "      <td>2421.000000</td>\n",
       "      <td>1.410800e+05</td>\n",
       "      <td>120.00000</td>\n",
       "      <td>119.000000</td>\n",
       "    </tr>\n",
       "    <tr>\n",
       "      <th>75%</th>\n",
       "      <td>3631.500000</td>\n",
       "      <td>1.751955e+05</td>\n",
       "      <td>135.00000</td>\n",
       "      <td>136.000000</td>\n",
       "    </tr>\n",
       "    <tr>\n",
       "      <th>max</th>\n",
       "      <td>4842.000000</td>\n",
       "      <td>1.000376e+06</td>\n",
       "      <td>423.00000</td>\n",
       "      <td>422.000000</td>\n",
       "    </tr>\n",
       "  </tbody>\n",
       "</table>\n",
       "</div>"
      ],
      "text/plain": [
       "        Unnamed: 0       mileage  engine_power  rental_price_per_day\n",
       "count  4843.000000  4.843000e+03    4843.00000           4843.000000\n",
       "mean   2421.000000  1.409628e+05     128.98823            121.214536\n",
       "std    1398.198007  6.019674e+04      38.99336             33.568268\n",
       "min       0.000000 -6.400000e+01       0.00000             10.000000\n",
       "25%    1210.500000  1.029135e+05     100.00000            104.000000\n",
       "50%    2421.000000  1.410800e+05     120.00000            119.000000\n",
       "75%    3631.500000  1.751955e+05     135.00000            136.000000\n",
       "max    4842.000000  1.000376e+06     423.00000            422.000000"
      ]
     },
     "metadata": {},
     "output_type": "display_data"
    },
    {
     "name": "stdout",
     "output_type": "stream",
     "text": [
      "\n",
      "... Valeurs manquantes ...\n",
      "Empty DataFrame\n",
      "Columns: [Nombre de Valeurs Manquantes, % Valeurs Manquantes]\n",
      "Index: []\n"
     ]
    }
   ],
   "source": [
    "print(f\"Nous avons {df.shape[1]} colonnes et {df.shape[0]} lignes dans ce jeu de données\")\n",
    "\n",
    "print(\"\\n... Informations sur les colonnes et les types de données ...\")\n",
    "df.info()\n",
    "\n",
    "print(\"\\n... Statistiques descriptives sur les colonnes numériques ...\")\n",
    "display(df.describe())\n",
    "\n",
    "print(\"\\n... Valeurs manquantes ...\")\n",
    "nb_valeurs_manquantes = df.isnull().sum()\n",
    "pourcentage_valeurs_manquantes = (df.isnull().mean() * 100).round(2)\n",
    "df_manquants = pd.DataFrame({\n",
    "    'Nombre de Valeurs Manquantes': nb_valeurs_manquantes,\n",
    "    '% Valeurs Manquantes': pourcentage_valeurs_manquantes\n",
    "})\n",
    "print(df_manquants[df_manquants['Nombre de Valeurs Manquantes'] > 0]\n",
    "      .sort_values('Nombre de Valeurs Manquantes', ascending=False))\n",
    "\n",
    "\n"
   ]
  },
  {
   "cell_type": "markdown",
   "id": "24639b66",
   "metadata": {},
   "source": [
    "### L'EDA Analyse exploratoire des données Approfondie\n",
    "---"
   ]
  },
  {
   "cell_type": "code",
   "execution_count": 4,
   "id": "0830ee8c",
   "metadata": {},
   "outputs": [
    {
     "name": "stdout",
     "output_type": "stream",
     "text": [
      "\n",
      "... Marques de véhicules les plus loués ...\n",
      "Les 3 marques les plus louées sont : Citroên, Renault et BMW.\n",
      "      model_key  counts\n",
      "0       Citroën     969\n",
      "1       Renault     916\n",
      "2           BMW     827\n",
      "3       Peugeot     642\n",
      "4          Audi     526\n",
      "5        Nissan     275\n",
      "6    Mitsubishi     231\n",
      "7      Mercedes      97\n",
      "8    Volkswagen      65\n",
      "9        Toyota      53\n",
      "10         SEAT      46\n",
      "11       Subaru      44\n",
      "12         Opel      33\n",
      "13      Ferrari      33\n",
      "14          PGO      33\n",
      "15     Maserati      18\n",
      "16       Suzuki       8\n",
      "17      Porsche       6\n",
      "18         Ford       5\n",
      "19   KIA Motors       3\n",
      "20   Alfa Romeo       3\n",
      "21         Fiat       2\n",
      "22        Lexus       2\n",
      "23  Lamborghini       2\n",
      "24         Mini       1\n",
      "25        Mazda       1\n",
      "26        Honda       1\n",
      "27       Yamaha       1\n"
     ]
    },
    {
     "data": {
      "application/vnd.plotly.v1+json": {
       "config": {
        "plotlyServerURL": "https://plot.ly"
       },
       "data": [
        {
         "hovertemplate": "model_key=%{x}<br>counts=%{y}<extra></extra>",
         "legendgroup": "",
         "marker": {
          "color": "#636efa",
          "pattern": {
           "shape": ""
          }
         },
         "name": "",
         "orientation": "v",
         "showlegend": false,
         "textposition": "auto",
         "type": "bar",
         "x": [
          "Citroën",
          "Renault",
          "BMW",
          "Peugeot",
          "Audi",
          "Nissan",
          "Mitsubishi",
          "Mercedes",
          "Volkswagen",
          "Toyota"
         ],
         "xaxis": "x",
         "y": {
          "bdata": "yQOUAzsDggIOAhMB5wBhAEEANQA=",
          "dtype": "i2"
         },
         "yaxis": "y"
        }
       ],
       "layout": {
        "barmode": "relative",
        "legend": {
         "tracegroupgap": 0
        },
        "template": {
         "data": {
          "bar": [
           {
            "error_x": {
             "color": "#2a3f5f"
            },
            "error_y": {
             "color": "#2a3f5f"
            },
            "marker": {
             "line": {
              "color": "#E5ECF6",
              "width": 0.5
             },
             "pattern": {
              "fillmode": "overlay",
              "size": 10,
              "solidity": 0.2
             }
            },
            "type": "bar"
           }
          ],
          "barpolar": [
           {
            "marker": {
             "line": {
              "color": "#E5ECF6",
              "width": 0.5
             },
             "pattern": {
              "fillmode": "overlay",
              "size": 10,
              "solidity": 0.2
             }
            },
            "type": "barpolar"
           }
          ],
          "carpet": [
           {
            "aaxis": {
             "endlinecolor": "#2a3f5f",
             "gridcolor": "white",
             "linecolor": "white",
             "minorgridcolor": "white",
             "startlinecolor": "#2a3f5f"
            },
            "baxis": {
             "endlinecolor": "#2a3f5f",
             "gridcolor": "white",
             "linecolor": "white",
             "minorgridcolor": "white",
             "startlinecolor": "#2a3f5f"
            },
            "type": "carpet"
           }
          ],
          "choropleth": [
           {
            "colorbar": {
             "outlinewidth": 0,
             "ticks": ""
            },
            "type": "choropleth"
           }
          ],
          "contour": [
           {
            "colorbar": {
             "outlinewidth": 0,
             "ticks": ""
            },
            "colorscale": [
             [
              0,
              "#0d0887"
             ],
             [
              0.1111111111111111,
              "#46039f"
             ],
             [
              0.2222222222222222,
              "#7201a8"
             ],
             [
              0.3333333333333333,
              "#9c179e"
             ],
             [
              0.4444444444444444,
              "#bd3786"
             ],
             [
              0.5555555555555556,
              "#d8576b"
             ],
             [
              0.6666666666666666,
              "#ed7953"
             ],
             [
              0.7777777777777778,
              "#fb9f3a"
             ],
             [
              0.8888888888888888,
              "#fdca26"
             ],
             [
              1,
              "#f0f921"
             ]
            ],
            "type": "contour"
           }
          ],
          "contourcarpet": [
           {
            "colorbar": {
             "outlinewidth": 0,
             "ticks": ""
            },
            "type": "contourcarpet"
           }
          ],
          "heatmap": [
           {
            "colorbar": {
             "outlinewidth": 0,
             "ticks": ""
            },
            "colorscale": [
             [
              0,
              "#0d0887"
             ],
             [
              0.1111111111111111,
              "#46039f"
             ],
             [
              0.2222222222222222,
              "#7201a8"
             ],
             [
              0.3333333333333333,
              "#9c179e"
             ],
             [
              0.4444444444444444,
              "#bd3786"
             ],
             [
              0.5555555555555556,
              "#d8576b"
             ],
             [
              0.6666666666666666,
              "#ed7953"
             ],
             [
              0.7777777777777778,
              "#fb9f3a"
             ],
             [
              0.8888888888888888,
              "#fdca26"
             ],
             [
              1,
              "#f0f921"
             ]
            ],
            "type": "heatmap"
           }
          ],
          "histogram": [
           {
            "marker": {
             "pattern": {
              "fillmode": "overlay",
              "size": 10,
              "solidity": 0.2
             }
            },
            "type": "histogram"
           }
          ],
          "histogram2d": [
           {
            "colorbar": {
             "outlinewidth": 0,
             "ticks": ""
            },
            "colorscale": [
             [
              0,
              "#0d0887"
             ],
             [
              0.1111111111111111,
              "#46039f"
             ],
             [
              0.2222222222222222,
              "#7201a8"
             ],
             [
              0.3333333333333333,
              "#9c179e"
             ],
             [
              0.4444444444444444,
              "#bd3786"
             ],
             [
              0.5555555555555556,
              "#d8576b"
             ],
             [
              0.6666666666666666,
              "#ed7953"
             ],
             [
              0.7777777777777778,
              "#fb9f3a"
             ],
             [
              0.8888888888888888,
              "#fdca26"
             ],
             [
              1,
              "#f0f921"
             ]
            ],
            "type": "histogram2d"
           }
          ],
          "histogram2dcontour": [
           {
            "colorbar": {
             "outlinewidth": 0,
             "ticks": ""
            },
            "colorscale": [
             [
              0,
              "#0d0887"
             ],
             [
              0.1111111111111111,
              "#46039f"
             ],
             [
              0.2222222222222222,
              "#7201a8"
             ],
             [
              0.3333333333333333,
              "#9c179e"
             ],
             [
              0.4444444444444444,
              "#bd3786"
             ],
             [
              0.5555555555555556,
              "#d8576b"
             ],
             [
              0.6666666666666666,
              "#ed7953"
             ],
             [
              0.7777777777777778,
              "#fb9f3a"
             ],
             [
              0.8888888888888888,
              "#fdca26"
             ],
             [
              1,
              "#f0f921"
             ]
            ],
            "type": "histogram2dcontour"
           }
          ],
          "mesh3d": [
           {
            "colorbar": {
             "outlinewidth": 0,
             "ticks": ""
            },
            "type": "mesh3d"
           }
          ],
          "parcoords": [
           {
            "line": {
             "colorbar": {
              "outlinewidth": 0,
              "ticks": ""
             }
            },
            "type": "parcoords"
           }
          ],
          "pie": [
           {
            "automargin": true,
            "type": "pie"
           }
          ],
          "scatter": [
           {
            "fillpattern": {
             "fillmode": "overlay",
             "size": 10,
             "solidity": 0.2
            },
            "type": "scatter"
           }
          ],
          "scatter3d": [
           {
            "line": {
             "colorbar": {
              "outlinewidth": 0,
              "ticks": ""
             }
            },
            "marker": {
             "colorbar": {
              "outlinewidth": 0,
              "ticks": ""
             }
            },
            "type": "scatter3d"
           }
          ],
          "scattercarpet": [
           {
            "marker": {
             "colorbar": {
              "outlinewidth": 0,
              "ticks": ""
             }
            },
            "type": "scattercarpet"
           }
          ],
          "scattergeo": [
           {
            "marker": {
             "colorbar": {
              "outlinewidth": 0,
              "ticks": ""
             }
            },
            "type": "scattergeo"
           }
          ],
          "scattergl": [
           {
            "marker": {
             "colorbar": {
              "outlinewidth": 0,
              "ticks": ""
             }
            },
            "type": "scattergl"
           }
          ],
          "scattermap": [
           {
            "marker": {
             "colorbar": {
              "outlinewidth": 0,
              "ticks": ""
             }
            },
            "type": "scattermap"
           }
          ],
          "scattermapbox": [
           {
            "marker": {
             "colorbar": {
              "outlinewidth": 0,
              "ticks": ""
             }
            },
            "type": "scattermapbox"
           }
          ],
          "scatterpolar": [
           {
            "marker": {
             "colorbar": {
              "outlinewidth": 0,
              "ticks": ""
             }
            },
            "type": "scatterpolar"
           }
          ],
          "scatterpolargl": [
           {
            "marker": {
             "colorbar": {
              "outlinewidth": 0,
              "ticks": ""
             }
            },
            "type": "scatterpolargl"
           }
          ],
          "scatterternary": [
           {
            "marker": {
             "colorbar": {
              "outlinewidth": 0,
              "ticks": ""
             }
            },
            "type": "scatterternary"
           }
          ],
          "surface": [
           {
            "colorbar": {
             "outlinewidth": 0,
             "ticks": ""
            },
            "colorscale": [
             [
              0,
              "#0d0887"
             ],
             [
              0.1111111111111111,
              "#46039f"
             ],
             [
              0.2222222222222222,
              "#7201a8"
             ],
             [
              0.3333333333333333,
              "#9c179e"
             ],
             [
              0.4444444444444444,
              "#bd3786"
             ],
             [
              0.5555555555555556,
              "#d8576b"
             ],
             [
              0.6666666666666666,
              "#ed7953"
             ],
             [
              0.7777777777777778,
              "#fb9f3a"
             ],
             [
              0.8888888888888888,
              "#fdca26"
             ],
             [
              1,
              "#f0f921"
             ]
            ],
            "type": "surface"
           }
          ],
          "table": [
           {
            "cells": {
             "fill": {
              "color": "#EBF0F8"
             },
             "line": {
              "color": "white"
             }
            },
            "header": {
             "fill": {
              "color": "#C8D4E3"
             },
             "line": {
              "color": "white"
             }
            },
            "type": "table"
           }
          ]
         },
         "layout": {
          "annotationdefaults": {
           "arrowcolor": "#2a3f5f",
           "arrowhead": 0,
           "arrowwidth": 1
          },
          "autotypenumbers": "strict",
          "coloraxis": {
           "colorbar": {
            "outlinewidth": 0,
            "ticks": ""
           }
          },
          "colorscale": {
           "diverging": [
            [
             0,
             "#8e0152"
            ],
            [
             0.1,
             "#c51b7d"
            ],
            [
             0.2,
             "#de77ae"
            ],
            [
             0.3,
             "#f1b6da"
            ],
            [
             0.4,
             "#fde0ef"
            ],
            [
             0.5,
             "#f7f7f7"
            ],
            [
             0.6,
             "#e6f5d0"
            ],
            [
             0.7,
             "#b8e186"
            ],
            [
             0.8,
             "#7fbc41"
            ],
            [
             0.9,
             "#4d9221"
            ],
            [
             1,
             "#276419"
            ]
           ],
           "sequential": [
            [
             0,
             "#0d0887"
            ],
            [
             0.1111111111111111,
             "#46039f"
            ],
            [
             0.2222222222222222,
             "#7201a8"
            ],
            [
             0.3333333333333333,
             "#9c179e"
            ],
            [
             0.4444444444444444,
             "#bd3786"
            ],
            [
             0.5555555555555556,
             "#d8576b"
            ],
            [
             0.6666666666666666,
             "#ed7953"
            ],
            [
             0.7777777777777778,
             "#fb9f3a"
            ],
            [
             0.8888888888888888,
             "#fdca26"
            ],
            [
             1,
             "#f0f921"
            ]
           ],
           "sequentialminus": [
            [
             0,
             "#0d0887"
            ],
            [
             0.1111111111111111,
             "#46039f"
            ],
            [
             0.2222222222222222,
             "#7201a8"
            ],
            [
             0.3333333333333333,
             "#9c179e"
            ],
            [
             0.4444444444444444,
             "#bd3786"
            ],
            [
             0.5555555555555556,
             "#d8576b"
            ],
            [
             0.6666666666666666,
             "#ed7953"
            ],
            [
             0.7777777777777778,
             "#fb9f3a"
            ],
            [
             0.8888888888888888,
             "#fdca26"
            ],
            [
             1,
             "#f0f921"
            ]
           ]
          },
          "colorway": [
           "#636efa",
           "#EF553B",
           "#00cc96",
           "#ab63fa",
           "#FFA15A",
           "#19d3f3",
           "#FF6692",
           "#B6E880",
           "#FF97FF",
           "#FECB52"
          ],
          "font": {
           "color": "#2a3f5f"
          },
          "geo": {
           "bgcolor": "white",
           "lakecolor": "white",
           "landcolor": "#E5ECF6",
           "showlakes": true,
           "showland": true,
           "subunitcolor": "white"
          },
          "hoverlabel": {
           "align": "left"
          },
          "hovermode": "closest",
          "mapbox": {
           "style": "light"
          },
          "paper_bgcolor": "white",
          "plot_bgcolor": "#E5ECF6",
          "polar": {
           "angularaxis": {
            "gridcolor": "white",
            "linecolor": "white",
            "ticks": ""
           },
           "bgcolor": "#E5ECF6",
           "radialaxis": {
            "gridcolor": "white",
            "linecolor": "white",
            "ticks": ""
           }
          },
          "scene": {
           "xaxis": {
            "backgroundcolor": "#E5ECF6",
            "gridcolor": "white",
            "gridwidth": 2,
            "linecolor": "white",
            "showbackground": true,
            "ticks": "",
            "zerolinecolor": "white"
           },
           "yaxis": {
            "backgroundcolor": "#E5ECF6",
            "gridcolor": "white",
            "gridwidth": 2,
            "linecolor": "white",
            "showbackground": true,
            "ticks": "",
            "zerolinecolor": "white"
           },
           "zaxis": {
            "backgroundcolor": "#E5ECF6",
            "gridcolor": "white",
            "gridwidth": 2,
            "linecolor": "white",
            "showbackground": true,
            "ticks": "",
            "zerolinecolor": "white"
           }
          },
          "shapedefaults": {
           "line": {
            "color": "#2a3f5f"
           }
          },
          "ternary": {
           "aaxis": {
            "gridcolor": "white",
            "linecolor": "white",
            "ticks": ""
           },
           "baxis": {
            "gridcolor": "white",
            "linecolor": "white",
            "ticks": ""
           },
           "bgcolor": "#E5ECF6",
           "caxis": {
            "gridcolor": "white",
            "linecolor": "white",
            "ticks": ""
           }
          },
          "title": {
           "x": 0.05
          },
          "xaxis": {
           "automargin": true,
           "gridcolor": "white",
           "linecolor": "white",
           "ticks": "",
           "title": {
            "standoff": 15
           },
           "zerolinecolor": "white",
           "zerolinewidth": 2
          },
          "yaxis": {
           "automargin": true,
           "gridcolor": "white",
           "linecolor": "white",
           "ticks": "",
           "title": {
            "standoff": 15
           },
           "zerolinecolor": "white",
           "zerolinewidth": 2
          }
         }
        },
        "title": {
         "text": "Top 10 marques de véhicules les plus loués"
        },
        "xaxis": {
         "anchor": "y",
         "domain": [
          0,
          1
         ],
         "title": {
          "text": "model_key"
         }
        },
        "yaxis": {
         "anchor": "x",
         "domain": [
          0,
          1
         ],
         "title": {
          "text": "counts"
         }
        }
       }
      }
     },
     "metadata": {},
     "output_type": "display_data"
    },
    {
     "name": "stdout",
     "output_type": "stream",
     "text": [
      "\n",
      "... Type de carburant ...\n",
      "Le carburant le plus loué est le Diesel.\n",
      "            fuel  counts\n",
      "0         diesel    4641\n",
      "1         petrol     191\n",
      "2  hybrid_petrol       8\n",
      "3        electro       3\n"
     ]
    },
    {
     "data": {
      "application/vnd.plotly.v1+json": {
       "config": {
        "plotlyServerURL": "https://plot.ly"
       },
       "data": [
        {
         "hovertemplate": "fuel=%{x}<br>counts=%{y}<extra></extra>",
         "legendgroup": "",
         "marker": {
          "color": "#636efa",
          "pattern": {
           "shape": ""
          }
         },
         "name": "",
         "orientation": "v",
         "showlegend": false,
         "textposition": "auto",
         "type": "bar",
         "x": [
          "diesel",
          "petrol",
          "hybrid_petrol",
          "electro"
         ],
         "xaxis": "x",
         "y": {
          "bdata": "IRK/AAgAAwA=",
          "dtype": "i2"
         },
         "yaxis": "y"
        }
       ],
       "layout": {
        "barmode": "relative",
        "legend": {
         "tracegroupgap": 0
        },
        "template": {
         "data": {
          "bar": [
           {
            "error_x": {
             "color": "#2a3f5f"
            },
            "error_y": {
             "color": "#2a3f5f"
            },
            "marker": {
             "line": {
              "color": "#E5ECF6",
              "width": 0.5
             },
             "pattern": {
              "fillmode": "overlay",
              "size": 10,
              "solidity": 0.2
             }
            },
            "type": "bar"
           }
          ],
          "barpolar": [
           {
            "marker": {
             "line": {
              "color": "#E5ECF6",
              "width": 0.5
             },
             "pattern": {
              "fillmode": "overlay",
              "size": 10,
              "solidity": 0.2
             }
            },
            "type": "barpolar"
           }
          ],
          "carpet": [
           {
            "aaxis": {
             "endlinecolor": "#2a3f5f",
             "gridcolor": "white",
             "linecolor": "white",
             "minorgridcolor": "white",
             "startlinecolor": "#2a3f5f"
            },
            "baxis": {
             "endlinecolor": "#2a3f5f",
             "gridcolor": "white",
             "linecolor": "white",
             "minorgridcolor": "white",
             "startlinecolor": "#2a3f5f"
            },
            "type": "carpet"
           }
          ],
          "choropleth": [
           {
            "colorbar": {
             "outlinewidth": 0,
             "ticks": ""
            },
            "type": "choropleth"
           }
          ],
          "contour": [
           {
            "colorbar": {
             "outlinewidth": 0,
             "ticks": ""
            },
            "colorscale": [
             [
              0,
              "#0d0887"
             ],
             [
              0.1111111111111111,
              "#46039f"
             ],
             [
              0.2222222222222222,
              "#7201a8"
             ],
             [
              0.3333333333333333,
              "#9c179e"
             ],
             [
              0.4444444444444444,
              "#bd3786"
             ],
             [
              0.5555555555555556,
              "#d8576b"
             ],
             [
              0.6666666666666666,
              "#ed7953"
             ],
             [
              0.7777777777777778,
              "#fb9f3a"
             ],
             [
              0.8888888888888888,
              "#fdca26"
             ],
             [
              1,
              "#f0f921"
             ]
            ],
            "type": "contour"
           }
          ],
          "contourcarpet": [
           {
            "colorbar": {
             "outlinewidth": 0,
             "ticks": ""
            },
            "type": "contourcarpet"
           }
          ],
          "heatmap": [
           {
            "colorbar": {
             "outlinewidth": 0,
             "ticks": ""
            },
            "colorscale": [
             [
              0,
              "#0d0887"
             ],
             [
              0.1111111111111111,
              "#46039f"
             ],
             [
              0.2222222222222222,
              "#7201a8"
             ],
             [
              0.3333333333333333,
              "#9c179e"
             ],
             [
              0.4444444444444444,
              "#bd3786"
             ],
             [
              0.5555555555555556,
              "#d8576b"
             ],
             [
              0.6666666666666666,
              "#ed7953"
             ],
             [
              0.7777777777777778,
              "#fb9f3a"
             ],
             [
              0.8888888888888888,
              "#fdca26"
             ],
             [
              1,
              "#f0f921"
             ]
            ],
            "type": "heatmap"
           }
          ],
          "histogram": [
           {
            "marker": {
             "pattern": {
              "fillmode": "overlay",
              "size": 10,
              "solidity": 0.2
             }
            },
            "type": "histogram"
           }
          ],
          "histogram2d": [
           {
            "colorbar": {
             "outlinewidth": 0,
             "ticks": ""
            },
            "colorscale": [
             [
              0,
              "#0d0887"
             ],
             [
              0.1111111111111111,
              "#46039f"
             ],
             [
              0.2222222222222222,
              "#7201a8"
             ],
             [
              0.3333333333333333,
              "#9c179e"
             ],
             [
              0.4444444444444444,
              "#bd3786"
             ],
             [
              0.5555555555555556,
              "#d8576b"
             ],
             [
              0.6666666666666666,
              "#ed7953"
             ],
             [
              0.7777777777777778,
              "#fb9f3a"
             ],
             [
              0.8888888888888888,
              "#fdca26"
             ],
             [
              1,
              "#f0f921"
             ]
            ],
            "type": "histogram2d"
           }
          ],
          "histogram2dcontour": [
           {
            "colorbar": {
             "outlinewidth": 0,
             "ticks": ""
            },
            "colorscale": [
             [
              0,
              "#0d0887"
             ],
             [
              0.1111111111111111,
              "#46039f"
             ],
             [
              0.2222222222222222,
              "#7201a8"
             ],
             [
              0.3333333333333333,
              "#9c179e"
             ],
             [
              0.4444444444444444,
              "#bd3786"
             ],
             [
              0.5555555555555556,
              "#d8576b"
             ],
             [
              0.6666666666666666,
              "#ed7953"
             ],
             [
              0.7777777777777778,
              "#fb9f3a"
             ],
             [
              0.8888888888888888,
              "#fdca26"
             ],
             [
              1,
              "#f0f921"
             ]
            ],
            "type": "histogram2dcontour"
           }
          ],
          "mesh3d": [
           {
            "colorbar": {
             "outlinewidth": 0,
             "ticks": ""
            },
            "type": "mesh3d"
           }
          ],
          "parcoords": [
           {
            "line": {
             "colorbar": {
              "outlinewidth": 0,
              "ticks": ""
             }
            },
            "type": "parcoords"
           }
          ],
          "pie": [
           {
            "automargin": true,
            "type": "pie"
           }
          ],
          "scatter": [
           {
            "fillpattern": {
             "fillmode": "overlay",
             "size": 10,
             "solidity": 0.2
            },
            "type": "scatter"
           }
          ],
          "scatter3d": [
           {
            "line": {
             "colorbar": {
              "outlinewidth": 0,
              "ticks": ""
             }
            },
            "marker": {
             "colorbar": {
              "outlinewidth": 0,
              "ticks": ""
             }
            },
            "type": "scatter3d"
           }
          ],
          "scattercarpet": [
           {
            "marker": {
             "colorbar": {
              "outlinewidth": 0,
              "ticks": ""
             }
            },
            "type": "scattercarpet"
           }
          ],
          "scattergeo": [
           {
            "marker": {
             "colorbar": {
              "outlinewidth": 0,
              "ticks": ""
             }
            },
            "type": "scattergeo"
           }
          ],
          "scattergl": [
           {
            "marker": {
             "colorbar": {
              "outlinewidth": 0,
              "ticks": ""
             }
            },
            "type": "scattergl"
           }
          ],
          "scattermap": [
           {
            "marker": {
             "colorbar": {
              "outlinewidth": 0,
              "ticks": ""
             }
            },
            "type": "scattermap"
           }
          ],
          "scattermapbox": [
           {
            "marker": {
             "colorbar": {
              "outlinewidth": 0,
              "ticks": ""
             }
            },
            "type": "scattermapbox"
           }
          ],
          "scatterpolar": [
           {
            "marker": {
             "colorbar": {
              "outlinewidth": 0,
              "ticks": ""
             }
            },
            "type": "scatterpolar"
           }
          ],
          "scatterpolargl": [
           {
            "marker": {
             "colorbar": {
              "outlinewidth": 0,
              "ticks": ""
             }
            },
            "type": "scatterpolargl"
           }
          ],
          "scatterternary": [
           {
            "marker": {
             "colorbar": {
              "outlinewidth": 0,
              "ticks": ""
             }
            },
            "type": "scatterternary"
           }
          ],
          "surface": [
           {
            "colorbar": {
             "outlinewidth": 0,
             "ticks": ""
            },
            "colorscale": [
             [
              0,
              "#0d0887"
             ],
             [
              0.1111111111111111,
              "#46039f"
             ],
             [
              0.2222222222222222,
              "#7201a8"
             ],
             [
              0.3333333333333333,
              "#9c179e"
             ],
             [
              0.4444444444444444,
              "#bd3786"
             ],
             [
              0.5555555555555556,
              "#d8576b"
             ],
             [
              0.6666666666666666,
              "#ed7953"
             ],
             [
              0.7777777777777778,
              "#fb9f3a"
             ],
             [
              0.8888888888888888,
              "#fdca26"
             ],
             [
              1,
              "#f0f921"
             ]
            ],
            "type": "surface"
           }
          ],
          "table": [
           {
            "cells": {
             "fill": {
              "color": "#EBF0F8"
             },
             "line": {
              "color": "white"
             }
            },
            "header": {
             "fill": {
              "color": "#C8D4E3"
             },
             "line": {
              "color": "white"
             }
            },
            "type": "table"
           }
          ]
         },
         "layout": {
          "annotationdefaults": {
           "arrowcolor": "#2a3f5f",
           "arrowhead": 0,
           "arrowwidth": 1
          },
          "autotypenumbers": "strict",
          "coloraxis": {
           "colorbar": {
            "outlinewidth": 0,
            "ticks": ""
           }
          },
          "colorscale": {
           "diverging": [
            [
             0,
             "#8e0152"
            ],
            [
             0.1,
             "#c51b7d"
            ],
            [
             0.2,
             "#de77ae"
            ],
            [
             0.3,
             "#f1b6da"
            ],
            [
             0.4,
             "#fde0ef"
            ],
            [
             0.5,
             "#f7f7f7"
            ],
            [
             0.6,
             "#e6f5d0"
            ],
            [
             0.7,
             "#b8e186"
            ],
            [
             0.8,
             "#7fbc41"
            ],
            [
             0.9,
             "#4d9221"
            ],
            [
             1,
             "#276419"
            ]
           ],
           "sequential": [
            [
             0,
             "#0d0887"
            ],
            [
             0.1111111111111111,
             "#46039f"
            ],
            [
             0.2222222222222222,
             "#7201a8"
            ],
            [
             0.3333333333333333,
             "#9c179e"
            ],
            [
             0.4444444444444444,
             "#bd3786"
            ],
            [
             0.5555555555555556,
             "#d8576b"
            ],
            [
             0.6666666666666666,
             "#ed7953"
            ],
            [
             0.7777777777777778,
             "#fb9f3a"
            ],
            [
             0.8888888888888888,
             "#fdca26"
            ],
            [
             1,
             "#f0f921"
            ]
           ],
           "sequentialminus": [
            [
             0,
             "#0d0887"
            ],
            [
             0.1111111111111111,
             "#46039f"
            ],
            [
             0.2222222222222222,
             "#7201a8"
            ],
            [
             0.3333333333333333,
             "#9c179e"
            ],
            [
             0.4444444444444444,
             "#bd3786"
            ],
            [
             0.5555555555555556,
             "#d8576b"
            ],
            [
             0.6666666666666666,
             "#ed7953"
            ],
            [
             0.7777777777777778,
             "#fb9f3a"
            ],
            [
             0.8888888888888888,
             "#fdca26"
            ],
            [
             1,
             "#f0f921"
            ]
           ]
          },
          "colorway": [
           "#636efa",
           "#EF553B",
           "#00cc96",
           "#ab63fa",
           "#FFA15A",
           "#19d3f3",
           "#FF6692",
           "#B6E880",
           "#FF97FF",
           "#FECB52"
          ],
          "font": {
           "color": "#2a3f5f"
          },
          "geo": {
           "bgcolor": "white",
           "lakecolor": "white",
           "landcolor": "#E5ECF6",
           "showlakes": true,
           "showland": true,
           "subunitcolor": "white"
          },
          "hoverlabel": {
           "align": "left"
          },
          "hovermode": "closest",
          "mapbox": {
           "style": "light"
          },
          "paper_bgcolor": "white",
          "plot_bgcolor": "#E5ECF6",
          "polar": {
           "angularaxis": {
            "gridcolor": "white",
            "linecolor": "white",
            "ticks": ""
           },
           "bgcolor": "#E5ECF6",
           "radialaxis": {
            "gridcolor": "white",
            "linecolor": "white",
            "ticks": ""
           }
          },
          "scene": {
           "xaxis": {
            "backgroundcolor": "#E5ECF6",
            "gridcolor": "white",
            "gridwidth": 2,
            "linecolor": "white",
            "showbackground": true,
            "ticks": "",
            "zerolinecolor": "white"
           },
           "yaxis": {
            "backgroundcolor": "#E5ECF6",
            "gridcolor": "white",
            "gridwidth": 2,
            "linecolor": "white",
            "showbackground": true,
            "ticks": "",
            "zerolinecolor": "white"
           },
           "zaxis": {
            "backgroundcolor": "#E5ECF6",
            "gridcolor": "white",
            "gridwidth": 2,
            "linecolor": "white",
            "showbackground": true,
            "ticks": "",
            "zerolinecolor": "white"
           }
          },
          "shapedefaults": {
           "line": {
            "color": "#2a3f5f"
           }
          },
          "ternary": {
           "aaxis": {
            "gridcolor": "white",
            "linecolor": "white",
            "ticks": ""
           },
           "baxis": {
            "gridcolor": "white",
            "linecolor": "white",
            "ticks": ""
           },
           "bgcolor": "#E5ECF6",
           "caxis": {
            "gridcolor": "white",
            "linecolor": "white",
            "ticks": ""
           }
          },
          "title": {
           "x": 0.05
          },
          "xaxis": {
           "automargin": true,
           "gridcolor": "white",
           "linecolor": "white",
           "ticks": "",
           "title": {
            "standoff": 15
           },
           "zerolinecolor": "white",
           "zerolinewidth": 2
          },
          "yaxis": {
           "automargin": true,
           "gridcolor": "white",
           "linecolor": "white",
           "ticks": "",
           "title": {
            "standoff": 15
           },
           "zerolinecolor": "white",
           "zerolinewidth": 2
          }
         }
        },
        "title": {
         "text": "Répartition des types de carburant"
        },
        "xaxis": {
         "anchor": "y",
         "domain": [
          0,
          1
         ],
         "title": {
          "text": "fuel"
         }
        },
        "yaxis": {
         "anchor": "x",
         "domain": [
          0,
          1
         ],
         "title": {
          "text": "counts"
         }
        }
       }
      }
     },
     "metadata": {},
     "output_type": "display_data"
    },
    {
     "name": "stdout",
     "output_type": "stream",
     "text": [
      "\n",
      "... Analyse de la puissance moteur ...\n",
      "Les locations de voitures sont louées avec une puissance moyenne de 129.0ch\n",
      "pour une écart type 39.0 ch\n"
     ]
    },
    {
     "data": {
      "application/vnd.plotly.v1+json": {
       "config": {
        "plotlyServerURL": "https://plot.ly"
       },
       "data": [
        {
         "bingroup": "x",
         "hovertemplate": "engine_power=%{x}<br>count=%{y}<extra></extra>",
         "legendgroup": "",
         "marker": {
          "color": "#636efa",
          "pattern": {
           "shape": ""
          }
         },
         "name": "",
         "nbinsx": 10,
         "orientation": "v",
         "showlegend": false,
         "type": "histogram",
         "x": {
          "bdata": "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",
          "dtype": "i2"
         },
         "xaxis": "x",
         "yaxis": "y"
        }
       ],
       "layout": {
        "annotations": [
         {
          "showarrow": false,
          "text": "Moyenne",
          "x": 128.98823043568035,
          "xanchor": "left",
          "xref": "x",
          "y": 1,
          "yanchor": "top",
          "yref": "y domain"
         }
        ],
        "barmode": "relative",
        "legend": {
         "tracegroupgap": 0
        },
        "shapes": [
         {
          "line": {
           "color": "red"
          },
          "type": "line",
          "x0": 128.98823043568035,
          "x1": 128.98823043568035,
          "xref": "x",
          "y0": 0,
          "y1": 1,
          "yref": "y domain"
         }
        ],
        "template": {
         "data": {
          "bar": [
           {
            "error_x": {
             "color": "#2a3f5f"
            },
            "error_y": {
             "color": "#2a3f5f"
            },
            "marker": {
             "line": {
              "color": "#E5ECF6",
              "width": 0.5
             },
             "pattern": {
              "fillmode": "overlay",
              "size": 10,
              "solidity": 0.2
             }
            },
            "type": "bar"
           }
          ],
          "barpolar": [
           {
            "marker": {
             "line": {
              "color": "#E5ECF6",
              "width": 0.5
             },
             "pattern": {
              "fillmode": "overlay",
              "size": 10,
              "solidity": 0.2
             }
            },
            "type": "barpolar"
           }
          ],
          "carpet": [
           {
            "aaxis": {
             "endlinecolor": "#2a3f5f",
             "gridcolor": "white",
             "linecolor": "white",
             "minorgridcolor": "white",
             "startlinecolor": "#2a3f5f"
            },
            "baxis": {
             "endlinecolor": "#2a3f5f",
             "gridcolor": "white",
             "linecolor": "white",
             "minorgridcolor": "white",
             "startlinecolor": "#2a3f5f"
            },
            "type": "carpet"
           }
          ],
          "choropleth": [
           {
            "colorbar": {
             "outlinewidth": 0,
             "ticks": ""
            },
            "type": "choropleth"
           }
          ],
          "contour": [
           {
            "colorbar": {
             "outlinewidth": 0,
             "ticks": ""
            },
            "colorscale": [
             [
              0,
              "#0d0887"
             ],
             [
              0.1111111111111111,
              "#46039f"
             ],
             [
              0.2222222222222222,
              "#7201a8"
             ],
             [
              0.3333333333333333,
              "#9c179e"
             ],
             [
              0.4444444444444444,
              "#bd3786"
             ],
             [
              0.5555555555555556,
              "#d8576b"
             ],
             [
              0.6666666666666666,
              "#ed7953"
             ],
             [
              0.7777777777777778,
              "#fb9f3a"
             ],
             [
              0.8888888888888888,
              "#fdca26"
             ],
             [
              1,
              "#f0f921"
             ]
            ],
            "type": "contour"
           }
          ],
          "contourcarpet": [
           {
            "colorbar": {
             "outlinewidth": 0,
             "ticks": ""
            },
            "type": "contourcarpet"
           }
          ],
          "heatmap": [
           {
            "colorbar": {
             "outlinewidth": 0,
             "ticks": ""
            },
            "colorscale": [
             [
              0,
              "#0d0887"
             ],
             [
              0.1111111111111111,
              "#46039f"
             ],
             [
              0.2222222222222222,
              "#7201a8"
             ],
             [
              0.3333333333333333,
              "#9c179e"
             ],
             [
              0.4444444444444444,
              "#bd3786"
             ],
             [
              0.5555555555555556,
              "#d8576b"
             ],
             [
              0.6666666666666666,
              "#ed7953"
             ],
             [
              0.7777777777777778,
              "#fb9f3a"
             ],
             [
              0.8888888888888888,
              "#fdca26"
             ],
             [
              1,
              "#f0f921"
             ]
            ],
            "type": "heatmap"
           }
          ],
          "histogram": [
           {
            "marker": {
             "pattern": {
              "fillmode": "overlay",
              "size": 10,
              "solidity": 0.2
             }
            },
            "type": "histogram"
           }
          ],
          "histogram2d": [
           {
            "colorbar": {
             "outlinewidth": 0,
             "ticks": ""
            },
            "colorscale": [
             [
              0,
              "#0d0887"
             ],
             [
              0.1111111111111111,
              "#46039f"
             ],
             [
              0.2222222222222222,
              "#7201a8"
             ],
             [
              0.3333333333333333,
              "#9c179e"
             ],
             [
              0.4444444444444444,
              "#bd3786"
             ],
             [
              0.5555555555555556,
              "#d8576b"
             ],
             [
              0.6666666666666666,
              "#ed7953"
             ],
             [
              0.7777777777777778,
              "#fb9f3a"
             ],
             [
              0.8888888888888888,
              "#fdca26"
             ],
             [
              1,
              "#f0f921"
             ]
            ],
            "type": "histogram2d"
           }
          ],
          "histogram2dcontour": [
           {
            "colorbar": {
             "outlinewidth": 0,
             "ticks": ""
            },
            "colorscale": [
             [
              0,
              "#0d0887"
             ],
             [
              0.1111111111111111,
              "#46039f"
             ],
             [
              0.2222222222222222,
              "#7201a8"
             ],
             [
              0.3333333333333333,
              "#9c179e"
             ],
             [
              0.4444444444444444,
              "#bd3786"
             ],
             [
              0.5555555555555556,
              "#d8576b"
             ],
             [
              0.6666666666666666,
              "#ed7953"
             ],
             [
              0.7777777777777778,
              "#fb9f3a"
             ],
             [
              0.8888888888888888,
              "#fdca26"
             ],
             [
              1,
              "#f0f921"
             ]
            ],
            "type": "histogram2dcontour"
           }
          ],
          "mesh3d": [
           {
            "colorbar": {
             "outlinewidth": 0,
             "ticks": ""
            },
            "type": "mesh3d"
           }
          ],
          "parcoords": [
           {
            "line": {
             "colorbar": {
              "outlinewidth": 0,
              "ticks": ""
             }
            },
            "type": "parcoords"
           }
          ],
          "pie": [
           {
            "automargin": true,
            "type": "pie"
           }
          ],
          "scatter": [
           {
            "fillpattern": {
             "fillmode": "overlay",
             "size": 10,
             "solidity": 0.2
            },
            "type": "scatter"
           }
          ],
          "scatter3d": [
           {
            "line": {
             "colorbar": {
              "outlinewidth": 0,
              "ticks": ""
             }
            },
            "marker": {
             "colorbar": {
              "outlinewidth": 0,
              "ticks": ""
             }
            },
            "type": "scatter3d"
           }
          ],
          "scattercarpet": [
           {
            "marker": {
             "colorbar": {
              "outlinewidth": 0,
              "ticks": ""
             }
            },
            "type": "scattercarpet"
           }
          ],
          "scattergeo": [
           {
            "marker": {
             "colorbar": {
              "outlinewidth": 0,
              "ticks": ""
             }
            },
            "type": "scattergeo"
           }
          ],
          "scattergl": [
           {
            "marker": {
             "colorbar": {
              "outlinewidth": 0,
              "ticks": ""
             }
            },
            "type": "scattergl"
           }
          ],
          "scattermap": [
           {
            "marker": {
             "colorbar": {
              "outlinewidth": 0,
              "ticks": ""
             }
            },
            "type": "scattermap"
           }
          ],
          "scattermapbox": [
           {
            "marker": {
             "colorbar": {
              "outlinewidth": 0,
              "ticks": ""
             }
            },
            "type": "scattermapbox"
           }
          ],
          "scatterpolar": [
           {
            "marker": {
             "colorbar": {
              "outlinewidth": 0,
              "ticks": ""
             }
            },
            "type": "scatterpolar"
           }
          ],
          "scatterpolargl": [
           {
            "marker": {
             "colorbar": {
              "outlinewidth": 0,
              "ticks": ""
             }
            },
            "type": "scatterpolargl"
           }
          ],
          "scatterternary": [
           {
            "marker": {
             "colorbar": {
              "outlinewidth": 0,
              "ticks": ""
             }
            },
            "type": "scatterternary"
           }
          ],
          "surface": [
           {
            "colorbar": {
             "outlinewidth": 0,
             "ticks": ""
            },
            "colorscale": [
             [
              0,
              "#0d0887"
             ],
             [
              0.1111111111111111,
              "#46039f"
             ],
             [
              0.2222222222222222,
              "#7201a8"
             ],
             [
              0.3333333333333333,
              "#9c179e"
             ],
             [
              0.4444444444444444,
              "#bd3786"
             ],
             [
              0.5555555555555556,
              "#d8576b"
             ],
             [
              0.6666666666666666,
              "#ed7953"
             ],
             [
              0.7777777777777778,
              "#fb9f3a"
             ],
             [
              0.8888888888888888,
              "#fdca26"
             ],
             [
              1,
              "#f0f921"
             ]
            ],
            "type": "surface"
           }
          ],
          "table": [
           {
            "cells": {
             "fill": {
              "color": "#EBF0F8"
             },
             "line": {
              "color": "white"
             }
            },
            "header": {
             "fill": {
              "color": "#C8D4E3"
             },
             "line": {
              "color": "white"
             }
            },
            "type": "table"
           }
          ]
         },
         "layout": {
          "annotationdefaults": {
           "arrowcolor": "#2a3f5f",
           "arrowhead": 0,
           "arrowwidth": 1
          },
          "autotypenumbers": "strict",
          "coloraxis": {
           "colorbar": {
            "outlinewidth": 0,
            "ticks": ""
           }
          },
          "colorscale": {
           "diverging": [
            [
             0,
             "#8e0152"
            ],
            [
             0.1,
             "#c51b7d"
            ],
            [
             0.2,
             "#de77ae"
            ],
            [
             0.3,
             "#f1b6da"
            ],
            [
             0.4,
             "#fde0ef"
            ],
            [
             0.5,
             "#f7f7f7"
            ],
            [
             0.6,
             "#e6f5d0"
            ],
            [
             0.7,
             "#b8e186"
            ],
            [
             0.8,
             "#7fbc41"
            ],
            [
             0.9,
             "#4d9221"
            ],
            [
             1,
             "#276419"
            ]
           ],
           "sequential": [
            [
             0,
             "#0d0887"
            ],
            [
             0.1111111111111111,
             "#46039f"
            ],
            [
             0.2222222222222222,
             "#7201a8"
            ],
            [
             0.3333333333333333,
             "#9c179e"
            ],
            [
             0.4444444444444444,
             "#bd3786"
            ],
            [
             0.5555555555555556,
             "#d8576b"
            ],
            [
             0.6666666666666666,
             "#ed7953"
            ],
            [
             0.7777777777777778,
             "#fb9f3a"
            ],
            [
             0.8888888888888888,
             "#fdca26"
            ],
            [
             1,
             "#f0f921"
            ]
           ],
           "sequentialminus": [
            [
             0,
             "#0d0887"
            ],
            [
             0.1111111111111111,
             "#46039f"
            ],
            [
             0.2222222222222222,
             "#7201a8"
            ],
            [
             0.3333333333333333,
             "#9c179e"
            ],
            [
             0.4444444444444444,
             "#bd3786"
            ],
            [
             0.5555555555555556,
             "#d8576b"
            ],
            [
             0.6666666666666666,
             "#ed7953"
            ],
            [
             0.7777777777777778,
             "#fb9f3a"
            ],
            [
             0.8888888888888888,
             "#fdca26"
            ],
            [
             1,
             "#f0f921"
            ]
           ]
          },
          "colorway": [
           "#636efa",
           "#EF553B",
           "#00cc96",
           "#ab63fa",
           "#FFA15A",
           "#19d3f3",
           "#FF6692",
           "#B6E880",
           "#FF97FF",
           "#FECB52"
          ],
          "font": {
           "color": "#2a3f5f"
          },
          "geo": {
           "bgcolor": "white",
           "lakecolor": "white",
           "landcolor": "#E5ECF6",
           "showlakes": true,
           "showland": true,
           "subunitcolor": "white"
          },
          "hoverlabel": {
           "align": "left"
          },
          "hovermode": "closest",
          "mapbox": {
           "style": "light"
          },
          "paper_bgcolor": "white",
          "plot_bgcolor": "#E5ECF6",
          "polar": {
           "angularaxis": {
            "gridcolor": "white",
            "linecolor": "white",
            "ticks": ""
           },
           "bgcolor": "#E5ECF6",
           "radialaxis": {
            "gridcolor": "white",
            "linecolor": "white",
            "ticks": ""
           }
          },
          "scene": {
           "xaxis": {
            "backgroundcolor": "#E5ECF6",
            "gridcolor": "white",
            "gridwidth": 2,
            "linecolor": "white",
            "showbackground": true,
            "ticks": "",
            "zerolinecolor": "white"
           },
           "yaxis": {
            "backgroundcolor": "#E5ECF6",
            "gridcolor": "white",
            "gridwidth": 2,
            "linecolor": "white",
            "showbackground": true,
            "ticks": "",
            "zerolinecolor": "white"
           },
           "zaxis": {
            "backgroundcolor": "#E5ECF6",
            "gridcolor": "white",
            "gridwidth": 2,
            "linecolor": "white",
            "showbackground": true,
            "ticks": "",
            "zerolinecolor": "white"
           }
          },
          "shapedefaults": {
           "line": {
            "color": "#2a3f5f"
           }
          },
          "ternary": {
           "aaxis": {
            "gridcolor": "white",
            "linecolor": "white",
            "ticks": ""
           },
           "baxis": {
            "gridcolor": "white",
            "linecolor": "white",
            "ticks": ""
           },
           "bgcolor": "#E5ECF6",
           "caxis": {
            "gridcolor": "white",
            "linecolor": "white",
            "ticks": ""
           }
          },
          "title": {
           "x": 0.05
          },
          "xaxis": {
           "automargin": true,
           "gridcolor": "white",
           "linecolor": "white",
           "ticks": "",
           "title": {
            "standoff": 15
           },
           "zerolinecolor": "white",
           "zerolinewidth": 2
          },
          "yaxis": {
           "automargin": true,
           "gridcolor": "white",
           "linecolor": "white",
           "ticks": "",
           "title": {
            "standoff": 15
           },
           "zerolinecolor": "white",
           "zerolinewidth": 2
          }
         }
        },
        "title": {
         "text": "Distribution des puissances moteur"
        },
        "xaxis": {
         "anchor": "y",
         "domain": [
          0,
          1
         ],
         "title": {
          "text": "engine_power"
         }
        },
        "yaxis": {
         "anchor": "x",
         "domain": [
          0,
          1
         ],
         "title": {
          "text": "count"
         }
        }
       }
      }
     },
     "metadata": {},
     "output_type": "display_data"
    },
    {
     "name": "stdout",
     "output_type": "stream",
     "text": [
      "\n",
      "... Analyse des prix de location par jour ...\n",
      "Le prix médian d'une loctaion est de 119.00 €\n"
     ]
    },
    {
     "data": {
      "application/vnd.plotly.v1+json": {
       "config": {
        "plotlyServerURL": "https://plot.ly"
       },
       "data": [
        {
         "bingroup": "x",
         "hovertemplate": "Prix (€)=%{x}<br>count=%{y}<extra></extra>",
         "legendgroup": "",
         "marker": {
          "color": "#636efa",
          "pattern": {
           "shape": ""
          }
         },
         "name": "",
         "nbinsx": 20,
         "orientation": "v",
         "showlegend": false,
         "type": "histogram",
         "x": {
          "bdata": "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",
          "dtype": "i2"
         },
         "xaxis": "x",
         "yaxis": "y"
        }
       ],
       "layout": {
        "annotations": [
         {
          "showarrow": false,
          "text": "Médiane",
          "x": 119,
          "xanchor": "center",
          "xref": "x",
          "y": 1,
          "yanchor": "bottom",
          "yref": "y domain"
         }
        ],
        "barmode": "relative",
        "legend": {
         "tracegroupgap": 0
        },
        "shapes": [
         {
          "line": {
           "color": "red",
           "dash": "dash"
          },
          "type": "line",
          "x0": 119,
          "x1": 119,
          "xref": "x",
          "y0": 0,
          "y1": 1,
          "yref": "y domain"
         }
        ],
        "template": {
         "data": {
          "bar": [
           {
            "error_x": {
             "color": "#2a3f5f"
            },
            "error_y": {
             "color": "#2a3f5f"
            },
            "marker": {
             "line": {
              "color": "#E5ECF6",
              "width": 0.5
             },
             "pattern": {
              "fillmode": "overlay",
              "size": 10,
              "solidity": 0.2
             }
            },
            "type": "bar"
           }
          ],
          "barpolar": [
           {
            "marker": {
             "line": {
              "color": "#E5ECF6",
              "width": 0.5
             },
             "pattern": {
              "fillmode": "overlay",
              "size": 10,
              "solidity": 0.2
             }
            },
            "type": "barpolar"
           }
          ],
          "carpet": [
           {
            "aaxis": {
             "endlinecolor": "#2a3f5f",
             "gridcolor": "white",
             "linecolor": "white",
             "minorgridcolor": "white",
             "startlinecolor": "#2a3f5f"
            },
            "baxis": {
             "endlinecolor": "#2a3f5f",
             "gridcolor": "white",
             "linecolor": "white",
             "minorgridcolor": "white",
             "startlinecolor": "#2a3f5f"
            },
            "type": "carpet"
           }
          ],
          "choropleth": [
           {
            "colorbar": {
             "outlinewidth": 0,
             "ticks": ""
            },
            "type": "choropleth"
           }
          ],
          "contour": [
           {
            "colorbar": {
             "outlinewidth": 0,
             "ticks": ""
            },
            "colorscale": [
             [
              0,
              "#0d0887"
             ],
             [
              0.1111111111111111,
              "#46039f"
             ],
             [
              0.2222222222222222,
              "#7201a8"
             ],
             [
              0.3333333333333333,
              "#9c179e"
             ],
             [
              0.4444444444444444,
              "#bd3786"
             ],
             [
              0.5555555555555556,
              "#d8576b"
             ],
             [
              0.6666666666666666,
              "#ed7953"
             ],
             [
              0.7777777777777778,
              "#fb9f3a"
             ],
             [
              0.8888888888888888,
              "#fdca26"
             ],
             [
              1,
              "#f0f921"
             ]
            ],
            "type": "contour"
           }
          ],
          "contourcarpet": [
           {
            "colorbar": {
             "outlinewidth": 0,
             "ticks": ""
            },
            "type": "contourcarpet"
           }
          ],
          "heatmap": [
           {
            "colorbar": {
             "outlinewidth": 0,
             "ticks": ""
            },
            "colorscale": [
             [
              0,
              "#0d0887"
             ],
             [
              0.1111111111111111,
              "#46039f"
             ],
             [
              0.2222222222222222,
              "#7201a8"
             ],
             [
              0.3333333333333333,
              "#9c179e"
             ],
             [
              0.4444444444444444,
              "#bd3786"
             ],
             [
              0.5555555555555556,
              "#d8576b"
             ],
             [
              0.6666666666666666,
              "#ed7953"
             ],
             [
              0.7777777777777778,
              "#fb9f3a"
             ],
             [
              0.8888888888888888,
              "#fdca26"
             ],
             [
              1,
              "#f0f921"
             ]
            ],
            "type": "heatmap"
           }
          ],
          "histogram": [
           {
            "marker": {
             "pattern": {
              "fillmode": "overlay",
              "size": 10,
              "solidity": 0.2
             }
            },
            "type": "histogram"
           }
          ],
          "histogram2d": [
           {
            "colorbar": {
             "outlinewidth": 0,
             "ticks": ""
            },
            "colorscale": [
             [
              0,
              "#0d0887"
             ],
             [
              0.1111111111111111,
              "#46039f"
             ],
             [
              0.2222222222222222,
              "#7201a8"
             ],
             [
              0.3333333333333333,
              "#9c179e"
             ],
             [
              0.4444444444444444,
              "#bd3786"
             ],
             [
              0.5555555555555556,
              "#d8576b"
             ],
             [
              0.6666666666666666,
              "#ed7953"
             ],
             [
              0.7777777777777778,
              "#fb9f3a"
             ],
             [
              0.8888888888888888,
              "#fdca26"
             ],
             [
              1,
              "#f0f921"
             ]
            ],
            "type": "histogram2d"
           }
          ],
          "histogram2dcontour": [
           {
            "colorbar": {
             "outlinewidth": 0,
             "ticks": ""
            },
            "colorscale": [
             [
              0,
              "#0d0887"
             ],
             [
              0.1111111111111111,
              "#46039f"
             ],
             [
              0.2222222222222222,
              "#7201a8"
             ],
             [
              0.3333333333333333,
              "#9c179e"
             ],
             [
              0.4444444444444444,
              "#bd3786"
             ],
             [
              0.5555555555555556,
              "#d8576b"
             ],
             [
              0.6666666666666666,
              "#ed7953"
             ],
             [
              0.7777777777777778,
              "#fb9f3a"
             ],
             [
              0.8888888888888888,
              "#fdca26"
             ],
             [
              1,
              "#f0f921"
             ]
            ],
            "type": "histogram2dcontour"
           }
          ],
          "mesh3d": [
           {
            "colorbar": {
             "outlinewidth": 0,
             "ticks": ""
            },
            "type": "mesh3d"
           }
          ],
          "parcoords": [
           {
            "line": {
             "colorbar": {
              "outlinewidth": 0,
              "ticks": ""
             }
            },
            "type": "parcoords"
           }
          ],
          "pie": [
           {
            "automargin": true,
            "type": "pie"
           }
          ],
          "scatter": [
           {
            "fillpattern": {
             "fillmode": "overlay",
             "size": 10,
             "solidity": 0.2
            },
            "type": "scatter"
           }
          ],
          "scatter3d": [
           {
            "line": {
             "colorbar": {
              "outlinewidth": 0,
              "ticks": ""
             }
            },
            "marker": {
             "colorbar": {
              "outlinewidth": 0,
              "ticks": ""
             }
            },
            "type": "scatter3d"
           }
          ],
          "scattercarpet": [
           {
            "marker": {
             "colorbar": {
              "outlinewidth": 0,
              "ticks": ""
             }
            },
            "type": "scattercarpet"
           }
          ],
          "scattergeo": [
           {
            "marker": {
             "colorbar": {
              "outlinewidth": 0,
              "ticks": ""
             }
            },
            "type": "scattergeo"
           }
          ],
          "scattergl": [
           {
            "marker": {
             "colorbar": {
              "outlinewidth": 0,
              "ticks": ""
             }
            },
            "type": "scattergl"
           }
          ],
          "scattermap": [
           {
            "marker": {
             "colorbar": {
              "outlinewidth": 0,
              "ticks": ""
             }
            },
            "type": "scattermap"
           }
          ],
          "scattermapbox": [
           {
            "marker": {
             "colorbar": {
              "outlinewidth": 0,
              "ticks": ""
             }
            },
            "type": "scattermapbox"
           }
          ],
          "scatterpolar": [
           {
            "marker": {
             "colorbar": {
              "outlinewidth": 0,
              "ticks": ""
             }
            },
            "type": "scatterpolar"
           }
          ],
          "scatterpolargl": [
           {
            "marker": {
             "colorbar": {
              "outlinewidth": 0,
              "ticks": ""
             }
            },
            "type": "scatterpolargl"
           }
          ],
          "scatterternary": [
           {
            "marker": {
             "colorbar": {
              "outlinewidth": 0,
              "ticks": ""
             }
            },
            "type": "scatterternary"
           }
          ],
          "surface": [
           {
            "colorbar": {
             "outlinewidth": 0,
             "ticks": ""
            },
            "colorscale": [
             [
              0,
              "#0d0887"
             ],
             [
              0.1111111111111111,
              "#46039f"
             ],
             [
              0.2222222222222222,
              "#7201a8"
             ],
             [
              0.3333333333333333,
              "#9c179e"
             ],
             [
              0.4444444444444444,
              "#bd3786"
             ],
             [
              0.5555555555555556,
              "#d8576b"
             ],
             [
              0.6666666666666666,
              "#ed7953"
             ],
             [
              0.7777777777777778,
              "#fb9f3a"
             ],
             [
              0.8888888888888888,
              "#fdca26"
             ],
             [
              1,
              "#f0f921"
             ]
            ],
            "type": "surface"
           }
          ],
          "table": [
           {
            "cells": {
             "fill": {
              "color": "#EBF0F8"
             },
             "line": {
              "color": "white"
             }
            },
            "header": {
             "fill": {
              "color": "#C8D4E3"
             },
             "line": {
              "color": "white"
             }
            },
            "type": "table"
           }
          ]
         },
         "layout": {
          "annotationdefaults": {
           "arrowcolor": "#2a3f5f",
           "arrowhead": 0,
           "arrowwidth": 1
          },
          "autotypenumbers": "strict",
          "coloraxis": {
           "colorbar": {
            "outlinewidth": 0,
            "ticks": ""
           }
          },
          "colorscale": {
           "diverging": [
            [
             0,
             "#8e0152"
            ],
            [
             0.1,
             "#c51b7d"
            ],
            [
             0.2,
             "#de77ae"
            ],
            [
             0.3,
             "#f1b6da"
            ],
            [
             0.4,
             "#fde0ef"
            ],
            [
             0.5,
             "#f7f7f7"
            ],
            [
             0.6,
             "#e6f5d0"
            ],
            [
             0.7,
             "#b8e186"
            ],
            [
             0.8,
             "#7fbc41"
            ],
            [
             0.9,
             "#4d9221"
            ],
            [
             1,
             "#276419"
            ]
           ],
           "sequential": [
            [
             0,
             "#0d0887"
            ],
            [
             0.1111111111111111,
             "#46039f"
            ],
            [
             0.2222222222222222,
             "#7201a8"
            ],
            [
             0.3333333333333333,
             "#9c179e"
            ],
            [
             0.4444444444444444,
             "#bd3786"
            ],
            [
             0.5555555555555556,
             "#d8576b"
            ],
            [
             0.6666666666666666,
             "#ed7953"
            ],
            [
             0.7777777777777778,
             "#fb9f3a"
            ],
            [
             0.8888888888888888,
             "#fdca26"
            ],
            [
             1,
             "#f0f921"
            ]
           ],
           "sequentialminus": [
            [
             0,
             "#0d0887"
            ],
            [
             0.1111111111111111,
             "#46039f"
            ],
            [
             0.2222222222222222,
             "#7201a8"
            ],
            [
             0.3333333333333333,
             "#9c179e"
            ],
            [
             0.4444444444444444,
             "#bd3786"
            ],
            [
             0.5555555555555556,
             "#d8576b"
            ],
            [
             0.6666666666666666,
             "#ed7953"
            ],
            [
             0.7777777777777778,
             "#fb9f3a"
            ],
            [
             0.8888888888888888,
             "#fdca26"
            ],
            [
             1,
             "#f0f921"
            ]
           ]
          },
          "colorway": [
           "#636efa",
           "#EF553B",
           "#00cc96",
           "#ab63fa",
           "#FFA15A",
           "#19d3f3",
           "#FF6692",
           "#B6E880",
           "#FF97FF",
           "#FECB52"
          ],
          "font": {
           "color": "#2a3f5f"
          },
          "geo": {
           "bgcolor": "white",
           "lakecolor": "white",
           "landcolor": "#E5ECF6",
           "showlakes": true,
           "showland": true,
           "subunitcolor": "white"
          },
          "hoverlabel": {
           "align": "left"
          },
          "hovermode": "closest",
          "mapbox": {
           "style": "light"
          },
          "paper_bgcolor": "white",
          "plot_bgcolor": "#E5ECF6",
          "polar": {
           "angularaxis": {
            "gridcolor": "white",
            "linecolor": "white",
            "ticks": ""
           },
           "bgcolor": "#E5ECF6",
           "radialaxis": {
            "gridcolor": "white",
            "linecolor": "white",
            "ticks": ""
           }
          },
          "scene": {
           "xaxis": {
            "backgroundcolor": "#E5ECF6",
            "gridcolor": "white",
            "gridwidth": 2,
            "linecolor": "white",
            "showbackground": true,
            "ticks": "",
            "zerolinecolor": "white"
           },
           "yaxis": {
            "backgroundcolor": "#E5ECF6",
            "gridcolor": "white",
            "gridwidth": 2,
            "linecolor": "white",
            "showbackground": true,
            "ticks": "",
            "zerolinecolor": "white"
           },
           "zaxis": {
            "backgroundcolor": "#E5ECF6",
            "gridcolor": "white",
            "gridwidth": 2,
            "linecolor": "white",
            "showbackground": true,
            "ticks": "",
            "zerolinecolor": "white"
           }
          },
          "shapedefaults": {
           "line": {
            "color": "#2a3f5f"
           }
          },
          "ternary": {
           "aaxis": {
            "gridcolor": "white",
            "linecolor": "white",
            "ticks": ""
           },
           "baxis": {
            "gridcolor": "white",
            "linecolor": "white",
            "ticks": ""
           },
           "bgcolor": "#E5ECF6",
           "caxis": {
            "gridcolor": "white",
            "linecolor": "white",
            "ticks": ""
           }
          },
          "title": {
           "x": 0.05
          },
          "xaxis": {
           "automargin": true,
           "gridcolor": "white",
           "linecolor": "white",
           "ticks": "",
           "title": {
            "standoff": 15
           },
           "zerolinecolor": "white",
           "zerolinewidth": 2
          },
          "yaxis": {
           "automargin": true,
           "gridcolor": "white",
           "linecolor": "white",
           "ticks": "",
           "title": {
            "standoff": 15
           },
           "zerolinecolor": "white",
           "zerolinewidth": 2
          }
         }
        },
        "title": {
         "text": "Distribution du prix de location par jour"
        },
        "xaxis": {
         "anchor": "y",
         "domain": [
          0,
          1
         ],
         "title": {
          "text": "Prix (€)"
         }
        },
        "yaxis": {
         "anchor": "x",
         "domain": [
          0,
          1
         ],
         "title": {
          "text": "count"
         }
        }
       }
      }
     },
     "metadata": {},
     "output_type": "display_data"
    },
    {
     "name": "stdout",
     "output_type": "stream",
     "text": [
      "\n",
      "... Prix médian par marque ...\n",
      "La marque Suzuki présente le prix médian de location le plus élevé à 214 €,\n",
      "mais ce chiffre n’est pas représentatif, car il ne repose que sur 8 locations dans le jeu de données.\n"
     ]
    },
    {
     "data": {
      "application/vnd.plotly.v1+json": {
       "config": {
        "plotlyServerURL": "https://plot.ly"
       },
       "data": [
        {
         "hovertemplate": "Marque=%{x}<br>Prix médian (€)=%{marker.color}<extra></extra>",
         "legendgroup": "",
         "marker": {
          "color": {
           "bdata": "AAAAAADAakAAAAAAAIBpQAAAAAAAIGhAAAAAAAAAZ0AAAAAAAMBmQAAAAAAAQGZAAAAAAAAAZkAAAAAAAMBjQAAAAAAAwGNAAAAAAACwY0AAAAAAAKBjQAAAAAAAYGNAAAAAAAAgYkAAAAAAABBiQAAAAAAAoGFAAAAAAACgYEAAAAAAAKBgQAAAAAAAgGBAAAAAAACAYEAAAAAAAEBeQAAAAAAAAF5AAAAAAACAXUAAAAAAAIBcQAAAAAAAgFxAAAAAAABAW0AAAAAAAMBaQAAAAAAAQFdAAAAAAADAUEA=",
           "dtype": "f8"
          },
          "coloraxis": "coloraxis",
          "pattern": {
           "shape": ""
          }
         },
         "name": "",
         "orientation": "v",
         "showlegend": false,
         "textposition": "auto",
         "type": "bar",
         "x": [
          "Suzuki",
          "Mini",
          "Lexus",
          "Mitsubishi",
          "Subaru",
          "SEAT",
          "Maserati",
          "Opel",
          "Alfa Romeo",
          "Lamborghini",
          "KIA Motors",
          "Ferrari",
          "Honda",
          "Porsche",
          "Volkswagen",
          "Yamaha",
          "Audi",
          "Toyota",
          "PGO",
          "Renault",
          "Mercedes",
          "BMW",
          "Nissan",
          "Citroën",
          "Ford",
          "Peugeot",
          "Fiat",
          "Mazda"
         ],
         "xaxis": "x",
         "y": {
          "bdata": "AAAAAADAakAAAAAAAIBpQAAAAAAAIGhAAAAAAAAAZ0AAAAAAAMBmQAAAAAAAQGZAAAAAAAAAZkAAAAAAAMBjQAAAAAAAwGNAAAAAAACwY0AAAAAAAKBjQAAAAAAAYGNAAAAAAAAgYkAAAAAAABBiQAAAAAAAoGFAAAAAAACgYEAAAAAAAKBgQAAAAAAAgGBAAAAAAACAYEAAAAAAAEBeQAAAAAAAAF5AAAAAAACAXUAAAAAAAIBcQAAAAAAAgFxAAAAAAABAW0AAAAAAAMBaQAAAAAAAQFdAAAAAAADAUEA=",
          "dtype": "f8"
         },
         "yaxis": "y"
        }
       ],
       "layout": {
        "barmode": "relative",
        "coloraxis": {
         "colorbar": {
          "title": {
           "text": "Prix médian (€)"
          }
         },
         "colorscale": [
          [
           0,
           "rgb(247,252,245)"
          ],
          [
           0.125,
           "rgb(229,245,224)"
          ],
          [
           0.25,
           "rgb(199,233,192)"
          ],
          [
           0.375,
           "rgb(161,217,155)"
          ],
          [
           0.5,
           "rgb(116,196,118)"
          ],
          [
           0.625,
           "rgb(65,171,93)"
          ],
          [
           0.75,
           "rgb(35,139,69)"
          ],
          [
           0.875,
           "rgb(0,109,44)"
          ],
          [
           1,
           "rgb(0,68,27)"
          ]
         ]
        },
        "legend": {
         "tracegroupgap": 0
        },
        "template": {
         "data": {
          "bar": [
           {
            "error_x": {
             "color": "#2a3f5f"
            },
            "error_y": {
             "color": "#2a3f5f"
            },
            "marker": {
             "line": {
              "color": "#E5ECF6",
              "width": 0.5
             },
             "pattern": {
              "fillmode": "overlay",
              "size": 10,
              "solidity": 0.2
             }
            },
            "type": "bar"
           }
          ],
          "barpolar": [
           {
            "marker": {
             "line": {
              "color": "#E5ECF6",
              "width": 0.5
             },
             "pattern": {
              "fillmode": "overlay",
              "size": 10,
              "solidity": 0.2
             }
            },
            "type": "barpolar"
           }
          ],
          "carpet": [
           {
            "aaxis": {
             "endlinecolor": "#2a3f5f",
             "gridcolor": "white",
             "linecolor": "white",
             "minorgridcolor": "white",
             "startlinecolor": "#2a3f5f"
            },
            "baxis": {
             "endlinecolor": "#2a3f5f",
             "gridcolor": "white",
             "linecolor": "white",
             "minorgridcolor": "white",
             "startlinecolor": "#2a3f5f"
            },
            "type": "carpet"
           }
          ],
          "choropleth": [
           {
            "colorbar": {
             "outlinewidth": 0,
             "ticks": ""
            },
            "type": "choropleth"
           }
          ],
          "contour": [
           {
            "colorbar": {
             "outlinewidth": 0,
             "ticks": ""
            },
            "colorscale": [
             [
              0,
              "#0d0887"
             ],
             [
              0.1111111111111111,
              "#46039f"
             ],
             [
              0.2222222222222222,
              "#7201a8"
             ],
             [
              0.3333333333333333,
              "#9c179e"
             ],
             [
              0.4444444444444444,
              "#bd3786"
             ],
             [
              0.5555555555555556,
              "#d8576b"
             ],
             [
              0.6666666666666666,
              "#ed7953"
             ],
             [
              0.7777777777777778,
              "#fb9f3a"
             ],
             [
              0.8888888888888888,
              "#fdca26"
             ],
             [
              1,
              "#f0f921"
             ]
            ],
            "type": "contour"
           }
          ],
          "contourcarpet": [
           {
            "colorbar": {
             "outlinewidth": 0,
             "ticks": ""
            },
            "type": "contourcarpet"
           }
          ],
          "heatmap": [
           {
            "colorbar": {
             "outlinewidth": 0,
             "ticks": ""
            },
            "colorscale": [
             [
              0,
              "#0d0887"
             ],
             [
              0.1111111111111111,
              "#46039f"
             ],
             [
              0.2222222222222222,
              "#7201a8"
             ],
             [
              0.3333333333333333,
              "#9c179e"
             ],
             [
              0.4444444444444444,
              "#bd3786"
             ],
             [
              0.5555555555555556,
              "#d8576b"
             ],
             [
              0.6666666666666666,
              "#ed7953"
             ],
             [
              0.7777777777777778,
              "#fb9f3a"
             ],
             [
              0.8888888888888888,
              "#fdca26"
             ],
             [
              1,
              "#f0f921"
             ]
            ],
            "type": "heatmap"
           }
          ],
          "histogram": [
           {
            "marker": {
             "pattern": {
              "fillmode": "overlay",
              "size": 10,
              "solidity": 0.2
             }
            },
            "type": "histogram"
           }
          ],
          "histogram2d": [
           {
            "colorbar": {
             "outlinewidth": 0,
             "ticks": ""
            },
            "colorscale": [
             [
              0,
              "#0d0887"
             ],
             [
              0.1111111111111111,
              "#46039f"
             ],
             [
              0.2222222222222222,
              "#7201a8"
             ],
             [
              0.3333333333333333,
              "#9c179e"
             ],
             [
              0.4444444444444444,
              "#bd3786"
             ],
             [
              0.5555555555555556,
              "#d8576b"
             ],
             [
              0.6666666666666666,
              "#ed7953"
             ],
             [
              0.7777777777777778,
              "#fb9f3a"
             ],
             [
              0.8888888888888888,
              "#fdca26"
             ],
             [
              1,
              "#f0f921"
             ]
            ],
            "type": "histogram2d"
           }
          ],
          "histogram2dcontour": [
           {
            "colorbar": {
             "outlinewidth": 0,
             "ticks": ""
            },
            "colorscale": [
             [
              0,
              "#0d0887"
             ],
             [
              0.1111111111111111,
              "#46039f"
             ],
             [
              0.2222222222222222,
              "#7201a8"
             ],
             [
              0.3333333333333333,
              "#9c179e"
             ],
             [
              0.4444444444444444,
              "#bd3786"
             ],
             [
              0.5555555555555556,
              "#d8576b"
             ],
             [
              0.6666666666666666,
              "#ed7953"
             ],
             [
              0.7777777777777778,
              "#fb9f3a"
             ],
             [
              0.8888888888888888,
              "#fdca26"
             ],
             [
              1,
              "#f0f921"
             ]
            ],
            "type": "histogram2dcontour"
           }
          ],
          "mesh3d": [
           {
            "colorbar": {
             "outlinewidth": 0,
             "ticks": ""
            },
            "type": "mesh3d"
           }
          ],
          "parcoords": [
           {
            "line": {
             "colorbar": {
              "outlinewidth": 0,
              "ticks": ""
             }
            },
            "type": "parcoords"
           }
          ],
          "pie": [
           {
            "automargin": true,
            "type": "pie"
           }
          ],
          "scatter": [
           {
            "fillpattern": {
             "fillmode": "overlay",
             "size": 10,
             "solidity": 0.2
            },
            "type": "scatter"
           }
          ],
          "scatter3d": [
           {
            "line": {
             "colorbar": {
              "outlinewidth": 0,
              "ticks": ""
             }
            },
            "marker": {
             "colorbar": {
              "outlinewidth": 0,
              "ticks": ""
             }
            },
            "type": "scatter3d"
           }
          ],
          "scattercarpet": [
           {
            "marker": {
             "colorbar": {
              "outlinewidth": 0,
              "ticks": ""
             }
            },
            "type": "scattercarpet"
           }
          ],
          "scattergeo": [
           {
            "marker": {
             "colorbar": {
              "outlinewidth": 0,
              "ticks": ""
             }
            },
            "type": "scattergeo"
           }
          ],
          "scattergl": [
           {
            "marker": {
             "colorbar": {
              "outlinewidth": 0,
              "ticks": ""
             }
            },
            "type": "scattergl"
           }
          ],
          "scattermap": [
           {
            "marker": {
             "colorbar": {
              "outlinewidth": 0,
              "ticks": ""
             }
            },
            "type": "scattermap"
           }
          ],
          "scattermapbox": [
           {
            "marker": {
             "colorbar": {
              "outlinewidth": 0,
              "ticks": ""
             }
            },
            "type": "scattermapbox"
           }
          ],
          "scatterpolar": [
           {
            "marker": {
             "colorbar": {
              "outlinewidth": 0,
              "ticks": ""
             }
            },
            "type": "scatterpolar"
           }
          ],
          "scatterpolargl": [
           {
            "marker": {
             "colorbar": {
              "outlinewidth": 0,
              "ticks": ""
             }
            },
            "type": "scatterpolargl"
           }
          ],
          "scatterternary": [
           {
            "marker": {
             "colorbar": {
              "outlinewidth": 0,
              "ticks": ""
             }
            },
            "type": "scatterternary"
           }
          ],
          "surface": [
           {
            "colorbar": {
             "outlinewidth": 0,
             "ticks": ""
            },
            "colorscale": [
             [
              0,
              "#0d0887"
             ],
             [
              0.1111111111111111,
              "#46039f"
             ],
             [
              0.2222222222222222,
              "#7201a8"
             ],
             [
              0.3333333333333333,
              "#9c179e"
             ],
             [
              0.4444444444444444,
              "#bd3786"
             ],
             [
              0.5555555555555556,
              "#d8576b"
             ],
             [
              0.6666666666666666,
              "#ed7953"
             ],
             [
              0.7777777777777778,
              "#fb9f3a"
             ],
             [
              0.8888888888888888,
              "#fdca26"
             ],
             [
              1,
              "#f0f921"
             ]
            ],
            "type": "surface"
           }
          ],
          "table": [
           {
            "cells": {
             "fill": {
              "color": "#EBF0F8"
             },
             "line": {
              "color": "white"
             }
            },
            "header": {
             "fill": {
              "color": "#C8D4E3"
             },
             "line": {
              "color": "white"
             }
            },
            "type": "table"
           }
          ]
         },
         "layout": {
          "annotationdefaults": {
           "arrowcolor": "#2a3f5f",
           "arrowhead": 0,
           "arrowwidth": 1
          },
          "autotypenumbers": "strict",
          "coloraxis": {
           "colorbar": {
            "outlinewidth": 0,
            "ticks": ""
           }
          },
          "colorscale": {
           "diverging": [
            [
             0,
             "#8e0152"
            ],
            [
             0.1,
             "#c51b7d"
            ],
            [
             0.2,
             "#de77ae"
            ],
            [
             0.3,
             "#f1b6da"
            ],
            [
             0.4,
             "#fde0ef"
            ],
            [
             0.5,
             "#f7f7f7"
            ],
            [
             0.6,
             "#e6f5d0"
            ],
            [
             0.7,
             "#b8e186"
            ],
            [
             0.8,
             "#7fbc41"
            ],
            [
             0.9,
             "#4d9221"
            ],
            [
             1,
             "#276419"
            ]
           ],
           "sequential": [
            [
             0,
             "#0d0887"
            ],
            [
             0.1111111111111111,
             "#46039f"
            ],
            [
             0.2222222222222222,
             "#7201a8"
            ],
            [
             0.3333333333333333,
             "#9c179e"
            ],
            [
             0.4444444444444444,
             "#bd3786"
            ],
            [
             0.5555555555555556,
             "#d8576b"
            ],
            [
             0.6666666666666666,
             "#ed7953"
            ],
            [
             0.7777777777777778,
             "#fb9f3a"
            ],
            [
             0.8888888888888888,
             "#fdca26"
            ],
            [
             1,
             "#f0f921"
            ]
           ],
           "sequentialminus": [
            [
             0,
             "#0d0887"
            ],
            [
             0.1111111111111111,
             "#46039f"
            ],
            [
             0.2222222222222222,
             "#7201a8"
            ],
            [
             0.3333333333333333,
             "#9c179e"
            ],
            [
             0.4444444444444444,
             "#bd3786"
            ],
            [
             0.5555555555555556,
             "#d8576b"
            ],
            [
             0.6666666666666666,
             "#ed7953"
            ],
            [
             0.7777777777777778,
             "#fb9f3a"
            ],
            [
             0.8888888888888888,
             "#fdca26"
            ],
            [
             1,
             "#f0f921"
            ]
           ]
          },
          "colorway": [
           "#636efa",
           "#EF553B",
           "#00cc96",
           "#ab63fa",
           "#FFA15A",
           "#19d3f3",
           "#FF6692",
           "#B6E880",
           "#FF97FF",
           "#FECB52"
          ],
          "font": {
           "color": "#2a3f5f"
          },
          "geo": {
           "bgcolor": "white",
           "lakecolor": "white",
           "landcolor": "#E5ECF6",
           "showlakes": true,
           "showland": true,
           "subunitcolor": "white"
          },
          "hoverlabel": {
           "align": "left"
          },
          "hovermode": "closest",
          "mapbox": {
           "style": "light"
          },
          "paper_bgcolor": "white",
          "plot_bgcolor": "#E5ECF6",
          "polar": {
           "angularaxis": {
            "gridcolor": "white",
            "linecolor": "white",
            "ticks": ""
           },
           "bgcolor": "#E5ECF6",
           "radialaxis": {
            "gridcolor": "white",
            "linecolor": "white",
            "ticks": ""
           }
          },
          "scene": {
           "xaxis": {
            "backgroundcolor": "#E5ECF6",
            "gridcolor": "white",
            "gridwidth": 2,
            "linecolor": "white",
            "showbackground": true,
            "ticks": "",
            "zerolinecolor": "white"
           },
           "yaxis": {
            "backgroundcolor": "#E5ECF6",
            "gridcolor": "white",
            "gridwidth": 2,
            "linecolor": "white",
            "showbackground": true,
            "ticks": "",
            "zerolinecolor": "white"
           },
           "zaxis": {
            "backgroundcolor": "#E5ECF6",
            "gridcolor": "white",
            "gridwidth": 2,
            "linecolor": "white",
            "showbackground": true,
            "ticks": "",
            "zerolinecolor": "white"
           }
          },
          "shapedefaults": {
           "line": {
            "color": "#2a3f5f"
           }
          },
          "ternary": {
           "aaxis": {
            "gridcolor": "white",
            "linecolor": "white",
            "ticks": ""
           },
           "baxis": {
            "gridcolor": "white",
            "linecolor": "white",
            "ticks": ""
           },
           "bgcolor": "#E5ECF6",
           "caxis": {
            "gridcolor": "white",
            "linecolor": "white",
            "ticks": ""
           }
          },
          "title": {
           "x": 0.05
          },
          "xaxis": {
           "automargin": true,
           "gridcolor": "white",
           "linecolor": "white",
           "ticks": "",
           "title": {
            "standoff": 15
           },
           "zerolinecolor": "white",
           "zerolinewidth": 2
          },
          "yaxis": {
           "automargin": true,
           "gridcolor": "white",
           "linecolor": "white",
           "ticks": "",
           "title": {
            "standoff": 15
           },
           "zerolinecolor": "white",
           "zerolinewidth": 2
          }
         }
        },
        "title": {
         "text": "Prix médian de location - Toutes les marques"
        },
        "xaxis": {
         "anchor": "y",
         "domain": [
          0,
          1
         ],
         "tickangle": -45,
         "title": {
          "text": "Marque"
         }
        },
        "yaxis": {
         "anchor": "x",
         "domain": [
          0,
          1
         ],
         "title": {
          "text": "Prix médian (€)"
         }
        }
       }
      }
     },
     "metadata": {},
     "output_type": "display_data"
    },
    {
     "name": "stdout",
     "output_type": "stream",
     "text": [
      "\n",
      "... Prix médian par marque (Top 10) ...\n",
      "Parmi les 10 marques les plus représentées, Mitsubishi affiche le prix médian de location le plus élevé à 184 €,\n",
      "suivi de Volkswagen avec une médiane de 141 €.\n"
     ]
    },
    {
     "data": {
      "application/vnd.plotly.v1+json": {
       "config": {
        "plotlyServerURL": "https://plot.ly"
       },
       "data": [
        {
         "hovertemplate": "Marque=%{x}<br>Prix médian (€)=%{marker.color}<extra></extra>",
         "legendgroup": "",
         "marker": {
          "color": {
           "bdata": "AAAAAAAAZ0AAAAAAAKBhQAAAAAAAoGBAAAAAAACAYEAAAAAAAEBeQAAAAAAAAF5AAAAAAACAXUAAAAAAAIBcQAAAAAAAgFxAAAAAAADAWkA=",
           "dtype": "f8"
          },
          "coloraxis": "coloraxis",
          "pattern": {
           "shape": ""
          }
         },
         "name": "",
         "orientation": "v",
         "showlegend": false,
         "textposition": "auto",
         "type": "bar",
         "x": [
          "Mitsubishi",
          "Volkswagen",
          "Audi",
          "Toyota",
          "Renault",
          "Mercedes",
          "BMW",
          "Citroën",
          "Nissan",
          "Peugeot"
         ],
         "xaxis": "x",
         "y": {
          "bdata": "AAAAAAAAZ0AAAAAAAKBhQAAAAAAAoGBAAAAAAACAYEAAAAAAAEBeQAAAAAAAAF5AAAAAAACAXUAAAAAAAIBcQAAAAAAAgFxAAAAAAADAWkA=",
          "dtype": "f8"
         },
         "yaxis": "y"
        }
       ],
       "layout": {
        "barmode": "relative",
        "coloraxis": {
         "colorbar": {
          "title": {
           "text": "Prix médian (€)"
          }
         },
         "colorscale": [
          [
           0,
           "rgb(247,252,245)"
          ],
          [
           0.125,
           "rgb(229,245,224)"
          ],
          [
           0.25,
           "rgb(199,233,192)"
          ],
          [
           0.375,
           "rgb(161,217,155)"
          ],
          [
           0.5,
           "rgb(116,196,118)"
          ],
          [
           0.625,
           "rgb(65,171,93)"
          ],
          [
           0.75,
           "rgb(35,139,69)"
          ],
          [
           0.875,
           "rgb(0,109,44)"
          ],
          [
           1,
           "rgb(0,68,27)"
          ]
         ]
        },
        "legend": {
         "tracegroupgap": 0
        },
        "template": {
         "data": {
          "bar": [
           {
            "error_x": {
             "color": "#2a3f5f"
            },
            "error_y": {
             "color": "#2a3f5f"
            },
            "marker": {
             "line": {
              "color": "#E5ECF6",
              "width": 0.5
             },
             "pattern": {
              "fillmode": "overlay",
              "size": 10,
              "solidity": 0.2
             }
            },
            "type": "bar"
           }
          ],
          "barpolar": [
           {
            "marker": {
             "line": {
              "color": "#E5ECF6",
              "width": 0.5
             },
             "pattern": {
              "fillmode": "overlay",
              "size": 10,
              "solidity": 0.2
             }
            },
            "type": "barpolar"
           }
          ],
          "carpet": [
           {
            "aaxis": {
             "endlinecolor": "#2a3f5f",
             "gridcolor": "white",
             "linecolor": "white",
             "minorgridcolor": "white",
             "startlinecolor": "#2a3f5f"
            },
            "baxis": {
             "endlinecolor": "#2a3f5f",
             "gridcolor": "white",
             "linecolor": "white",
             "minorgridcolor": "white",
             "startlinecolor": "#2a3f5f"
            },
            "type": "carpet"
           }
          ],
          "choropleth": [
           {
            "colorbar": {
             "outlinewidth": 0,
             "ticks": ""
            },
            "type": "choropleth"
           }
          ],
          "contour": [
           {
            "colorbar": {
             "outlinewidth": 0,
             "ticks": ""
            },
            "colorscale": [
             [
              0,
              "#0d0887"
             ],
             [
              0.1111111111111111,
              "#46039f"
             ],
             [
              0.2222222222222222,
              "#7201a8"
             ],
             [
              0.3333333333333333,
              "#9c179e"
             ],
             [
              0.4444444444444444,
              "#bd3786"
             ],
             [
              0.5555555555555556,
              "#d8576b"
             ],
             [
              0.6666666666666666,
              "#ed7953"
             ],
             [
              0.7777777777777778,
              "#fb9f3a"
             ],
             [
              0.8888888888888888,
              "#fdca26"
             ],
             [
              1,
              "#f0f921"
             ]
            ],
            "type": "contour"
           }
          ],
          "contourcarpet": [
           {
            "colorbar": {
             "outlinewidth": 0,
             "ticks": ""
            },
            "type": "contourcarpet"
           }
          ],
          "heatmap": [
           {
            "colorbar": {
             "outlinewidth": 0,
             "ticks": ""
            },
            "colorscale": [
             [
              0,
              "#0d0887"
             ],
             [
              0.1111111111111111,
              "#46039f"
             ],
             [
              0.2222222222222222,
              "#7201a8"
             ],
             [
              0.3333333333333333,
              "#9c179e"
             ],
             [
              0.4444444444444444,
              "#bd3786"
             ],
             [
              0.5555555555555556,
              "#d8576b"
             ],
             [
              0.6666666666666666,
              "#ed7953"
             ],
             [
              0.7777777777777778,
              "#fb9f3a"
             ],
             [
              0.8888888888888888,
              "#fdca26"
             ],
             [
              1,
              "#f0f921"
             ]
            ],
            "type": "heatmap"
           }
          ],
          "histogram": [
           {
            "marker": {
             "pattern": {
              "fillmode": "overlay",
              "size": 10,
              "solidity": 0.2
             }
            },
            "type": "histogram"
           }
          ],
          "histogram2d": [
           {
            "colorbar": {
             "outlinewidth": 0,
             "ticks": ""
            },
            "colorscale": [
             [
              0,
              "#0d0887"
             ],
             [
              0.1111111111111111,
              "#46039f"
             ],
             [
              0.2222222222222222,
              "#7201a8"
             ],
             [
              0.3333333333333333,
              "#9c179e"
             ],
             [
              0.4444444444444444,
              "#bd3786"
             ],
             [
              0.5555555555555556,
              "#d8576b"
             ],
             [
              0.6666666666666666,
              "#ed7953"
             ],
             [
              0.7777777777777778,
              "#fb9f3a"
             ],
             [
              0.8888888888888888,
              "#fdca26"
             ],
             [
              1,
              "#f0f921"
             ]
            ],
            "type": "histogram2d"
           }
          ],
          "histogram2dcontour": [
           {
            "colorbar": {
             "outlinewidth": 0,
             "ticks": ""
            },
            "colorscale": [
             [
              0,
              "#0d0887"
             ],
             [
              0.1111111111111111,
              "#46039f"
             ],
             [
              0.2222222222222222,
              "#7201a8"
             ],
             [
              0.3333333333333333,
              "#9c179e"
             ],
             [
              0.4444444444444444,
              "#bd3786"
             ],
             [
              0.5555555555555556,
              "#d8576b"
             ],
             [
              0.6666666666666666,
              "#ed7953"
             ],
             [
              0.7777777777777778,
              "#fb9f3a"
             ],
             [
              0.8888888888888888,
              "#fdca26"
             ],
             [
              1,
              "#f0f921"
             ]
            ],
            "type": "histogram2dcontour"
           }
          ],
          "mesh3d": [
           {
            "colorbar": {
             "outlinewidth": 0,
             "ticks": ""
            },
            "type": "mesh3d"
           }
          ],
          "parcoords": [
           {
            "line": {
             "colorbar": {
              "outlinewidth": 0,
              "ticks": ""
             }
            },
            "type": "parcoords"
           }
          ],
          "pie": [
           {
            "automargin": true,
            "type": "pie"
           }
          ],
          "scatter": [
           {
            "fillpattern": {
             "fillmode": "overlay",
             "size": 10,
             "solidity": 0.2
            },
            "type": "scatter"
           }
          ],
          "scatter3d": [
           {
            "line": {
             "colorbar": {
              "outlinewidth": 0,
              "ticks": ""
             }
            },
            "marker": {
             "colorbar": {
              "outlinewidth": 0,
              "ticks": ""
             }
            },
            "type": "scatter3d"
           }
          ],
          "scattercarpet": [
           {
            "marker": {
             "colorbar": {
              "outlinewidth": 0,
              "ticks": ""
             }
            },
            "type": "scattercarpet"
           }
          ],
          "scattergeo": [
           {
            "marker": {
             "colorbar": {
              "outlinewidth": 0,
              "ticks": ""
             }
            },
            "type": "scattergeo"
           }
          ],
          "scattergl": [
           {
            "marker": {
             "colorbar": {
              "outlinewidth": 0,
              "ticks": ""
             }
            },
            "type": "scattergl"
           }
          ],
          "scattermap": [
           {
            "marker": {
             "colorbar": {
              "outlinewidth": 0,
              "ticks": ""
             }
            },
            "type": "scattermap"
           }
          ],
          "scattermapbox": [
           {
            "marker": {
             "colorbar": {
              "outlinewidth": 0,
              "ticks": ""
             }
            },
            "type": "scattermapbox"
           }
          ],
          "scatterpolar": [
           {
            "marker": {
             "colorbar": {
              "outlinewidth": 0,
              "ticks": ""
             }
            },
            "type": "scatterpolar"
           }
          ],
          "scatterpolargl": [
           {
            "marker": {
             "colorbar": {
              "outlinewidth": 0,
              "ticks": ""
             }
            },
            "type": "scatterpolargl"
           }
          ],
          "scatterternary": [
           {
            "marker": {
             "colorbar": {
              "outlinewidth": 0,
              "ticks": ""
             }
            },
            "type": "scatterternary"
           }
          ],
          "surface": [
           {
            "colorbar": {
             "outlinewidth": 0,
             "ticks": ""
            },
            "colorscale": [
             [
              0,
              "#0d0887"
             ],
             [
              0.1111111111111111,
              "#46039f"
             ],
             [
              0.2222222222222222,
              "#7201a8"
             ],
             [
              0.3333333333333333,
              "#9c179e"
             ],
             [
              0.4444444444444444,
              "#bd3786"
             ],
             [
              0.5555555555555556,
              "#d8576b"
             ],
             [
              0.6666666666666666,
              "#ed7953"
             ],
             [
              0.7777777777777778,
              "#fb9f3a"
             ],
             [
              0.8888888888888888,
              "#fdca26"
             ],
             [
              1,
              "#f0f921"
             ]
            ],
            "type": "surface"
           }
          ],
          "table": [
           {
            "cells": {
             "fill": {
              "color": "#EBF0F8"
             },
             "line": {
              "color": "white"
             }
            },
            "header": {
             "fill": {
              "color": "#C8D4E3"
             },
             "line": {
              "color": "white"
             }
            },
            "type": "table"
           }
          ]
         },
         "layout": {
          "annotationdefaults": {
           "arrowcolor": "#2a3f5f",
           "arrowhead": 0,
           "arrowwidth": 1
          },
          "autotypenumbers": "strict",
          "coloraxis": {
           "colorbar": {
            "outlinewidth": 0,
            "ticks": ""
           }
          },
          "colorscale": {
           "diverging": [
            [
             0,
             "#8e0152"
            ],
            [
             0.1,
             "#c51b7d"
            ],
            [
             0.2,
             "#de77ae"
            ],
            [
             0.3,
             "#f1b6da"
            ],
            [
             0.4,
             "#fde0ef"
            ],
            [
             0.5,
             "#f7f7f7"
            ],
            [
             0.6,
             "#e6f5d0"
            ],
            [
             0.7,
             "#b8e186"
            ],
            [
             0.8,
             "#7fbc41"
            ],
            [
             0.9,
             "#4d9221"
            ],
            [
             1,
             "#276419"
            ]
           ],
           "sequential": [
            [
             0,
             "#0d0887"
            ],
            [
             0.1111111111111111,
             "#46039f"
            ],
            [
             0.2222222222222222,
             "#7201a8"
            ],
            [
             0.3333333333333333,
             "#9c179e"
            ],
            [
             0.4444444444444444,
             "#bd3786"
            ],
            [
             0.5555555555555556,
             "#d8576b"
            ],
            [
             0.6666666666666666,
             "#ed7953"
            ],
            [
             0.7777777777777778,
             "#fb9f3a"
            ],
            [
             0.8888888888888888,
             "#fdca26"
            ],
            [
             1,
             "#f0f921"
            ]
           ],
           "sequentialminus": [
            [
             0,
             "#0d0887"
            ],
            [
             0.1111111111111111,
             "#46039f"
            ],
            [
             0.2222222222222222,
             "#7201a8"
            ],
            [
             0.3333333333333333,
             "#9c179e"
            ],
            [
             0.4444444444444444,
             "#bd3786"
            ],
            [
             0.5555555555555556,
             "#d8576b"
            ],
            [
             0.6666666666666666,
             "#ed7953"
            ],
            [
             0.7777777777777778,
             "#fb9f3a"
            ],
            [
             0.8888888888888888,
             "#fdca26"
            ],
            [
             1,
             "#f0f921"
            ]
           ]
          },
          "colorway": [
           "#636efa",
           "#EF553B",
           "#00cc96",
           "#ab63fa",
           "#FFA15A",
           "#19d3f3",
           "#FF6692",
           "#B6E880",
           "#FF97FF",
           "#FECB52"
          ],
          "font": {
           "color": "#2a3f5f"
          },
          "geo": {
           "bgcolor": "white",
           "lakecolor": "white",
           "landcolor": "#E5ECF6",
           "showlakes": true,
           "showland": true,
           "subunitcolor": "white"
          },
          "hoverlabel": {
           "align": "left"
          },
          "hovermode": "closest",
          "mapbox": {
           "style": "light"
          },
          "paper_bgcolor": "white",
          "plot_bgcolor": "#E5ECF6",
          "polar": {
           "angularaxis": {
            "gridcolor": "white",
            "linecolor": "white",
            "ticks": ""
           },
           "bgcolor": "#E5ECF6",
           "radialaxis": {
            "gridcolor": "white",
            "linecolor": "white",
            "ticks": ""
           }
          },
          "scene": {
           "xaxis": {
            "backgroundcolor": "#E5ECF6",
            "gridcolor": "white",
            "gridwidth": 2,
            "linecolor": "white",
            "showbackground": true,
            "ticks": "",
            "zerolinecolor": "white"
           },
           "yaxis": {
            "backgroundcolor": "#E5ECF6",
            "gridcolor": "white",
            "gridwidth": 2,
            "linecolor": "white",
            "showbackground": true,
            "ticks": "",
            "zerolinecolor": "white"
           },
           "zaxis": {
            "backgroundcolor": "#E5ECF6",
            "gridcolor": "white",
            "gridwidth": 2,
            "linecolor": "white",
            "showbackground": true,
            "ticks": "",
            "zerolinecolor": "white"
           }
          },
          "shapedefaults": {
           "line": {
            "color": "#2a3f5f"
           }
          },
          "ternary": {
           "aaxis": {
            "gridcolor": "white",
            "linecolor": "white",
            "ticks": ""
           },
           "baxis": {
            "gridcolor": "white",
            "linecolor": "white",
            "ticks": ""
           },
           "bgcolor": "#E5ECF6",
           "caxis": {
            "gridcolor": "white",
            "linecolor": "white",
            "ticks": ""
           }
          },
          "title": {
           "x": 0.05
          },
          "xaxis": {
           "automargin": true,
           "gridcolor": "white",
           "linecolor": "white",
           "ticks": "",
           "title": {
            "standoff": 15
           },
           "zerolinecolor": "white",
           "zerolinewidth": 2
          },
          "yaxis": {
           "automargin": true,
           "gridcolor": "white",
           "linecolor": "white",
           "ticks": "",
           "title": {
            "standoff": 15
           },
           "zerolinecolor": "white",
           "zerolinewidth": 2
          }
         }
        },
        "title": {
         "text": "Prix médian de location - Top 10 marques"
        },
        "xaxis": {
         "anchor": "y",
         "domain": [
          0,
          1
         ],
         "tickangle": -45,
         "title": {
          "text": "Marque"
         }
        },
        "yaxis": {
         "anchor": "x",
         "domain": [
          0,
          1
         ],
         "title": {
          "text": "Prix médian (€)"
         }
        }
       }
      }
     },
     "metadata": {},
     "output_type": "display_data"
    },
    {
     "name": "stdout",
     "output_type": "stream",
     "text": [
      "La variabilité des prix diffère selon les marques : certaines, comme BMW, Toyota ou Renault,\n",
      "présentent une large dispersion avec des tarifs très bas et très élevés,\n",
      "tandis que  Mercedes et Volkswagen, affichent des prix plus homogènes.\n"
     ]
    },
    {
     "data": {
      "application/vnd.plotly.v1+json": {
       "config": {
        "plotlyServerURL": "https://plot.ly"
       },
       "data": [
        {
         "alignmentgroup": "True",
         "box": {
          "visible": true
         },
         "hovertemplate": "Marque=%{x}<br>Prix par jour (€)=%{y}<extra></extra>",
         "legendgroup": "Citroën",
         "marker": {
          "color": "#636efa"
         },
         "name": "Citroën",
         "offsetgroup": "Citroën",
         "orientation": "v",
         "points": "suspectedoutliers",
         "scalegroup": "True",
         "showlegend": true,
         "type": "violin",
         "x": [
          "Citroën",
          "Citroën",
          "Citroën",
          "Citroën",
          "Citroën",
          "Citroën",
          "Citroën",
          "Citroën",
          "Citroën",
          "Citroën",
          "Citroën",
          "Citroën",
          "Citroën",
          "Citroën",
          "Citroën",
          "Citroën",
          "Citroën",
          "Citroën",
          "Citroën",
          "Citroën",
          "Citroën",
          "Citroën",
          "Citroën",
          "Citroën",
          "Citroën",
          "Citroën",
          "Citroën",
          "Citroën",
          "Citroën",
          "Citroën",
          "Citroën",
          "Citroën",
          "Citroën",
          "Citroën",
          "Citroën",
          "Citroën",
          "Citroën",
          "Citroën",
          "Citroën",
          "Citroën",
          "Citroën",
          "Citroën",
          "Citroën",
          "Citroën",
          "Citroën",
          "Citroën",
          "Citroën",
          "Citroën",
          "Citroën",
          "Citroën",
          "Citroën",
          "Citroën",
          "Citroën",
          "Citroën",
          "Citroën",
          "Citroën",
          "Citroën",
          "Citroën",
          "Citroën",
          "Citroën",
          "Citroën",
          "Citroën",
          "Citroën",
          "Citroën",
          "Citroën",
          "Citroën",
          "Citroën",
          "Citroën",
          "Citroën",
          "Citroën",
          "Citroën",
          "Citroën",
          "Citroën",
          "Citroën",
          "Citroën",
          "Citroën",
          "Citroën",
          "Citroën",
          "Citroën",
          "Citroën",
          "Citroën",
          "Citroën",
          "Citroën",
          "Citroën",
          "Citroën",
          "Citroën",
          "Citroën",
          "Citroën",
          "Citroën",
          "Citroën",
          "Citroën",
          "Citroën",
          "Citroën",
          "Citroën",
          "Citroën",
          "Citroën",
          "Citroën",
          "Citroën",
          "Citroën",
          "Citroën",
          "Citroën",
          "Citroën",
          "Citroën",
          "Citroën",
          "Citroën",
          "Citroën",
          "Citroën",
          "Citroën",
          "Citroën",
          "Citroën",
          "Citroën",
          "Citroën",
          "Citroën",
          "Citroën",
          "Citroën",
          "Citroën",
          "Citroën",
          "Citroën",
          "Citroën",
          "Citroën",
          "Citroën",
          "Citroën",
          "Citroën",
          "Citroën",
          "Citroën",
          "Citroën",
          "Citroën",
          "Citroën",
          "Citroën",
          "Citroën",
          "Citroën",
          "Citroën",
          "Citroën",
          "Citroën",
          "Citroën",
          "Citroën",
          "Citroën",
          "Citroën",
          "Citroën",
          "Citroën",
          "Citroën",
          "Citroën",
          "Citroën",
          "Citroën",
          "Citroën",
          "Citroën",
          "Citroën",
          "Citroën",
          "Citroën",
          "Citroën",
          "Citroën",
          "Citroën",
          "Citroën",
          "Citroën",
          "Citroën",
          "Citroën",
          "Citroën",
          "Citroën",
          "Citroën",
          "Citroën",
          "Citroën",
          "Citroën",
          "Citroën",
          "Citroën",
          "Citroën",
          "Citroën",
          "Citroën",
          "Citroën",
          "Citroën",
          "Citroën",
          "Citroën",
          "Citroën",
          "Citroën",
          "Citroën",
          "Citroën",
          "Citroën",
          "Citroën",
          "Citroën",
          "Citroën",
          "Citroën",
          "Citroën",
          "Citroën",
          "Citroën",
          "Citroën",
          "Citroën",
          "Citroën",
          "Citroën",
          "Citroën",
          "Citroën",
          "Citroën",
          "Citroën",
          "Citroën",
          "Citroën",
          "Citroën",
          "Citroën",
          "Citroën",
          "Citroën",
          "Citroën",
          "Citroën",
          "Citroën",
          "Citroën",
          "Citroën",
          "Citroën",
          "Citroën",
          "Citroën",
          "Citroën",
          "Citroën",
          "Citroën",
          "Citroën",
          "Citroën",
          "Citroën",
          "Citroën",
          "Citroën",
          "Citroën",
          "Citroën",
          "Citroën",
          "Citroën",
          "Citroën",
          "Citroën",
          "Citroën",
          "Citroën",
          "Citroën",
          "Citroën",
          "Citroën",
          "Citroën",
          "Citroën",
          "Citroën",
          "Citroën",
          "Citroën",
          "Citroën",
          "Citroën",
          "Citroën",
          "Citroën",
          "Citroën",
          "Citroën",
          "Citroën",
          "Citroën",
          "Citroën",
          "Citroën",
          "Citroën",
          "Citroën",
          "Citroën",
          "Citroën",
          "Citroën",
          "Citroën",
          "Citroën",
          "Citroën",
          "Citroën",
          "Citroën",
          "Citroën",
          "Citroën",
          "Citroën",
          "Citroën",
          "Citroën",
          "Citroën",
          "Citroën",
          "Citroën",
          "Citroën",
          "Citroën",
          "Citroën",
          "Citroën",
          "Citroën",
          "Citroën",
          "Citroën",
          "Citroën",
          "Citroën",
          "Citroën",
          "Citroën",
          "Citroën",
          "Citroën",
          "Citroën",
          "Citroën",
          "Citroën",
          "Citroën",
          "Citroën",
          "Citroën",
          "Citroën",
          "Citroën",
          "Citroën",
          "Citroën",
          "Citroën",
          "Citroën",
          "Citroën",
          "Citroën",
          "Citroën",
          "Citroën",
          "Citroën",
          "Citroën",
          "Citroën",
          "Citroën",
          "Citroën",
          "Citroën",
          "Citroën",
          "Citroën",
          "Citroën",
          "Citroën",
          "Citroën",
          "Citroën",
          "Citroën",
          "Citroën",
          "Citroën",
          "Citroën",
          "Citroën",
          "Citroën",
          "Citroën",
          "Citroën",
          "Citroën",
          "Citroën",
          "Citroën",
          "Citroën",
          "Citroën",
          "Citroën",
          "Citroën",
          "Citroën",
          "Citroën",
          "Citroën",
          "Citroën",
          "Citroën",
          "Citroën",
          "Citroën",
          "Citroën",
          "Citroën",
          "Citroën",
          "Citroën",
          "Citroën",
          "Citroën",
          "Citroën",
          "Citroën",
          "Citroën",
          "Citroën",
          "Citroën",
          "Citroën",
          "Citroën",
          "Citroën",
          "Citroën",
          "Citroën",
          "Citroën",
          "Citroën",
          "Citroën",
          "Citroën",
          "Citroën",
          "Citroën",
          "Citroën",
          "Citroën",
          "Citroën",
          "Citroën",
          "Citroën",
          "Citroën",
          "Citroën",
          "Citroën",
          "Citroën",
          "Citroën",
          "Citroën",
          "Citroën",
          "Citroën",
          "Citroën",
          "Citroën",
          "Citroën",
          "Citroën",
          "Citroën",
          "Citroën",
          "Citroën",
          "Citroën",
          "Citroën",
          "Citroën",
          "Citroën",
          "Citroën",
          "Citroën",
          "Citroën",
          "Citroën",
          "Citroën",
          "Citroën",
          "Citroën",
          "Citroën",
          "Citroën",
          "Citroën",
          "Citroën",
          "Citroën",
          "Citroën",
          "Citroën",
          "Citroën",
          "Citroën",
          "Citroën",
          "Citroën",
          "Citroën",
          "Citroën",
          "Citroën",
          "Citroën",
          "Citroën",
          "Citroën",
          "Citroën",
          "Citroën",
          "Citroën",
          "Citroën",
          "Citroën",
          "Citroën",
          "Citroën",
          "Citroën",
          "Citroën",
          "Citroën",
          "Citroën",
          "Citroën",
          "Citroën",
          "Citroën",
          "Citroën",
          "Citroën",
          "Citroën",
          "Citroën",
          "Citroën",
          "Citroën",
          "Citroën",
          "Citroën",
          "Citroën",
          "Citroën",
          "Citroën",
          "Citroën",
          "Citroën",
          "Citroën",
          "Citroën",
          "Citroën",
          "Citroën",
          "Citroën",
          "Citroën",
          "Citroën",
          "Citroën",
          "Citroën",
          "Citroën",
          "Citroën",
          "Citroën",
          "Citroën",
          "Citroën",
          "Citroën",
          "Citroën",
          "Citroën",
          "Citroën",
          "Citroën",
          "Citroën",
          "Citroën",
          "Citroën",
          "Citroën",
          "Citroën",
          "Citroën",
          "Citroën",
          "Citroën",
          "Citroën",
          "Citroën",
          "Citroën",
          "Citroën",
          "Citroën",
          "Citroën",
          "Citroën",
          "Citroën",
          "Citroën",
          "Citroën",
          "Citroën",
          "Citroën",
          "Citroën",
          "Citroën",
          "Citroën",
          "Citroën",
          "Citroën",
          "Citroën",
          "Citroën",
          "Citroën",
          "Citroën",
          "Citroën",
          "Citroën",
          "Citroën",
          "Citroën",
          "Citroën",
          "Citroën",
          "Citroën",
          "Citroën",
          "Citroën",
          "Citroën",
          "Citroën",
          "Citroën",
          "Citroën",
          "Citroën",
          "Citroën",
          "Citroën",
          "Citroën",
          "Citroën",
          "Citroën",
          "Citroën",
          "Citroën",
          "Citroën",
          "Citroën",
          "Citroën",
          "Citroën",
          "Citroën",
          "Citroën",
          "Citroën",
          "Citroën",
          "Citroën",
          "Citroën",
          "Citroën",
          "Citroën",
          "Citroën",
          "Citroën",
          "Citroën",
          "Citroën",
          "Citroën",
          "Citroën",
          "Citroën",
          "Citroën",
          "Citroën",
          "Citroën",
          "Citroën",
          "Citroën",
          "Citroën",
          "Citroën",
          "Citroën",
          "Citroën",
          "Citroën",
          "Citroën",
          "Citroën",
          "Citroën",
          "Citroën",
          "Citroën",
          "Citroën",
          "Citroën",
          "Citroën",
          "Citroën",
          "Citroën",
          "Citroën",
          "Citroën",
          "Citroën",
          "Citroën",
          "Citroën",
          "Citroën",
          "Citroën",
          "Citroën",
          "Citroën",
          "Citroën",
          "Citroën",
          "Citroën",
          "Citroën",
          "Citroën",
          "Citroën",
          "Citroën",
          "Citroën",
          "Citroën",
          "Citroën",
          "Citroën",
          "Citroën",
          "Citroën",
          "Citroën",
          "Citroën",
          "Citroën",
          "Citroën",
          "Citroën",
          "Citroën",
          "Citroën",
          "Citroën",
          "Citroën",
          "Citroën",
          "Citroën",
          "Citroën",
          "Citroën",
          "Citroën",
          "Citroën",
          "Citroën",
          "Citroën",
          "Citroën",
          "Citroën",
          "Citroën",
          "Citroën",
          "Citroën",
          "Citroën",
          "Citroën",
          "Citroën",
          "Citroën",
          "Citroën",
          "Citroën",
          "Citroën",
          "Citroën",
          "Citroën",
          "Citroën",
          "Citroën",
          "Citroën",
          "Citroën",
          "Citroën",
          "Citroën",
          "Citroën",
          "Citroën",
          "Citroën",
          "Citroën",
          "Citroën",
          "Citroën",
          "Citroën",
          "Citroën",
          "Citroën",
          "Citroën",
          "Citroën",
          "Citroën",
          "Citroën",
          "Citroën",
          "Citroën",
          "Citroën",
          "Citroën",
          "Citroën",
          "Citroën",
          "Citroën",
          "Citroën",
          "Citroën",
          "Citroën",
          "Citroën",
          "Citroën",
          "Citroën",
          "Citroën",
          "Citroën",
          "Citroën",
          "Citroën",
          "Citroën",
          "Citroën",
          "Citroën",
          "Citroën",
          "Citroën",
          "Citroën",
          "Citroën",
          "Citroën",
          "Citroën",
          "Citroën",
          "Citroën",
          "Citroën",
          "Citroën",
          "Citroën",
          "Citroën",
          "Citroën",
          "Citroën",
          "Citroën",
          "Citroën",
          "Citroën",
          "Citroën",
          "Citroën",
          "Citroën",
          "Citroën",
          "Citroën",
          "Citroën",
          "Citroën",
          "Citroën",
          "Citroën",
          "Citroën",
          "Citroën",
          "Citroën",
          "Citroën",
          "Citroën",
          "Citroën",
          "Citroën",
          "Citroën",
          "Citroën",
          "Citroën",
          "Citroën",
          "Citroën",
          "Citroën",
          "Citroën",
          "Citroën",
          "Citroën",
          "Citroën",
          "Citroën",
          "Citroën",
          "Citroën",
          "Citroën",
          "Citroën",
          "Citroën",
          "Citroën",
          "Citroën",
          "Citroën",
          "Citroën",
          "Citroën",
          "Citroën",
          "Citroën",
          "Citroën",
          "Citroën",
          "Citroën",
          "Citroën",
          "Citroën",
          "Citroën",
          "Citroën",
          "Citroën",
          "Citroën",
          "Citroën",
          "Citroën",
          "Citroën",
          "Citroën",
          "Citroën",
          "Citroën",
          "Citroën",
          "Citroën",
          "Citroën",
          "Citroën",
          "Citroën",
          "Citroën",
          "Citroën",
          "Citroën",
          "Citroën",
          "Citroën",
          "Citroën",
          "Citroën",
          "Citroën",
          "Citroën",
          "Citroën",
          "Citroën",
          "Citroën",
          "Citroën",
          "Citroën",
          "Citroën",
          "Citroën",
          "Citroën",
          "Citroën",
          "Citroën",
          "Citroën",
          "Citroën",
          "Citroën",
          "Citroën",
          "Citroën",
          "Citroën",
          "Citroën",
          "Citroën",
          "Citroën",
          "Citroën",
          "Citroën",
          "Citroën",
          "Citroën",
          "Citroën",
          "Citroën",
          "Citroën",
          "Citroën",
          "Citroën",
          "Citroën",
          "Citroën",
          "Citroën",
          "Citroën",
          "Citroën",
          "Citroën",
          "Citroën",
          "Citroën",
          "Citroën",
          "Citroën",
          "Citroën",
          "Citroën",
          "Citroën",
          "Citroën",
          "Citroën",
          "Citroën",
          "Citroën",
          "Citroën",
          "Citroën",
          "Citroën",
          "Citroën",
          "Citroën",
          "Citroën",
          "Citroën",
          "Citroën",
          "Citroën",
          "Citroën",
          "Citroën",
          "Citroën",
          "Citroën",
          "Citroën",
          "Citroën",
          "Citroën",
          "Citroën",
          "Citroën",
          "Citroën",
          "Citroën",
          "Citroën",
          "Citroën",
          "Citroën",
          "Citroën",
          "Citroën",
          "Citroën",
          "Citroën",
          "Citroën",
          "Citroën",
          "Citroën",
          "Citroën",
          "Citroën",
          "Citroën",
          "Citroën",
          "Citroën",
          "Citroën",
          "Citroën",
          "Citroën",
          "Citroën",
          "Citroën",
          "Citroën",
          "Citroën",
          "Citroën",
          "Citroën",
          "Citroën",
          "Citroën",
          "Citroën",
          "Citroën",
          "Citroën",
          "Citroën",
          "Citroën",
          "Citroën",
          "Citroën",
          "Citroën",
          "Citroën",
          "Citroën",
          "Citroën",
          "Citroën",
          "Citroën",
          "Citroën",
          "Citroën",
          "Citroën",
          "Citroën",
          "Citroën",
          "Citroën",
          "Citroën",
          "Citroën",
          "Citroën",
          "Citroën",
          "Citroën",
          "Citroën",
          "Citroën",
          "Citroën",
          "Citroën",
          "Citroën",
          "Citroën",
          "Citroën",
          "Citroën",
          "Citroën",
          "Citroën",
          "Citroën",
          "Citroën",
          "Citroën",
          "Citroën",
          "Citroën",
          "Citroën",
          "Citroën",
          "Citroën",
          "Citroën",
          "Citroën",
          "Citroën",
          "Citroën",
          "Citroën",
          "Citroën",
          "Citroën",
          "Citroën",
          "Citroën",
          "Citroën",
          "Citroën",
          "Citroën",
          "Citroën",
          "Citroën",
          "Citroën",
          "Citroën",
          "Citroën",
          "Citroën",
          "Citroën",
          "Citroën",
          "Citroën",
          "Citroën",
          "Citroën",
          "Citroën",
          "Citroën",
          "Citroën",
          "Citroën",
          "Citroën",
          "Citroën",
          "Citroën",
          "Citroën",
          "Citroën",
          "Citroën",
          "Citroën",
          "Citroën",
          "Citroën",
          "Citroën",
          "Citroën",
          "Citroën",
          "Citroën",
          "Citroën",
          "Citroën",
          "Citroën",
          "Citroën",
          "Citroën",
          "Citroën",
          "Citroën",
          "Citroën",
          "Citroën",
          "Citroën",
          "Citroën",
          "Citroën",
          "Citroën",
          "Citroën",
          "Citroën",
          "Citroën",
          "Citroën",
          "Citroën",
          "Citroën",
          "Citroën",
          "Citroën",
          "Citroën",
          "Citroën",
          "Citroën",
          "Citroën",
          "Citroën",
          "Citroën",
          "Citroën",
          "Citroën",
          "Citroën",
          "Citroën",
          "Citroën",
          "Citroën",
          "Citroën",
          "Citroën",
          "Citroën",
          "Citroën",
          "Citroën",
          "Citroën",
          "Citroën",
          "Citroën",
          "Citroën",
          "Citroën",
          "Citroën",
          "Citroën",
          "Citroën",
          "Citroën",
          "Citroën",
          "Citroën",
          "Citroën",
          "Citroën",
          "Citroën",
          "Citroën",
          "Citroën",
          "Citroën",
          "Citroën",
          "Citroën",
          "Citroën",
          "Citroën",
          "Citroën",
          "Citroën",
          "Citroën",
          "Citroën",
          "Citroën",
          "Citroën",
          "Citroën",
          "Citroën",
          "Citroën",
          "Citroën",
          "Citroën",
          "Citroën",
          "Citroën",
          "Citroën",
          "Citroën",
          "Citroën",
          "Citroën",
          "Citroën",
          "Citroën",
          "Citroën",
          "Citroën",
          "Citroën",
          "Citroën",
          "Citroën",
          "Citroën",
          "Citroën",
          "Citroën",
          "Citroën",
          "Citroën",
          "Citroën",
          "Citroën",
          "Citroën",
          "Citroën",
          "Citroën",
          "Citroën"
         ],
         "x0": " ",
         "xaxis": "x",
         "y": {
          "bdata": "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",
          "dtype": "i2"
         },
         "y0": " ",
         "yaxis": "y"
        },
        {
         "alignmentgroup": "True",
         "box": {
          "visible": true
         },
         "hovertemplate": "Marque=%{x}<br>Prix par jour (€)=%{y}<extra></extra>",
         "legendgroup": "Peugeot",
         "marker": {
          "color": "#EF553B"
         },
         "name": "Peugeot",
         "offsetgroup": "Peugeot",
         "orientation": "v",
         "points": "suspectedoutliers",
         "scalegroup": "True",
         "showlegend": true,
         "type": "violin",
         "x": [
          "Peugeot",
          "Peugeot",
          "Peugeot",
          "Peugeot",
          "Peugeot",
          "Peugeot",
          "Peugeot",
          "Peugeot",
          "Peugeot",
          "Peugeot",
          "Peugeot",
          "Peugeot",
          "Peugeot",
          "Peugeot",
          "Peugeot",
          "Peugeot",
          "Peugeot",
          "Peugeot",
          "Peugeot",
          "Peugeot",
          "Peugeot",
          "Peugeot",
          "Peugeot",
          "Peugeot",
          "Peugeot",
          "Peugeot",
          "Peugeot",
          "Peugeot",
          "Peugeot",
          "Peugeot",
          "Peugeot",
          "Peugeot",
          "Peugeot",
          "Peugeot",
          "Peugeot",
          "Peugeot",
          "Peugeot",
          "Peugeot",
          "Peugeot",
          "Peugeot",
          "Peugeot",
          "Peugeot",
          "Peugeot",
          "Peugeot",
          "Peugeot",
          "Peugeot",
          "Peugeot",
          "Peugeot",
          "Peugeot",
          "Peugeot",
          "Peugeot",
          "Peugeot",
          "Peugeot",
          "Peugeot",
          "Peugeot",
          "Peugeot",
          "Peugeot",
          "Peugeot",
          "Peugeot",
          "Peugeot",
          "Peugeot",
          "Peugeot",
          "Peugeot",
          "Peugeot",
          "Peugeot",
          "Peugeot",
          "Peugeot",
          "Peugeot",
          "Peugeot",
          "Peugeot",
          "Peugeot",
          "Peugeot",
          "Peugeot",
          "Peugeot",
          "Peugeot",
          "Peugeot",
          "Peugeot",
          "Peugeot",
          "Peugeot",
          "Peugeot",
          "Peugeot",
          "Peugeot",
          "Peugeot",
          "Peugeot",
          "Peugeot",
          "Peugeot",
          "Peugeot",
          "Peugeot",
          "Peugeot",
          "Peugeot",
          "Peugeot",
          "Peugeot",
          "Peugeot",
          "Peugeot",
          "Peugeot",
          "Peugeot",
          "Peugeot",
          "Peugeot",
          "Peugeot",
          "Peugeot",
          "Peugeot",
          "Peugeot",
          "Peugeot",
          "Peugeot",
          "Peugeot",
          "Peugeot",
          "Peugeot",
          "Peugeot",
          "Peugeot",
          "Peugeot",
          "Peugeot",
          "Peugeot",
          "Peugeot",
          "Peugeot",
          "Peugeot",
          "Peugeot",
          "Peugeot",
          "Peugeot",
          "Peugeot",
          "Peugeot",
          "Peugeot",
          "Peugeot",
          "Peugeot",
          "Peugeot",
          "Peugeot",
          "Peugeot",
          "Peugeot",
          "Peugeot",
          "Peugeot",
          "Peugeot",
          "Peugeot",
          "Peugeot",
          "Peugeot",
          "Peugeot",
          "Peugeot",
          "Peugeot",
          "Peugeot",
          "Peugeot",
          "Peugeot",
          "Peugeot",
          "Peugeot",
          "Peugeot",
          "Peugeot",
          "Peugeot",
          "Peugeot",
          "Peugeot",
          "Peugeot",
          "Peugeot",
          "Peugeot",
          "Peugeot",
          "Peugeot",
          "Peugeot",
          "Peugeot",
          "Peugeot",
          "Peugeot",
          "Peugeot",
          "Peugeot",
          "Peugeot",
          "Peugeot",
          "Peugeot",
          "Peugeot",
          "Peugeot",
          "Peugeot",
          "Peugeot",
          "Peugeot",
          "Peugeot",
          "Peugeot",
          "Peugeot",
          "Peugeot",
          "Peugeot",
          "Peugeot",
          "Peugeot",
          "Peugeot",
          "Peugeot",
          "Peugeot",
          "Peugeot",
          "Peugeot",
          "Peugeot",
          "Peugeot",
          "Peugeot",
          "Peugeot",
          "Peugeot",
          "Peugeot",
          "Peugeot",
          "Peugeot",
          "Peugeot",
          "Peugeot",
          "Peugeot",
          "Peugeot",
          "Peugeot",
          "Peugeot",
          "Peugeot",
          "Peugeot",
          "Peugeot",
          "Peugeot",
          "Peugeot",
          "Peugeot",
          "Peugeot",
          "Peugeot",
          "Peugeot",
          "Peugeot",
          "Peugeot",
          "Peugeot",
          "Peugeot",
          "Peugeot",
          "Peugeot",
          "Peugeot",
          "Peugeot",
          "Peugeot",
          "Peugeot",
          "Peugeot",
          "Peugeot",
          "Peugeot",
          "Peugeot",
          "Peugeot",
          "Peugeot",
          "Peugeot",
          "Peugeot",
          "Peugeot",
          "Peugeot",
          "Peugeot",
          "Peugeot",
          "Peugeot",
          "Peugeot",
          "Peugeot",
          "Peugeot",
          "Peugeot",
          "Peugeot",
          "Peugeot",
          "Peugeot",
          "Peugeot",
          "Peugeot",
          "Peugeot",
          "Peugeot",
          "Peugeot",
          "Peugeot",
          "Peugeot",
          "Peugeot",
          "Peugeot",
          "Peugeot",
          "Peugeot",
          "Peugeot",
          "Peugeot",
          "Peugeot",
          "Peugeot",
          "Peugeot",
          "Peugeot",
          "Peugeot",
          "Peugeot",
          "Peugeot",
          "Peugeot",
          "Peugeot",
          "Peugeot",
          "Peugeot",
          "Peugeot",
          "Peugeot",
          "Peugeot",
          "Peugeot",
          "Peugeot",
          "Peugeot",
          "Peugeot",
          "Peugeot",
          "Peugeot",
          "Peugeot",
          "Peugeot",
          "Peugeot",
          "Peugeot",
          "Peugeot",
          "Peugeot",
          "Peugeot",
          "Peugeot",
          "Peugeot",
          "Peugeot",
          "Peugeot",
          "Peugeot",
          "Peugeot",
          "Peugeot",
          "Peugeot",
          "Peugeot",
          "Peugeot",
          "Peugeot",
          "Peugeot",
          "Peugeot",
          "Peugeot",
          "Peugeot",
          "Peugeot",
          "Peugeot",
          "Peugeot",
          "Peugeot",
          "Peugeot",
          "Peugeot",
          "Peugeot",
          "Peugeot",
          "Peugeot",
          "Peugeot",
          "Peugeot",
          "Peugeot",
          "Peugeot",
          "Peugeot",
          "Peugeot",
          "Peugeot",
          "Peugeot",
          "Peugeot",
          "Peugeot",
          "Peugeot",
          "Peugeot",
          "Peugeot",
          "Peugeot",
          "Peugeot",
          "Peugeot",
          "Peugeot",
          "Peugeot",
          "Peugeot",
          "Peugeot",
          "Peugeot",
          "Peugeot",
          "Peugeot",
          "Peugeot",
          "Peugeot",
          "Peugeot",
          "Peugeot",
          "Peugeot",
          "Peugeot",
          "Peugeot",
          "Peugeot",
          "Peugeot",
          "Peugeot",
          "Peugeot",
          "Peugeot",
          "Peugeot",
          "Peugeot",
          "Peugeot",
          "Peugeot",
          "Peugeot",
          "Peugeot",
          "Peugeot",
          "Peugeot",
          "Peugeot",
          "Peugeot",
          "Peugeot",
          "Peugeot",
          "Peugeot",
          "Peugeot",
          "Peugeot",
          "Peugeot",
          "Peugeot",
          "Peugeot",
          "Peugeot",
          "Peugeot",
          "Peugeot",
          "Peugeot",
          "Peugeot",
          "Peugeot",
          "Peugeot",
          "Peugeot",
          "Peugeot",
          "Peugeot",
          "Peugeot",
          "Peugeot",
          "Peugeot",
          "Peugeot",
          "Peugeot",
          "Peugeot",
          "Peugeot",
          "Peugeot",
          "Peugeot",
          "Peugeot",
          "Peugeot",
          "Peugeot",
          "Peugeot",
          "Peugeot",
          "Peugeot",
          "Peugeot",
          "Peugeot",
          "Peugeot",
          "Peugeot",
          "Peugeot",
          "Peugeot",
          "Peugeot",
          "Peugeot",
          "Peugeot",
          "Peugeot",
          "Peugeot",
          "Peugeot",
          "Peugeot",
          "Peugeot",
          "Peugeot",
          "Peugeot",
          "Peugeot",
          "Peugeot",
          "Peugeot",
          "Peugeot",
          "Peugeot",
          "Peugeot",
          "Peugeot",
          "Peugeot",
          "Peugeot",
          "Peugeot",
          "Peugeot",
          "Peugeot",
          "Peugeot",
          "Peugeot",
          "Peugeot",
          "Peugeot",
          "Peugeot",
          "Peugeot",
          "Peugeot",
          "Peugeot",
          "Peugeot",
          "Peugeot",
          "Peugeot",
          "Peugeot",
          "Peugeot",
          "Peugeot",
          "Peugeot",
          "Peugeot",
          "Peugeot",
          "Peugeot",
          "Peugeot",
          "Peugeot",
          "Peugeot",
          "Peugeot",
          "Peugeot",
          "Peugeot",
          "Peugeot",
          "Peugeot",
          "Peugeot",
          "Peugeot",
          "Peugeot",
          "Peugeot",
          "Peugeot",
          "Peugeot",
          "Peugeot",
          "Peugeot",
          "Peugeot",
          "Peugeot",
          "Peugeot",
          "Peugeot",
          "Peugeot",
          "Peugeot",
          "Peugeot",
          "Peugeot",
          "Peugeot",
          "Peugeot",
          "Peugeot",
          "Peugeot",
          "Peugeot",
          "Peugeot",
          "Peugeot",
          "Peugeot",
          "Peugeot",
          "Peugeot",
          "Peugeot",
          "Peugeot",
          "Peugeot",
          "Peugeot",
          "Peugeot",
          "Peugeot",
          "Peugeot",
          "Peugeot",
          "Peugeot",
          "Peugeot",
          "Peugeot",
          "Peugeot",
          "Peugeot",
          "Peugeot",
          "Peugeot",
          "Peugeot",
          "Peugeot",
          "Peugeot",
          "Peugeot",
          "Peugeot",
          "Peugeot",
          "Peugeot",
          "Peugeot",
          "Peugeot",
          "Peugeot",
          "Peugeot",
          "Peugeot",
          "Peugeot",
          "Peugeot",
          "Peugeot",
          "Peugeot",
          "Peugeot",
          "Peugeot",
          "Peugeot",
          "Peugeot",
          "Peugeot",
          "Peugeot",
          "Peugeot",
          "Peugeot",
          "Peugeot",
          "Peugeot",
          "Peugeot",
          "Peugeot",
          "Peugeot",
          "Peugeot",
          "Peugeot",
          "Peugeot",
          "Peugeot",
          "Peugeot",
          "Peugeot",
          "Peugeot",
          "Peugeot",
          "Peugeot",
          "Peugeot",
          "Peugeot",
          "Peugeot",
          "Peugeot",
          "Peugeot",
          "Peugeot",
          "Peugeot",
          "Peugeot",
          "Peugeot",
          "Peugeot",
          "Peugeot",
          "Peugeot",
          "Peugeot",
          "Peugeot",
          "Peugeot",
          "Peugeot",
          "Peugeot",
          "Peugeot",
          "Peugeot",
          "Peugeot",
          "Peugeot",
          "Peugeot",
          "Peugeot",
          "Peugeot",
          "Peugeot",
          "Peugeot",
          "Peugeot",
          "Peugeot",
          "Peugeot",
          "Peugeot",
          "Peugeot",
          "Peugeot",
          "Peugeot",
          "Peugeot",
          "Peugeot",
          "Peugeot",
          "Peugeot",
          "Peugeot",
          "Peugeot",
          "Peugeot",
          "Peugeot",
          "Peugeot",
          "Peugeot",
          "Peugeot",
          "Peugeot",
          "Peugeot",
          "Peugeot",
          "Peugeot",
          "Peugeot",
          "Peugeot",
          "Peugeot",
          "Peugeot",
          "Peugeot",
          "Peugeot",
          "Peugeot",
          "Peugeot",
          "Peugeot",
          "Peugeot",
          "Peugeot",
          "Peugeot",
          "Peugeot",
          "Peugeot",
          "Peugeot",
          "Peugeot",
          "Peugeot",
          "Peugeot",
          "Peugeot",
          "Peugeot",
          "Peugeot",
          "Peugeot",
          "Peugeot",
          "Peugeot",
          "Peugeot",
          "Peugeot",
          "Peugeot",
          "Peugeot",
          "Peugeot",
          "Peugeot",
          "Peugeot",
          "Peugeot",
          "Peugeot",
          "Peugeot",
          "Peugeot",
          "Peugeot",
          "Peugeot",
          "Peugeot",
          "Peugeot",
          "Peugeot",
          "Peugeot",
          "Peugeot",
          "Peugeot",
          "Peugeot",
          "Peugeot",
          "Peugeot",
          "Peugeot",
          "Peugeot",
          "Peugeot",
          "Peugeot",
          "Peugeot",
          "Peugeot",
          "Peugeot",
          "Peugeot",
          "Peugeot",
          "Peugeot",
          "Peugeot",
          "Peugeot",
          "Peugeot",
          "Peugeot",
          "Peugeot",
          "Peugeot",
          "Peugeot",
          "Peugeot",
          "Peugeot",
          "Peugeot",
          "Peugeot",
          "Peugeot",
          "Peugeot",
          "Peugeot",
          "Peugeot",
          "Peugeot",
          "Peugeot",
          "Peugeot",
          "Peugeot",
          "Peugeot",
          "Peugeot",
          "Peugeot",
          "Peugeot",
          "Peugeot",
          "Peugeot",
          "Peugeot",
          "Peugeot",
          "Peugeot",
          "Peugeot",
          "Peugeot",
          "Peugeot",
          "Peugeot",
          "Peugeot"
         ],
         "x0": " ",
         "xaxis": "x",
         "y": {
          "bdata": "TwBmAFsAlABgAFgAggCwAJkAkAAqAK0AUQBhALAASgBPADEAUgCcAG4AWQBfAJwAMwCDANkAogCnAKIAXgBXAKkAmQCpAIEAgwC9AJoAbABrAHEAWQBRAIcAcwBlAJkAmgB1AGgAcwBNABwAdQBrAGAAewAcAEIAbgB3AFkAZQBwAHgAVQBnAGMAZAA+AGYAdQBvAG8ANwBGAE0AagB6AGEAYwBzAHMAdQByAFgAaAAcABwAagByAGcAZgBhAHgARwBgAGIAXQB8AG0AcgBkAGUAegBiAGsAcQB9AFkAbABzAGkAbwBnAHUAbgB8AG4AbgBkAG0AWwCSAHIAZQBxAF0AZwBhAGQAfABrAFMArwA8AG4AagBVAGsAcgB/AGQAaAB5ABwAdABiAGsAYwBsAHAAbgBhAHEACgBhAGgAggCAAGcAYQBnAGIAbQBnAGYAcABmAHIAbgAcAH0AbQB0AGoAbgBuAGsAdABnAG4AawCWAD0AbgBhAFkAcgCSAGcAdAB9AIAAawBtAFIAawBrAIsAYwBaAHgAZgBoAEYAYQBMAHMAWABeAG8AUgAKAEEAbwBtAGcAfQBoAGAAcQBoAGgAWABcAG0AXgBtAGkAcABgAGoAbQBjAGEAegBwAFsAOQB0AGoAbwBkAGkAXABZAFUAcABpAGMAiQBkAHYASQBwAGEAbABHAG4AhABmAFQAagBVAE0APgBqAG4ASwBqAHIAcgBkAGIAZQBzADwAeAA9AH8AVAByAGkAZwBmAHAAYQBhAHIAPABuAGoAZgBbAGYAaABpAEEAewB2AF4AaABsAGEAagBQAGIATgB4AHgAZgBnAGwAcgBqAGoAZACEAEYAjQBFAGcAZgBnAGoAUABSAHYAaQBkAEcATwBqAHAARwCOAHwAgABZAIIAkAB6AGYAPwBnAHUAbgBrAGwAagBzAFQAdQBEAGIAWwBwAHgARwB4AHIAcABmAGAAhwBvAHsAcwCQAG0AbgA+AGYAZwBkAGsAagBvAHEAdQByAGAATwB6AGAAdQB/AGYAZgCDAHcAagByAG4AewA5AGQATQB7AG4AagBvAG0AbgBoAHoAagBuAGgAeABHAHgAawBqAGQAYQBoAGEAZwB1AHIAYwBgAGsAZwB5AF4AcABUAGQAYgA5AEcAcwB8AGgAeABoAFAATQB0AHMAZAB7AEkAcwCTAHgASQB9AI4AhQB6AHEAiwB4AHwAmABrAEsAfwB6AHUAIwCmACAALgBuAH0AegAaAF0APgB1AHUATABwAHUAeABpAEoAYwCAAHAAZwBzAGcAfQAsAG0AbwBJAHIAhABwAGsAeABLAGcAbwBoAH0AgQByAHUAeQBsAHoASwB5AGkAdgB8AGsAdQB1AHYAbwBgAGwAOADiAF4AcAB3AHQARgAzAHAAYQByAHUAagCMAHAAcwBwAHUARgAUAGsAcABlAOUAbwBjAGoAbgBZAHQAawBzAGkAcgB6AHMAdgBmAGwAaABpAI8AdgBvAG4AfgCDAG8AeABcAHQAaQBOAGoAeABqAHEAbwBVAHIAaQBwAGkARgB1AHIAZABqAG4AcwBtAFUARwB6ACAAiQBmAEgAdQBqAFIAcwBlAHUAbgBtAGMAbgBvAGsAdQBdAHEASgBvAHIAcAB2AE4AdQBxAGsAbQBsAGwAcABzAHEAbABLAHUAJQBrADIAeABqAGkAHAAcAE0A",
          "dtype": "i2"
         },
         "y0": " ",
         "yaxis": "y"
        },
        {
         "alignmentgroup": "True",
         "box": {
          "visible": true
         },
         "hovertemplate": "Marque=%{x}<br>Prix par jour (€)=%{y}<extra></extra>",
         "legendgroup": "Renault",
         "marker": {
          "color": "#00cc96"
         },
         "name": "Renault",
         "offsetgroup": "Renault",
         "orientation": "v",
         "points": "suspectedoutliers",
         "scalegroup": "True",
         "showlegend": true,
         "type": "violin",
         "x": [
          "Renault",
          "Renault",
          "Renault",
          "Renault",
          "Renault",
          "Renault",
          "Renault",
          "Renault",
          "Renault",
          "Renault",
          "Renault",
          "Renault",
          "Renault",
          "Renault",
          "Renault",
          "Renault",
          "Renault",
          "Renault",
          "Renault",
          "Renault",
          "Renault",
          "Renault",
          "Renault",
          "Renault",
          "Renault",
          "Renault",
          "Renault",
          "Renault",
          "Renault",
          "Renault",
          "Renault",
          "Renault",
          "Renault",
          "Renault",
          "Renault",
          "Renault",
          "Renault",
          "Renault",
          "Renault",
          "Renault",
          "Renault",
          "Renault",
          "Renault",
          "Renault",
          "Renault",
          "Renault",
          "Renault",
          "Renault",
          "Renault",
          "Renault",
          "Renault",
          "Renault",
          "Renault",
          "Renault",
          "Renault",
          "Renault",
          "Renault",
          "Renault",
          "Renault",
          "Renault",
          "Renault",
          "Renault",
          "Renault",
          "Renault",
          "Renault",
          "Renault",
          "Renault",
          "Renault",
          "Renault",
          "Renault",
          "Renault",
          "Renault",
          "Renault",
          "Renault",
          "Renault",
          "Renault",
          "Renault",
          "Renault",
          "Renault",
          "Renault",
          "Renault",
          "Renault",
          "Renault",
          "Renault",
          "Renault",
          "Renault",
          "Renault",
          "Renault",
          "Renault",
          "Renault",
          "Renault",
          "Renault",
          "Renault",
          "Renault",
          "Renault",
          "Renault",
          "Renault",
          "Renault",
          "Renault",
          "Renault",
          "Renault",
          "Renault",
          "Renault",
          "Renault",
          "Renault",
          "Renault",
          "Renault",
          "Renault",
          "Renault",
          "Renault",
          "Renault",
          "Renault",
          "Renault",
          "Renault",
          "Renault",
          "Renault",
          "Renault",
          "Renault",
          "Renault",
          "Renault",
          "Renault",
          "Renault",
          "Renault",
          "Renault",
          "Renault",
          "Renault",
          "Renault",
          "Renault",
          "Renault",
          "Renault",
          "Renault",
          "Renault",
          "Renault",
          "Renault",
          "Renault",
          "Renault",
          "Renault",
          "Renault",
          "Renault",
          "Renault",
          "Renault",
          "Renault",
          "Renault",
          "Renault",
          "Renault",
          "Renault",
          "Renault",
          "Renault",
          "Renault",
          "Renault",
          "Renault",
          "Renault",
          "Renault",
          "Renault",
          "Renault",
          "Renault",
          "Renault",
          "Renault",
          "Renault",
          "Renault",
          "Renault",
          "Renault",
          "Renault",
          "Renault",
          "Renault",
          "Renault",
          "Renault",
          "Renault",
          "Renault",
          "Renault",
          "Renault",
          "Renault",
          "Renault",
          "Renault",
          "Renault",
          "Renault",
          "Renault",
          "Renault",
          "Renault",
          "Renault",
          "Renault",
          "Renault",
          "Renault",
          "Renault",
          "Renault",
          "Renault",
          "Renault",
          "Renault",
          "Renault",
          "Renault",
          "Renault",
          "Renault",
          "Renault",
          "Renault",
          "Renault",
          "Renault",
          "Renault",
          "Renault",
          "Renault",
          "Renault",
          "Renault",
          "Renault",
          "Renault",
          "Renault",
          "Renault",
          "Renault",
          "Renault",
          "Renault",
          "Renault",
          "Renault",
          "Renault",
          "Renault",
          "Renault",
          "Renault",
          "Renault",
          "Renault",
          "Renault",
          "Renault",
          "Renault",
          "Renault",
          "Renault",
          "Renault",
          "Renault",
          "Renault",
          "Renault",
          "Renault",
          "Renault",
          "Renault",
          "Renault",
          "Renault",
          "Renault",
          "Renault",
          "Renault",
          "Renault",
          "Renault",
          "Renault",
          "Renault",
          "Renault",
          "Renault",
          "Renault",
          "Renault",
          "Renault",
          "Renault",
          "Renault",
          "Renault",
          "Renault",
          "Renault",
          "Renault",
          "Renault",
          "Renault",
          "Renault",
          "Renault",
          "Renault",
          "Renault",
          "Renault",
          "Renault",
          "Renault",
          "Renault",
          "Renault",
          "Renault",
          "Renault",
          "Renault",
          "Renault",
          "Renault",
          "Renault",
          "Renault",
          "Renault",
          "Renault",
          "Renault",
          "Renault",
          "Renault",
          "Renault",
          "Renault",
          "Renault",
          "Renault",
          "Renault",
          "Renault",
          "Renault",
          "Renault",
          "Renault",
          "Renault",
          "Renault",
          "Renault",
          "Renault",
          "Renault",
          "Renault",
          "Renault",
          "Renault",
          "Renault",
          "Renault",
          "Renault",
          "Renault",
          "Renault",
          "Renault",
          "Renault",
          "Renault",
          "Renault",
          "Renault",
          "Renault",
          "Renault",
          "Renault",
          "Renault",
          "Renault",
          "Renault",
          "Renault",
          "Renault",
          "Renault",
          "Renault",
          "Renault",
          "Renault",
          "Renault",
          "Renault",
          "Renault",
          "Renault",
          "Renault",
          "Renault",
          "Renault",
          "Renault",
          "Renault",
          "Renault",
          "Renault",
          "Renault",
          "Renault",
          "Renault",
          "Renault",
          "Renault",
          "Renault",
          "Renault",
          "Renault",
          "Renault",
          "Renault",
          "Renault",
          "Renault",
          "Renault",
          "Renault",
          "Renault",
          "Renault",
          "Renault",
          "Renault",
          "Renault",
          "Renault",
          "Renault",
          "Renault",
          "Renault",
          "Renault",
          "Renault",
          "Renault",
          "Renault",
          "Renault",
          "Renault",
          "Renault",
          "Renault",
          "Renault",
          "Renault",
          "Renault",
          "Renault",
          "Renault",
          "Renault",
          "Renault",
          "Renault",
          "Renault",
          "Renault",
          "Renault",
          "Renault",
          "Renault",
          "Renault",
          "Renault",
          "Renault",
          "Renault",
          "Renault",
          "Renault",
          "Renault",
          "Renault",
          "Renault",
          "Renault",
          "Renault",
          "Renault",
          "Renault",
          "Renault",
          "Renault",
          "Renault",
          "Renault",
          "Renault",
          "Renault",
          "Renault",
          "Renault",
          "Renault",
          "Renault",
          "Renault",
          "Renault",
          "Renault",
          "Renault",
          "Renault",
          "Renault",
          "Renault",
          "Renault",
          "Renault",
          "Renault",
          "Renault",
          "Renault",
          "Renault",
          "Renault",
          "Renault",
          "Renault",
          "Renault",
          "Renault",
          "Renault",
          "Renault",
          "Renault",
          "Renault",
          "Renault",
          "Renault",
          "Renault",
          "Renault",
          "Renault",
          "Renault",
          "Renault",
          "Renault",
          "Renault",
          "Renault",
          "Renault",
          "Renault",
          "Renault",
          "Renault",
          "Renault",
          "Renault",
          "Renault",
          "Renault",
          "Renault",
          "Renault",
          "Renault",
          "Renault",
          "Renault",
          "Renault",
          "Renault",
          "Renault",
          "Renault",
          "Renault",
          "Renault",
          "Renault",
          "Renault",
          "Renault",
          "Renault",
          "Renault",
          "Renault",
          "Renault",
          "Renault",
          "Renault",
          "Renault",
          "Renault",
          "Renault",
          "Renault",
          "Renault",
          "Renault",
          "Renault",
          "Renault",
          "Renault",
          "Renault",
          "Renault",
          "Renault",
          "Renault",
          "Renault",
          "Renault",
          "Renault",
          "Renault",
          "Renault",
          "Renault",
          "Renault",
          "Renault",
          "Renault",
          "Renault",
          "Renault",
          "Renault",
          "Renault",
          "Renault",
          "Renault",
          "Renault",
          "Renault",
          "Renault",
          "Renault",
          "Renault",
          "Renault",
          "Renault",
          "Renault",
          "Renault",
          "Renault",
          "Renault",
          "Renault",
          "Renault",
          "Renault",
          "Renault",
          "Renault",
          "Renault",
          "Renault",
          "Renault",
          "Renault",
          "Renault",
          "Renault",
          "Renault",
          "Renault",
          "Renault",
          "Renault",
          "Renault",
          "Renault",
          "Renault",
          "Renault",
          "Renault",
          "Renault",
          "Renault",
          "Renault",
          "Renault",
          "Renault",
          "Renault",
          "Renault",
          "Renault",
          "Renault",
          "Renault",
          "Renault",
          "Renault",
          "Renault",
          "Renault",
          "Renault",
          "Renault",
          "Renault",
          "Renault",
          "Renault",
          "Renault",
          "Renault",
          "Renault",
          "Renault",
          "Renault",
          "Renault",
          "Renault",
          "Renault",
          "Renault",
          "Renault",
          "Renault",
          "Renault",
          "Renault",
          "Renault",
          "Renault",
          "Renault",
          "Renault",
          "Renault",
          "Renault",
          "Renault",
          "Renault",
          "Renault",
          "Renault",
          "Renault",
          "Renault",
          "Renault",
          "Renault",
          "Renault",
          "Renault",
          "Renault",
          "Renault",
          "Renault",
          "Renault",
          "Renault",
          "Renault",
          "Renault",
          "Renault",
          "Renault",
          "Renault",
          "Renault",
          "Renault",
          "Renault",
          "Renault",
          "Renault",
          "Renault",
          "Renault",
          "Renault",
          "Renault",
          "Renault",
          "Renault",
          "Renault",
          "Renault",
          "Renault",
          "Renault",
          "Renault",
          "Renault",
          "Renault",
          "Renault",
          "Renault",
          "Renault",
          "Renault",
          "Renault",
          "Renault",
          "Renault",
          "Renault",
          "Renault",
          "Renault",
          "Renault",
          "Renault",
          "Renault",
          "Renault",
          "Renault",
          "Renault",
          "Renault",
          "Renault",
          "Renault",
          "Renault",
          "Renault",
          "Renault",
          "Renault",
          "Renault",
          "Renault",
          "Renault",
          "Renault",
          "Renault",
          "Renault",
          "Renault",
          "Renault",
          "Renault",
          "Renault",
          "Renault",
          "Renault",
          "Renault",
          "Renault",
          "Renault",
          "Renault",
          "Renault",
          "Renault",
          "Renault",
          "Renault",
          "Renault",
          "Renault",
          "Renault",
          "Renault",
          "Renault",
          "Renault",
          "Renault",
          "Renault",
          "Renault",
          "Renault",
          "Renault",
          "Renault",
          "Renault",
          "Renault",
          "Renault",
          "Renault",
          "Renault",
          "Renault",
          "Renault",
          "Renault",
          "Renault",
          "Renault",
          "Renault",
          "Renault",
          "Renault",
          "Renault",
          "Renault",
          "Renault",
          "Renault",
          "Renault",
          "Renault",
          "Renault",
          "Renault",
          "Renault",
          "Renault",
          "Renault",
          "Renault",
          "Renault",
          "Renault",
          "Renault",
          "Renault",
          "Renault",
          "Renault",
          "Renault",
          "Renault",
          "Renault",
          "Renault",
          "Renault",
          "Renault",
          "Renault",
          "Renault",
          "Renault",
          "Renault",
          "Renault",
          "Renault",
          "Renault",
          "Renault",
          "Renault",
          "Renault",
          "Renault",
          "Renault",
          "Renault",
          "Renault",
          "Renault",
          "Renault",
          "Renault",
          "Renault",
          "Renault",
          "Renault",
          "Renault",
          "Renault",
          "Renault",
          "Renault",
          "Renault",
          "Renault",
          "Renault",
          "Renault",
          "Renault",
          "Renault",
          "Renault",
          "Renault",
          "Renault",
          "Renault",
          "Renault",
          "Renault",
          "Renault",
          "Renault",
          "Renault",
          "Renault",
          "Renault",
          "Renault",
          "Renault",
          "Renault",
          "Renault",
          "Renault",
          "Renault",
          "Renault",
          "Renault",
          "Renault",
          "Renault",
          "Renault",
          "Renault",
          "Renault",
          "Renault",
          "Renault",
          "Renault",
          "Renault",
          "Renault",
          "Renault",
          "Renault",
          "Renault",
          "Renault",
          "Renault",
          "Renault",
          "Renault",
          "Renault",
          "Renault",
          "Renault",
          "Renault",
          "Renault",
          "Renault",
          "Renault",
          "Renault",
          "Renault",
          "Renault",
          "Renault",
          "Renault",
          "Renault",
          "Renault",
          "Renault",
          "Renault",
          "Renault",
          "Renault",
          "Renault",
          "Renault",
          "Renault",
          "Renault",
          "Renault",
          "Renault",
          "Renault",
          "Renault",
          "Renault",
          "Renault",
          "Renault",
          "Renault",
          "Renault",
          "Renault",
          "Renault",
          "Renault",
          "Renault",
          "Renault",
          "Renault",
          "Renault",
          "Renault",
          "Renault",
          "Renault",
          "Renault",
          "Renault",
          "Renault",
          "Renault",
          "Renault",
          "Renault",
          "Renault",
          "Renault",
          "Renault",
          "Renault",
          "Renault",
          "Renault",
          "Renault",
          "Renault",
          "Renault",
          "Renault",
          "Renault",
          "Renault",
          "Renault",
          "Renault",
          "Renault",
          "Renault",
          "Renault",
          "Renault",
          "Renault",
          "Renault",
          "Renault",
          "Renault",
          "Renault",
          "Renault",
          "Renault",
          "Renault",
          "Renault",
          "Renault",
          "Renault",
          "Renault",
          "Renault",
          "Renault",
          "Renault",
          "Renault",
          "Renault",
          "Renault",
          "Renault",
          "Renault",
          "Renault",
          "Renault",
          "Renault",
          "Renault",
          "Renault",
          "Renault",
          "Renault",
          "Renault",
          "Renault",
          "Renault",
          "Renault",
          "Renault",
          "Renault",
          "Renault",
          "Renault",
          "Renault",
          "Renault",
          "Renault",
          "Renault",
          "Renault",
          "Renault",
          "Renault",
          "Renault",
          "Renault",
          "Renault",
          "Renault",
          "Renault",
          "Renault",
          "Renault",
          "Renault",
          "Renault",
          "Renault",
          "Renault",
          "Renault",
          "Renault",
          "Renault",
          "Renault",
          "Renault",
          "Renault",
          "Renault",
          "Renault",
          "Renault",
          "Renault",
          "Renault",
          "Renault",
          "Renault",
          "Renault",
          "Renault",
          "Renault",
          "Renault",
          "Renault",
          "Renault",
          "Renault",
          "Renault",
          "Renault",
          "Renault",
          "Renault",
          "Renault",
          "Renault",
          "Renault",
          "Renault",
          "Renault",
          "Renault",
          "Renault",
          "Renault",
          "Renault",
          "Renault",
          "Renault",
          "Renault",
          "Renault",
          "Renault",
          "Renault",
          "Renault",
          "Renault",
          "Renault",
          "Renault",
          "Renault",
          "Renault",
          "Renault",
          "Renault",
          "Renault",
          "Renault",
          "Renault",
          "Renault",
          "Renault",
          "Renault",
          "Renault",
          "Renault",
          "Renault",
          "Renault"
         ],
         "x0": " ",
         "xaxis": "x",
         "y": {
          "bdata": "hwCuACAArwDFAL8AswDrALMAsQDIAK0AwAA1AaIApgBmALMAqQC/ANYAmQCrAIsAmACAAFcAkgBNAF4AaAByAHgAHABfACEAiABYABwAYQByAHAAeAByAGcAfQB1AGYAgABeAHoAhwB1AFsAdwBvAHoAjgCQAFwAgAB6AHkAjQB7AH4ARwBwAGkAoABjAIMAjQCEAHoAiwByAGkAHACKAHgAfwBtAGMAbAByAHUAigBkABwAaQCAAG0ASgBjAH4AZgB8AIcAeQCOAIoAcACVAHoAdgCFAGkASQBvAI4ATAB6AIgAegCBAFMAcgB4AJ8AdQBqAI4AjAB8AHwAWwCcAHAAWwBQAI4AbwCPAJcAgAB4AIgAqgB/AGQAaABxAJMAagB6AIkAcABnAGUAbACBAHAAdQCOAH0AhQB+AGAAlgB/AIwAjgB5AF4AawAsAGcAWwBbAEsATgAcAFcAewB4AIwAlgBjAJgAawB3AIUAkwB6AGgAdQBWAHAAZgCAAIkAigB7AH0ASwBUAI4AdwBtAHoAhwB2AIMAfQCJAI4AfgCGAKQAiQBbAFcAbQCPAIQAiwB6AGUASgCIAEcAbQAkAHUAkgBYAIEAeABcAH4ATABpAJYAagCMAHsAkgCEAH0AjQCGAIQAcwBdAG8AbgByAHoAcQCHAGoARwB6AIEAkACNAHEAUgBlAF4AigCFAFIAVQBzAHoAdAB4AIEAfQBoAHoAogB1AHgAcwB5AFYAhQB8AIUAYwCXAIcAUgCAAHwAjQB7AIUAagBrAIIAjAB3AHsAZwBhAHwAgwB9AGYAegB4AG0AfQCOAHAAfQBnAGkAdABrAHsAmAB3AHYAcABrAHkAdwCmAGEAgAB8AG8AfgB9AGMAjgAjAFwAagB1AF0AegBtAI0AewBNAHMAcgCEAIEAcgCEAI0AfwB4AHAAbQBmAIgAiwCDAHUAgACHAJIAaAB/AIwAhwB/AHsAagBmAJQAdgBNAIcAVQCSAIQAegBzAIYAcgBwAIgAggCHAI4AegB1AHIAkABZACwAdABuAIIAaAB6AHUAcgB8AJIAcABpAG4AXwBlAHIAYQBOAHgAXwBFAHwAcgBgAHwAaAB4ABQAaQCAAEcAiQB/AH8AfgB/AG0AJACCAFQAigBFAF4AfQBPAIAAFACAAI0AegBXAGAAcwB6AHMAewBuAHQAcQB3AEUAYQB3AHYATwBFAHMAYwBjAHQAdQB+ADwAmQBwAHoAjwBsAHoAggCAAF8AhAB/AHUAagBxAG0AdgB1AGQAWQBSAEoAegCQAFQAeABjAGsAdwAeAJIAXgCWAK8AegCHAJUAeACdAIgAawC6AMkAfwCkAL0AyACtAL8AswB7ALMAxgC2ALUAaQB9ACoAZgCHAGsAeQB4AGgAfQCOAIEAhwA8AFkAhABoAHUAtgCKAIQAjgCMAJIAegB1AIoAiwCJAHoAiABzAIgAjQCJAHQAkwB/ABoAhQB6AJQAmwBuAJgAVwBvAGkAlQCkAIIAfgCJAHAAggCZAIwAiQCCAMoAgQCCAHMAVQCTAHsAhgCTAHgAegBnAIoAgABmAHoA0wCNAHIAmAB7AIQAiwCXAHIAiQB4AHMAnQCJAG4AcgCnABwAZwBsAIgAegCEAHUAdQCFAJMAdgB4ACQAigB6AGcAbQB4AIIAkgBeAGsAaACWAGgAegBmAHcAYwDJAGoAjQBfAHUAjgBpAI4AZgCCAG4AhABrAJ4AgACGAIcAZgCbAHUAgQB7AJUAdQCIAJQAdACCAIsAcwCGAHYAbwBoAJEAYQB6AGQAdQCPAE8AiwASAXAAkgBUAGgAnQBoAFkAiwBoAIwAdgBwAFEAiwB0AEsAhAC6AGkAcQB3AGYAqQB9AIUAcAB6AGkAcQBoAHcAZQBVAJ4AYQBhAGMARgCQAG0AbQCEAIsAkABoAHUAcwByAJ8AlACEAHcAfQBSAIUAhwBqAHUAawBuAHYAiwCmAIQAfgCUAJgAgACCAI0AcgBvAGQAiACEAHsAfwBrAH0AmAB6AHgAhwBoAGsAcQCPAGQAeQBsAJ0AfwCPAGgAgABjAHsAdABtAGsAaACEALYAVACFAJIAlwCLAFEAkQCHAIYAWACIAJAA2QCNAJYAdgBvALMAhwBTAH8AewCCAIsAYwBpAHIAfABvAG4AbgCJAGQAhwBuAGsAegCHAJQAQgBmAKQAZgCAAGMAlQB4AIIAkgB+ACUAdABqAHgAegBtAIQAdgB9AGQApQCDAGgAcAB4AJAAhAAUAG4AfABsAGUAfgBlAHoAbQBnAIsAYQBmAI0AggB5AH8ApwB+AGMAjQBuAEcAiwBNAIsAiAB7AHgAZgBtAGQAeACDAHkAZgBnAFQAfwB2AH4AcQBuAGwAgABnAG4AFABeAHIAfACXAHoAbwBqAGcAfwCGAHAAewBrAHAAcwByAGgAhQA=",
          "dtype": "i2"
         },
         "y0": " ",
         "yaxis": "y"
        },
        {
         "alignmentgroup": "True",
         "box": {
          "visible": true
         },
         "hovertemplate": "Marque=%{x}<br>Prix par jour (€)=%{y}<extra></extra>",
         "legendgroup": "Audi",
         "marker": {
          "color": "#ab63fa"
         },
         "name": "Audi",
         "offsetgroup": "Audi",
         "orientation": "v",
         "points": "suspectedoutliers",
         "scalegroup": "True",
         "showlegend": true,
         "type": "violin",
         "x": [
          "Audi",
          "Audi",
          "Audi",
          "Audi",
          "Audi",
          "Audi",
          "Audi",
          "Audi",
          "Audi",
          "Audi",
          "Audi",
          "Audi",
          "Audi",
          "Audi",
          "Audi",
          "Audi",
          "Audi",
          "Audi",
          "Audi",
          "Audi",
          "Audi",
          "Audi",
          "Audi",
          "Audi",
          "Audi",
          "Audi",
          "Audi",
          "Audi",
          "Audi",
          "Audi",
          "Audi",
          "Audi",
          "Audi",
          "Audi",
          "Audi",
          "Audi",
          "Audi",
          "Audi",
          "Audi",
          "Audi",
          "Audi",
          "Audi",
          "Audi",
          "Audi",
          "Audi",
          "Audi",
          "Audi",
          "Audi",
          "Audi",
          "Audi",
          "Audi",
          "Audi",
          "Audi",
          "Audi",
          "Audi",
          "Audi",
          "Audi",
          "Audi",
          "Audi",
          "Audi",
          "Audi",
          "Audi",
          "Audi",
          "Audi",
          "Audi",
          "Audi",
          "Audi",
          "Audi",
          "Audi",
          "Audi",
          "Audi",
          "Audi",
          "Audi",
          "Audi",
          "Audi",
          "Audi",
          "Audi",
          "Audi",
          "Audi",
          "Audi",
          "Audi",
          "Audi",
          "Audi",
          "Audi",
          "Audi",
          "Audi",
          "Audi",
          "Audi",
          "Audi",
          "Audi",
          "Audi",
          "Audi",
          "Audi",
          "Audi",
          "Audi",
          "Audi",
          "Audi",
          "Audi",
          "Audi",
          "Audi",
          "Audi",
          "Audi",
          "Audi",
          "Audi",
          "Audi",
          "Audi",
          "Audi",
          "Audi",
          "Audi",
          "Audi",
          "Audi",
          "Audi",
          "Audi",
          "Audi",
          "Audi",
          "Audi",
          "Audi",
          "Audi",
          "Audi",
          "Audi",
          "Audi",
          "Audi",
          "Audi",
          "Audi",
          "Audi",
          "Audi",
          "Audi",
          "Audi",
          "Audi",
          "Audi",
          "Audi",
          "Audi",
          "Audi",
          "Audi",
          "Audi",
          "Audi",
          "Audi",
          "Audi",
          "Audi",
          "Audi",
          "Audi",
          "Audi",
          "Audi",
          "Audi",
          "Audi",
          "Audi",
          "Audi",
          "Audi",
          "Audi",
          "Audi",
          "Audi",
          "Audi",
          "Audi",
          "Audi",
          "Audi",
          "Audi",
          "Audi",
          "Audi",
          "Audi",
          "Audi",
          "Audi",
          "Audi",
          "Audi",
          "Audi",
          "Audi",
          "Audi",
          "Audi",
          "Audi",
          "Audi",
          "Audi",
          "Audi",
          "Audi",
          "Audi",
          "Audi",
          "Audi",
          "Audi",
          "Audi",
          "Audi",
          "Audi",
          "Audi",
          "Audi",
          "Audi",
          "Audi",
          "Audi",
          "Audi",
          "Audi",
          "Audi",
          "Audi",
          "Audi",
          "Audi",
          "Audi",
          "Audi",
          "Audi",
          "Audi",
          "Audi",
          "Audi",
          "Audi",
          "Audi",
          "Audi",
          "Audi",
          "Audi",
          "Audi",
          "Audi",
          "Audi",
          "Audi",
          "Audi",
          "Audi",
          "Audi",
          "Audi",
          "Audi",
          "Audi",
          "Audi",
          "Audi",
          "Audi",
          "Audi",
          "Audi",
          "Audi",
          "Audi",
          "Audi",
          "Audi",
          "Audi",
          "Audi",
          "Audi",
          "Audi",
          "Audi",
          "Audi",
          "Audi",
          "Audi",
          "Audi",
          "Audi",
          "Audi",
          "Audi",
          "Audi",
          "Audi",
          "Audi",
          "Audi",
          "Audi",
          "Audi",
          "Audi",
          "Audi",
          "Audi",
          "Audi",
          "Audi",
          "Audi",
          "Audi",
          "Audi",
          "Audi",
          "Audi",
          "Audi",
          "Audi",
          "Audi",
          "Audi",
          "Audi",
          "Audi",
          "Audi",
          "Audi",
          "Audi",
          "Audi",
          "Audi",
          "Audi",
          "Audi",
          "Audi",
          "Audi",
          "Audi",
          "Audi",
          "Audi",
          "Audi",
          "Audi",
          "Audi",
          "Audi",
          "Audi",
          "Audi",
          "Audi",
          "Audi",
          "Audi",
          "Audi",
          "Audi",
          "Audi",
          "Audi",
          "Audi",
          "Audi",
          "Audi",
          "Audi",
          "Audi",
          "Audi",
          "Audi",
          "Audi",
          "Audi",
          "Audi",
          "Audi",
          "Audi",
          "Audi",
          "Audi",
          "Audi",
          "Audi",
          "Audi",
          "Audi",
          "Audi",
          "Audi",
          "Audi",
          "Audi",
          "Audi",
          "Audi",
          "Audi",
          "Audi",
          "Audi",
          "Audi",
          "Audi",
          "Audi",
          "Audi",
          "Audi",
          "Audi",
          "Audi",
          "Audi",
          "Audi",
          "Audi",
          "Audi",
          "Audi",
          "Audi",
          "Audi",
          "Audi",
          "Audi",
          "Audi",
          "Audi",
          "Audi",
          "Audi",
          "Audi",
          "Audi",
          "Audi",
          "Audi",
          "Audi",
          "Audi",
          "Audi",
          "Audi",
          "Audi",
          "Audi",
          "Audi",
          "Audi",
          "Audi",
          "Audi",
          "Audi",
          "Audi",
          "Audi",
          "Audi",
          "Audi",
          "Audi",
          "Audi",
          "Audi",
          "Audi",
          "Audi",
          "Audi",
          "Audi",
          "Audi",
          "Audi",
          "Audi",
          "Audi",
          "Audi",
          "Audi",
          "Audi",
          "Audi",
          "Audi",
          "Audi",
          "Audi",
          "Audi",
          "Audi",
          "Audi",
          "Audi",
          "Audi",
          "Audi",
          "Audi",
          "Audi",
          "Audi",
          "Audi",
          "Audi",
          "Audi",
          "Audi",
          "Audi",
          "Audi",
          "Audi",
          "Audi",
          "Audi",
          "Audi",
          "Audi",
          "Audi",
          "Audi",
          "Audi",
          "Audi",
          "Audi",
          "Audi",
          "Audi",
          "Audi",
          "Audi",
          "Audi",
          "Audi",
          "Audi",
          "Audi",
          "Audi",
          "Audi",
          "Audi",
          "Audi",
          "Audi",
          "Audi",
          "Audi",
          "Audi",
          "Audi",
          "Audi",
          "Audi",
          "Audi",
          "Audi",
          "Audi",
          "Audi",
          "Audi",
          "Audi",
          "Audi",
          "Audi",
          "Audi",
          "Audi",
          "Audi",
          "Audi",
          "Audi",
          "Audi",
          "Audi",
          "Audi",
          "Audi",
          "Audi",
          "Audi",
          "Audi",
          "Audi",
          "Audi",
          "Audi",
          "Audi",
          "Audi",
          "Audi",
          "Audi",
          "Audi",
          "Audi",
          "Audi",
          "Audi",
          "Audi",
          "Audi",
          "Audi",
          "Audi",
          "Audi",
          "Audi",
          "Audi",
          "Audi",
          "Audi",
          "Audi",
          "Audi",
          "Audi",
          "Audi",
          "Audi",
          "Audi",
          "Audi",
          "Audi",
          "Audi",
          "Audi",
          "Audi",
          "Audi",
          "Audi",
          "Audi",
          "Audi",
          "Audi",
          "Audi",
          "Audi",
          "Audi",
          "Audi",
          "Audi",
          "Audi",
          "Audi",
          "Audi",
          "Audi",
          "Audi",
          "Audi",
          "Audi",
          "Audi",
          "Audi",
          "Audi",
          "Audi",
          "Audi",
          "Audi",
          "Audi",
          "Audi",
          "Audi",
          "Audi",
          "Audi",
          "Audi",
          "Audi",
          "Audi",
          "Audi",
          "Audi",
          "Audi",
          "Audi",
          "Audi",
          "Audi",
          "Audi",
          "Audi",
          "Audi",
          "Audi",
          "Audi",
          "Audi",
          "Audi",
          "Audi",
          "Audi",
          "Audi",
          "Audi",
          "Audi",
          "Audi",
          "Audi",
          "Audi",
          "Audi",
          "Audi",
          "Audi",
          "Audi",
          "Audi",
          "Audi",
          "Audi",
          "Audi",
          "Audi",
          "Audi",
          "Audi",
          "Audi",
          "Audi",
          "Audi",
          "Audi",
          "Audi"
         ],
         "x0": " ",
         "xaxis": "x",
         "y": {
          "bdata": "UQB+AIkAhQCOAI4AhQBHAG0AhQCLAJAAdwCVAKoAjQBJAI0AoACgAKMAoAAcAHUAsQCQAE8AcgB9AJ8AfAB9AH0AoQCRAJkApgCbAJwAUQCYAGEAhQCAAH0AnQBTAHcAUwC4AHwAlQCuAJAAlwCVAH0AhQCUAI0AZABBAIUAggCSAIUAfAAcAIsAkQB8AIsAjwAkAHoAYgCNAIcAfgCiAFgAQgCYAJUAlACYAFcAkwB+AHgAiAB/AIAALACZAI4AigCQAI4AgQCIACwAewB/AHYAmABuAIoAdQBxAIIArACfAFoArQCeAKYAhQCAAFcAfgCAAGkAeAB1AHgAhwCXAHgAdQBuAHUAjQA7AIkAYQCEAIEAVQCWAI4AngBSAKkApgCEAIkArQCZAHsAdgCAAHAAiQCOAGsAlQCAAKkAlACLAIcAUQCNAIIAcgCRAKgAgQCEAIQApQCaAI0AqwCaAHcAlACLAHgArQB8AH8AgACFAJYAlgCpAEUAdQB7AI4AdAByAHoAggCEAHoAfAB6AEEAdQCCAJEAcgBCAFoASQCHAHoAjgBqAIgAiQBwAJ4ARwB1AHsAdABFAHUAjAB4AH0AqwCFAH8AXgB8AHcAcgCfAI4AkwB1AHMAQgBuAHoAOwCFAHUAUgB6AFMAjwCWAJEAhwB/AIsAcgCHAH8AhAB8AIAAfwB/AIQAfwCEAH8AegCJAH8AkwCJAHsAhgCCAIEAfgB0AIEAgwB/AIUAggCHAHsAoQCQAHAAhACHAJMAcwB7AHwAjQCUAIAAlgBuAHMAjQCeAIQAhQBoAJsADgCEAJ0AiwCBAHAAiwB2AIsAhgB8AFwAgAB7AH8AiwCFAJ0AmwAOAJ0AjwCIAIUADgB/AIwAgACdAKIAbwCJAJYAkgD6AIkAjwCvAH4AhABLAI0AYQC4AKIAMQCDAHgAZwCUAI8AswCWAHoAjgCrAJ4AhACKAKwAjACbAH0AfQCmALEAiwB5AJgAnQCSAAoAeQBvAJUArACNAHgAlgCnAHUAjgCTAGcAkACEAJYAeACsAK0AiACaAKYAlAClAGsAlgCYAKcAhwCcAI8AjwCHAIsAfQC7AIEApQB8AIsAjgCkAJ4AmQCiAIsAkQB4ADEAkgB6AI0AfQAlAJsAsQCWAEcAowCDAIEAkAClAHgAgACWAIoAnACQAJoAUgB4AIgAjACGAHoAQwB8AJgAhwDGAIsAggCUALMAigCbAIIAlAClAI0AhwCFAJYAgACQAIUAkgCBAIQAcgB2AHsAogAeAI4AHACOAK0AJQCAAG8AdQBMAIsAewCBAKAAfwCLAKQAggCEAIsAhACEAEcAhgCAAIoAiwB+AIgAeQBYAEoAjAB8AIgAhQB9AIoA4wCCAJIAkgCEAKgAgQCIAJcAfAA=",
          "dtype": "i2"
         },
         "y0": " ",
         "yaxis": "y"
        },
        {
         "alignmentgroup": "True",
         "box": {
          "visible": true
         },
         "hovertemplate": "Marque=%{x}<br>Prix par jour (€)=%{y}<extra></extra>",
         "legendgroup": "BMW",
         "marker": {
          "color": "#FFA15A"
         },
         "name": "BMW",
         "offsetgroup": "BMW",
         "orientation": "v",
         "points": "suspectedoutliers",
         "scalegroup": "True",
         "showlegend": true,
         "type": "violin",
         "x": [
          "BMW",
          "BMW",
          "BMW",
          "BMW",
          "BMW",
          "BMW",
          "BMW",
          "BMW",
          "BMW",
          "BMW",
          "BMW",
          "BMW",
          "BMW",
          "BMW",
          "BMW",
          "BMW",
          "BMW",
          "BMW",
          "BMW",
          "BMW",
          "BMW",
          "BMW",
          "BMW",
          "BMW",
          "BMW",
          "BMW",
          "BMW",
          "BMW",
          "BMW",
          "BMW",
          "BMW",
          "BMW",
          "BMW",
          "BMW",
          "BMW",
          "BMW",
          "BMW",
          "BMW",
          "BMW",
          "BMW",
          "BMW",
          "BMW",
          "BMW",
          "BMW",
          "BMW",
          "BMW",
          "BMW",
          "BMW",
          "BMW",
          "BMW",
          "BMW",
          "BMW",
          "BMW",
          "BMW",
          "BMW",
          "BMW",
          "BMW",
          "BMW",
          "BMW",
          "BMW",
          "BMW",
          "BMW",
          "BMW",
          "BMW",
          "BMW",
          "BMW",
          "BMW",
          "BMW",
          "BMW",
          "BMW",
          "BMW",
          "BMW",
          "BMW",
          "BMW",
          "BMW",
          "BMW",
          "BMW",
          "BMW",
          "BMW",
          "BMW",
          "BMW",
          "BMW",
          "BMW",
          "BMW",
          "BMW",
          "BMW",
          "BMW",
          "BMW",
          "BMW",
          "BMW",
          "BMW",
          "BMW",
          "BMW",
          "BMW",
          "BMW",
          "BMW",
          "BMW",
          "BMW",
          "BMW",
          "BMW",
          "BMW",
          "BMW",
          "BMW",
          "BMW",
          "BMW",
          "BMW",
          "BMW",
          "BMW",
          "BMW",
          "BMW",
          "BMW",
          "BMW",
          "BMW",
          "BMW",
          "BMW",
          "BMW",
          "BMW",
          "BMW",
          "BMW",
          "BMW",
          "BMW",
          "BMW",
          "BMW",
          "BMW",
          "BMW",
          "BMW",
          "BMW",
          "BMW",
          "BMW",
          "BMW",
          "BMW",
          "BMW",
          "BMW",
          "BMW",
          "BMW",
          "BMW",
          "BMW",
          "BMW",
          "BMW",
          "BMW",
          "BMW",
          "BMW",
          "BMW",
          "BMW",
          "BMW",
          "BMW",
          "BMW",
          "BMW",
          "BMW",
          "BMW",
          "BMW",
          "BMW",
          "BMW",
          "BMW",
          "BMW",
          "BMW",
          "BMW",
          "BMW",
          "BMW",
          "BMW",
          "BMW",
          "BMW",
          "BMW",
          "BMW",
          "BMW",
          "BMW",
          "BMW",
          "BMW",
          "BMW",
          "BMW",
          "BMW",
          "BMW",
          "BMW",
          "BMW",
          "BMW",
          "BMW",
          "BMW",
          "BMW",
          "BMW",
          "BMW",
          "BMW",
          "BMW",
          "BMW",
          "BMW",
          "BMW",
          "BMW",
          "BMW",
          "BMW",
          "BMW",
          "BMW",
          "BMW",
          "BMW",
          "BMW",
          "BMW",
          "BMW",
          "BMW",
          "BMW",
          "BMW",
          "BMW",
          "BMW",
          "BMW",
          "BMW",
          "BMW",
          "BMW",
          "BMW",
          "BMW",
          "BMW",
          "BMW",
          "BMW",
          "BMW",
          "BMW",
          "BMW",
          "BMW",
          "BMW",
          "BMW",
          "BMW",
          "BMW",
          "BMW",
          "BMW",
          "BMW",
          "BMW",
          "BMW",
          "BMW",
          "BMW",
          "BMW",
          "BMW",
          "BMW",
          "BMW",
          "BMW",
          "BMW",
          "BMW",
          "BMW",
          "BMW",
          "BMW",
          "BMW",
          "BMW",
          "BMW",
          "BMW",
          "BMW",
          "BMW",
          "BMW",
          "BMW",
          "BMW",
          "BMW",
          "BMW",
          "BMW",
          "BMW",
          "BMW",
          "BMW",
          "BMW",
          "BMW",
          "BMW",
          "BMW",
          "BMW",
          "BMW",
          "BMW",
          "BMW",
          "BMW",
          "BMW",
          "BMW",
          "BMW",
          "BMW",
          "BMW",
          "BMW",
          "BMW",
          "BMW",
          "BMW",
          "BMW",
          "BMW",
          "BMW",
          "BMW",
          "BMW",
          "BMW",
          "BMW",
          "BMW",
          "BMW",
          "BMW",
          "BMW",
          "BMW",
          "BMW",
          "BMW",
          "BMW",
          "BMW",
          "BMW",
          "BMW",
          "BMW",
          "BMW",
          "BMW",
          "BMW",
          "BMW",
          "BMW",
          "BMW",
          "BMW",
          "BMW",
          "BMW",
          "BMW",
          "BMW",
          "BMW",
          "BMW",
          "BMW",
          "BMW",
          "BMW",
          "BMW",
          "BMW",
          "BMW",
          "BMW",
          "BMW",
          "BMW",
          "BMW",
          "BMW",
          "BMW",
          "BMW",
          "BMW",
          "BMW",
          "BMW",
          "BMW",
          "BMW",
          "BMW",
          "BMW",
          "BMW",
          "BMW",
          "BMW",
          "BMW",
          "BMW",
          "BMW",
          "BMW",
          "BMW",
          "BMW",
          "BMW",
          "BMW",
          "BMW",
          "BMW",
          "BMW",
          "BMW",
          "BMW",
          "BMW",
          "BMW",
          "BMW",
          "BMW",
          "BMW",
          "BMW",
          "BMW",
          "BMW",
          "BMW",
          "BMW",
          "BMW",
          "BMW",
          "BMW",
          "BMW",
          "BMW",
          "BMW",
          "BMW",
          "BMW",
          "BMW",
          "BMW",
          "BMW",
          "BMW",
          "BMW",
          "BMW",
          "BMW",
          "BMW",
          "BMW",
          "BMW",
          "BMW",
          "BMW",
          "BMW",
          "BMW",
          "BMW",
          "BMW",
          "BMW",
          "BMW",
          "BMW",
          "BMW",
          "BMW",
          "BMW",
          "BMW",
          "BMW",
          "BMW",
          "BMW",
          "BMW",
          "BMW",
          "BMW",
          "BMW",
          "BMW",
          "BMW",
          "BMW",
          "BMW",
          "BMW",
          "BMW",
          "BMW",
          "BMW",
          "BMW",
          "BMW",
          "BMW",
          "BMW",
          "BMW",
          "BMW",
          "BMW",
          "BMW",
          "BMW",
          "BMW",
          "BMW",
          "BMW",
          "BMW",
          "BMW",
          "BMW",
          "BMW",
          "BMW",
          "BMW",
          "BMW",
          "BMW",
          "BMW",
          "BMW",
          "BMW",
          "BMW",
          "BMW",
          "BMW",
          "BMW",
          "BMW",
          "BMW",
          "BMW",
          "BMW",
          "BMW",
          "BMW",
          "BMW",
          "BMW",
          "BMW",
          "BMW",
          "BMW",
          "BMW",
          "BMW",
          "BMW",
          "BMW",
          "BMW",
          "BMW",
          "BMW",
          "BMW",
          "BMW",
          "BMW",
          "BMW",
          "BMW",
          "BMW",
          "BMW",
          "BMW",
          "BMW",
          "BMW",
          "BMW",
          "BMW",
          "BMW",
          "BMW",
          "BMW",
          "BMW",
          "BMW",
          "BMW",
          "BMW",
          "BMW",
          "BMW",
          "BMW",
          "BMW",
          "BMW",
          "BMW",
          "BMW",
          "BMW",
          "BMW",
          "BMW",
          "BMW",
          "BMW",
          "BMW",
          "BMW",
          "BMW",
          "BMW",
          "BMW",
          "BMW",
          "BMW",
          "BMW",
          "BMW",
          "BMW",
          "BMW",
          "BMW",
          "BMW",
          "BMW",
          "BMW",
          "BMW",
          "BMW",
          "BMW",
          "BMW",
          "BMW",
          "BMW",
          "BMW",
          "BMW",
          "BMW",
          "BMW",
          "BMW",
          "BMW",
          "BMW",
          "BMW",
          "BMW",
          "BMW",
          "BMW",
          "BMW",
          "BMW",
          "BMW",
          "BMW",
          "BMW",
          "BMW",
          "BMW",
          "BMW",
          "BMW",
          "BMW",
          "BMW",
          "BMW",
          "BMW",
          "BMW",
          "BMW",
          "BMW",
          "BMW",
          "BMW",
          "BMW",
          "BMW",
          "BMW",
          "BMW",
          "BMW",
          "BMW",
          "BMW",
          "BMW",
          "BMW",
          "BMW",
          "BMW",
          "BMW",
          "BMW",
          "BMW",
          "BMW",
          "BMW",
          "BMW",
          "BMW",
          "BMW",
          "BMW",
          "BMW",
          "BMW",
          "BMW",
          "BMW",
          "BMW",
          "BMW",
          "BMW",
          "BMW",
          "BMW",
          "BMW",
          "BMW",
          "BMW",
          "BMW",
          "BMW",
          "BMW",
          "BMW",
          "BMW",
          "BMW",
          "BMW",
          "BMW",
          "BMW",
          "BMW",
          "BMW",
          "BMW",
          "BMW",
          "BMW",
          "BMW",
          "BMW",
          "BMW",
          "BMW",
          "BMW",
          "BMW",
          "BMW",
          "BMW",
          "BMW",
          "BMW",
          "BMW",
          "BMW",
          "BMW",
          "BMW",
          "BMW",
          "BMW",
          "BMW",
          "BMW",
          "BMW",
          "BMW",
          "BMW",
          "BMW",
          "BMW",
          "BMW",
          "BMW",
          "BMW",
          "BMW",
          "BMW",
          "BMW",
          "BMW",
          "BMW",
          "BMW",
          "BMW",
          "BMW",
          "BMW",
          "BMW",
          "BMW",
          "BMW",
          "BMW",
          "BMW",
          "BMW",
          "BMW",
          "BMW",
          "BMW",
          "BMW",
          "BMW",
          "BMW",
          "BMW",
          "BMW",
          "BMW",
          "BMW",
          "BMW",
          "BMW",
          "BMW",
          "BMW",
          "BMW",
          "BMW",
          "BMW",
          "BMW",
          "BMW",
          "BMW",
          "BMW",
          "BMW",
          "BMW",
          "BMW",
          "BMW",
          "BMW",
          "BMW",
          "BMW",
          "BMW",
          "BMW",
          "BMW",
          "BMW",
          "BMW",
          "BMW",
          "BMW",
          "BMW",
          "BMW",
          "BMW",
          "BMW",
          "BMW",
          "BMW",
          "BMW",
          "BMW",
          "BMW",
          "BMW",
          "BMW",
          "BMW",
          "BMW",
          "BMW",
          "BMW",
          "BMW",
          "BMW",
          "BMW",
          "BMW",
          "BMW",
          "BMW",
          "BMW",
          "BMW",
          "BMW",
          "BMW",
          "BMW",
          "BMW",
          "BMW",
          "BMW",
          "BMW",
          "BMW",
          "BMW",
          "BMW",
          "BMW",
          "BMW",
          "BMW",
          "BMW",
          "BMW",
          "BMW",
          "BMW",
          "BMW",
          "BMW",
          "BMW",
          "BMW",
          "BMW",
          "BMW",
          "BMW",
          "BMW",
          "BMW",
          "BMW",
          "BMW",
          "BMW",
          "BMW",
          "BMW",
          "BMW",
          "BMW",
          "BMW",
          "BMW",
          "BMW",
          "BMW",
          "BMW",
          "BMW",
          "BMW",
          "BMW",
          "BMW",
          "BMW",
          "BMW",
          "BMW",
          "BMW",
          "BMW",
          "BMW",
          "BMW",
          "BMW",
          "BMW",
          "BMW",
          "BMW",
          "BMW",
          "BMW",
          "BMW",
          "BMW",
          "BMW",
          "BMW",
          "BMW",
          "BMW",
          "BMW",
          "BMW",
          "BMW",
          "BMW",
          "BMW",
          "BMW",
          "BMW",
          "BMW",
          "BMW",
          "BMW",
          "BMW",
          "BMW",
          "BMW",
          "BMW",
          "BMW",
          "BMW",
          "BMW",
          "BMW",
          "BMW",
          "BMW",
          "BMW",
          "BMW",
          "BMW",
          "BMW",
          "BMW",
          "BMW",
          "BMW",
          "BMW",
          "BMW",
          "BMW",
          "BMW",
          "BMW",
          "BMW",
          "BMW",
          "BMW",
          "BMW",
          "BMW",
          "BMW",
          "BMW",
          "BMW",
          "BMW",
          "BMW",
          "BMW",
          "BMW",
          "BMW",
          "BMW",
          "BMW",
          "BMW",
          "BMW",
          "BMW",
          "BMW",
          "BMW",
          "BMW",
          "BMW",
          "BMW",
          "BMW",
          "BMW",
          "BMW",
          "BMW",
          "BMW",
          "BMW",
          "BMW",
          "BMW",
          "BMW",
          "BMW",
          "BMW",
          "BMW",
          "BMW",
          "BMW",
          "BMW",
          "BMW",
          "BMW",
          "BMW",
          "BMW",
          "BMW",
          "BMW",
          "BMW",
          "BMW",
          "BMW",
          "BMW",
          "BMW",
          "BMW",
          "BMW",
          "BMW",
          "BMW",
          "BMW",
          "BMW",
          "BMW",
          "BMW",
          "BMW",
          "BMW",
          "BMW",
          "BMW",
          "BMW",
          "BMW",
          "BMW",
          "BMW",
          "BMW",
          "BMW",
          "BMW",
          "BMW",
          "BMW",
          "BMW",
          "BMW"
         ],
         "x0": " ",
         "xaxis": "x",
         "y": {
          "bdata": "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",
          "dtype": "i2"
         },
         "y0": " ",
         "yaxis": "y"
        },
        {
         "alignmentgroup": "True",
         "box": {
          "visible": true
         },
         "hovertemplate": "Marque=%{x}<br>Prix par jour (€)=%{y}<extra></extra>",
         "legendgroup": "Mercedes",
         "marker": {
          "color": "#19d3f3"
         },
         "name": "Mercedes",
         "offsetgroup": "Mercedes",
         "orientation": "v",
         "points": "suspectedoutliers",
         "scalegroup": "True",
         "showlegend": true,
         "type": "violin",
         "x": [
          "Mercedes",
          "Mercedes",
          "Mercedes",
          "Mercedes",
          "Mercedes",
          "Mercedes",
          "Mercedes",
          "Mercedes",
          "Mercedes",
          "Mercedes",
          "Mercedes",
          "Mercedes",
          "Mercedes",
          "Mercedes",
          "Mercedes",
          "Mercedes",
          "Mercedes",
          "Mercedes",
          "Mercedes",
          "Mercedes",
          "Mercedes",
          "Mercedes",
          "Mercedes",
          "Mercedes",
          "Mercedes",
          "Mercedes",
          "Mercedes",
          "Mercedes",
          "Mercedes",
          "Mercedes",
          "Mercedes",
          "Mercedes",
          "Mercedes",
          "Mercedes",
          "Mercedes",
          "Mercedes",
          "Mercedes",
          "Mercedes",
          "Mercedes",
          "Mercedes",
          "Mercedes",
          "Mercedes",
          "Mercedes",
          "Mercedes",
          "Mercedes",
          "Mercedes",
          "Mercedes",
          "Mercedes",
          "Mercedes",
          "Mercedes",
          "Mercedes",
          "Mercedes",
          "Mercedes",
          "Mercedes",
          "Mercedes",
          "Mercedes",
          "Mercedes",
          "Mercedes",
          "Mercedes",
          "Mercedes",
          "Mercedes",
          "Mercedes",
          "Mercedes",
          "Mercedes",
          "Mercedes",
          "Mercedes",
          "Mercedes",
          "Mercedes",
          "Mercedes",
          "Mercedes",
          "Mercedes",
          "Mercedes",
          "Mercedes",
          "Mercedes",
          "Mercedes",
          "Mercedes",
          "Mercedes",
          "Mercedes",
          "Mercedes",
          "Mercedes",
          "Mercedes",
          "Mercedes",
          "Mercedes",
          "Mercedes",
          "Mercedes",
          "Mercedes",
          "Mercedes",
          "Mercedes",
          "Mercedes",
          "Mercedes",
          "Mercedes",
          "Mercedes",
          "Mercedes",
          "Mercedes",
          "Mercedes",
          "Mercedes",
          "Mercedes"
         ],
         "x0": " ",
         "xaxis": "x",
         "y": {
          "bdata": "cwCBAGsAggBwAG0AdQB9AHkAeABxAH8AfQBxAH4AgQB4AHIAhABxAIIAfgCLAJoAggByAG0AbABzAGoAbAB6AHIAfwCCAHAAdwB9AGEAgAB4AG0AdACOAHIAcwB6AH0AfABvAGAAbgB4AH4AiABtAIUAfgBwAHgAcwCAAHIAdQBuAIcAcgB5AIAAgQCZAHsAcgByAHwAiwB4AIAAfAB0AIIAeAByAIwAcwB8AHEAaQB7AI8AgAB1AIQAfwCQAGsAgAA=",
          "dtype": "i2"
         },
         "y0": " ",
         "yaxis": "y"
        },
        {
         "alignmentgroup": "True",
         "box": {
          "visible": true
         },
         "hovertemplate": "Marque=%{x}<br>Prix par jour (€)=%{y}<extra></extra>",
         "legendgroup": "Volkswagen",
         "marker": {
          "color": "#FF6692"
         },
         "name": "Volkswagen",
         "offsetgroup": "Volkswagen",
         "orientation": "v",
         "points": "suspectedoutliers",
         "scalegroup": "True",
         "showlegend": true,
         "type": "violin",
         "x": [
          "Volkswagen",
          "Volkswagen",
          "Volkswagen",
          "Volkswagen",
          "Volkswagen",
          "Volkswagen",
          "Volkswagen",
          "Volkswagen",
          "Volkswagen",
          "Volkswagen",
          "Volkswagen",
          "Volkswagen",
          "Volkswagen",
          "Volkswagen",
          "Volkswagen",
          "Volkswagen",
          "Volkswagen",
          "Volkswagen",
          "Volkswagen",
          "Volkswagen",
          "Volkswagen",
          "Volkswagen",
          "Volkswagen",
          "Volkswagen",
          "Volkswagen",
          "Volkswagen",
          "Volkswagen",
          "Volkswagen",
          "Volkswagen",
          "Volkswagen",
          "Volkswagen",
          "Volkswagen",
          "Volkswagen",
          "Volkswagen",
          "Volkswagen",
          "Volkswagen",
          "Volkswagen",
          "Volkswagen",
          "Volkswagen",
          "Volkswagen",
          "Volkswagen",
          "Volkswagen",
          "Volkswagen",
          "Volkswagen",
          "Volkswagen",
          "Volkswagen",
          "Volkswagen",
          "Volkswagen",
          "Volkswagen",
          "Volkswagen",
          "Volkswagen",
          "Volkswagen",
          "Volkswagen",
          "Volkswagen",
          "Volkswagen",
          "Volkswagen",
          "Volkswagen",
          "Volkswagen",
          "Volkswagen",
          "Volkswagen",
          "Volkswagen",
          "Volkswagen",
          "Volkswagen",
          "Volkswagen",
          "Volkswagen"
         ],
         "x0": " ",
         "xaxis": "x",
         "y": {
          "bdata": "WwCcAIMAgQCTAGcAoAB+AJAAmwBtAFsAYACVAJIAlwCSAI8AfwCgAI4AlgCSAJMAgQCIAGgAhACZAG4AlAB0AHUAZwCXAH8AjABPAJ4AlwCwAIkAlACMAIYAeACDAJkAkABcAI8AjQCNAKQAlAC8AI4AnACSAG4AfAB8AFsAeABqAA==",
          "dtype": "i2"
         },
         "y0": " ",
         "yaxis": "y"
        },
        {
         "alignmentgroup": "True",
         "box": {
          "visible": true
         },
         "hovertemplate": "Marque=%{x}<br>Prix par jour (€)=%{y}<extra></extra>",
         "legendgroup": "Mitsubishi",
         "marker": {
          "color": "#B6E880"
         },
         "name": "Mitsubishi",
         "offsetgroup": "Mitsubishi",
         "orientation": "v",
         "points": "suspectedoutliers",
         "scalegroup": "True",
         "showlegend": true,
         "type": "violin",
         "x": [
          "Mitsubishi",
          "Mitsubishi",
          "Mitsubishi",
          "Mitsubishi",
          "Mitsubishi",
          "Mitsubishi",
          "Mitsubishi",
          "Mitsubishi",
          "Mitsubishi",
          "Mitsubishi",
          "Mitsubishi",
          "Mitsubishi",
          "Mitsubishi",
          "Mitsubishi",
          "Mitsubishi",
          "Mitsubishi",
          "Mitsubishi",
          "Mitsubishi",
          "Mitsubishi",
          "Mitsubishi",
          "Mitsubishi",
          "Mitsubishi",
          "Mitsubishi",
          "Mitsubishi",
          "Mitsubishi",
          "Mitsubishi",
          "Mitsubishi",
          "Mitsubishi",
          "Mitsubishi",
          "Mitsubishi",
          "Mitsubishi",
          "Mitsubishi",
          "Mitsubishi",
          "Mitsubishi",
          "Mitsubishi",
          "Mitsubishi",
          "Mitsubishi",
          "Mitsubishi",
          "Mitsubishi",
          "Mitsubishi",
          "Mitsubishi",
          "Mitsubishi",
          "Mitsubishi",
          "Mitsubishi",
          "Mitsubishi",
          "Mitsubishi",
          "Mitsubishi",
          "Mitsubishi",
          "Mitsubishi",
          "Mitsubishi",
          "Mitsubishi",
          "Mitsubishi",
          "Mitsubishi",
          "Mitsubishi",
          "Mitsubishi",
          "Mitsubishi",
          "Mitsubishi",
          "Mitsubishi",
          "Mitsubishi",
          "Mitsubishi",
          "Mitsubishi",
          "Mitsubishi",
          "Mitsubishi",
          "Mitsubishi",
          "Mitsubishi",
          "Mitsubishi",
          "Mitsubishi",
          "Mitsubishi",
          "Mitsubishi",
          "Mitsubishi",
          "Mitsubishi",
          "Mitsubishi",
          "Mitsubishi",
          "Mitsubishi",
          "Mitsubishi",
          "Mitsubishi",
          "Mitsubishi",
          "Mitsubishi",
          "Mitsubishi",
          "Mitsubishi",
          "Mitsubishi",
          "Mitsubishi",
          "Mitsubishi",
          "Mitsubishi",
          "Mitsubishi",
          "Mitsubishi",
          "Mitsubishi",
          "Mitsubishi",
          "Mitsubishi",
          "Mitsubishi",
          "Mitsubishi",
          "Mitsubishi",
          "Mitsubishi",
          "Mitsubishi",
          "Mitsubishi",
          "Mitsubishi",
          "Mitsubishi",
          "Mitsubishi",
          "Mitsubishi",
          "Mitsubishi",
          "Mitsubishi",
          "Mitsubishi",
          "Mitsubishi",
          "Mitsubishi",
          "Mitsubishi",
          "Mitsubishi",
          "Mitsubishi",
          "Mitsubishi",
          "Mitsubishi",
          "Mitsubishi",
          "Mitsubishi",
          "Mitsubishi",
          "Mitsubishi",
          "Mitsubishi",
          "Mitsubishi",
          "Mitsubishi",
          "Mitsubishi",
          "Mitsubishi",
          "Mitsubishi",
          "Mitsubishi",
          "Mitsubishi",
          "Mitsubishi",
          "Mitsubishi",
          "Mitsubishi",
          "Mitsubishi",
          "Mitsubishi",
          "Mitsubishi",
          "Mitsubishi",
          "Mitsubishi",
          "Mitsubishi",
          "Mitsubishi",
          "Mitsubishi",
          "Mitsubishi",
          "Mitsubishi",
          "Mitsubishi",
          "Mitsubishi",
          "Mitsubishi",
          "Mitsubishi",
          "Mitsubishi",
          "Mitsubishi",
          "Mitsubishi",
          "Mitsubishi",
          "Mitsubishi",
          "Mitsubishi",
          "Mitsubishi",
          "Mitsubishi",
          "Mitsubishi",
          "Mitsubishi",
          "Mitsubishi",
          "Mitsubishi",
          "Mitsubishi",
          "Mitsubishi",
          "Mitsubishi",
          "Mitsubishi",
          "Mitsubishi",
          "Mitsubishi",
          "Mitsubishi",
          "Mitsubishi",
          "Mitsubishi",
          "Mitsubishi",
          "Mitsubishi",
          "Mitsubishi",
          "Mitsubishi",
          "Mitsubishi",
          "Mitsubishi",
          "Mitsubishi",
          "Mitsubishi",
          "Mitsubishi",
          "Mitsubishi",
          "Mitsubishi",
          "Mitsubishi",
          "Mitsubishi",
          "Mitsubishi",
          "Mitsubishi",
          "Mitsubishi",
          "Mitsubishi",
          "Mitsubishi",
          "Mitsubishi",
          "Mitsubishi",
          "Mitsubishi",
          "Mitsubishi",
          "Mitsubishi",
          "Mitsubishi",
          "Mitsubishi",
          "Mitsubishi",
          "Mitsubishi",
          "Mitsubishi",
          "Mitsubishi",
          "Mitsubishi",
          "Mitsubishi",
          "Mitsubishi",
          "Mitsubishi",
          "Mitsubishi",
          "Mitsubishi",
          "Mitsubishi",
          "Mitsubishi",
          "Mitsubishi",
          "Mitsubishi",
          "Mitsubishi",
          "Mitsubishi",
          "Mitsubishi",
          "Mitsubishi",
          "Mitsubishi",
          "Mitsubishi",
          "Mitsubishi",
          "Mitsubishi",
          "Mitsubishi",
          "Mitsubishi",
          "Mitsubishi",
          "Mitsubishi",
          "Mitsubishi",
          "Mitsubishi",
          "Mitsubishi",
          "Mitsubishi",
          "Mitsubishi",
          "Mitsubishi",
          "Mitsubishi",
          "Mitsubishi",
          "Mitsubishi",
          "Mitsubishi",
          "Mitsubishi",
          "Mitsubishi",
          "Mitsubishi",
          "Mitsubishi",
          "Mitsubishi",
          "Mitsubishi",
          "Mitsubishi",
          "Mitsubishi",
          "Mitsubishi",
          "Mitsubishi",
          "Mitsubishi"
         ],
         "x0": " ",
         "xaxis": "x",
         "y": {
          "bdata": "2QDDAJsArwDPAMMAcgDRAJAAiwBsAM8AtgCiAMwAhQC4AIUAtADLAMUAzQB1AMgAjQDcAK8AjQCVANAAuADMAI0AdQCyAKAAwgDSAMIAnABtAHwAlADQADcAoACLAL0A5ACNAHwArwB4AGkAuQCmAG0A0AC7AJQAyAByAI8AsQC2AJwAtgC9AMUAewB+ANkAtQCzAM0AvADZALoAwgB6AJgAtAB/ANIAuwCQAIQAkwCcAI4AlwDDAMsAyADSAH8AywDGANAAugDXAHoAkwDYAL0AnACwALYAtQDGAJoAtwDRAK8A0wC8AM8AywC2AL4AjwC9ALwAzADGAJsAxAC9ALkAjgDBAN4AOwDLALgAzQCJAGcAggCCAKoAggBXAMMAywCwANcAfwDJAEcAdQCwAMIAtQB0ANMAkADGALoA2ADGAL8AsgC5AHoAggDgALoAjwC/ALYAxgDEANAAYADVALwAgQDsAEoAaACsANMARAC6AMAAtADIALoA1wDVAHIA4QC9AIAAvQDPAIgAtAC+AJoAvQDQALsAPADBAMYA0AC9ALkAagB1ANcAvADLAIQAdQC1AM0AWQBgALYA1ACpAM8AkQC6AIIA0wCjAMIA",
          "dtype": "i2"
         },
         "y0": " ",
         "yaxis": "y"
        },
        {
         "alignmentgroup": "True",
         "box": {
          "visible": true
         },
         "hovertemplate": "Marque=%{x}<br>Prix par jour (€)=%{y}<extra></extra>",
         "legendgroup": "Nissan",
         "marker": {
          "color": "#FF97FF"
         },
         "name": "Nissan",
         "offsetgroup": "Nissan",
         "orientation": "v",
         "points": "suspectedoutliers",
         "scalegroup": "True",
         "showlegend": true,
         "type": "violin",
         "x": [
          "Nissan",
          "Nissan",
          "Nissan",
          "Nissan",
          "Nissan",
          "Nissan",
          "Nissan",
          "Nissan",
          "Nissan",
          "Nissan",
          "Nissan",
          "Nissan",
          "Nissan",
          "Nissan",
          "Nissan",
          "Nissan",
          "Nissan",
          "Nissan",
          "Nissan",
          "Nissan",
          "Nissan",
          "Nissan",
          "Nissan",
          "Nissan",
          "Nissan",
          "Nissan",
          "Nissan",
          "Nissan",
          "Nissan",
          "Nissan",
          "Nissan",
          "Nissan",
          "Nissan",
          "Nissan",
          "Nissan",
          "Nissan",
          "Nissan",
          "Nissan",
          "Nissan",
          "Nissan",
          "Nissan",
          "Nissan",
          "Nissan",
          "Nissan",
          "Nissan",
          "Nissan",
          "Nissan",
          "Nissan",
          "Nissan",
          "Nissan",
          "Nissan",
          "Nissan",
          "Nissan",
          "Nissan",
          "Nissan",
          "Nissan",
          "Nissan",
          "Nissan",
          "Nissan",
          "Nissan",
          "Nissan",
          "Nissan",
          "Nissan",
          "Nissan",
          "Nissan",
          "Nissan",
          "Nissan",
          "Nissan",
          "Nissan",
          "Nissan",
          "Nissan",
          "Nissan",
          "Nissan",
          "Nissan",
          "Nissan",
          "Nissan",
          "Nissan",
          "Nissan",
          "Nissan",
          "Nissan",
          "Nissan",
          "Nissan",
          "Nissan",
          "Nissan",
          "Nissan",
          "Nissan",
          "Nissan",
          "Nissan",
          "Nissan",
          "Nissan",
          "Nissan",
          "Nissan",
          "Nissan",
          "Nissan",
          "Nissan",
          "Nissan",
          "Nissan",
          "Nissan",
          "Nissan",
          "Nissan",
          "Nissan",
          "Nissan",
          "Nissan",
          "Nissan",
          "Nissan",
          "Nissan",
          "Nissan",
          "Nissan",
          "Nissan",
          "Nissan",
          "Nissan",
          "Nissan",
          "Nissan",
          "Nissan",
          "Nissan",
          "Nissan",
          "Nissan",
          "Nissan",
          "Nissan",
          "Nissan",
          "Nissan",
          "Nissan",
          "Nissan",
          "Nissan",
          "Nissan",
          "Nissan",
          "Nissan",
          "Nissan",
          "Nissan",
          "Nissan",
          "Nissan",
          "Nissan",
          "Nissan",
          "Nissan",
          "Nissan",
          "Nissan",
          "Nissan",
          "Nissan",
          "Nissan",
          "Nissan",
          "Nissan",
          "Nissan",
          "Nissan",
          "Nissan",
          "Nissan",
          "Nissan",
          "Nissan",
          "Nissan",
          "Nissan",
          "Nissan",
          "Nissan",
          "Nissan",
          "Nissan",
          "Nissan",
          "Nissan",
          "Nissan",
          "Nissan",
          "Nissan",
          "Nissan",
          "Nissan",
          "Nissan",
          "Nissan",
          "Nissan",
          "Nissan",
          "Nissan",
          "Nissan",
          "Nissan",
          "Nissan",
          "Nissan",
          "Nissan",
          "Nissan",
          "Nissan",
          "Nissan",
          "Nissan",
          "Nissan",
          "Nissan",
          "Nissan",
          "Nissan",
          "Nissan",
          "Nissan",
          "Nissan",
          "Nissan",
          "Nissan",
          "Nissan",
          "Nissan",
          "Nissan",
          "Nissan",
          "Nissan",
          "Nissan",
          "Nissan",
          "Nissan",
          "Nissan",
          "Nissan",
          "Nissan",
          "Nissan",
          "Nissan",
          "Nissan",
          "Nissan",
          "Nissan",
          "Nissan",
          "Nissan",
          "Nissan",
          "Nissan",
          "Nissan",
          "Nissan",
          "Nissan",
          "Nissan",
          "Nissan",
          "Nissan",
          "Nissan",
          "Nissan",
          "Nissan",
          "Nissan",
          "Nissan",
          "Nissan",
          "Nissan",
          "Nissan",
          "Nissan",
          "Nissan",
          "Nissan",
          "Nissan",
          "Nissan",
          "Nissan",
          "Nissan",
          "Nissan",
          "Nissan",
          "Nissan",
          "Nissan",
          "Nissan",
          "Nissan",
          "Nissan",
          "Nissan",
          "Nissan",
          "Nissan",
          "Nissan",
          "Nissan",
          "Nissan",
          "Nissan",
          "Nissan",
          "Nissan",
          "Nissan",
          "Nissan",
          "Nissan",
          "Nissan",
          "Nissan",
          "Nissan",
          "Nissan",
          "Nissan",
          "Nissan",
          "Nissan",
          "Nissan",
          "Nissan",
          "Nissan",
          "Nissan",
          "Nissan",
          "Nissan",
          "Nissan",
          "Nissan",
          "Nissan",
          "Nissan",
          "Nissan",
          "Nissan",
          "Nissan",
          "Nissan",
          "Nissan",
          "Nissan",
          "Nissan",
          "Nissan",
          "Nissan",
          "Nissan",
          "Nissan",
          "Nissan",
          "Nissan",
          "Nissan",
          "Nissan"
         ],
         "x0": " ",
         "xaxis": "x",
         "y": {
          "bdata": "cgByADwAggB2AGEAaQCTAG4AfABtAGgAbQBuAHYASgBsAH8AbQBjAG8AHABzAIUAcgB8AGAAbwBvAHgAfgByAHIAHABqAHcAewBqAIMATQBuAHYAGABtAHUAZQA9AEYAdwBrAHEAbgBoAHYATwBYAGQAXQBsAIQAbwB+AGYAawAcAHIAYABtAGgAXgBtAG4AZABpAIAAcABoABwAcABmAGsAbQBxAHIAagBsAIwAewB0AH0AdQByAG0AjwB5AGkAegB6AGsAhQBlAHgAawBrAGgAewB7AG4AhQCHAHMAcwBzAHsAZABnAH4AdABhAH4AbQB0AGcAbQB3AG4AegBjAGUAawB3AHQAdQByAH8AWgBkAHQAYABnAG4AdQBtAGUAggB6AGgAcgCKAI0AcwBjAGgAeQBtAGwAWgB3AHYAcgBiAIAAdwBmAHcAdQBwAEoAeAB/AHQAcABMAHEAgwByAIAAdgCEAHoAcgBrADsAbgBuAGQAggBnAIcAcACDAIUAaQBtAG8AeAB8AHQAdABkAF4AbQByAHoAfQB5AHYAdwChAGsAawBmAG4AYwBxAHQAcQB7AIcAbwByAGQAdwCAAHsAdABkAHIAfABNAGQAdgBtAJQAdQBUAHYAcwCJAG0AWQBvAHgAfQB/AHIAcgCLAHoAcwB5AJUAhAB8AGoAewB6AGEAegA8AGoAfAB0AHsAdQB6AHAAbQB6AHIAdgBnAGEAaQB9AA==",
          "dtype": "i2"
         },
         "y0": " ",
         "yaxis": "y"
        },
        {
         "alignmentgroup": "True",
         "box": {
          "visible": true
         },
         "hovertemplate": "Marque=%{x}<br>Prix par jour (€)=%{y}<extra></extra>",
         "legendgroup": "Toyota",
         "marker": {
          "color": "#FECB52"
         },
         "name": "Toyota",
         "offsetgroup": "Toyota",
         "orientation": "v",
         "points": "suspectedoutliers",
         "scalegroup": "True",
         "showlegend": true,
         "type": "violin",
         "x": [
          "Toyota",
          "Toyota",
          "Toyota",
          "Toyota",
          "Toyota",
          "Toyota",
          "Toyota",
          "Toyota",
          "Toyota",
          "Toyota",
          "Toyota",
          "Toyota",
          "Toyota",
          "Toyota",
          "Toyota",
          "Toyota",
          "Toyota",
          "Toyota",
          "Toyota",
          "Toyota",
          "Toyota",
          "Toyota",
          "Toyota",
          "Toyota",
          "Toyota",
          "Toyota",
          "Toyota",
          "Toyota",
          "Toyota",
          "Toyota",
          "Toyota",
          "Toyota",
          "Toyota",
          "Toyota",
          "Toyota",
          "Toyota",
          "Toyota",
          "Toyota",
          "Toyota",
          "Toyota",
          "Toyota",
          "Toyota",
          "Toyota",
          "Toyota",
          "Toyota",
          "Toyota",
          "Toyota",
          "Toyota",
          "Toyota",
          "Toyota",
          "Toyota",
          "Toyota",
          "Toyota"
         ],
         "x0": " ",
         "xaxis": "x",
         "y": {
          "bdata": "jQCrAMsA3wDfAMoA+wDNAJAA0gCjAOAAkgDfAN0AkgDJAH8ADgHPAH8AfQBFAGwAcgByAJIAjABeAG8AdgB1AIoAeABzAG0AfwCLAIQAcAB/AH0AgwCOAIIAegB1AHcAdAB5AIQAggCXAA==",
          "dtype": "i2"
         },
         "y0": " ",
         "yaxis": "y"
        }
       ],
       "layout": {
        "legend": {
         "title": {
          "text": "Marque"
         },
         "tracegroupgap": 0
        },
        "showlegend": false,
        "template": {
         "data": {
          "bar": [
           {
            "error_x": {
             "color": "#2a3f5f"
            },
            "error_y": {
             "color": "#2a3f5f"
            },
            "marker": {
             "line": {
              "color": "#E5ECF6",
              "width": 0.5
             },
             "pattern": {
              "fillmode": "overlay",
              "size": 10,
              "solidity": 0.2
             }
            },
            "type": "bar"
           }
          ],
          "barpolar": [
           {
            "marker": {
             "line": {
              "color": "#E5ECF6",
              "width": 0.5
             },
             "pattern": {
              "fillmode": "overlay",
              "size": 10,
              "solidity": 0.2
             }
            },
            "type": "barpolar"
           }
          ],
          "carpet": [
           {
            "aaxis": {
             "endlinecolor": "#2a3f5f",
             "gridcolor": "white",
             "linecolor": "white",
             "minorgridcolor": "white",
             "startlinecolor": "#2a3f5f"
            },
            "baxis": {
             "endlinecolor": "#2a3f5f",
             "gridcolor": "white",
             "linecolor": "white",
             "minorgridcolor": "white",
             "startlinecolor": "#2a3f5f"
            },
            "type": "carpet"
           }
          ],
          "choropleth": [
           {
            "colorbar": {
             "outlinewidth": 0,
             "ticks": ""
            },
            "type": "choropleth"
           }
          ],
          "contour": [
           {
            "colorbar": {
             "outlinewidth": 0,
             "ticks": ""
            },
            "colorscale": [
             [
              0,
              "#0d0887"
             ],
             [
              0.1111111111111111,
              "#46039f"
             ],
             [
              0.2222222222222222,
              "#7201a8"
             ],
             [
              0.3333333333333333,
              "#9c179e"
             ],
             [
              0.4444444444444444,
              "#bd3786"
             ],
             [
              0.5555555555555556,
              "#d8576b"
             ],
             [
              0.6666666666666666,
              "#ed7953"
             ],
             [
              0.7777777777777778,
              "#fb9f3a"
             ],
             [
              0.8888888888888888,
              "#fdca26"
             ],
             [
              1,
              "#f0f921"
             ]
            ],
            "type": "contour"
           }
          ],
          "contourcarpet": [
           {
            "colorbar": {
             "outlinewidth": 0,
             "ticks": ""
            },
            "type": "contourcarpet"
           }
          ],
          "heatmap": [
           {
            "colorbar": {
             "outlinewidth": 0,
             "ticks": ""
            },
            "colorscale": [
             [
              0,
              "#0d0887"
             ],
             [
              0.1111111111111111,
              "#46039f"
             ],
             [
              0.2222222222222222,
              "#7201a8"
             ],
             [
              0.3333333333333333,
              "#9c179e"
             ],
             [
              0.4444444444444444,
              "#bd3786"
             ],
             [
              0.5555555555555556,
              "#d8576b"
             ],
             [
              0.6666666666666666,
              "#ed7953"
             ],
             [
              0.7777777777777778,
              "#fb9f3a"
             ],
             [
              0.8888888888888888,
              "#fdca26"
             ],
             [
              1,
              "#f0f921"
             ]
            ],
            "type": "heatmap"
           }
          ],
          "histogram": [
           {
            "marker": {
             "pattern": {
              "fillmode": "overlay",
              "size": 10,
              "solidity": 0.2
             }
            },
            "type": "histogram"
           }
          ],
          "histogram2d": [
           {
            "colorbar": {
             "outlinewidth": 0,
             "ticks": ""
            },
            "colorscale": [
             [
              0,
              "#0d0887"
             ],
             [
              0.1111111111111111,
              "#46039f"
             ],
             [
              0.2222222222222222,
              "#7201a8"
             ],
             [
              0.3333333333333333,
              "#9c179e"
             ],
             [
              0.4444444444444444,
              "#bd3786"
             ],
             [
              0.5555555555555556,
              "#d8576b"
             ],
             [
              0.6666666666666666,
              "#ed7953"
             ],
             [
              0.7777777777777778,
              "#fb9f3a"
             ],
             [
              0.8888888888888888,
              "#fdca26"
             ],
             [
              1,
              "#f0f921"
             ]
            ],
            "type": "histogram2d"
           }
          ],
          "histogram2dcontour": [
           {
            "colorbar": {
             "outlinewidth": 0,
             "ticks": ""
            },
            "colorscale": [
             [
              0,
              "#0d0887"
             ],
             [
              0.1111111111111111,
              "#46039f"
             ],
             [
              0.2222222222222222,
              "#7201a8"
             ],
             [
              0.3333333333333333,
              "#9c179e"
             ],
             [
              0.4444444444444444,
              "#bd3786"
             ],
             [
              0.5555555555555556,
              "#d8576b"
             ],
             [
              0.6666666666666666,
              "#ed7953"
             ],
             [
              0.7777777777777778,
              "#fb9f3a"
             ],
             [
              0.8888888888888888,
              "#fdca26"
             ],
             [
              1,
              "#f0f921"
             ]
            ],
            "type": "histogram2dcontour"
           }
          ],
          "mesh3d": [
           {
            "colorbar": {
             "outlinewidth": 0,
             "ticks": ""
            },
            "type": "mesh3d"
           }
          ],
          "parcoords": [
           {
            "line": {
             "colorbar": {
              "outlinewidth": 0,
              "ticks": ""
             }
            },
            "type": "parcoords"
           }
          ],
          "pie": [
           {
            "automargin": true,
            "type": "pie"
           }
          ],
          "scatter": [
           {
            "fillpattern": {
             "fillmode": "overlay",
             "size": 10,
             "solidity": 0.2
            },
            "type": "scatter"
           }
          ],
          "scatter3d": [
           {
            "line": {
             "colorbar": {
              "outlinewidth": 0,
              "ticks": ""
             }
            },
            "marker": {
             "colorbar": {
              "outlinewidth": 0,
              "ticks": ""
             }
            },
            "type": "scatter3d"
           }
          ],
          "scattercarpet": [
           {
            "marker": {
             "colorbar": {
              "outlinewidth": 0,
              "ticks": ""
             }
            },
            "type": "scattercarpet"
           }
          ],
          "scattergeo": [
           {
            "marker": {
             "colorbar": {
              "outlinewidth": 0,
              "ticks": ""
             }
            },
            "type": "scattergeo"
           }
          ],
          "scattergl": [
           {
            "marker": {
             "colorbar": {
              "outlinewidth": 0,
              "ticks": ""
             }
            },
            "type": "scattergl"
           }
          ],
          "scattermap": [
           {
            "marker": {
             "colorbar": {
              "outlinewidth": 0,
              "ticks": ""
             }
            },
            "type": "scattermap"
           }
          ],
          "scattermapbox": [
           {
            "marker": {
             "colorbar": {
              "outlinewidth": 0,
              "ticks": ""
             }
            },
            "type": "scattermapbox"
           }
          ],
          "scatterpolar": [
           {
            "marker": {
             "colorbar": {
              "outlinewidth": 0,
              "ticks": ""
             }
            },
            "type": "scatterpolar"
           }
          ],
          "scatterpolargl": [
           {
            "marker": {
             "colorbar": {
              "outlinewidth": 0,
              "ticks": ""
             }
            },
            "type": "scatterpolargl"
           }
          ],
          "scatterternary": [
           {
            "marker": {
             "colorbar": {
              "outlinewidth": 0,
              "ticks": ""
             }
            },
            "type": "scatterternary"
           }
          ],
          "surface": [
           {
            "colorbar": {
             "outlinewidth": 0,
             "ticks": ""
            },
            "colorscale": [
             [
              0,
              "#0d0887"
             ],
             [
              0.1111111111111111,
              "#46039f"
             ],
             [
              0.2222222222222222,
              "#7201a8"
             ],
             [
              0.3333333333333333,
              "#9c179e"
             ],
             [
              0.4444444444444444,
              "#bd3786"
             ],
             [
              0.5555555555555556,
              "#d8576b"
             ],
             [
              0.6666666666666666,
              "#ed7953"
             ],
             [
              0.7777777777777778,
              "#fb9f3a"
             ],
             [
              0.8888888888888888,
              "#fdca26"
             ],
             [
              1,
              "#f0f921"
             ]
            ],
            "type": "surface"
           }
          ],
          "table": [
           {
            "cells": {
             "fill": {
              "color": "#EBF0F8"
             },
             "line": {
              "color": "white"
             }
            },
            "header": {
             "fill": {
              "color": "#C8D4E3"
             },
             "line": {
              "color": "white"
             }
            },
            "type": "table"
           }
          ]
         },
         "layout": {
          "annotationdefaults": {
           "arrowcolor": "#2a3f5f",
           "arrowhead": 0,
           "arrowwidth": 1
          },
          "autotypenumbers": "strict",
          "coloraxis": {
           "colorbar": {
            "outlinewidth": 0,
            "ticks": ""
           }
          },
          "colorscale": {
           "diverging": [
            [
             0,
             "#8e0152"
            ],
            [
             0.1,
             "#c51b7d"
            ],
            [
             0.2,
             "#de77ae"
            ],
            [
             0.3,
             "#f1b6da"
            ],
            [
             0.4,
             "#fde0ef"
            ],
            [
             0.5,
             "#f7f7f7"
            ],
            [
             0.6,
             "#e6f5d0"
            ],
            [
             0.7,
             "#b8e186"
            ],
            [
             0.8,
             "#7fbc41"
            ],
            [
             0.9,
             "#4d9221"
            ],
            [
             1,
             "#276419"
            ]
           ],
           "sequential": [
            [
             0,
             "#0d0887"
            ],
            [
             0.1111111111111111,
             "#46039f"
            ],
            [
             0.2222222222222222,
             "#7201a8"
            ],
            [
             0.3333333333333333,
             "#9c179e"
            ],
            [
             0.4444444444444444,
             "#bd3786"
            ],
            [
             0.5555555555555556,
             "#d8576b"
            ],
            [
             0.6666666666666666,
             "#ed7953"
            ],
            [
             0.7777777777777778,
             "#fb9f3a"
            ],
            [
             0.8888888888888888,
             "#fdca26"
            ],
            [
             1,
             "#f0f921"
            ]
           ],
           "sequentialminus": [
            [
             0,
             "#0d0887"
            ],
            [
             0.1111111111111111,
             "#46039f"
            ],
            [
             0.2222222222222222,
             "#7201a8"
            ],
            [
             0.3333333333333333,
             "#9c179e"
            ],
            [
             0.4444444444444444,
             "#bd3786"
            ],
            [
             0.5555555555555556,
             "#d8576b"
            ],
            [
             0.6666666666666666,
             "#ed7953"
            ],
            [
             0.7777777777777778,
             "#fb9f3a"
            ],
            [
             0.8888888888888888,
             "#fdca26"
            ],
            [
             1,
             "#f0f921"
            ]
           ]
          },
          "colorway": [
           "#636efa",
           "#EF553B",
           "#00cc96",
           "#ab63fa",
           "#FFA15A",
           "#19d3f3",
           "#FF6692",
           "#B6E880",
           "#FF97FF",
           "#FECB52"
          ],
          "font": {
           "color": "#2a3f5f"
          },
          "geo": {
           "bgcolor": "white",
           "lakecolor": "white",
           "landcolor": "#E5ECF6",
           "showlakes": true,
           "showland": true,
           "subunitcolor": "white"
          },
          "hoverlabel": {
           "align": "left"
          },
          "hovermode": "closest",
          "mapbox": {
           "style": "light"
          },
          "paper_bgcolor": "white",
          "plot_bgcolor": "#E5ECF6",
          "polar": {
           "angularaxis": {
            "gridcolor": "white",
            "linecolor": "white",
            "ticks": ""
           },
           "bgcolor": "#E5ECF6",
           "radialaxis": {
            "gridcolor": "white",
            "linecolor": "white",
            "ticks": ""
           }
          },
          "scene": {
           "xaxis": {
            "backgroundcolor": "#E5ECF6",
            "gridcolor": "white",
            "gridwidth": 2,
            "linecolor": "white",
            "showbackground": true,
            "ticks": "",
            "zerolinecolor": "white"
           },
           "yaxis": {
            "backgroundcolor": "#E5ECF6",
            "gridcolor": "white",
            "gridwidth": 2,
            "linecolor": "white",
            "showbackground": true,
            "ticks": "",
            "zerolinecolor": "white"
           },
           "zaxis": {
            "backgroundcolor": "#E5ECF6",
            "gridcolor": "white",
            "gridwidth": 2,
            "linecolor": "white",
            "showbackground": true,
            "ticks": "",
            "zerolinecolor": "white"
           }
          },
          "shapedefaults": {
           "line": {
            "color": "#2a3f5f"
           }
          },
          "ternary": {
           "aaxis": {
            "gridcolor": "white",
            "linecolor": "white",
            "ticks": ""
           },
           "baxis": {
            "gridcolor": "white",
            "linecolor": "white",
            "ticks": ""
           },
           "bgcolor": "#E5ECF6",
           "caxis": {
            "gridcolor": "white",
            "linecolor": "white",
            "ticks": ""
           }
          },
          "title": {
           "x": 0.05
          },
          "xaxis": {
           "automargin": true,
           "gridcolor": "white",
           "linecolor": "white",
           "ticks": "",
           "title": {
            "standoff": 15
           },
           "zerolinecolor": "white",
           "zerolinewidth": 2
          },
          "yaxis": {
           "automargin": true,
           "gridcolor": "white",
           "linecolor": "white",
           "ticks": "",
           "title": {
            "standoff": 15
           },
           "zerolinecolor": "white",
           "zerolinewidth": 2
          }
         }
        },
        "title": {
         "text": "Distribution des prix par marque (Top 10)"
        },
        "violinmode": "overlay",
        "xaxis": {
         "anchor": "y",
         "categoryarray": [
          "Citroën",
          "Peugeot",
          "Renault",
          "Audi",
          "BMW",
          "Mercedes",
          "Volkswagen",
          "Mitsubishi",
          "Nissan",
          "Toyota"
         ],
         "categoryorder": "array",
         "domain": [
          0,
          1
         ],
         "tickangle": -45,
         "title": {
          "text": "Marque"
         }
        },
        "yaxis": {
         "anchor": "x",
         "domain": [
          0,
          1
         ],
         "title": {
          "text": "Prix par jour (€)"
         }
        }
       }
      }
     },
     "metadata": {},
     "output_type": "display_data"
    },
    {
     "name": "stdout",
     "output_type": "stream",
     "text": [
      "\n",
      "... Modéle Véhicule ...\n",
      "Break, Berline et SUV dominent le marché : avec respectivement 1606, 1168 et 1058 unités,\n",
      "ces trois types de véhicules représentent 80% des locations sur ce jeu de données\n",
      "car_type\n",
      "estate         1606\n",
      "sedan          1168\n",
      "suv            1058\n",
      "hatchback       699\n",
      "subcompact      117\n",
      "coupe           104\n",
      "convertible      47\n",
      "van              44\n",
      "Name: count, dtype: int64\n"
     ]
    },
    {
     "data": {
      "application/vnd.plotly.v1+json": {
       "config": {
        "plotlyServerURL": "https://plot.ly"
       },
       "data": [
        {
         "hovertemplate": "car_type_fr=%{x}<br>count=%{y}<extra></extra>",
         "legendgroup": "",
         "marker": {
          "color": "#636efa",
          "pattern": {
           "shape": ""
          }
         },
         "name": "",
         "orientation": "v",
         "showlegend": false,
         "textposition": "auto",
         "type": "bar",
         "x": [
          "Break",
          "Berline",
          "SUV",
          "Compacte",
          "Sous-compacte",
          "Coupé",
          "Cabriolet",
          "Van"
         ],
         "xaxis": "x",
         "y": {
          "bdata": "RgaQBCIEuwJ1AGgALwAsAA==",
          "dtype": "i2"
         },
         "yaxis": "y"
        }
       ],
       "layout": {
        "barmode": "relative",
        "legend": {
         "tracegroupgap": 0
        },
        "template": {
         "data": {
          "bar": [
           {
            "error_x": {
             "color": "#2a3f5f"
            },
            "error_y": {
             "color": "#2a3f5f"
            },
            "marker": {
             "line": {
              "color": "#E5ECF6",
              "width": 0.5
             },
             "pattern": {
              "fillmode": "overlay",
              "size": 10,
              "solidity": 0.2
             }
            },
            "type": "bar"
           }
          ],
          "barpolar": [
           {
            "marker": {
             "line": {
              "color": "#E5ECF6",
              "width": 0.5
             },
             "pattern": {
              "fillmode": "overlay",
              "size": 10,
              "solidity": 0.2
             }
            },
            "type": "barpolar"
           }
          ],
          "carpet": [
           {
            "aaxis": {
             "endlinecolor": "#2a3f5f",
             "gridcolor": "white",
             "linecolor": "white",
             "minorgridcolor": "white",
             "startlinecolor": "#2a3f5f"
            },
            "baxis": {
             "endlinecolor": "#2a3f5f",
             "gridcolor": "white",
             "linecolor": "white",
             "minorgridcolor": "white",
             "startlinecolor": "#2a3f5f"
            },
            "type": "carpet"
           }
          ],
          "choropleth": [
           {
            "colorbar": {
             "outlinewidth": 0,
             "ticks": ""
            },
            "type": "choropleth"
           }
          ],
          "contour": [
           {
            "colorbar": {
             "outlinewidth": 0,
             "ticks": ""
            },
            "colorscale": [
             [
              0,
              "#0d0887"
             ],
             [
              0.1111111111111111,
              "#46039f"
             ],
             [
              0.2222222222222222,
              "#7201a8"
             ],
             [
              0.3333333333333333,
              "#9c179e"
             ],
             [
              0.4444444444444444,
              "#bd3786"
             ],
             [
              0.5555555555555556,
              "#d8576b"
             ],
             [
              0.6666666666666666,
              "#ed7953"
             ],
             [
              0.7777777777777778,
              "#fb9f3a"
             ],
             [
              0.8888888888888888,
              "#fdca26"
             ],
             [
              1,
              "#f0f921"
             ]
            ],
            "type": "contour"
           }
          ],
          "contourcarpet": [
           {
            "colorbar": {
             "outlinewidth": 0,
             "ticks": ""
            },
            "type": "contourcarpet"
           }
          ],
          "heatmap": [
           {
            "colorbar": {
             "outlinewidth": 0,
             "ticks": ""
            },
            "colorscale": [
             [
              0,
              "#0d0887"
             ],
             [
              0.1111111111111111,
              "#46039f"
             ],
             [
              0.2222222222222222,
              "#7201a8"
             ],
             [
              0.3333333333333333,
              "#9c179e"
             ],
             [
              0.4444444444444444,
              "#bd3786"
             ],
             [
              0.5555555555555556,
              "#d8576b"
             ],
             [
              0.6666666666666666,
              "#ed7953"
             ],
             [
              0.7777777777777778,
              "#fb9f3a"
             ],
             [
              0.8888888888888888,
              "#fdca26"
             ],
             [
              1,
              "#f0f921"
             ]
            ],
            "type": "heatmap"
           }
          ],
          "histogram": [
           {
            "marker": {
             "pattern": {
              "fillmode": "overlay",
              "size": 10,
              "solidity": 0.2
             }
            },
            "type": "histogram"
           }
          ],
          "histogram2d": [
           {
            "colorbar": {
             "outlinewidth": 0,
             "ticks": ""
            },
            "colorscale": [
             [
              0,
              "#0d0887"
             ],
             [
              0.1111111111111111,
              "#46039f"
             ],
             [
              0.2222222222222222,
              "#7201a8"
             ],
             [
              0.3333333333333333,
              "#9c179e"
             ],
             [
              0.4444444444444444,
              "#bd3786"
             ],
             [
              0.5555555555555556,
              "#d8576b"
             ],
             [
              0.6666666666666666,
              "#ed7953"
             ],
             [
              0.7777777777777778,
              "#fb9f3a"
             ],
             [
              0.8888888888888888,
              "#fdca26"
             ],
             [
              1,
              "#f0f921"
             ]
            ],
            "type": "histogram2d"
           }
          ],
          "histogram2dcontour": [
           {
            "colorbar": {
             "outlinewidth": 0,
             "ticks": ""
            },
            "colorscale": [
             [
              0,
              "#0d0887"
             ],
             [
              0.1111111111111111,
              "#46039f"
             ],
             [
              0.2222222222222222,
              "#7201a8"
             ],
             [
              0.3333333333333333,
              "#9c179e"
             ],
             [
              0.4444444444444444,
              "#bd3786"
             ],
             [
              0.5555555555555556,
              "#d8576b"
             ],
             [
              0.6666666666666666,
              "#ed7953"
             ],
             [
              0.7777777777777778,
              "#fb9f3a"
             ],
             [
              0.8888888888888888,
              "#fdca26"
             ],
             [
              1,
              "#f0f921"
             ]
            ],
            "type": "histogram2dcontour"
           }
          ],
          "mesh3d": [
           {
            "colorbar": {
             "outlinewidth": 0,
             "ticks": ""
            },
            "type": "mesh3d"
           }
          ],
          "parcoords": [
           {
            "line": {
             "colorbar": {
              "outlinewidth": 0,
              "ticks": ""
             }
            },
            "type": "parcoords"
           }
          ],
          "pie": [
           {
            "automargin": true,
            "type": "pie"
           }
          ],
          "scatter": [
           {
            "fillpattern": {
             "fillmode": "overlay",
             "size": 10,
             "solidity": 0.2
            },
            "type": "scatter"
           }
          ],
          "scatter3d": [
           {
            "line": {
             "colorbar": {
              "outlinewidth": 0,
              "ticks": ""
             }
            },
            "marker": {
             "colorbar": {
              "outlinewidth": 0,
              "ticks": ""
             }
            },
            "type": "scatter3d"
           }
          ],
          "scattercarpet": [
           {
            "marker": {
             "colorbar": {
              "outlinewidth": 0,
              "ticks": ""
             }
            },
            "type": "scattercarpet"
           }
          ],
          "scattergeo": [
           {
            "marker": {
             "colorbar": {
              "outlinewidth": 0,
              "ticks": ""
             }
            },
            "type": "scattergeo"
           }
          ],
          "scattergl": [
           {
            "marker": {
             "colorbar": {
              "outlinewidth": 0,
              "ticks": ""
             }
            },
            "type": "scattergl"
           }
          ],
          "scattermap": [
           {
            "marker": {
             "colorbar": {
              "outlinewidth": 0,
              "ticks": ""
             }
            },
            "type": "scattermap"
           }
          ],
          "scattermapbox": [
           {
            "marker": {
             "colorbar": {
              "outlinewidth": 0,
              "ticks": ""
             }
            },
            "type": "scattermapbox"
           }
          ],
          "scatterpolar": [
           {
            "marker": {
             "colorbar": {
              "outlinewidth": 0,
              "ticks": ""
             }
            },
            "type": "scatterpolar"
           }
          ],
          "scatterpolargl": [
           {
            "marker": {
             "colorbar": {
              "outlinewidth": 0,
              "ticks": ""
             }
            },
            "type": "scatterpolargl"
           }
          ],
          "scatterternary": [
           {
            "marker": {
             "colorbar": {
              "outlinewidth": 0,
              "ticks": ""
             }
            },
            "type": "scatterternary"
           }
          ],
          "surface": [
           {
            "colorbar": {
             "outlinewidth": 0,
             "ticks": ""
            },
            "colorscale": [
             [
              0,
              "#0d0887"
             ],
             [
              0.1111111111111111,
              "#46039f"
             ],
             [
              0.2222222222222222,
              "#7201a8"
             ],
             [
              0.3333333333333333,
              "#9c179e"
             ],
             [
              0.4444444444444444,
              "#bd3786"
             ],
             [
              0.5555555555555556,
              "#d8576b"
             ],
             [
              0.6666666666666666,
              "#ed7953"
             ],
             [
              0.7777777777777778,
              "#fb9f3a"
             ],
             [
              0.8888888888888888,
              "#fdca26"
             ],
             [
              1,
              "#f0f921"
             ]
            ],
            "type": "surface"
           }
          ],
          "table": [
           {
            "cells": {
             "fill": {
              "color": "#EBF0F8"
             },
             "line": {
              "color": "white"
             }
            },
            "header": {
             "fill": {
              "color": "#C8D4E3"
             },
             "line": {
              "color": "white"
             }
            },
            "type": "table"
           }
          ]
         },
         "layout": {
          "annotationdefaults": {
           "arrowcolor": "#2a3f5f",
           "arrowhead": 0,
           "arrowwidth": 1
          },
          "autotypenumbers": "strict",
          "coloraxis": {
           "colorbar": {
            "outlinewidth": 0,
            "ticks": ""
           }
          },
          "colorscale": {
           "diverging": [
            [
             0,
             "#8e0152"
            ],
            [
             0.1,
             "#c51b7d"
            ],
            [
             0.2,
             "#de77ae"
            ],
            [
             0.3,
             "#f1b6da"
            ],
            [
             0.4,
             "#fde0ef"
            ],
            [
             0.5,
             "#f7f7f7"
            ],
            [
             0.6,
             "#e6f5d0"
            ],
            [
             0.7,
             "#b8e186"
            ],
            [
             0.8,
             "#7fbc41"
            ],
            [
             0.9,
             "#4d9221"
            ],
            [
             1,
             "#276419"
            ]
           ],
           "sequential": [
            [
             0,
             "#0d0887"
            ],
            [
             0.1111111111111111,
             "#46039f"
            ],
            [
             0.2222222222222222,
             "#7201a8"
            ],
            [
             0.3333333333333333,
             "#9c179e"
            ],
            [
             0.4444444444444444,
             "#bd3786"
            ],
            [
             0.5555555555555556,
             "#d8576b"
            ],
            [
             0.6666666666666666,
             "#ed7953"
            ],
            [
             0.7777777777777778,
             "#fb9f3a"
            ],
            [
             0.8888888888888888,
             "#fdca26"
            ],
            [
             1,
             "#f0f921"
            ]
           ],
           "sequentialminus": [
            [
             0,
             "#0d0887"
            ],
            [
             0.1111111111111111,
             "#46039f"
            ],
            [
             0.2222222222222222,
             "#7201a8"
            ],
            [
             0.3333333333333333,
             "#9c179e"
            ],
            [
             0.4444444444444444,
             "#bd3786"
            ],
            [
             0.5555555555555556,
             "#d8576b"
            ],
            [
             0.6666666666666666,
             "#ed7953"
            ],
            [
             0.7777777777777778,
             "#fb9f3a"
            ],
            [
             0.8888888888888888,
             "#fdca26"
            ],
            [
             1,
             "#f0f921"
            ]
           ]
          },
          "colorway": [
           "#636efa",
           "#EF553B",
           "#00cc96",
           "#ab63fa",
           "#FFA15A",
           "#19d3f3",
           "#FF6692",
           "#B6E880",
           "#FF97FF",
           "#FECB52"
          ],
          "font": {
           "color": "#2a3f5f"
          },
          "geo": {
           "bgcolor": "white",
           "lakecolor": "white",
           "landcolor": "#E5ECF6",
           "showlakes": true,
           "showland": true,
           "subunitcolor": "white"
          },
          "hoverlabel": {
           "align": "left"
          },
          "hovermode": "closest",
          "mapbox": {
           "style": "light"
          },
          "paper_bgcolor": "white",
          "plot_bgcolor": "#E5ECF6",
          "polar": {
           "angularaxis": {
            "gridcolor": "white",
            "linecolor": "white",
            "ticks": ""
           },
           "bgcolor": "#E5ECF6",
           "radialaxis": {
            "gridcolor": "white",
            "linecolor": "white",
            "ticks": ""
           }
          },
          "scene": {
           "xaxis": {
            "backgroundcolor": "#E5ECF6",
            "gridcolor": "white",
            "gridwidth": 2,
            "linecolor": "white",
            "showbackground": true,
            "ticks": "",
            "zerolinecolor": "white"
           },
           "yaxis": {
            "backgroundcolor": "#E5ECF6",
            "gridcolor": "white",
            "gridwidth": 2,
            "linecolor": "white",
            "showbackground": true,
            "ticks": "",
            "zerolinecolor": "white"
           },
           "zaxis": {
            "backgroundcolor": "#E5ECF6",
            "gridcolor": "white",
            "gridwidth": 2,
            "linecolor": "white",
            "showbackground": true,
            "ticks": "",
            "zerolinecolor": "white"
           }
          },
          "shapedefaults": {
           "line": {
            "color": "#2a3f5f"
           }
          },
          "ternary": {
           "aaxis": {
            "gridcolor": "white",
            "linecolor": "white",
            "ticks": ""
           },
           "baxis": {
            "gridcolor": "white",
            "linecolor": "white",
            "ticks": ""
           },
           "bgcolor": "#E5ECF6",
           "caxis": {
            "gridcolor": "white",
            "linecolor": "white",
            "ticks": ""
           }
          },
          "title": {
           "x": 0.05
          },
          "xaxis": {
           "automargin": true,
           "gridcolor": "white",
           "linecolor": "white",
           "ticks": "",
           "title": {
            "standoff": 15
           },
           "zerolinecolor": "white",
           "zerolinewidth": 2
          },
          "yaxis": {
           "automargin": true,
           "gridcolor": "white",
           "linecolor": "white",
           "ticks": "",
           "title": {
            "standoff": 15
           },
           "zerolinecolor": "white",
           "zerolinewidth": 2
          }
         }
        },
        "title": {
         "text": "Distribution des modèles de véhicules"
        },
        "xaxis": {
         "anchor": "y",
         "domain": [
          0,
          1
         ],
         "title": {
          "text": "car_type_fr"
         }
        },
        "yaxis": {
         "anchor": "x",
         "domain": [
          0,
          1
         ],
         "title": {
          "text": "count"
         }
        }
       }
      }
     },
     "metadata": {},
     "output_type": "display_data"
    },
    {
     "name": "stdout",
     "output_type": "stream",
     "text": [
      "Les 4 marques les plus présentes sur le marché des Break, Berline et SUV sont : Audi, Citroën, Renault et Peugeot. \n"
     ]
    },
    {
     "data": {
      "application/vnd.plotly.v1+json": {
       "config": {
        "plotlyServerURL": "https://plot.ly"
       },
       "data": [
        {
         "hovertemplate": "car_type_fr=Compacte<br>model_key=%{x}<br>count=%{text}<extra></extra>",
         "legendgroup": "Compacte",
         "marker": {
          "color": "#636efa",
          "pattern": {
           "shape": ""
          }
         },
         "name": "Compacte",
         "orientation": "v",
         "showlegend": true,
         "text": {
          "bdata": "AAAAAAAACEAAAAAAAIBKQAAAAAAAMHFAAAAAAADAYEAAAAAAAADwPwAAAAAAAPA/AAAAAAAAFEAAAAAAAAAIQAAAAAAAAPA/AAAAAACAVUAAAAAAAAA9QAAAAAAAADtAAAAAAAAAFEAAAAAAAAA6QAAAAAAAAElA",
          "dtype": "f8"
         },
         "textposition": "auto",
         "type": "bar",
         "x": [
          "Alfa Romeo",
          "Audi",
          "BMW",
          "Citroën",
          "Ferrari",
          "Fiat",
          "Ford",
          "KIA Motors",
          "Lamborghini",
          "Mercedes",
          "Opel",
          "Peugeot",
          "Porsche",
          "Renault",
          "Volkswagen"
         ],
         "xaxis": "x",
         "y": {
          "bdata": "AwA1ABMBhgABAAEABQADAAEAVgAdABsABQAaADIA",
          "dtype": "i2"
         },
         "yaxis": "y"
        },
        {
         "hovertemplate": "car_type_fr=Break<br>model_key=%{x}<br>count=%{text}<extra></extra>",
         "legendgroup": "Break",
         "marker": {
          "color": "#EF553B",
          "pattern": {
           "shape": ""
          }
         },
         "name": "Break",
         "orientation": "v",
         "showlegend": true,
         "text": {
          "bdata": "AAAAAADgbkAAAAAAAAAyQAAAAAAAMHxAAAAAAAAAN0AAAAAAACB5QAAAAAAAEH1A",
          "dtype": "f8"
         },
         "textposition": "auto",
         "type": "bar",
         "x": [
          "Audi",
          "BMW",
          "Citroën",
          "PGO",
          "Peugeot",
          "Renault"
         ],
         "xaxis": "x",
         "y": {
          "bdata": "9wASAMMBFwCSAdEB",
          "dtype": "i2"
         },
         "yaxis": "y"
        },
        {
         "hovertemplate": "car_type_fr=Berline<br>model_key=%{x}<br>count=%{text}<extra></extra>",
         "legendgroup": "Berline",
         "marker": {
          "color": "#00cc96",
          "pattern": {
           "shape": ""
          }
         },
         "name": "Berline",
         "orientation": "v",
         "showlegend": true,
         "text": {
          "bdata": "AAAAAADga0AAAAAAAAAxQAAAAAAAQHFAAAAAAAAAQEAAAAAAAADwPwAAAAAAAPA/AAAAAAAAAEAAAAAAAAAyQAAAAAAAAPA/AAAAAAAAJkAAAAAAAADwPwAAAAAAABBAAAAAAAAAHEAAAAAAAKBkQAAAAAAA8HhAAAAAAAAAJEA=",
          "dtype": "f8"
         },
         "textposition": "auto",
         "type": "bar",
         "x": [
          "Audi",
          "BMW",
          "Citroën",
          "Ferrari",
          "Honda",
          "Lamborghini",
          "Lexus",
          "Maserati",
          "Mazda",
          "Mercedes",
          "Mini",
          "Opel",
          "PGO",
          "Peugeot",
          "Renault",
          "Volkswagen"
         ],
         "xaxis": "x",
         "y": {
          "bdata": "3wARABQBIAABAAEAAgASAAEACwABAAQABwClAI8BCgA=",
          "dtype": "i2"
         },
         "yaxis": "y"
        },
        {
         "hovertemplate": "car_type_fr=Van<br>model_key=%{x}<br>count=%{text}<extra></extra>",
         "legendgroup": "Van",
         "marker": {
          "color": "#ab63fa",
          "pattern": {
           "shape": ""
          }
         },
         "name": "Van",
         "orientation": "v",
         "showlegend": true,
         "text": {
          "bdata": "AAAAAAAACEAAAAAAAAAAQAAAAAAAAPA/AAAAAAAAEEAAAAAAAIBAQAAAAAAAAPA/",
          "dtype": "f8"
         },
         "textposition": "auto",
         "type": "bar",
         "x": [
          "Audi",
          "BMW",
          "Nissan",
          "Peugeot",
          "Toyota",
          "Yamaha"
         ],
         "xaxis": "x",
         "y": {
          "bdata": "AwIBBCEB",
          "dtype": "i1"
         },
         "yaxis": "y"
        },
        {
         "hovertemplate": "car_type_fr=Sous-compacte<br>model_key=%{x}<br>count=%{text}<extra></extra>",
         "legendgroup": "Sous-compacte",
         "marker": {
          "color": "#FFA15A",
          "pattern": {
           "shape": ""
          }
         },
         "name": "Sous-compacte",
         "orientation": "v",
         "showlegend": true,
         "text": {
          "bdata": "AAAAAABAVEAAAAAAAAA4QAAAAAAAAPA/AAAAAAAAFEAAAAAAAADwPwAAAAAAABRA",
          "dtype": "f8"
         },
         "textposition": "auto",
         "type": "bar",
         "x": [
          "BMW",
          "Citroën",
          "Fiat",
          "Peugeot",
          "Porsche",
          "Volkswagen"
         ],
         "xaxis": "x",
         "y": {
          "bdata": "URgBBQEF",
          "dtype": "i1"
         },
         "yaxis": "y"
        },
        {
         "hovertemplate": "car_type_fr=SUV<br>model_key=%{x}<br>count=%{text}<extra></extra>",
         "legendgroup": "SUV",
         "marker": {
          "color": "#19d3f3",
          "pattern": {
           "shape": ""
          }
         },
         "name": "SUV",
         "orientation": "v",
         "showlegend": true,
         "text": {
          "bdata": "AAAAAAAge0AAAAAAAOBsQAAAAAAAIHFAAAAAAAAA8D8AAAAAAABHQAAAAAAAAEZAAAAAAAAAIEAAAAAAAAA0QA==",
          "dtype": "f8"
         },
         "textposition": "auto",
         "type": "bar",
         "x": [
          "BMW",
          "Mitsubishi",
          "Nissan",
          "Renault",
          "SEAT",
          "Subaru",
          "Suzuki",
          "Toyota"
         ],
         "xaxis": "x",
         "y": {
          "bdata": "sgHnABIBAQAuACwACAAUAA==",
          "dtype": "i2"
         },
         "yaxis": "y"
        },
        {
         "hovertemplate": "car_type_fr=Cabriolet<br>model_key=%{x}<br>count=%{text}<extra></extra>",
         "legendgroup": "Cabriolet",
         "marker": {
          "color": "#FF6692",
          "pattern": {
           "shape": ""
          }
         },
         "name": "Cabriolet",
         "orientation": "v",
         "showlegend": true,
         "text": {
          "bdata": "AAAAAAAANUAAAAAAAADwPwAAAAAAADlA",
          "dtype": "f8"
         },
         "textposition": "auto",
         "type": "bar",
         "x": [
          "Citroën",
          "PGO",
          "Peugeot"
         ],
         "xaxis": "x",
         "y": {
          "bdata": "FQEZ",
          "dtype": "i1"
         },
         "yaxis": "y"
        },
        {
         "hovertemplate": "car_type_fr=Coupé<br>model_key=%{x}<br>count=%{text}<extra></extra>",
         "legendgroup": "Coupé",
         "marker": {
          "color": "#B6E880",
          "pattern": {
           "shape": ""
          }
         },
         "name": "Coupé",
         "orientation": "v",
         "showlegend": true,
         "text": {
          "bdata": "AAAAAACAT0AAAAAAAAAAQAAAAAAAACxAAAAAAAAAOUA=",
          "dtype": "f8"
         },
         "textposition": "auto",
         "type": "bar",
         "x": [
          "Citroën",
          "PGO",
          "Peugeot",
          "Renault"
         ],
         "xaxis": "x",
         "y": {
          "bdata": "PwIOGQ==",
          "dtype": "i1"
         },
         "yaxis": "y"
        }
       ],
       "layout": {
        "barmode": "stack",
        "legend": {
         "title": {
          "text": "car_type_fr"
         },
         "tracegroupgap": 0
        },
        "template": {
         "data": {
          "bar": [
           {
            "error_x": {
             "color": "#2a3f5f"
            },
            "error_y": {
             "color": "#2a3f5f"
            },
            "marker": {
             "line": {
              "color": "#E5ECF6",
              "width": 0.5
             },
             "pattern": {
              "fillmode": "overlay",
              "size": 10,
              "solidity": 0.2
             }
            },
            "type": "bar"
           }
          ],
          "barpolar": [
           {
            "marker": {
             "line": {
              "color": "#E5ECF6",
              "width": 0.5
             },
             "pattern": {
              "fillmode": "overlay",
              "size": 10,
              "solidity": 0.2
             }
            },
            "type": "barpolar"
           }
          ],
          "carpet": [
           {
            "aaxis": {
             "endlinecolor": "#2a3f5f",
             "gridcolor": "white",
             "linecolor": "white",
             "minorgridcolor": "white",
             "startlinecolor": "#2a3f5f"
            },
            "baxis": {
             "endlinecolor": "#2a3f5f",
             "gridcolor": "white",
             "linecolor": "white",
             "minorgridcolor": "white",
             "startlinecolor": "#2a3f5f"
            },
            "type": "carpet"
           }
          ],
          "choropleth": [
           {
            "colorbar": {
             "outlinewidth": 0,
             "ticks": ""
            },
            "type": "choropleth"
           }
          ],
          "contour": [
           {
            "colorbar": {
             "outlinewidth": 0,
             "ticks": ""
            },
            "colorscale": [
             [
              0,
              "#0d0887"
             ],
             [
              0.1111111111111111,
              "#46039f"
             ],
             [
              0.2222222222222222,
              "#7201a8"
             ],
             [
              0.3333333333333333,
              "#9c179e"
             ],
             [
              0.4444444444444444,
              "#bd3786"
             ],
             [
              0.5555555555555556,
              "#d8576b"
             ],
             [
              0.6666666666666666,
              "#ed7953"
             ],
             [
              0.7777777777777778,
              "#fb9f3a"
             ],
             [
              0.8888888888888888,
              "#fdca26"
             ],
             [
              1,
              "#f0f921"
             ]
            ],
            "type": "contour"
           }
          ],
          "contourcarpet": [
           {
            "colorbar": {
             "outlinewidth": 0,
             "ticks": ""
            },
            "type": "contourcarpet"
           }
          ],
          "heatmap": [
           {
            "colorbar": {
             "outlinewidth": 0,
             "ticks": ""
            },
            "colorscale": [
             [
              0,
              "#0d0887"
             ],
             [
              0.1111111111111111,
              "#46039f"
             ],
             [
              0.2222222222222222,
              "#7201a8"
             ],
             [
              0.3333333333333333,
              "#9c179e"
             ],
             [
              0.4444444444444444,
              "#bd3786"
             ],
             [
              0.5555555555555556,
              "#d8576b"
             ],
             [
              0.6666666666666666,
              "#ed7953"
             ],
             [
              0.7777777777777778,
              "#fb9f3a"
             ],
             [
              0.8888888888888888,
              "#fdca26"
             ],
             [
              1,
              "#f0f921"
             ]
            ],
            "type": "heatmap"
           }
          ],
          "histogram": [
           {
            "marker": {
             "pattern": {
              "fillmode": "overlay",
              "size": 10,
              "solidity": 0.2
             }
            },
            "type": "histogram"
           }
          ],
          "histogram2d": [
           {
            "colorbar": {
             "outlinewidth": 0,
             "ticks": ""
            },
            "colorscale": [
             [
              0,
              "#0d0887"
             ],
             [
              0.1111111111111111,
              "#46039f"
             ],
             [
              0.2222222222222222,
              "#7201a8"
             ],
             [
              0.3333333333333333,
              "#9c179e"
             ],
             [
              0.4444444444444444,
              "#bd3786"
             ],
             [
              0.5555555555555556,
              "#d8576b"
             ],
             [
              0.6666666666666666,
              "#ed7953"
             ],
             [
              0.7777777777777778,
              "#fb9f3a"
             ],
             [
              0.8888888888888888,
              "#fdca26"
             ],
             [
              1,
              "#f0f921"
             ]
            ],
            "type": "histogram2d"
           }
          ],
          "histogram2dcontour": [
           {
            "colorbar": {
             "outlinewidth": 0,
             "ticks": ""
            },
            "colorscale": [
             [
              0,
              "#0d0887"
             ],
             [
              0.1111111111111111,
              "#46039f"
             ],
             [
              0.2222222222222222,
              "#7201a8"
             ],
             [
              0.3333333333333333,
              "#9c179e"
             ],
             [
              0.4444444444444444,
              "#bd3786"
             ],
             [
              0.5555555555555556,
              "#d8576b"
             ],
             [
              0.6666666666666666,
              "#ed7953"
             ],
             [
              0.7777777777777778,
              "#fb9f3a"
             ],
             [
              0.8888888888888888,
              "#fdca26"
             ],
             [
              1,
              "#f0f921"
             ]
            ],
            "type": "histogram2dcontour"
           }
          ],
          "mesh3d": [
           {
            "colorbar": {
             "outlinewidth": 0,
             "ticks": ""
            },
            "type": "mesh3d"
           }
          ],
          "parcoords": [
           {
            "line": {
             "colorbar": {
              "outlinewidth": 0,
              "ticks": ""
             }
            },
            "type": "parcoords"
           }
          ],
          "pie": [
           {
            "automargin": true,
            "type": "pie"
           }
          ],
          "scatter": [
           {
            "fillpattern": {
             "fillmode": "overlay",
             "size": 10,
             "solidity": 0.2
            },
            "type": "scatter"
           }
          ],
          "scatter3d": [
           {
            "line": {
             "colorbar": {
              "outlinewidth": 0,
              "ticks": ""
             }
            },
            "marker": {
             "colorbar": {
              "outlinewidth": 0,
              "ticks": ""
             }
            },
            "type": "scatter3d"
           }
          ],
          "scattercarpet": [
           {
            "marker": {
             "colorbar": {
              "outlinewidth": 0,
              "ticks": ""
             }
            },
            "type": "scattercarpet"
           }
          ],
          "scattergeo": [
           {
            "marker": {
             "colorbar": {
              "outlinewidth": 0,
              "ticks": ""
             }
            },
            "type": "scattergeo"
           }
          ],
          "scattergl": [
           {
            "marker": {
             "colorbar": {
              "outlinewidth": 0,
              "ticks": ""
             }
            },
            "type": "scattergl"
           }
          ],
          "scattermap": [
           {
            "marker": {
             "colorbar": {
              "outlinewidth": 0,
              "ticks": ""
             }
            },
            "type": "scattermap"
           }
          ],
          "scattermapbox": [
           {
            "marker": {
             "colorbar": {
              "outlinewidth": 0,
              "ticks": ""
             }
            },
            "type": "scattermapbox"
           }
          ],
          "scatterpolar": [
           {
            "marker": {
             "colorbar": {
              "outlinewidth": 0,
              "ticks": ""
             }
            },
            "type": "scatterpolar"
           }
          ],
          "scatterpolargl": [
           {
            "marker": {
             "colorbar": {
              "outlinewidth": 0,
              "ticks": ""
             }
            },
            "type": "scatterpolargl"
           }
          ],
          "scatterternary": [
           {
            "marker": {
             "colorbar": {
              "outlinewidth": 0,
              "ticks": ""
             }
            },
            "type": "scatterternary"
           }
          ],
          "surface": [
           {
            "colorbar": {
             "outlinewidth": 0,
             "ticks": ""
            },
            "colorscale": [
             [
              0,
              "#0d0887"
             ],
             [
              0.1111111111111111,
              "#46039f"
             ],
             [
              0.2222222222222222,
              "#7201a8"
             ],
             [
              0.3333333333333333,
              "#9c179e"
             ],
             [
              0.4444444444444444,
              "#bd3786"
             ],
             [
              0.5555555555555556,
              "#d8576b"
             ],
             [
              0.6666666666666666,
              "#ed7953"
             ],
             [
              0.7777777777777778,
              "#fb9f3a"
             ],
             [
              0.8888888888888888,
              "#fdca26"
             ],
             [
              1,
              "#f0f921"
             ]
            ],
            "type": "surface"
           }
          ],
          "table": [
           {
            "cells": {
             "fill": {
              "color": "#EBF0F8"
             },
             "line": {
              "color": "white"
             }
            },
            "header": {
             "fill": {
              "color": "#C8D4E3"
             },
             "line": {
              "color": "white"
             }
            },
            "type": "table"
           }
          ]
         },
         "layout": {
          "annotationdefaults": {
           "arrowcolor": "#2a3f5f",
           "arrowhead": 0,
           "arrowwidth": 1
          },
          "autotypenumbers": "strict",
          "coloraxis": {
           "colorbar": {
            "outlinewidth": 0,
            "ticks": ""
           }
          },
          "colorscale": {
           "diverging": [
            [
             0,
             "#8e0152"
            ],
            [
             0.1,
             "#c51b7d"
            ],
            [
             0.2,
             "#de77ae"
            ],
            [
             0.3,
             "#f1b6da"
            ],
            [
             0.4,
             "#fde0ef"
            ],
            [
             0.5,
             "#f7f7f7"
            ],
            [
             0.6,
             "#e6f5d0"
            ],
            [
             0.7,
             "#b8e186"
            ],
            [
             0.8,
             "#7fbc41"
            ],
            [
             0.9,
             "#4d9221"
            ],
            [
             1,
             "#276419"
            ]
           ],
           "sequential": [
            [
             0,
             "#0d0887"
            ],
            [
             0.1111111111111111,
             "#46039f"
            ],
            [
             0.2222222222222222,
             "#7201a8"
            ],
            [
             0.3333333333333333,
             "#9c179e"
            ],
            [
             0.4444444444444444,
             "#bd3786"
            ],
            [
             0.5555555555555556,
             "#d8576b"
            ],
            [
             0.6666666666666666,
             "#ed7953"
            ],
            [
             0.7777777777777778,
             "#fb9f3a"
            ],
            [
             0.8888888888888888,
             "#fdca26"
            ],
            [
             1,
             "#f0f921"
            ]
           ],
           "sequentialminus": [
            [
             0,
             "#0d0887"
            ],
            [
             0.1111111111111111,
             "#46039f"
            ],
            [
             0.2222222222222222,
             "#7201a8"
            ],
            [
             0.3333333333333333,
             "#9c179e"
            ],
            [
             0.4444444444444444,
             "#bd3786"
            ],
            [
             0.5555555555555556,
             "#d8576b"
            ],
            [
             0.6666666666666666,
             "#ed7953"
            ],
            [
             0.7777777777777778,
             "#fb9f3a"
            ],
            [
             0.8888888888888888,
             "#fdca26"
            ],
            [
             1,
             "#f0f921"
            ]
           ]
          },
          "colorway": [
           "#636efa",
           "#EF553B",
           "#00cc96",
           "#ab63fa",
           "#FFA15A",
           "#19d3f3",
           "#FF6692",
           "#B6E880",
           "#FF97FF",
           "#FECB52"
          ],
          "font": {
           "color": "#2a3f5f"
          },
          "geo": {
           "bgcolor": "white",
           "lakecolor": "white",
           "landcolor": "#E5ECF6",
           "showlakes": true,
           "showland": true,
           "subunitcolor": "white"
          },
          "hoverlabel": {
           "align": "left"
          },
          "hovermode": "closest",
          "mapbox": {
           "style": "light"
          },
          "paper_bgcolor": "white",
          "plot_bgcolor": "#E5ECF6",
          "polar": {
           "angularaxis": {
            "gridcolor": "white",
            "linecolor": "white",
            "ticks": ""
           },
           "bgcolor": "#E5ECF6",
           "radialaxis": {
            "gridcolor": "white",
            "linecolor": "white",
            "ticks": ""
           }
          },
          "scene": {
           "xaxis": {
            "backgroundcolor": "#E5ECF6",
            "gridcolor": "white",
            "gridwidth": 2,
            "linecolor": "white",
            "showbackground": true,
            "ticks": "",
            "zerolinecolor": "white"
           },
           "yaxis": {
            "backgroundcolor": "#E5ECF6",
            "gridcolor": "white",
            "gridwidth": 2,
            "linecolor": "white",
            "showbackground": true,
            "ticks": "",
            "zerolinecolor": "white"
           },
           "zaxis": {
            "backgroundcolor": "#E5ECF6",
            "gridcolor": "white",
            "gridwidth": 2,
            "linecolor": "white",
            "showbackground": true,
            "ticks": "",
            "zerolinecolor": "white"
           }
          },
          "shapedefaults": {
           "line": {
            "color": "#2a3f5f"
           }
          },
          "ternary": {
           "aaxis": {
            "gridcolor": "white",
            "linecolor": "white",
            "ticks": ""
           },
           "baxis": {
            "gridcolor": "white",
            "linecolor": "white",
            "ticks": ""
           },
           "bgcolor": "#E5ECF6",
           "caxis": {
            "gridcolor": "white",
            "linecolor": "white",
            "ticks": ""
           }
          },
          "title": {
           "x": 0.05
          },
          "xaxis": {
           "automargin": true,
           "gridcolor": "white",
           "linecolor": "white",
           "ticks": "",
           "title": {
            "standoff": 15
           },
           "zerolinecolor": "white",
           "zerolinewidth": 2
          },
          "yaxis": {
           "automargin": true,
           "gridcolor": "white",
           "linecolor": "white",
           "ticks": "",
           "title": {
            "standoff": 15
           },
           "zerolinecolor": "white",
           "zerolinewidth": 2
          }
         }
        },
        "title": {
         "text": "Répartition des types de véhicules par modèle"
        },
        "xaxis": {
         "anchor": "y",
         "domain": [
          0,
          1
         ],
         "title": {
          "text": "Modèle"
         }
        },
        "yaxis": {
         "anchor": "x",
         "domain": [
          0,
          1
         ],
         "title": {
          "text": "Nombre de véhicules"
         }
        }
       }
      }
     },
     "metadata": {},
     "output_type": "display_data"
    }
   ],
   "source": [
    "# Marques de véhicules les plus loués\n",
    "print(\"\\n... Marques de véhicules les plus loués ...\")\n",
    "print(\"Les 3 marques les plus louées sont : Citroên, Renault et BMW.\")\n",
    "df_model_counts = df['model_key'].value_counts().reset_index()\n",
    "df_model_counts.columns = ['model_key', 'counts']\n",
    "print(df_model_counts)\n",
    "\n",
    "fig = px.bar(df_model_counts.head(10),\n",
    "             x='model_key', y='counts',\n",
    "             title='Top 10 marques de véhicules les plus loués')\n",
    "fig.show()\n",
    "\n",
    "# Type de carburant\n",
    "print(\"\\n... Type de carburant ...\")\n",
    "print(\"Le carburant le plus loué est le Diesel.\")\n",
    "df_fuel_counts = df['fuel'].value_counts().reset_index()\n",
    "df_fuel_counts.columns = ['fuel', 'counts']\n",
    "print(df_fuel_counts)\n",
    "\n",
    "fig = px.bar(df_fuel_counts,\n",
    "             x='fuel', y='counts',\n",
    "             title='Répartition des types de carburant')\n",
    "fig.show()\n",
    "\n",
    "# Puissance moteur\n",
    "print(\"\\n... Analyse de la puissance moteur ...\")\n",
    "mean_power = df['engine_power'].mean()\n",
    "std_power = df['engine_power'].std()\n",
    "print(f\"Les locations de voitures sont louées avec une puissance moyenne de {mean_power:.1f}ch\\npour une écart type {std_power:.1f} ch\")\n",
    "\n",
    "fig = px.histogram(df,\n",
    "                   x='engine_power',\n",
    "                   nbins=10,\n",
    "                   title='Distribution des puissances moteur')\n",
    "fig.add_vline(x=mean_power, line_color=\"red\", annotation_text=\"Moyenne\")\n",
    "fig.show()\n",
    "\n",
    "# Prix de location \n",
    "print(\"\\n... Analyse des prix de location par jour ...\")\n",
    "median_price = df['rental_price_per_day'].median()\n",
    "q1_price = df['rental_price_per_day'].quantile(0.25)\n",
    "q3_price = df['rental_price_per_day'].quantile(0.75)\n",
    "print(f\"Le prix médian d'une loctaion est de {median_price:.2f} €\")\n",
    "\n",
    "# Visualisation prix loc \n",
    "fig = px.histogram(df,\n",
    "                   x='rental_price_per_day',\n",
    "                   nbins=20,\n",
    "                   title='Distribution du prix de location par jour',\n",
    "                   labels={\"rental_price_per_day\": \"Prix (€)\"})\n",
    "\n",
    "fig.add_vline(x=median_price,\n",
    "              line=dict(color=\"red\", dash=\"dash\"),\n",
    "              annotation_text=\"Médiane\",\n",
    "              annotation_position=\"top\")\n",
    "\n",
    "fig.show()\n",
    "\n",
    "# Prix médian par marque \n",
    "print(\"\\n... Prix médian par marque ...\")\n",
    "print(\"La marque Suzuki présente le prix médian de location le plus élevé à 214 €,\\nmais ce chiffre n’est pas représentatif, car il ne repose que sur 8 locations dans le jeu de données.\")\n",
    "median_prices = (df\n",
    "                 .groupby('model_key')['rental_price_per_day']\n",
    "                 .median()\n",
    "                 .sort_values(ascending=False)\n",
    "                 .reset_index())\n",
    "\n",
    "# Visualisation\n",
    "import plotly.express as px\n",
    "\n",
    "fig = px.bar(median_prices,\n",
    "             x='model_key',\n",
    "             y='rental_price_per_day',\n",
    "             title='Prix médian de location - Toutes les marques',\n",
    "             labels={'rental_price_per_day': 'Prix médian (€)', 'model_key': 'Marque'},\n",
    "             color='rental_price_per_day',\n",
    "             color_continuous_scale='Greens')\n",
    "fig.update_layout(xaxis_tickangle=-45)\n",
    "fig.show()\n",
    "\n",
    "# Prix par marque TOP 10\n",
    "print(\"\\n... Prix médian par marque (Top 10) ...\")\n",
    "print(\"Parmi les 10 marques les plus représentées, Mitsubishi affiche le prix médian de location le plus élevé à 184 €,\\nsuivi de Volkswagen avec une médiane de 141 €.\")\n",
    "top_10 = df_model_counts['model_key'].head(10)\n",
    "df_top_10 = df[df['model_key'].isin(top_10)]\n",
    "\n",
    "median_prices = (df_top_10\n",
    "                 .groupby('model_key')['rental_price_per_day']\n",
    "                 .median()\n",
    "                 .sort_values(ascending=False)\n",
    "                 .reset_index())\n",
    "\n",
    "fig = px.bar(median_prices,\n",
    "             x='model_key',\n",
    "             y='rental_price_per_day',\n",
    "             title='Prix médian de location - Top 10 marques',\n",
    "             labels={'rental_price_per_day': 'Prix médian (€)', 'model_key': 'Marque'},\n",
    "             color='rental_price_per_day',\n",
    "             color_continuous_scale='Greens')\n",
    "fig.update_layout(xaxis_tickangle=-45)\n",
    "fig.show()\n",
    "\n",
    "print(\"La variabilité des prix diffère selon les marques : certaines, comme BMW, Toyota ou Renault,\\nprésentent une large dispersion avec des tarifs très bas et très élevés,\\ntandis que  Mercedes et Volkswagen, affichent des prix plus homogènes.\")\n",
    "fig = px.violin(df_top_10,\n",
    "                x=\"model_key\", y=\"rental_price_per_day\",\n",
    "                box=True, points=\"suspectedoutliers\",\n",
    "                color=\"model_key\",\n",
    "                title=\"Distribution des prix par marque (Top 10)\",\n",
    "                labels={'rental_price_per_day': 'Prix par jour (€)', 'model_key': 'Marque'})\n",
    "fig.update_layout(showlegend=False, xaxis_tickangle=-45)\n",
    "fig.show()\n",
    "\n",
    "# car_type\n",
    "print(\"\\n... Modéle Véhicule ...\")\n",
    "print(\"Break, Berline et SUV dominent le marché : avec respectivement 1606, 1168 et 1058 unités,\\nces trois types de véhicules représentent 80% des locations sur ce jeu de données\")\n",
    "model=df['car_type'].value_counts()\n",
    "print(model)\n",
    "\n",
    "# Dictionnaire de traduction\n",
    "translation = {\n",
    "    'estate': 'Break',\n",
    "    'sedan': 'Berline',\n",
    "    'suv': 'SUV',\n",
    "    'hatchback': 'Compacte',\n",
    "    'subcompact': 'Sous-compacte',\n",
    "    'coupe': 'Coupé',\n",
    "    'convertible': 'Cabriolet',\n",
    "    'van': 'Van'\n",
    "}\n",
    "\n",
    "model_counts = df['car_type'].value_counts().reset_index()\n",
    "model_counts.columns = ['car_type', 'count']\n",
    "\n",
    "# Ajouter la colonne traduction\n",
    "model_counts['car_type_fr'] = model_counts['car_type'].map(translation)\n",
    "\n",
    "# Visualisation\n",
    "fig = px.bar(model_counts, \n",
    "             x='car_type_fr',  \n",
    "             y='count',\n",
    "             title='Distribution des modèles de véhicules')\n",
    "fig.show()\n",
    "\n",
    "# Comptage par modèle et type de voiture\n",
    "print(\"Les 4 marques les plus présentes sur le marché des Break, Berline et SUV sont : Audi, Citroën, Renault et Peugeot. \")\n",
    "\n",
    "model_type_counts = df.groupby(['model_key', 'car_type']).size().reset_index(name='count')\n",
    "\n",
    "# Ajouter les noms français\n",
    "model_type_counts['car_type_fr'] = model_type_counts['car_type'].map(translation)\n",
    "\n",
    "# Histogramme empilé\n",
    "fig = px.bar(model_type_counts,\n",
    "             x='model_key',\n",
    "             y='count',\n",
    "             color='car_type_fr',\n",
    "             title='Répartition des types de véhicules par modèle',\n",
    "             text='count')\n",
    "\n",
    "fig.update_layout(barmode='stack', xaxis_title='Modèle', yaxis_title='Nombre de véhicules')\n",
    "fig.show()"
   ]
  }
 ],
 "metadata": {
  "kernelspec": {
   "display_name": "ml_deployment",
   "language": "python",
   "name": "python3"
  },
  "language_info": {
   "codemirror_mode": {
    "name": "ipython",
    "version": 3
   },
   "file_extension": ".py",
   "mimetype": "text/x-python",
   "name": "python",
   "nbconvert_exporter": "python",
   "pygments_lexer": "ipython3",
   "version": "3.11.13"
  }
 },
 "nbformat": 4,
 "nbformat_minor": 5
}
