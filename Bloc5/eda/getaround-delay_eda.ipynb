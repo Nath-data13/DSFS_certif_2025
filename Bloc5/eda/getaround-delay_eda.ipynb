{
 "cells": [
  {
   "cell_type": "markdown",
   "id": "a6f66f1f",
   "metadata": {},
   "source": [
    "### Import des bibliothéques\n",
    "---"
   ]
  },
  {
   "cell_type": "code",
   "execution_count": 1,
   "id": "ab924ae9",
   "metadata": {},
   "outputs": [],
   "source": [
    "import numpy as np\n",
    "import pandas as pd\n",
    "import plotly.express as px\n",
    "import matplotlib.pyplot as plt"
   ]
  },
  {
   "cell_type": "markdown",
   "id": "32963f8b",
   "metadata": {},
   "source": [
    "###  Chargement des données\n",
    "---"
   ]
  },
  {
   "cell_type": "code",
   "execution_count": 2,
   "id": "186db428",
   "metadata": {},
   "outputs": [
    {
     "data": {
      "text/html": [
       "<div>\n",
       "<style scoped>\n",
       "    .dataframe tbody tr th:only-of-type {\n",
       "        vertical-align: middle;\n",
       "    }\n",
       "\n",
       "    .dataframe tbody tr th {\n",
       "        vertical-align: top;\n",
       "    }\n",
       "\n",
       "    .dataframe thead th {\n",
       "        text-align: right;\n",
       "    }\n",
       "</style>\n",
       "<table border=\"1\" class=\"dataframe\">\n",
       "  <thead>\n",
       "    <tr style=\"text-align: right;\">\n",
       "      <th></th>\n",
       "      <th>rental_id</th>\n",
       "      <th>car_id</th>\n",
       "      <th>checkin_type</th>\n",
       "      <th>state</th>\n",
       "      <th>delay_at_checkout_in_minutes</th>\n",
       "      <th>previous_ended_rental_id</th>\n",
       "      <th>time_delta_with_previous_rental_in_minutes</th>\n",
       "    </tr>\n",
       "  </thead>\n",
       "  <tbody>\n",
       "    <tr>\n",
       "      <th>0</th>\n",
       "      <td>505000</td>\n",
       "      <td>363965</td>\n",
       "      <td>mobile</td>\n",
       "      <td>canceled</td>\n",
       "      <td>NaN</td>\n",
       "      <td>NaN</td>\n",
       "      <td>NaN</td>\n",
       "    </tr>\n",
       "    <tr>\n",
       "      <th>1</th>\n",
       "      <td>507750</td>\n",
       "      <td>269550</td>\n",
       "      <td>mobile</td>\n",
       "      <td>ended</td>\n",
       "      <td>-81.0</td>\n",
       "      <td>NaN</td>\n",
       "      <td>NaN</td>\n",
       "    </tr>\n",
       "    <tr>\n",
       "      <th>2</th>\n",
       "      <td>508131</td>\n",
       "      <td>359049</td>\n",
       "      <td>connect</td>\n",
       "      <td>ended</td>\n",
       "      <td>70.0</td>\n",
       "      <td>NaN</td>\n",
       "      <td>NaN</td>\n",
       "    </tr>\n",
       "    <tr>\n",
       "      <th>3</th>\n",
       "      <td>508865</td>\n",
       "      <td>299063</td>\n",
       "      <td>connect</td>\n",
       "      <td>canceled</td>\n",
       "      <td>NaN</td>\n",
       "      <td>NaN</td>\n",
       "      <td>NaN</td>\n",
       "    </tr>\n",
       "    <tr>\n",
       "      <th>4</th>\n",
       "      <td>511440</td>\n",
       "      <td>313932</td>\n",
       "      <td>mobile</td>\n",
       "      <td>ended</td>\n",
       "      <td>NaN</td>\n",
       "      <td>NaN</td>\n",
       "      <td>NaN</td>\n",
       "    </tr>\n",
       "  </tbody>\n",
       "</table>\n",
       "</div>"
      ],
      "text/plain": [
       "   rental_id  car_id checkin_type     state  delay_at_checkout_in_minutes  \\\n",
       "0     505000  363965       mobile  canceled                           NaN   \n",
       "1     507750  269550       mobile     ended                         -81.0   \n",
       "2     508131  359049      connect     ended                          70.0   \n",
       "3     508865  299063      connect  canceled                           NaN   \n",
       "4     511440  313932       mobile     ended                           NaN   \n",
       "\n",
       "   previous_ended_rental_id  time_delta_with_previous_rental_in_minutes  \n",
       "0                       NaN                                         NaN  \n",
       "1                       NaN                                         NaN  \n",
       "2                       NaN                                         NaN  \n",
       "3                       NaN                                         NaN  \n",
       "4                       NaN                                         NaN  "
      ]
     },
     "execution_count": 2,
     "metadata": {},
     "output_type": "execute_result"
    }
   ],
   "source": [
    "df = pd.read_csv(\"data/get_around_delay_analysis.csv\", encoding=\"latin-1\")\n",
    "df.head()\n",
    "\n"
   ]
  },
  {
   "cell_type": "markdown",
   "id": "42be6082",
   "metadata": {},
   "source": [
    "### L'EDA Analyse exploratoire des données Basique\n",
    "---"
   ]
  },
  {
   "cell_type": "markdown",
   "id": "5befa807",
   "metadata": {},
   "source": [
    "-rental_id' → 'identifiant_location'<br>\n",
    "-car_id' → 'identifiant_voiture'<br>\n",
    "-checkin_type' → 'type_enregistrement'<br>\n",
    "-state' → 'état'<br>\n",
    "-delay_at_checkout_in_minutes' → 'délai_au_checkout_en_minutes'<br>\n",
    "-previous_ended_rental_id' → 'identifiant_location_terminée_précédente'<br>\n",
    "-time_delta_with_previous_rental_in_minutes' → 'délai_avec_location_précédente_en_minutes'<br>"
   ]
  },
  {
   "cell_type": "code",
   "execution_count": 3,
   "id": "ce9f54d1",
   "metadata": {},
   "outputs": [
    {
     "name": "stdout",
     "output_type": "stream",
     "text": [
      "Nous avons 7 colonnes et 21310 lignes dans ce jeu de données\n",
      "\n",
      "... Informations sur les colonnes et les types de données ...\n",
      "<class 'pandas.core.frame.DataFrame'>\n",
      "RangeIndex: 21310 entries, 0 to 21309\n",
      "Data columns (total 7 columns):\n",
      " #   Column                                      Non-Null Count  Dtype  \n",
      "---  ------                                      --------------  -----  \n",
      " 0   rental_id                                   21310 non-null  int64  \n",
      " 1   car_id                                      21310 non-null  int64  \n",
      " 2   checkin_type                                21310 non-null  object \n",
      " 3   state                                       21310 non-null  object \n",
      " 4   delay_at_checkout_in_minutes                16346 non-null  float64\n",
      " 5   previous_ended_rental_id                    1841 non-null   float64\n",
      " 6   time_delta_with_previous_rental_in_minutes  1841 non-null   float64\n",
      "dtypes: float64(3), int64(2), object(2)\n",
      "memory usage: 1.1+ MB\n",
      "\n",
      "... Statistiques descriptives sur les colonnes numériques ...\n"
     ]
    },
    {
     "data": {
      "text/html": [
       "<div>\n",
       "<style scoped>\n",
       "    .dataframe tbody tr th:only-of-type {\n",
       "        vertical-align: middle;\n",
       "    }\n",
       "\n",
       "    .dataframe tbody tr th {\n",
       "        vertical-align: top;\n",
       "    }\n",
       "\n",
       "    .dataframe thead th {\n",
       "        text-align: right;\n",
       "    }\n",
       "</style>\n",
       "<table border=\"1\" class=\"dataframe\">\n",
       "  <thead>\n",
       "    <tr style=\"text-align: right;\">\n",
       "      <th></th>\n",
       "      <th>rental_id</th>\n",
       "      <th>car_id</th>\n",
       "      <th>delay_at_checkout_in_minutes</th>\n",
       "      <th>previous_ended_rental_id</th>\n",
       "      <th>time_delta_with_previous_rental_in_minutes</th>\n",
       "    </tr>\n",
       "  </thead>\n",
       "  <tbody>\n",
       "    <tr>\n",
       "      <th>count</th>\n",
       "      <td>21310.000000</td>\n",
       "      <td>21310.000000</td>\n",
       "      <td>16346.000000</td>\n",
       "      <td>1841.000000</td>\n",
       "      <td>1841.000000</td>\n",
       "    </tr>\n",
       "    <tr>\n",
       "      <th>mean</th>\n",
       "      <td>549712.880338</td>\n",
       "      <td>350030.603426</td>\n",
       "      <td>59.701517</td>\n",
       "      <td>550127.411733</td>\n",
       "      <td>279.288430</td>\n",
       "    </tr>\n",
       "    <tr>\n",
       "      <th>std</th>\n",
       "      <td>13863.446964</td>\n",
       "      <td>58206.249765</td>\n",
       "      <td>1002.561635</td>\n",
       "      <td>13184.023111</td>\n",
       "      <td>254.594486</td>\n",
       "    </tr>\n",
       "    <tr>\n",
       "      <th>min</th>\n",
       "      <td>504806.000000</td>\n",
       "      <td>159250.000000</td>\n",
       "      <td>-22433.000000</td>\n",
       "      <td>505628.000000</td>\n",
       "      <td>0.000000</td>\n",
       "    </tr>\n",
       "    <tr>\n",
       "      <th>25%</th>\n",
       "      <td>540613.250000</td>\n",
       "      <td>317639.000000</td>\n",
       "      <td>-36.000000</td>\n",
       "      <td>540896.000000</td>\n",
       "      <td>60.000000</td>\n",
       "    </tr>\n",
       "    <tr>\n",
       "      <th>50%</th>\n",
       "      <td>550350.000000</td>\n",
       "      <td>368717.000000</td>\n",
       "      <td>9.000000</td>\n",
       "      <td>550567.000000</td>\n",
       "      <td>180.000000</td>\n",
       "    </tr>\n",
       "    <tr>\n",
       "      <th>75%</th>\n",
       "      <td>560468.500000</td>\n",
       "      <td>394928.000000</td>\n",
       "      <td>67.000000</td>\n",
       "      <td>560823.000000</td>\n",
       "      <td>540.000000</td>\n",
       "    </tr>\n",
       "    <tr>\n",
       "      <th>max</th>\n",
       "      <td>576401.000000</td>\n",
       "      <td>417675.000000</td>\n",
       "      <td>71084.000000</td>\n",
       "      <td>575053.000000</td>\n",
       "      <td>720.000000</td>\n",
       "    </tr>\n",
       "  </tbody>\n",
       "</table>\n",
       "</div>"
      ],
      "text/plain": [
       "           rental_id         car_id  delay_at_checkout_in_minutes  \\\n",
       "count   21310.000000   21310.000000                  16346.000000   \n",
       "mean   549712.880338  350030.603426                     59.701517   \n",
       "std     13863.446964   58206.249765                   1002.561635   \n",
       "min    504806.000000  159250.000000                 -22433.000000   \n",
       "25%    540613.250000  317639.000000                    -36.000000   \n",
       "50%    550350.000000  368717.000000                      9.000000   \n",
       "75%    560468.500000  394928.000000                     67.000000   \n",
       "max    576401.000000  417675.000000                  71084.000000   \n",
       "\n",
       "       previous_ended_rental_id  time_delta_with_previous_rental_in_minutes  \n",
       "count               1841.000000                                 1841.000000  \n",
       "mean              550127.411733                                  279.288430  \n",
       "std                13184.023111                                  254.594486  \n",
       "min               505628.000000                                    0.000000  \n",
       "25%               540896.000000                                   60.000000  \n",
       "50%               550567.000000                                  180.000000  \n",
       "75%               560823.000000                                  540.000000  \n",
       "max               575053.000000                                  720.000000  "
      ]
     },
     "metadata": {},
     "output_type": "display_data"
    },
    {
     "name": "stdout",
     "output_type": "stream",
     "text": [
      "\n",
      "... Valeurs manquantes ...\n",
      "                                            Nombre de Valeurs Manquantes  \\\n",
      "rental_id                                                              0   \n",
      "car_id                                                                 0   \n",
      "checkin_type                                                           0   \n",
      "state                                                                  0   \n",
      "delay_at_checkout_in_minutes                                        4964   \n",
      "previous_ended_rental_id                                           19469   \n",
      "time_delta_with_previous_rental_in_minutes                         19469   \n",
      "\n",
      "                                            % Valeurs Manquantes  \n",
      "rental_id                                                   0.00  \n",
      "car_id                                                      0.00  \n",
      "checkin_type                                                0.00  \n",
      "state                                                       0.00  \n",
      "delay_at_checkout_in_minutes                               23.29  \n",
      "previous_ended_rental_id                                   91.36  \n",
      "time_delta_with_previous_rental_in_minutes                 91.36  \n"
     ]
    }
   ],
   "source": [
    "print(f\"Nous avons {df.shape[1]} colonnes et {df.shape[0]} lignes dans ce jeu de données\")\n",
    "\n",
    "print(\"\\n... Informations sur les colonnes et les types de données ...\")\n",
    "df.info() \n",
    "\n",
    "print(\"\\n... Statistiques descriptives sur les colonnes numériques ...\")\n",
    "display(df.describe())\n",
    "\n",
    "print(\"\\n... Valeurs manquantes ...\")\n",
    "nb_valeurs_manquantes = df.isnull().sum()\n",
    "pourcentage_valeurs_manquantes = (df.isnull().mean() * 100).round(2)\n",
    "df_manquants = pd.DataFrame({\n",
    "    'Nombre de Valeurs Manquantes': nb_valeurs_manquantes,\n",
    "    '% Valeurs Manquantes': pourcentage_valeurs_manquantes\n",
    "})\n",
    "# Ne garder que les colonnes avec des valeurs manquantes\n",
    "df_manquants[df_manquants['Nombre de Valeurs Manquantes'] > 0].sort_values('Nombre de Valeurs Manquantes', ascending=False)\n",
    "print(df_manquants)"
   ]
  },
  {
   "cell_type": "markdown",
   "id": "df310c60",
   "metadata": {},
   "source": [
    "### L'EDA Analyse exploratoire des données Approfondie\n",
    "---"
   ]
  },
  {
   "cell_type": "code",
   "execution_count": 4,
   "id": "addccd52",
   "metadata": {},
   "outputs": [
    {
     "name": "stdout",
     "output_type": "stream",
     "text": [
      "... Analyse chekin_type ...\n",
      " Pratiquement 80% des locations se font sur mobile\n"
     ]
    },
    {
     "data": {
      "application/vnd.plotly.v1+json": {
       "config": {
        "plotlyServerURL": "https://plot.ly"
       },
       "data": [
        {
         "domain": {
          "x": [
           0,
           1
          ],
          "y": [
           0,
           1
          ]
         },
         "hovertemplate": "Type=%{label}<br>Count=%{value}<extra></extra>",
         "labels": [
          "mobile",
          "connect"
         ],
         "legendgroup": "",
         "name": "",
         "showlegend": true,
         "textinfo": "label+percent",
         "textposition": "inside",
         "type": "pie",
         "values": {
          "bdata": "a0LTEA==",
          "dtype": "i2"
         }
        }
       ],
       "layout": {
        "legend": {
         "tracegroupgap": 0
        },
        "template": {
         "data": {
          "bar": [
           {
            "error_x": {
             "color": "#2a3f5f"
            },
            "error_y": {
             "color": "#2a3f5f"
            },
            "marker": {
             "line": {
              "color": "#E5ECF6",
              "width": 0.5
             },
             "pattern": {
              "fillmode": "overlay",
              "size": 10,
              "solidity": 0.2
             }
            },
            "type": "bar"
           }
          ],
          "barpolar": [
           {
            "marker": {
             "line": {
              "color": "#E5ECF6",
              "width": 0.5
             },
             "pattern": {
              "fillmode": "overlay",
              "size": 10,
              "solidity": 0.2
             }
            },
            "type": "barpolar"
           }
          ],
          "carpet": [
           {
            "aaxis": {
             "endlinecolor": "#2a3f5f",
             "gridcolor": "white",
             "linecolor": "white",
             "minorgridcolor": "white",
             "startlinecolor": "#2a3f5f"
            },
            "baxis": {
             "endlinecolor": "#2a3f5f",
             "gridcolor": "white",
             "linecolor": "white",
             "minorgridcolor": "white",
             "startlinecolor": "#2a3f5f"
            },
            "type": "carpet"
           }
          ],
          "choropleth": [
           {
            "colorbar": {
             "outlinewidth": 0,
             "ticks": ""
            },
            "type": "choropleth"
           }
          ],
          "contour": [
           {
            "colorbar": {
             "outlinewidth": 0,
             "ticks": ""
            },
            "colorscale": [
             [
              0,
              "#0d0887"
             ],
             [
              0.1111111111111111,
              "#46039f"
             ],
             [
              0.2222222222222222,
              "#7201a8"
             ],
             [
              0.3333333333333333,
              "#9c179e"
             ],
             [
              0.4444444444444444,
              "#bd3786"
             ],
             [
              0.5555555555555556,
              "#d8576b"
             ],
             [
              0.6666666666666666,
              "#ed7953"
             ],
             [
              0.7777777777777778,
              "#fb9f3a"
             ],
             [
              0.8888888888888888,
              "#fdca26"
             ],
             [
              1,
              "#f0f921"
             ]
            ],
            "type": "contour"
           }
          ],
          "contourcarpet": [
           {
            "colorbar": {
             "outlinewidth": 0,
             "ticks": ""
            },
            "type": "contourcarpet"
           }
          ],
          "heatmap": [
           {
            "colorbar": {
             "outlinewidth": 0,
             "ticks": ""
            },
            "colorscale": [
             [
              0,
              "#0d0887"
             ],
             [
              0.1111111111111111,
              "#46039f"
             ],
             [
              0.2222222222222222,
              "#7201a8"
             ],
             [
              0.3333333333333333,
              "#9c179e"
             ],
             [
              0.4444444444444444,
              "#bd3786"
             ],
             [
              0.5555555555555556,
              "#d8576b"
             ],
             [
              0.6666666666666666,
              "#ed7953"
             ],
             [
              0.7777777777777778,
              "#fb9f3a"
             ],
             [
              0.8888888888888888,
              "#fdca26"
             ],
             [
              1,
              "#f0f921"
             ]
            ],
            "type": "heatmap"
           }
          ],
          "histogram": [
           {
            "marker": {
             "pattern": {
              "fillmode": "overlay",
              "size": 10,
              "solidity": 0.2
             }
            },
            "type": "histogram"
           }
          ],
          "histogram2d": [
           {
            "colorbar": {
             "outlinewidth": 0,
             "ticks": ""
            },
            "colorscale": [
             [
              0,
              "#0d0887"
             ],
             [
              0.1111111111111111,
              "#46039f"
             ],
             [
              0.2222222222222222,
              "#7201a8"
             ],
             [
              0.3333333333333333,
              "#9c179e"
             ],
             [
              0.4444444444444444,
              "#bd3786"
             ],
             [
              0.5555555555555556,
              "#d8576b"
             ],
             [
              0.6666666666666666,
              "#ed7953"
             ],
             [
              0.7777777777777778,
              "#fb9f3a"
             ],
             [
              0.8888888888888888,
              "#fdca26"
             ],
             [
              1,
              "#f0f921"
             ]
            ],
            "type": "histogram2d"
           }
          ],
          "histogram2dcontour": [
           {
            "colorbar": {
             "outlinewidth": 0,
             "ticks": ""
            },
            "colorscale": [
             [
              0,
              "#0d0887"
             ],
             [
              0.1111111111111111,
              "#46039f"
             ],
             [
              0.2222222222222222,
              "#7201a8"
             ],
             [
              0.3333333333333333,
              "#9c179e"
             ],
             [
              0.4444444444444444,
              "#bd3786"
             ],
             [
              0.5555555555555556,
              "#d8576b"
             ],
             [
              0.6666666666666666,
              "#ed7953"
             ],
             [
              0.7777777777777778,
              "#fb9f3a"
             ],
             [
              0.8888888888888888,
              "#fdca26"
             ],
             [
              1,
              "#f0f921"
             ]
            ],
            "type": "histogram2dcontour"
           }
          ],
          "mesh3d": [
           {
            "colorbar": {
             "outlinewidth": 0,
             "ticks": ""
            },
            "type": "mesh3d"
           }
          ],
          "parcoords": [
           {
            "line": {
             "colorbar": {
              "outlinewidth": 0,
              "ticks": ""
             }
            },
            "type": "parcoords"
           }
          ],
          "pie": [
           {
            "automargin": true,
            "type": "pie"
           }
          ],
          "scatter": [
           {
            "fillpattern": {
             "fillmode": "overlay",
             "size": 10,
             "solidity": 0.2
            },
            "type": "scatter"
           }
          ],
          "scatter3d": [
           {
            "line": {
             "colorbar": {
              "outlinewidth": 0,
              "ticks": ""
             }
            },
            "marker": {
             "colorbar": {
              "outlinewidth": 0,
              "ticks": ""
             }
            },
            "type": "scatter3d"
           }
          ],
          "scattercarpet": [
           {
            "marker": {
             "colorbar": {
              "outlinewidth": 0,
              "ticks": ""
             }
            },
            "type": "scattercarpet"
           }
          ],
          "scattergeo": [
           {
            "marker": {
             "colorbar": {
              "outlinewidth": 0,
              "ticks": ""
             }
            },
            "type": "scattergeo"
           }
          ],
          "scattergl": [
           {
            "marker": {
             "colorbar": {
              "outlinewidth": 0,
              "ticks": ""
             }
            },
            "type": "scattergl"
           }
          ],
          "scattermap": [
           {
            "marker": {
             "colorbar": {
              "outlinewidth": 0,
              "ticks": ""
             }
            },
            "type": "scattermap"
           }
          ],
          "scattermapbox": [
           {
            "marker": {
             "colorbar": {
              "outlinewidth": 0,
              "ticks": ""
             }
            },
            "type": "scattermapbox"
           }
          ],
          "scatterpolar": [
           {
            "marker": {
             "colorbar": {
              "outlinewidth": 0,
              "ticks": ""
             }
            },
            "type": "scatterpolar"
           }
          ],
          "scatterpolargl": [
           {
            "marker": {
             "colorbar": {
              "outlinewidth": 0,
              "ticks": ""
             }
            },
            "type": "scatterpolargl"
           }
          ],
          "scatterternary": [
           {
            "marker": {
             "colorbar": {
              "outlinewidth": 0,
              "ticks": ""
             }
            },
            "type": "scatterternary"
           }
          ],
          "surface": [
           {
            "colorbar": {
             "outlinewidth": 0,
             "ticks": ""
            },
            "colorscale": [
             [
              0,
              "#0d0887"
             ],
             [
              0.1111111111111111,
              "#46039f"
             ],
             [
              0.2222222222222222,
              "#7201a8"
             ],
             [
              0.3333333333333333,
              "#9c179e"
             ],
             [
              0.4444444444444444,
              "#bd3786"
             ],
             [
              0.5555555555555556,
              "#d8576b"
             ],
             [
              0.6666666666666666,
              "#ed7953"
             ],
             [
              0.7777777777777778,
              "#fb9f3a"
             ],
             [
              0.8888888888888888,
              "#fdca26"
             ],
             [
              1,
              "#f0f921"
             ]
            ],
            "type": "surface"
           }
          ],
          "table": [
           {
            "cells": {
             "fill": {
              "color": "#EBF0F8"
             },
             "line": {
              "color": "white"
             }
            },
            "header": {
             "fill": {
              "color": "#C8D4E3"
             },
             "line": {
              "color": "white"
             }
            },
            "type": "table"
           }
          ]
         },
         "layout": {
          "annotationdefaults": {
           "arrowcolor": "#2a3f5f",
           "arrowhead": 0,
           "arrowwidth": 1
          },
          "autotypenumbers": "strict",
          "coloraxis": {
           "colorbar": {
            "outlinewidth": 0,
            "ticks": ""
           }
          },
          "colorscale": {
           "diverging": [
            [
             0,
             "#8e0152"
            ],
            [
             0.1,
             "#c51b7d"
            ],
            [
             0.2,
             "#de77ae"
            ],
            [
             0.3,
             "#f1b6da"
            ],
            [
             0.4,
             "#fde0ef"
            ],
            [
             0.5,
             "#f7f7f7"
            ],
            [
             0.6,
             "#e6f5d0"
            ],
            [
             0.7,
             "#b8e186"
            ],
            [
             0.8,
             "#7fbc41"
            ],
            [
             0.9,
             "#4d9221"
            ],
            [
             1,
             "#276419"
            ]
           ],
           "sequential": [
            [
             0,
             "#0d0887"
            ],
            [
             0.1111111111111111,
             "#46039f"
            ],
            [
             0.2222222222222222,
             "#7201a8"
            ],
            [
             0.3333333333333333,
             "#9c179e"
            ],
            [
             0.4444444444444444,
             "#bd3786"
            ],
            [
             0.5555555555555556,
             "#d8576b"
            ],
            [
             0.6666666666666666,
             "#ed7953"
            ],
            [
             0.7777777777777778,
             "#fb9f3a"
            ],
            [
             0.8888888888888888,
             "#fdca26"
            ],
            [
             1,
             "#f0f921"
            ]
           ],
           "sequentialminus": [
            [
             0,
             "#0d0887"
            ],
            [
             0.1111111111111111,
             "#46039f"
            ],
            [
             0.2222222222222222,
             "#7201a8"
            ],
            [
             0.3333333333333333,
             "#9c179e"
            ],
            [
             0.4444444444444444,
             "#bd3786"
            ],
            [
             0.5555555555555556,
             "#d8576b"
            ],
            [
             0.6666666666666666,
             "#ed7953"
            ],
            [
             0.7777777777777778,
             "#fb9f3a"
            ],
            [
             0.8888888888888888,
             "#fdca26"
            ],
            [
             1,
             "#f0f921"
            ]
           ]
          },
          "colorway": [
           "#636efa",
           "#EF553B",
           "#00cc96",
           "#ab63fa",
           "#FFA15A",
           "#19d3f3",
           "#FF6692",
           "#B6E880",
           "#FF97FF",
           "#FECB52"
          ],
          "font": {
           "color": "#2a3f5f"
          },
          "geo": {
           "bgcolor": "white",
           "lakecolor": "white",
           "landcolor": "#E5ECF6",
           "showlakes": true,
           "showland": true,
           "subunitcolor": "white"
          },
          "hoverlabel": {
           "align": "left"
          },
          "hovermode": "closest",
          "mapbox": {
           "style": "light"
          },
          "paper_bgcolor": "white",
          "plot_bgcolor": "#E5ECF6",
          "polar": {
           "angularaxis": {
            "gridcolor": "white",
            "linecolor": "white",
            "ticks": ""
           },
           "bgcolor": "#E5ECF6",
           "radialaxis": {
            "gridcolor": "white",
            "linecolor": "white",
            "ticks": ""
           }
          },
          "scene": {
           "xaxis": {
            "backgroundcolor": "#E5ECF6",
            "gridcolor": "white",
            "gridwidth": 2,
            "linecolor": "white",
            "showbackground": true,
            "ticks": "",
            "zerolinecolor": "white"
           },
           "yaxis": {
            "backgroundcolor": "#E5ECF6",
            "gridcolor": "white",
            "gridwidth": 2,
            "linecolor": "white",
            "showbackground": true,
            "ticks": "",
            "zerolinecolor": "white"
           },
           "zaxis": {
            "backgroundcolor": "#E5ECF6",
            "gridcolor": "white",
            "gridwidth": 2,
            "linecolor": "white",
            "showbackground": true,
            "ticks": "",
            "zerolinecolor": "white"
           }
          },
          "shapedefaults": {
           "line": {
            "color": "#2a3f5f"
           }
          },
          "ternary": {
           "aaxis": {
            "gridcolor": "white",
            "linecolor": "white",
            "ticks": ""
           },
           "baxis": {
            "gridcolor": "white",
            "linecolor": "white",
            "ticks": ""
           },
           "bgcolor": "#E5ECF6",
           "caxis": {
            "gridcolor": "white",
            "linecolor": "white",
            "ticks": ""
           }
          },
          "title": {
           "x": 0.05
          },
          "xaxis": {
           "automargin": true,
           "gridcolor": "white",
           "linecolor": "white",
           "ticks": "",
           "title": {
            "standoff": 15
           },
           "zerolinecolor": "white",
           "zerolinewidth": 2
          },
          "yaxis": {
           "automargin": true,
           "gridcolor": "white",
           "linecolor": "white",
           "ticks": "",
           "title": {
            "standoff": 15
           },
           "zerolinecolor": "white",
           "zerolinewidth": 2
          }
         }
        },
        "title": {
         "text": "Répartition des types de check-in"
        }
       }
      }
     },
     "metadata": {},
     "output_type": "display_data"
    },
    {
     "name": "stdout",
     "output_type": "stream",
     "text": [
      "... Analyse state ...\n",
      "\n",
      "Les locations avec un statut 'canceled' indiquent que la location n'a pas eu lieu.\n",
      "\n",
      "Nous avons 7 colonnes et 18045 lignes dpour les locations ended\n",
      "\n",
      " ....Analyse des retards ....\n",
      "count    16345.000000\n",
      "mean        60.773876\n",
      "std        993.173222\n",
      "min     -22433.000000\n",
      "25%        -36.000000\n",
      "50%          9.000000\n",
      "75%         67.000000\n",
      "max      71084.000000\n",
      "Name: delay_at_checkout_in_minutes, dtype: float64\n",
      "\n",
      "En moyenne les voitures sont rendues avec 61 minutes de retard. \n",
      "L'écart type est énorme 993(16h). Valeur min et max sont extrémes. \n",
      "Plus de 50% des locations sont rendues avec un retard de moins de 10 min.\n",
      "\n",
      "... Les retards réels ...\n",
      "\n",
      "<class 'pandas.core.frame.DataFrame'>\n",
      "Index: 9404 entries, 2 to 21309\n",
      "Data columns (total 7 columns):\n",
      " #   Column                                      Non-Null Count  Dtype  \n",
      "---  ------                                      --------------  -----  \n",
      " 0   rental_id                                   9404 non-null   int64  \n",
      " 1   car_id                                      9404 non-null   int64  \n",
      " 2   checkin_type                                9404 non-null   object \n",
      " 3   state                                       9404 non-null   object \n",
      " 4   delay_at_checkout_in_minutes                9404 non-null   float64\n",
      " 5   previous_ended_rental_id                    802 non-null    float64\n",
      " 6   time_delta_with_previous_rental_in_minutes  802 non-null    float64\n",
      "dtypes: float64(3), int64(2), object(2)\n",
      "memory usage: 587.8+ KB\n",
      "\n",
      "La moy des retards est de 92.2 minutes. \n",
      "La médiane se situe à 49.0 minutes. \n",
      "L'écart-type de 121.0 minutes montre certains condusteurs dépassent largement l'heure.\n",
      "\n"
     ]
    },
    {
     "data": {
      "application/vnd.plotly.v1+json": {
       "config": {
        "plotlyServerURL": "https://plot.ly"
       },
       "data": [
        {
         "bingroup": "x",
         "hovertemplate": "Retard en minutes=%{x}<br>count=%{y}<extra></extra>",
         "legendgroup": "",
         "marker": {
          "color": "#636efa",
          "pattern": {
           "shape": ""
          }
         },
         "name": "",
         "nbinsx": 50,
         "orientation": "v",
         "showlegend": false,
         "type": "histogram",
         "x": {
          "bdata": "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",
          "dtype": "f8"
         },
         "xaxis": "x",
         "yaxis": "y"
        }
       ],
       "layout": {
        "annotations": [
         {
          "showarrow": false,
          "text": "Mean",
          "x": 92.18894112379674,
          "xanchor": "center",
          "xref": "x",
          "y": 1,
          "yanchor": "bottom",
          "yref": "y domain"
         },
         {
          "showarrow": false,
          "text": "Median",
          "x": 49,
          "xanchor": "center",
          "xref": "x",
          "y": 1,
          "yanchor": "bottom",
          "yref": "y domain"
         }
        ],
        "barmode": "relative",
        "legend": {
         "tracegroupgap": 0
        },
        "shapes": [
         {
          "line": {
           "color": "red"
          },
          "type": "line",
          "x0": 92.18894112379674,
          "x1": 92.18894112379674,
          "xref": "x",
          "y0": 0,
          "y1": 1,
          "yref": "y domain"
         },
         {
          "line": {
           "color": "green"
          },
          "type": "line",
          "x0": 49,
          "x1": 49,
          "xref": "x",
          "y0": 0,
          "y1": 1,
          "yref": "y domain"
         }
        ],
        "template": {
         "data": {
          "bar": [
           {
            "error_x": {
             "color": "#2a3f5f"
            },
            "error_y": {
             "color": "#2a3f5f"
            },
            "marker": {
             "line": {
              "color": "#E5ECF6",
              "width": 0.5
             },
             "pattern": {
              "fillmode": "overlay",
              "size": 10,
              "solidity": 0.2
             }
            },
            "type": "bar"
           }
          ],
          "barpolar": [
           {
            "marker": {
             "line": {
              "color": "#E5ECF6",
              "width": 0.5
             },
             "pattern": {
              "fillmode": "overlay",
              "size": 10,
              "solidity": 0.2
             }
            },
            "type": "barpolar"
           }
          ],
          "carpet": [
           {
            "aaxis": {
             "endlinecolor": "#2a3f5f",
             "gridcolor": "white",
             "linecolor": "white",
             "minorgridcolor": "white",
             "startlinecolor": "#2a3f5f"
            },
            "baxis": {
             "endlinecolor": "#2a3f5f",
             "gridcolor": "white",
             "linecolor": "white",
             "minorgridcolor": "white",
             "startlinecolor": "#2a3f5f"
            },
            "type": "carpet"
           }
          ],
          "choropleth": [
           {
            "colorbar": {
             "outlinewidth": 0,
             "ticks": ""
            },
            "type": "choropleth"
           }
          ],
          "contour": [
           {
            "colorbar": {
             "outlinewidth": 0,
             "ticks": ""
            },
            "colorscale": [
             [
              0,
              "#0d0887"
             ],
             [
              0.1111111111111111,
              "#46039f"
             ],
             [
              0.2222222222222222,
              "#7201a8"
             ],
             [
              0.3333333333333333,
              "#9c179e"
             ],
             [
              0.4444444444444444,
              "#bd3786"
             ],
             [
              0.5555555555555556,
              "#d8576b"
             ],
             [
              0.6666666666666666,
              "#ed7953"
             ],
             [
              0.7777777777777778,
              "#fb9f3a"
             ],
             [
              0.8888888888888888,
              "#fdca26"
             ],
             [
              1,
              "#f0f921"
             ]
            ],
            "type": "contour"
           }
          ],
          "contourcarpet": [
           {
            "colorbar": {
             "outlinewidth": 0,
             "ticks": ""
            },
            "type": "contourcarpet"
           }
          ],
          "heatmap": [
           {
            "colorbar": {
             "outlinewidth": 0,
             "ticks": ""
            },
            "colorscale": [
             [
              0,
              "#0d0887"
             ],
             [
              0.1111111111111111,
              "#46039f"
             ],
             [
              0.2222222222222222,
              "#7201a8"
             ],
             [
              0.3333333333333333,
              "#9c179e"
             ],
             [
              0.4444444444444444,
              "#bd3786"
             ],
             [
              0.5555555555555556,
              "#d8576b"
             ],
             [
              0.6666666666666666,
              "#ed7953"
             ],
             [
              0.7777777777777778,
              "#fb9f3a"
             ],
             [
              0.8888888888888888,
              "#fdca26"
             ],
             [
              1,
              "#f0f921"
             ]
            ],
            "type": "heatmap"
           }
          ],
          "histogram": [
           {
            "marker": {
             "pattern": {
              "fillmode": "overlay",
              "size": 10,
              "solidity": 0.2
             }
            },
            "type": "histogram"
           }
          ],
          "histogram2d": [
           {
            "colorbar": {
             "outlinewidth": 0,
             "ticks": ""
            },
            "colorscale": [
             [
              0,
              "#0d0887"
             ],
             [
              0.1111111111111111,
              "#46039f"
             ],
             [
              0.2222222222222222,
              "#7201a8"
             ],
             [
              0.3333333333333333,
              "#9c179e"
             ],
             [
              0.4444444444444444,
              "#bd3786"
             ],
             [
              0.5555555555555556,
              "#d8576b"
             ],
             [
              0.6666666666666666,
              "#ed7953"
             ],
             [
              0.7777777777777778,
              "#fb9f3a"
             ],
             [
              0.8888888888888888,
              "#fdca26"
             ],
             [
              1,
              "#f0f921"
             ]
            ],
            "type": "histogram2d"
           }
          ],
          "histogram2dcontour": [
           {
            "colorbar": {
             "outlinewidth": 0,
             "ticks": ""
            },
            "colorscale": [
             [
              0,
              "#0d0887"
             ],
             [
              0.1111111111111111,
              "#46039f"
             ],
             [
              0.2222222222222222,
              "#7201a8"
             ],
             [
              0.3333333333333333,
              "#9c179e"
             ],
             [
              0.4444444444444444,
              "#bd3786"
             ],
             [
              0.5555555555555556,
              "#d8576b"
             ],
             [
              0.6666666666666666,
              "#ed7953"
             ],
             [
              0.7777777777777778,
              "#fb9f3a"
             ],
             [
              0.8888888888888888,
              "#fdca26"
             ],
             [
              1,
              "#f0f921"
             ]
            ],
            "type": "histogram2dcontour"
           }
          ],
          "mesh3d": [
           {
            "colorbar": {
             "outlinewidth": 0,
             "ticks": ""
            },
            "type": "mesh3d"
           }
          ],
          "parcoords": [
           {
            "line": {
             "colorbar": {
              "outlinewidth": 0,
              "ticks": ""
             }
            },
            "type": "parcoords"
           }
          ],
          "pie": [
           {
            "automargin": true,
            "type": "pie"
           }
          ],
          "scatter": [
           {
            "fillpattern": {
             "fillmode": "overlay",
             "size": 10,
             "solidity": 0.2
            },
            "type": "scatter"
           }
          ],
          "scatter3d": [
           {
            "line": {
             "colorbar": {
              "outlinewidth": 0,
              "ticks": ""
             }
            },
            "marker": {
             "colorbar": {
              "outlinewidth": 0,
              "ticks": ""
             }
            },
            "type": "scatter3d"
           }
          ],
          "scattercarpet": [
           {
            "marker": {
             "colorbar": {
              "outlinewidth": 0,
              "ticks": ""
             }
            },
            "type": "scattercarpet"
           }
          ],
          "scattergeo": [
           {
            "marker": {
             "colorbar": {
              "outlinewidth": 0,
              "ticks": ""
             }
            },
            "type": "scattergeo"
           }
          ],
          "scattergl": [
           {
            "marker": {
             "colorbar": {
              "outlinewidth": 0,
              "ticks": ""
             }
            },
            "type": "scattergl"
           }
          ],
          "scattermap": [
           {
            "marker": {
             "colorbar": {
              "outlinewidth": 0,
              "ticks": ""
             }
            },
            "type": "scattermap"
           }
          ],
          "scattermapbox": [
           {
            "marker": {
             "colorbar": {
              "outlinewidth": 0,
              "ticks": ""
             }
            },
            "type": "scattermapbox"
           }
          ],
          "scatterpolar": [
           {
            "marker": {
             "colorbar": {
              "outlinewidth": 0,
              "ticks": ""
             }
            },
            "type": "scatterpolar"
           }
          ],
          "scatterpolargl": [
           {
            "marker": {
             "colorbar": {
              "outlinewidth": 0,
              "ticks": ""
             }
            },
            "type": "scatterpolargl"
           }
          ],
          "scatterternary": [
           {
            "marker": {
             "colorbar": {
              "outlinewidth": 0,
              "ticks": ""
             }
            },
            "type": "scatterternary"
           }
          ],
          "surface": [
           {
            "colorbar": {
             "outlinewidth": 0,
             "ticks": ""
            },
            "colorscale": [
             [
              0,
              "#0d0887"
             ],
             [
              0.1111111111111111,
              "#46039f"
             ],
             [
              0.2222222222222222,
              "#7201a8"
             ],
             [
              0.3333333333333333,
              "#9c179e"
             ],
             [
              0.4444444444444444,
              "#bd3786"
             ],
             [
              0.5555555555555556,
              "#d8576b"
             ],
             [
              0.6666666666666666,
              "#ed7953"
             ],
             [
              0.7777777777777778,
              "#fb9f3a"
             ],
             [
              0.8888888888888888,
              "#fdca26"
             ],
             [
              1,
              "#f0f921"
             ]
            ],
            "type": "surface"
           }
          ],
          "table": [
           {
            "cells": {
             "fill": {
              "color": "#EBF0F8"
             },
             "line": {
              "color": "white"
             }
            },
            "header": {
             "fill": {
              "color": "#C8D4E3"
             },
             "line": {
              "color": "white"
             }
            },
            "type": "table"
           }
          ]
         },
         "layout": {
          "annotationdefaults": {
           "arrowcolor": "#2a3f5f",
           "arrowhead": 0,
           "arrowwidth": 1
          },
          "autotypenumbers": "strict",
          "coloraxis": {
           "colorbar": {
            "outlinewidth": 0,
            "ticks": ""
           }
          },
          "colorscale": {
           "diverging": [
            [
             0,
             "#8e0152"
            ],
            [
             0.1,
             "#c51b7d"
            ],
            [
             0.2,
             "#de77ae"
            ],
            [
             0.3,
             "#f1b6da"
            ],
            [
             0.4,
             "#fde0ef"
            ],
            [
             0.5,
             "#f7f7f7"
            ],
            [
             0.6,
             "#e6f5d0"
            ],
            [
             0.7,
             "#b8e186"
            ],
            [
             0.8,
             "#7fbc41"
            ],
            [
             0.9,
             "#4d9221"
            ],
            [
             1,
             "#276419"
            ]
           ],
           "sequential": [
            [
             0,
             "#0d0887"
            ],
            [
             0.1111111111111111,
             "#46039f"
            ],
            [
             0.2222222222222222,
             "#7201a8"
            ],
            [
             0.3333333333333333,
             "#9c179e"
            ],
            [
             0.4444444444444444,
             "#bd3786"
            ],
            [
             0.5555555555555556,
             "#d8576b"
            ],
            [
             0.6666666666666666,
             "#ed7953"
            ],
            [
             0.7777777777777778,
             "#fb9f3a"
            ],
            [
             0.8888888888888888,
             "#fdca26"
            ],
            [
             1,
             "#f0f921"
            ]
           ],
           "sequentialminus": [
            [
             0,
             "#0d0887"
            ],
            [
             0.1111111111111111,
             "#46039f"
            ],
            [
             0.2222222222222222,
             "#7201a8"
            ],
            [
             0.3333333333333333,
             "#9c179e"
            ],
            [
             0.4444444444444444,
             "#bd3786"
            ],
            [
             0.5555555555555556,
             "#d8576b"
            ],
            [
             0.6666666666666666,
             "#ed7953"
            ],
            [
             0.7777777777777778,
             "#fb9f3a"
            ],
            [
             0.8888888888888888,
             "#fdca26"
            ],
            [
             1,
             "#f0f921"
            ]
           ]
          },
          "colorway": [
           "#636efa",
           "#EF553B",
           "#00cc96",
           "#ab63fa",
           "#FFA15A",
           "#19d3f3",
           "#FF6692",
           "#B6E880",
           "#FF97FF",
           "#FECB52"
          ],
          "font": {
           "color": "#2a3f5f"
          },
          "geo": {
           "bgcolor": "white",
           "lakecolor": "white",
           "landcolor": "#E5ECF6",
           "showlakes": true,
           "showland": true,
           "subunitcolor": "white"
          },
          "hoverlabel": {
           "align": "left"
          },
          "hovermode": "closest",
          "mapbox": {
           "style": "light"
          },
          "paper_bgcolor": "white",
          "plot_bgcolor": "#E5ECF6",
          "polar": {
           "angularaxis": {
            "gridcolor": "white",
            "linecolor": "white",
            "ticks": ""
           },
           "bgcolor": "#E5ECF6",
           "radialaxis": {
            "gridcolor": "white",
            "linecolor": "white",
            "ticks": ""
           }
          },
          "scene": {
           "xaxis": {
            "backgroundcolor": "#E5ECF6",
            "gridcolor": "white",
            "gridwidth": 2,
            "linecolor": "white",
            "showbackground": true,
            "ticks": "",
            "zerolinecolor": "white"
           },
           "yaxis": {
            "backgroundcolor": "#E5ECF6",
            "gridcolor": "white",
            "gridwidth": 2,
            "linecolor": "white",
            "showbackground": true,
            "ticks": "",
            "zerolinecolor": "white"
           },
           "zaxis": {
            "backgroundcolor": "#E5ECF6",
            "gridcolor": "white",
            "gridwidth": 2,
            "linecolor": "white",
            "showbackground": true,
            "ticks": "",
            "zerolinecolor": "white"
           }
          },
          "shapedefaults": {
           "line": {
            "color": "#2a3f5f"
           }
          },
          "ternary": {
           "aaxis": {
            "gridcolor": "white",
            "linecolor": "white",
            "ticks": ""
           },
           "baxis": {
            "gridcolor": "white",
            "linecolor": "white",
            "ticks": ""
           },
           "bgcolor": "#E5ECF6",
           "caxis": {
            "gridcolor": "white",
            "linecolor": "white",
            "ticks": ""
           }
          },
          "title": {
           "x": 0.05
          },
          "xaxis": {
           "automargin": true,
           "gridcolor": "white",
           "linecolor": "white",
           "ticks": "",
           "title": {
            "standoff": 15
           },
           "zerolinecolor": "white",
           "zerolinewidth": 2
          },
          "yaxis": {
           "automargin": true,
           "gridcolor": "white",
           "linecolor": "white",
           "ticks": "",
           "title": {
            "standoff": 15
           },
           "zerolinecolor": "white",
           "zerolinewidth": 2
          }
         }
        },
        "title": {
         "text": "Distribution des retards réels"
        },
        "xaxis": {
         "anchor": "y",
         "domain": [
          0,
          1
         ],
         "title": {
          "text": "Retard en minutes"
         }
        },
        "yaxis": {
         "anchor": "x",
         "domain": [
          0,
          1
         ],
         "title": {
          "text": "count"
         }
        }
       }
      }
     },
     "metadata": {},
     "output_type": "display_data"
    },
    {
     "name": "stdout",
     "output_type": "stream",
     "text": [
      " ....Analyse du délais entre 2 locations d'une même voiture ....\n",
      "count    1612.000000\n",
      "mean      277.071960\n",
      "std       255.157331\n",
      "min         0.000000\n",
      "25%        60.000000\n",
      "50%       180.000000\n",
      "75%       540.000000\n",
      "max       720.000000\n",
      "Name: time_delta_with_previous_rental_in_minutes, dtype: float64\n",
      "\n",
      "\n",
      "En moyenne le délais entre 2 locations est de 277 minutes, plus de 4h30. \n",
      "L'écart type est élévé 255 minutes, forte variabilité (certains vehicules sont reloués en - de 1h et d'autres 12h)\n",
      "50% des locations ont un delta entre 2 locations de 3h.\n"
     ]
    }
   ],
   "source": [
    "# Analyse col 'checkin_type'\n",
    "print('... Analyse chekin_type ...\\n Pratiquement 80% des locations se font sur mobile')\n",
    "type=df['checkin_type'].value_counts().reset_index()\n",
    "type.columns=['Type','Count']\n",
    "\n",
    "# visualistaion chekin_type     \n",
    "fig = px.pie(type, values='Count',names='Type', title='Répartition des types de check-in')\n",
    "fig.update_traces(textposition='inside', textinfo='label+percent')\n",
    "fig.show()\n",
    "\n",
    "# Analyse col 'state'\n",
    "print('... Analyse state ...\\n')\n",
    "df['state'].value_counts()\n",
    "\n",
    "# State 'canceled'\n",
    "df_canceled = df[df['state'] == 'canceled']\n",
    "df_canceled.describe(include='all') \n",
    "\n",
    "print(\"Les locations avec un statut 'canceled' indiquent que la location n'a pas eu lieu.\")\n",
    "# State 'ended'\n",
    "ended = df[df['state'] == 'ended'].copy()\n",
    "print(f\"\\nNous avons {ended.shape[1]} colonnes et {ended.shape[0]} lignes dpour les locations ended\\n\")\n",
    "\n",
    "# Analyse col 'delay_at_checkout_in_minutes'\n",
    "delay_at_checkout = ended['delay_at_checkout_in_minutes'].describe()\n",
    "print(f\" ....Analyse des retards ....\\n{delay_at_checkout}\")\n",
    "      \n",
    "print(\"\\nEn moyenne les voitures sont rendues avec 61 minutes de retard. \\n\" \\\n",
    "\"L'écart type est énorme 993(16h). Valeur min et max sont extrémes. \\n\" \\\n",
    "\"Plus de 50% des locations sont rendues avec un retard de moins de 10 min.\")\n",
    "\n",
    "# Retards Réells\n",
    "print(\"\\n... Les retards réels ...\\n\")\n",
    "delay_real = ended[ended[\"delay_at_checkout_in_minutes\"] > 0]\n",
    "delay_real.info()\n",
    "\n",
    "# Valeurs extrêmes\n",
    "q95 = delay_real[\"delay_at_checkout_in_minutes\"].quantile(0.95)\n",
    "filtered = delay_real[delay_real[\"delay_at_checkout_in_minutes\"] <= q95]\n",
    "\n",
    "mean_delay = filtered[\"delay_at_checkout_in_minutes\"].mean()\n",
    "median_delay = filtered[\"delay_at_checkout_in_minutes\"].median()\n",
    "std_delay = filtered[\"delay_at_checkout_in_minutes\"].std()\n",
    "\n",
    "print(f\"\\nLa moy des retards est de {mean_delay:.1f} minutes. \\nLa médiane se situe à {median_delay:.1f} minutes. \\nL'écart-type de {std_delay:.1f} minutes montre certains condusteurs dépassent largement l'heure.\\n\")\n",
    "\n",
    "# Visualisation des retards réells\n",
    "fig = px.histogram(\n",
    "    filtered,\n",
    "    x=\"delay_at_checkout_in_minutes\",\n",
    "    nbins=50,\n",
    "    title=\"Distribution des retards réels\",\n",
    "    labels={\"delay_at_checkout_in_minutes\": \"Retard en minutes\"}\n",
    ")\n",
    "fig.add_vline(x=filtered[\"delay_at_checkout_in_minutes\"].mean(), line_color=\"red\",annotation_text=\"Mean\",\n",
    "    annotation_position=\"top\")\n",
    "fig.add_vline(x=filtered[\"delay_at_checkout_in_minutes\"].median(), line_color=\"green\", annotation_text=\"Median\",\n",
    "    annotation_position=\"top\")\n",
    "\n",
    "fig.show()\n",
    "\n",
    "# Analyse col 'time_delta_with_previous_rental_in_minutes'(délais >< 2 loc de la même voiture)\n",
    "delay_2_loc= ended['time_delta_with_previous_rental_in_minutes'].describe()\n",
    "print(f\" ....Analyse du délais entre 2 locations d'une même voiture ....\\n{delay_2_loc}\\n\")\n",
    "      \n",
    "print(\"\\nEn moyenne le délais entre 2 locations est de 277 minutes, plus de 4h30. \\nL'écart type est élévé 255 minutes, forte variabilité (certains vehicules sont reloués en - de 1h et d'autres 12h)\\n50% des locations ont un delta entre 2 locations de 3h.\")\n",
    "\n"
   ]
  },
  {
   "cell_type": "markdown",
   "id": "f52339a8",
   "metadata": {},
   "source": [
    "### Analyse du seuil : quelle doit être la durée minimale du délai ?\n",
    "---"
   ]
  },
  {
   "cell_type": "code",
   "execution_count": 6,
   "id": "b64bb1c6",
   "metadata": {},
   "outputs": [
    {
     "name": "stdout",
     "output_type": "stream",
     "text": [
      "\n",
      "... Seuil entre 2 loctaions ...\n",
      "\n",
      "Pour un seuil de 30 minutes\n",
      " 244 locations seront bloquées et 1368 loctaions seront possibles\n"
     ]
    },
    {
     "data": {
      "text/html": [
       "<div>\n",
       "<style scoped>\n",
       "    .dataframe tbody tr th:only-of-type {\n",
       "        vertical-align: middle;\n",
       "    }\n",
       "\n",
       "    .dataframe tbody tr th {\n",
       "        vertical-align: top;\n",
       "    }\n",
       "\n",
       "    .dataframe thead th {\n",
       "        text-align: right;\n",
       "    }\n",
       "</style>\n",
       "<table border=\"1\" class=\"dataframe\">\n",
       "  <thead>\n",
       "    <tr style=\"text-align: right;\">\n",
       "      <th></th>\n",
       "      <th>Seuil (min)</th>\n",
       "      <th>Locations bloquées</th>\n",
       "      <th>% Loc bloquées</th>\n",
       "      <th>Locations possibles</th>\n",
       "      <th>% Loc possibles</th>\n",
       "      <th>% Retards réels couverts</th>\n",
       "    </tr>\n",
       "  </thead>\n",
       "  <tbody>\n",
       "    <tr>\n",
       "      <th>0</th>\n",
       "      <td>30</td>\n",
       "      <td>244</td>\n",
       "      <td>15.14</td>\n",
       "      <td>1368</td>\n",
       "      <td>84.86</td>\n",
       "      <td>35.37</td>\n",
       "    </tr>\n",
       "    <tr>\n",
       "      <th>1</th>\n",
       "      <td>60</td>\n",
       "      <td>358</td>\n",
       "      <td>22.21</td>\n",
       "      <td>1254</td>\n",
       "      <td>77.79</td>\n",
       "      <td>53.36</td>\n",
       "    </tr>\n",
       "    <tr>\n",
       "      <th>2</th>\n",
       "      <td>90</td>\n",
       "      <td>518</td>\n",
       "      <td>32.13</td>\n",
       "      <td>1094</td>\n",
       "      <td>67.87</td>\n",
       "      <td>65.37</td>\n",
       "    </tr>\n",
       "    <tr>\n",
       "      <th>3</th>\n",
       "      <td>180</td>\n",
       "      <td>773</td>\n",
       "      <td>47.95</td>\n",
       "      <td>839</td>\n",
       "      <td>52.05</td>\n",
       "      <td>81.33</td>\n",
       "    </tr>\n",
       "    <tr>\n",
       "      <th>4</th>\n",
       "      <td>240</td>\n",
       "      <td>884</td>\n",
       "      <td>54.84</td>\n",
       "      <td>728</td>\n",
       "      <td>45.16</td>\n",
       "      <td>85.81</td>\n",
       "    </tr>\n",
       "  </tbody>\n",
       "</table>\n",
       "</div>"
      ],
      "text/plain": [
       "   Seuil (min)  Locations bloquées  % Loc bloquées  Locations possibles  \\\n",
       "0           30                 244           15.14                 1368   \n",
       "1           60                 358           22.21                 1254   \n",
       "2           90                 518           32.13                 1094   \n",
       "3          180                 773           47.95                  839   \n",
       "4          240                 884           54.84                  728   \n",
       "\n",
       "   % Loc possibles  % Retards réels couverts  \n",
       "0            84.86                     35.37  \n",
       "1            77.79                     53.36  \n",
       "2            67.87                     65.37  \n",
       "3            52.05                     81.33  \n",
       "4            45.16                     85.81  "
      ]
     },
     "execution_count": 6,
     "metadata": {},
     "output_type": "execute_result"
    }
   ],
   "source": [
    "# Calcul de la durée minimale obligatoire entre 2 locations : seuil 30 min\n",
    "print(\"\\n... Seuil entre 2 loctaions ...\\n\")\n",
    "seuil = 30 \n",
    "nbr_loc_bloquee = (ended['time_delta_with_previous_rental_in_minutes']<seuil).sum()\n",
    "nbr_loc_ok = (ended['time_delta_with_previous_rental_in_minutes']>=seuil).sum()\n",
    "print(f\"Pour un seuil de 30 minutes\")\n",
    "print(f\" {nbr_loc_bloquee} locations seront bloquées et {nbr_loc_ok} loctaions seront possibles\")\n",
    "\n",
    "# test sur plusieurs seuils\n",
    "seuil=[30, 60, 90, 180, 240]\n",
    "resultat=[]\n",
    "nbr_car_delay_2_loc = len(ended.dropna(subset=['time_delta_with_previous_rental_in_minutes']))\n",
    "\n",
    "for i in seuil:\n",
    "    nbr_loc_bloquee = (ended['time_delta_with_previous_rental_in_minutes']<i).sum()\n",
    "    pct_nbr_loc_bloquee = ((nbr_loc_bloquee / nbr_car_delay_2_loc) * 100).round(2)\n",
    "    nbr_loc_ok = (ended['time_delta_with_previous_rental_in_minutes']>=i).sum()\n",
    "    pct_nbr_loc_ok = ((nbr_loc_ok / nbr_car_delay_2_loc) * 100).round(2)\n",
    " \n",
    "    # Retards réels couverts (seulement pour les retards > 0)\n",
    "    retards_reels = ended[ended['delay_at_checkout_in_minutes'] > 0]\n",
    "    pct_retards_couverts = ((retards_reels['delay_at_checkout_in_minutes'] <= i).mean() * 100).round(2)\n",
    "\n",
    "    # Ajouter les résultats à la liste\n",
    "    resultat.append({\n",
    "        'Seuil (min)': i,\n",
    "        'Locations bloquées': nbr_loc_bloquee,\n",
    "        '% Loc bloquées': pct_nbr_loc_bloquee,\n",
    "        'Locations possibles' : nbr_loc_ok,\n",
    "        '% Loc possibles': pct_nbr_loc_ok,\n",
    "        '% Retards réels couverts': pct_retards_couverts,\n",
    "    })\n",
    "df_resultat = pd.DataFrame(resultat)\n",
    "df_resultat.head()\n",
    "\n",
    "\n"
   ]
  },
  {
   "cell_type": "code",
   "execution_count": 7,
   "id": "88f0b56b",
   "metadata": {},
   "outputs": [
    {
     "name": "stdout",
     "output_type": "stream",
     "text": [
      "Ratios Gain/Coût pour chaque transition entre les seuils :\n",
      "Transition de 30 min à 60 min :\n",
      "  Gain en % Retards couverts = 17.99\n",
      "  Augmentation en % Loc bloquées = 7.07\n",
      "  Ratio Gain/Coût = 2.54\n",
      "\n",
      "Transition de 60 min à 90 min :\n",
      "  Gain en % Retards couverts = 12.01\n",
      "  Augmentation en % Loc bloquées = 9.92\n",
      "  Ratio Gain/Coût = 1.21\n",
      "\n",
      "Transition de 90 min à 180 min :\n",
      "  Gain en % Retards couverts = 15.96\n",
      "  Augmentation en % Loc bloquées = 15.82\n",
      "  Ratio Gain/Coût = 1.01\n",
      "\n",
      "Transition de 180 min à 240 min :\n",
      "  Gain en % Retards couverts = 4.48\n",
      "  Augmentation en % Loc bloquées = 6.89\n",
      "  Ratio Gain/Coût = 0.65\n",
      "\n",
      "Seuil optimal (60 min) : Le ratio Gain/Coût est maximal à ce seuil (2.54), indiquant que chaque point supplémentaire de locations\n",
      " bloquées permet de couvrir 2.54 points de retards. Ce seuil représente donc le meilleur compromis entre efficacité et coût opérationnel.\n"
     ]
    },
    {
     "data": {
      "application/vnd.plotly.v1+json": {
       "config": {
        "plotlyServerURL": "https://plot.ly"
       },
       "data": [
        {
         "hovertemplate": "variable=% Retards réels couverts<br>Seuil (min)=%{x}<br>value=%{y}<extra></extra>",
         "legendgroup": "% Retards réels couverts",
         "line": {
          "color": "#636efa",
          "dash": "solid"
         },
         "marker": {
          "symbol": "circle"
         },
         "mode": "lines",
         "name": "% Retards réels couverts",
         "orientation": "v",
         "showlegend": true,
         "type": "scatter",
         "x": {
          "bdata": "HgA8AFoAtADwAA==",
          "dtype": "i2"
         },
         "xaxis": "x",
         "y": {
          "bdata": "j8L1KFyvQUCuR+F6FK5KQEjhehSuV1BAhetRuB5VVECkcD0K13NVQA==",
          "dtype": "f8"
         },
         "yaxis": "y"
        },
        {
         "hovertemplate": "variable=% Loc bloquées<br>Seuil (min)=%{x}<br>value=%{y}<extra></extra>",
         "legendgroup": "% Loc bloquées",
         "line": {
          "color": "#EF553B",
          "dash": "solid"
         },
         "marker": {
          "symbol": "circle"
         },
         "mode": "lines",
         "name": "% Loc bloquées",
         "orientation": "v",
         "showlegend": true,
         "type": "scatter",
         "x": {
          "bdata": "HgA8AFoAtADwAA==",
          "dtype": "i2"
         },
         "xaxis": "x",
         "y": {
          "bdata": "SOF6FK5HLkD2KFyPwjU2QHE9CtejEEBAmpmZmZn5R0DsUbgehWtLQA==",
          "dtype": "f8"
         },
         "yaxis": "y"
        }
       ],
       "layout": {
        "annotations": [
         {
          "showarrow": false,
          "text": "Seuil 60 min",
          "x": 60,
          "xanchor": "left",
          "xref": "x",
          "y": 1,
          "yanchor": "top",
          "yref": "y domain"
         }
        ],
        "legend": {
         "title": {
          "text": "variable"
         },
         "tracegroupgap": 0
        },
        "shapes": [
         {
          "line": {
           "color": "green",
           "dash": "dash",
           "width": 2
          },
          "type": "line",
          "x0": 60,
          "x1": 60,
          "xref": "x",
          "y0": 0,
          "y1": 1,
          "yref": "y domain"
         }
        ],
        "template": {
         "data": {
          "bar": [
           {
            "error_x": {
             "color": "#2a3f5f"
            },
            "error_y": {
             "color": "#2a3f5f"
            },
            "marker": {
             "line": {
              "color": "#E5ECF6",
              "width": 0.5
             },
             "pattern": {
              "fillmode": "overlay",
              "size": 10,
              "solidity": 0.2
             }
            },
            "type": "bar"
           }
          ],
          "barpolar": [
           {
            "marker": {
             "line": {
              "color": "#E5ECF6",
              "width": 0.5
             },
             "pattern": {
              "fillmode": "overlay",
              "size": 10,
              "solidity": 0.2
             }
            },
            "type": "barpolar"
           }
          ],
          "carpet": [
           {
            "aaxis": {
             "endlinecolor": "#2a3f5f",
             "gridcolor": "white",
             "linecolor": "white",
             "minorgridcolor": "white",
             "startlinecolor": "#2a3f5f"
            },
            "baxis": {
             "endlinecolor": "#2a3f5f",
             "gridcolor": "white",
             "linecolor": "white",
             "minorgridcolor": "white",
             "startlinecolor": "#2a3f5f"
            },
            "type": "carpet"
           }
          ],
          "choropleth": [
           {
            "colorbar": {
             "outlinewidth": 0,
             "ticks": ""
            },
            "type": "choropleth"
           }
          ],
          "contour": [
           {
            "colorbar": {
             "outlinewidth": 0,
             "ticks": ""
            },
            "colorscale": [
             [
              0,
              "#0d0887"
             ],
             [
              0.1111111111111111,
              "#46039f"
             ],
             [
              0.2222222222222222,
              "#7201a8"
             ],
             [
              0.3333333333333333,
              "#9c179e"
             ],
             [
              0.4444444444444444,
              "#bd3786"
             ],
             [
              0.5555555555555556,
              "#d8576b"
             ],
             [
              0.6666666666666666,
              "#ed7953"
             ],
             [
              0.7777777777777778,
              "#fb9f3a"
             ],
             [
              0.8888888888888888,
              "#fdca26"
             ],
             [
              1,
              "#f0f921"
             ]
            ],
            "type": "contour"
           }
          ],
          "contourcarpet": [
           {
            "colorbar": {
             "outlinewidth": 0,
             "ticks": ""
            },
            "type": "contourcarpet"
           }
          ],
          "heatmap": [
           {
            "colorbar": {
             "outlinewidth": 0,
             "ticks": ""
            },
            "colorscale": [
             [
              0,
              "#0d0887"
             ],
             [
              0.1111111111111111,
              "#46039f"
             ],
             [
              0.2222222222222222,
              "#7201a8"
             ],
             [
              0.3333333333333333,
              "#9c179e"
             ],
             [
              0.4444444444444444,
              "#bd3786"
             ],
             [
              0.5555555555555556,
              "#d8576b"
             ],
             [
              0.6666666666666666,
              "#ed7953"
             ],
             [
              0.7777777777777778,
              "#fb9f3a"
             ],
             [
              0.8888888888888888,
              "#fdca26"
             ],
             [
              1,
              "#f0f921"
             ]
            ],
            "type": "heatmap"
           }
          ],
          "histogram": [
           {
            "marker": {
             "pattern": {
              "fillmode": "overlay",
              "size": 10,
              "solidity": 0.2
             }
            },
            "type": "histogram"
           }
          ],
          "histogram2d": [
           {
            "colorbar": {
             "outlinewidth": 0,
             "ticks": ""
            },
            "colorscale": [
             [
              0,
              "#0d0887"
             ],
             [
              0.1111111111111111,
              "#46039f"
             ],
             [
              0.2222222222222222,
              "#7201a8"
             ],
             [
              0.3333333333333333,
              "#9c179e"
             ],
             [
              0.4444444444444444,
              "#bd3786"
             ],
             [
              0.5555555555555556,
              "#d8576b"
             ],
             [
              0.6666666666666666,
              "#ed7953"
             ],
             [
              0.7777777777777778,
              "#fb9f3a"
             ],
             [
              0.8888888888888888,
              "#fdca26"
             ],
             [
              1,
              "#f0f921"
             ]
            ],
            "type": "histogram2d"
           }
          ],
          "histogram2dcontour": [
           {
            "colorbar": {
             "outlinewidth": 0,
             "ticks": ""
            },
            "colorscale": [
             [
              0,
              "#0d0887"
             ],
             [
              0.1111111111111111,
              "#46039f"
             ],
             [
              0.2222222222222222,
              "#7201a8"
             ],
             [
              0.3333333333333333,
              "#9c179e"
             ],
             [
              0.4444444444444444,
              "#bd3786"
             ],
             [
              0.5555555555555556,
              "#d8576b"
             ],
             [
              0.6666666666666666,
              "#ed7953"
             ],
             [
              0.7777777777777778,
              "#fb9f3a"
             ],
             [
              0.8888888888888888,
              "#fdca26"
             ],
             [
              1,
              "#f0f921"
             ]
            ],
            "type": "histogram2dcontour"
           }
          ],
          "mesh3d": [
           {
            "colorbar": {
             "outlinewidth": 0,
             "ticks": ""
            },
            "type": "mesh3d"
           }
          ],
          "parcoords": [
           {
            "line": {
             "colorbar": {
              "outlinewidth": 0,
              "ticks": ""
             }
            },
            "type": "parcoords"
           }
          ],
          "pie": [
           {
            "automargin": true,
            "type": "pie"
           }
          ],
          "scatter": [
           {
            "fillpattern": {
             "fillmode": "overlay",
             "size": 10,
             "solidity": 0.2
            },
            "type": "scatter"
           }
          ],
          "scatter3d": [
           {
            "line": {
             "colorbar": {
              "outlinewidth": 0,
              "ticks": ""
             }
            },
            "marker": {
             "colorbar": {
              "outlinewidth": 0,
              "ticks": ""
             }
            },
            "type": "scatter3d"
           }
          ],
          "scattercarpet": [
           {
            "marker": {
             "colorbar": {
              "outlinewidth": 0,
              "ticks": ""
             }
            },
            "type": "scattercarpet"
           }
          ],
          "scattergeo": [
           {
            "marker": {
             "colorbar": {
              "outlinewidth": 0,
              "ticks": ""
             }
            },
            "type": "scattergeo"
           }
          ],
          "scattergl": [
           {
            "marker": {
             "colorbar": {
              "outlinewidth": 0,
              "ticks": ""
             }
            },
            "type": "scattergl"
           }
          ],
          "scattermap": [
           {
            "marker": {
             "colorbar": {
              "outlinewidth": 0,
              "ticks": ""
             }
            },
            "type": "scattermap"
           }
          ],
          "scattermapbox": [
           {
            "marker": {
             "colorbar": {
              "outlinewidth": 0,
              "ticks": ""
             }
            },
            "type": "scattermapbox"
           }
          ],
          "scatterpolar": [
           {
            "marker": {
             "colorbar": {
              "outlinewidth": 0,
              "ticks": ""
             }
            },
            "type": "scatterpolar"
           }
          ],
          "scatterpolargl": [
           {
            "marker": {
             "colorbar": {
              "outlinewidth": 0,
              "ticks": ""
             }
            },
            "type": "scatterpolargl"
           }
          ],
          "scatterternary": [
           {
            "marker": {
             "colorbar": {
              "outlinewidth": 0,
              "ticks": ""
             }
            },
            "type": "scatterternary"
           }
          ],
          "surface": [
           {
            "colorbar": {
             "outlinewidth": 0,
             "ticks": ""
            },
            "colorscale": [
             [
              0,
              "#0d0887"
             ],
             [
              0.1111111111111111,
              "#46039f"
             ],
             [
              0.2222222222222222,
              "#7201a8"
             ],
             [
              0.3333333333333333,
              "#9c179e"
             ],
             [
              0.4444444444444444,
              "#bd3786"
             ],
             [
              0.5555555555555556,
              "#d8576b"
             ],
             [
              0.6666666666666666,
              "#ed7953"
             ],
             [
              0.7777777777777778,
              "#fb9f3a"
             ],
             [
              0.8888888888888888,
              "#fdca26"
             ],
             [
              1,
              "#f0f921"
             ]
            ],
            "type": "surface"
           }
          ],
          "table": [
           {
            "cells": {
             "fill": {
              "color": "#EBF0F8"
             },
             "line": {
              "color": "white"
             }
            },
            "header": {
             "fill": {
              "color": "#C8D4E3"
             },
             "line": {
              "color": "white"
             }
            },
            "type": "table"
           }
          ]
         },
         "layout": {
          "annotationdefaults": {
           "arrowcolor": "#2a3f5f",
           "arrowhead": 0,
           "arrowwidth": 1
          },
          "autotypenumbers": "strict",
          "coloraxis": {
           "colorbar": {
            "outlinewidth": 0,
            "ticks": ""
           }
          },
          "colorscale": {
           "diverging": [
            [
             0,
             "#8e0152"
            ],
            [
             0.1,
             "#c51b7d"
            ],
            [
             0.2,
             "#de77ae"
            ],
            [
             0.3,
             "#f1b6da"
            ],
            [
             0.4,
             "#fde0ef"
            ],
            [
             0.5,
             "#f7f7f7"
            ],
            [
             0.6,
             "#e6f5d0"
            ],
            [
             0.7,
             "#b8e186"
            ],
            [
             0.8,
             "#7fbc41"
            ],
            [
             0.9,
             "#4d9221"
            ],
            [
             1,
             "#276419"
            ]
           ],
           "sequential": [
            [
             0,
             "#0d0887"
            ],
            [
             0.1111111111111111,
             "#46039f"
            ],
            [
             0.2222222222222222,
             "#7201a8"
            ],
            [
             0.3333333333333333,
             "#9c179e"
            ],
            [
             0.4444444444444444,
             "#bd3786"
            ],
            [
             0.5555555555555556,
             "#d8576b"
            ],
            [
             0.6666666666666666,
             "#ed7953"
            ],
            [
             0.7777777777777778,
             "#fb9f3a"
            ],
            [
             0.8888888888888888,
             "#fdca26"
            ],
            [
             1,
             "#f0f921"
            ]
           ],
           "sequentialminus": [
            [
             0,
             "#0d0887"
            ],
            [
             0.1111111111111111,
             "#46039f"
            ],
            [
             0.2222222222222222,
             "#7201a8"
            ],
            [
             0.3333333333333333,
             "#9c179e"
            ],
            [
             0.4444444444444444,
             "#bd3786"
            ],
            [
             0.5555555555555556,
             "#d8576b"
            ],
            [
             0.6666666666666666,
             "#ed7953"
            ],
            [
             0.7777777777777778,
             "#fb9f3a"
            ],
            [
             0.8888888888888888,
             "#fdca26"
            ],
            [
             1,
             "#f0f921"
            ]
           ]
          },
          "colorway": [
           "#636efa",
           "#EF553B",
           "#00cc96",
           "#ab63fa",
           "#FFA15A",
           "#19d3f3",
           "#FF6692",
           "#B6E880",
           "#FF97FF",
           "#FECB52"
          ],
          "font": {
           "color": "#2a3f5f"
          },
          "geo": {
           "bgcolor": "white",
           "lakecolor": "white",
           "landcolor": "#E5ECF6",
           "showlakes": true,
           "showland": true,
           "subunitcolor": "white"
          },
          "hoverlabel": {
           "align": "left"
          },
          "hovermode": "closest",
          "mapbox": {
           "style": "light"
          },
          "paper_bgcolor": "white",
          "plot_bgcolor": "#E5ECF6",
          "polar": {
           "angularaxis": {
            "gridcolor": "white",
            "linecolor": "white",
            "ticks": ""
           },
           "bgcolor": "#E5ECF6",
           "radialaxis": {
            "gridcolor": "white",
            "linecolor": "white",
            "ticks": ""
           }
          },
          "scene": {
           "xaxis": {
            "backgroundcolor": "#E5ECF6",
            "gridcolor": "white",
            "gridwidth": 2,
            "linecolor": "white",
            "showbackground": true,
            "ticks": "",
            "zerolinecolor": "white"
           },
           "yaxis": {
            "backgroundcolor": "#E5ECF6",
            "gridcolor": "white",
            "gridwidth": 2,
            "linecolor": "white",
            "showbackground": true,
            "ticks": "",
            "zerolinecolor": "white"
           },
           "zaxis": {
            "backgroundcolor": "#E5ECF6",
            "gridcolor": "white",
            "gridwidth": 2,
            "linecolor": "white",
            "showbackground": true,
            "ticks": "",
            "zerolinecolor": "white"
           }
          },
          "shapedefaults": {
           "line": {
            "color": "#2a3f5f"
           }
          },
          "ternary": {
           "aaxis": {
            "gridcolor": "white",
            "linecolor": "white",
            "ticks": ""
           },
           "baxis": {
            "gridcolor": "white",
            "linecolor": "white",
            "ticks": ""
           },
           "bgcolor": "#E5ECF6",
           "caxis": {
            "gridcolor": "white",
            "linecolor": "white",
            "ticks": ""
           }
          },
          "title": {
           "x": 0.05
          },
          "xaxis": {
           "automargin": true,
           "gridcolor": "white",
           "linecolor": "white",
           "ticks": "",
           "title": {
            "standoff": 15
           },
           "zerolinecolor": "white",
           "zerolinewidth": 2
          },
          "yaxis": {
           "automargin": true,
           "gridcolor": "white",
           "linecolor": "white",
           "ticks": "",
           "title": {
            "standoff": 15
           },
           "zerolinecolor": "white",
           "zerolinewidth": 2
          }
         }
        },
        "title": {
         "text": "Compromis entre % Retards réels couverts et % Loc bloquées"
        },
        "xaxis": {
         "anchor": "y",
         "domain": [
          0,
          1
         ],
         "title": {
          "text": "Seuil (min)"
         }
        },
        "yaxis": {
         "anchor": "x",
         "domain": [
          0,
          1
         ],
         "title": {
          "text": "value"
         }
        }
       }
      }
     },
     "metadata": {},
     "output_type": "display_data"
    }
   ],
   "source": [
    "# Analyse meilleur Seuil : calcul des gains et coûts entre chaque seuil\n",
    "gains_retards = [\n",
    "    df_resultat['% Retards réels couverts'].iloc[i+1] - df_resultat['% Retards réels couverts'].iloc[i]\n",
    "    for i in range(len(df_resultat)-1)\n",
    "]\n",
    "couts_locations = [\n",
    "    df_resultat['% Loc bloquées'].iloc[i+1] - df_resultat['% Loc bloquées'].iloc[i]\n",
    "    for i in range(len(df_resultat)-1)\n",
    "]\n",
    "\n",
    "# Calcul du ratio Gain/Coût\n",
    "ratios = [\n",
    "    gains_retards[i] / coûts if coûts != 0 else float('inf')\n",
    "    for i, coûts in enumerate(couts_locations)\n",
    "]\n",
    "\n",
    "# Affichage des ratios pour chaque transition\n",
    "print(\"Ratios Gain/Coût pour chaque transition entre les seuils :\")\n",
    "for i, (gain, cout, ratio) in enumerate(zip(gains_retards, couts_locations, ratios)):\n",
    "    seuil_depart = df_resultat['Seuil (min)'].iloc[i]\n",
    "    seuil_arrivee = df_resultat['Seuil (min)'].iloc[i+1]\n",
    "    print(f\"Transition de {seuil_depart} min à {seuil_arrivee} min :\")\n",
    "    print(f\"  Gain en % Retards couverts = {gain:.2f}\")\n",
    "    print(f\"  Augmentation en % Loc bloquées = {cout:.2f}\")\n",
    "    print(f\"  Ratio Gain/Coût = {ratio:.2f}\\n\")\n",
    "\n",
    "print(\"Seuil optimal (60 min) : Le ratio Gain/Coût est maximal à ce seuil (2.54), indiquant que chaque point supplémentaire de locations\\n bloquées permet de couvrir 2.54 points de retards. Ce seuil représente donc le meilleur compromis entre efficacité et coût opérationnel.\")    \n",
    "\n",
    "# Visualisation \n",
    "fig = px.line(df_resultat, x='Seuil (min)', y=['% Retards réels couverts', '% Loc bloquées'],\n",
    "              title='Compromis entre % Retards réels couverts et % Loc bloquées')\n",
    "        \n",
    "# Ajout d'une ligne verticale pour le seuil de 60 minutes\n",
    "fig.add_vline(x=60, line_width=2, line_dash=\"dash\", line_color=\"green\", annotation_text=\"Seuil 60 min\")\n",
    "\n",
    "fig.show()"
   ]
  }
 ],
 "metadata": {
  "kernelspec": {
   "display_name": "ml_deployment",
   "language": "python",
   "name": "python3"
  },
  "language_info": {
   "codemirror_mode": {
    "name": "ipython",
    "version": 3
   },
   "file_extension": ".py",
   "mimetype": "text/x-python",
   "name": "python",
   "nbconvert_exporter": "python",
   "pygments_lexer": "ipython3",
   "version": "3.11.13"
  }
 },
 "nbformat": 4,
 "nbformat_minor": 5
}
