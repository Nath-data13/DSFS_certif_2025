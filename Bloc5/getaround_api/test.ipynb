{
 "cells": [
  {
   "cell_type": "code",
   "execution_count": 5,
   "id": "551a90a7",
   "metadata": {},
   "outputs": [
    {
     "name": "stdout",
     "output_type": "stream",
     "text": [
      "200\n",
      "{'prediction': [142.45413208007812]}\n"
     ]
    }
   ],
   "source": [
    "import pandas as pd\n",
    "import requests\n",
    "\n",
    "\n",
    "API_URL = \"https://nath13huggingface-getaround-api.hf.space/predict\"\n",
    "\n",
    "data = {\n",
    "    \"mileage\": 50000,\n",
    "    \"engine_power\": 110,\n",
    "    \"model_key\": \"BMW\",\n",
    "    \"fuel\": \"diesel\",\n",
    "    \"paint_color\": \"white\",\n",
    "    \"car_type\": \"van\",\n",
    "    \"private_parking_available\": True,\n",
    "    \"has_gps\": True,\n",
    "    \"has_air_conditioning\": True,\n",
    "    \"automatic_car\": True,\n",
    "    \"has_getaround_connect\": True,\n",
    "    \"has_speed_regulator\": True,\n",
    "    \"winter_tires\": True\n",
    "}\n",
    "\n",
    "response = requests.post(API_URL, json=data)\n",
    "\n",
    "print(response.status_code)\n",
    "print(response.json())\n"
   ]
  }
 ],
 "metadata": {
  "kernelspec": {
   "display_name": "ml_deployment",
   "language": "python",
   "name": "python3"
  },
  "language_info": {
   "codemirror_mode": {
    "name": "ipython",
    "version": 3
   },
   "file_extension": ".py",
   "mimetype": "text/x-python",
   "name": "python",
   "nbconvert_exporter": "python",
   "pygments_lexer": "ipython3",
   "version": "3.11.13"
  }
 },
 "nbformat": 4,
 "nbformat_minor": 5
}
